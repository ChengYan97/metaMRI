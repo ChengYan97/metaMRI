{
 "cells": [
  {
   "cell_type": "code",
   "execution_count": 20,
   "metadata": {},
   "outputs": [
    {
     "data": {
      "text/plain": [
       "<torch._C.Generator at 0x7fb6ec7756d0>"
      ]
     },
     "execution_count": 20,
     "metadata": {},
     "output_type": "execute_result"
    }
   ],
   "source": [
    "import time\n",
    "import random\n",
    "import numpy as np\n",
    "import pandas as pd\n",
    "import sys\n",
    "import pickle\n",
    "import h5py\n",
    "import copy\n",
    "import os\n",
    "os.environ['CUDA_VISIBLE_DEVICES'] = '1'\n",
    "import torch\n",
    "import learn2learn as l2l\n",
    "from tqdm import tqdm\n",
    "import matplotlib.pyplot as plt\n",
    "from torch.utils.tensorboard import SummaryWriter\n",
    "from torch.optim.lr_scheduler import StepLR, CosineAnnealingLR\n",
    "from functions.fftc import fft2c_new as fft2c\n",
    "from functions.fftc import ifft2c_new as ifft2c\n",
    "from functions.math import complex_abs, complex_mul, complex_conj\n",
    "# The corase reconstruction is the rss of the zerofilled multi-coil kspaces\n",
    "# after inverse FT.\n",
    "from functions.data.transforms import UnetDataTransform_TTTpaper_fixMask, center_crop, scale_rss, normalize_separate_over_ch, rss_torch\n",
    "# Import a torch.utils.data.Dataset class that takes a list of data examples, a path to those examples\n",
    "# a data transform and outputs a torch dataset.\n",
    "from functions.data.mri_dataset import SliceDataset\n",
    "# Unet architecture as nn.Module\n",
    "from functions.models.unet import Unet\n",
    "# Function that returns a MaskFunc object either for generatig random or equispaced masks\n",
    "from functions.data.subsample import create_mask_for_mask_type\n",
    "# Implementation of SSIMLoss\n",
    "from functions.training.losses import SSIMLoss\n",
    "from functions.helper import evaluate2c_imagepair\n",
    "### after you install bart 0.7.00 from https://mrirecon.github.io/bart/, import it as follows\n",
    "sys.path.insert(0,'/cheng/bart-0.7.00/python/')\n",
    "os.environ['TOOLBOX_PATH'] = \"/cheng/bart-0.7.00/\"\n",
    "import bart\n",
    "\n",
    "\n",
    "plt.rcParams.update({\"text.usetex\": True, \"font.family\": \"serif\", \"font.serif\": [\"Computer Modern Roman\"]})\n",
    "\n",
    "colors = ['b','r','k','g','m','c','tab:brown','tab:orange','tab:pink','tab:gray','tab:olive','tab:purple']\n",
    "\n",
    "markers = [\"v\",\"o\",\"^\",\"1\",\"*\",\">\",\"d\",\"<\",\"s\",\"P\",\"X\"]\n",
    "FONTSIZE = 22\n",
    "\n",
    "device = torch.device('cuda') if torch.cuda.is_available() else torch.device('cpu')\n",
    "\n",
    "# seed\n",
    "SEED = 1\n",
    "random.seed(SEED)\n",
    "np.random.seed(SEED)\n",
    "torch.cuda.manual_seed(SEED)\n",
    "torch.manual_seed(SEED)\n"
   ]
  },
  {
   "attachments": {},
   "cell_type": "markdown",
   "metadata": {},
   "source": [
    "### Load the data"
   ]
  },
  {
   "cell_type": "code",
   "execution_count": 21,
   "metadata": {},
   "outputs": [],
   "source": [
    "# data path\n",
    "path_test = '/cheng/metaMRI/metaMRI/data_dict/TTT_paper/TTT_brain_val.yaml'\n",
    "path_test_sensmaps = '/cheng/metaMRI/metaMRI/data_dict/TTT_paper/sensmap_brain_val/'\n",
    "\n",
    "# path_test = '/cheng/metaMRI/metaMRI/data_dict/TTT_paper/TTT_brain_test_100.yaml'\n",
    "# path_test_sensmaps = '/cheng/metaMRI/metaMRI/data_dict/TTT_paper/sensmap_brain_test/'\n",
    "\n",
    "# data transform\n",
    "data_transform = UnetDataTransform_TTTpaper_fixMask('multicoil')\n",
    "\n",
    "# training dataset and data loader\n",
    "testset = SliceDataset(dataset = path_test, path_to_dataset='', \n",
    "                path_to_sensmaps = path_test_sensmaps, provide_senmaps=True, \n",
    "                challenge=\"multicoil\", transform = data_transform, use_dataset_cache=True)\n",
    "\n",
    "# shuffle = False !!!!!!!\n",
    "test_dataloader = torch.utils.data.DataLoader(dataset = testset, batch_size = 1, \n",
    "                shuffle = False, generator = torch.Generator().manual_seed(1), pin_memory = False)\n"
   ]
  },
  {
   "cell_type": "code",
   "execution_count": 22,
   "metadata": {},
   "outputs": [],
   "source": [
    "checkpoint_path = '/cheng/metaMRI/metaMRI/save/E12.1_joint(l1_1e-5)P_T300_300epoch/E_12.1_joint(l1_1e-5)P_T300_300epoch_E300_best.pth'\n",
    "# '/cheng/metaMRI/metaMRI/save/E12.1_maml(l1_out-3-5_in-5)P_T300_300epoch/E12.1_maml(l1_out-3-5_in-5)P_T300_300epoch_E300.pth'\n",
    "# '/cheng/metaMRI/metaMRI/save/E11/E11.12_joint(l1_1e-5)P_T300_300epoch/E11.12_joint(l1_1e-5)P_T300_300epoch_E300_best.pth'\n",
    "#'/cheng/metaMRI/metaMRI/save/E12.1_joint(l1_1e-5)P_T300_300epoch/E_12.1_joint(l1_1e-5)P_T300_300epoch_E300_best.pth'\n",
    "\n",
    "model = Unet(in_chans=2, out_chans=2, chans=64, num_pool_layers=4, drop_prob=0.0)\n",
    "model.load_state_dict(torch.load(checkpoint_path))\n",
    "model = model.to(device)"
   ]
  },
  {
   "cell_type": "code",
   "execution_count": 23,
   "metadata": {},
   "outputs": [],
   "source": [
    "path_mask = '/cheng/metaMRI/ttt_for_deep_learning_cs/unet/test_data/anatomy_shift/mask2d'\n",
    "with open(path_mask,'rb') as fn:\n",
    "    mask2d = pickle.load(fn)\n",
    "mask = torch.tensor(mask2d[0]).unsqueeze(0).unsqueeze(0).unsqueeze(-1)\n",
    "mask = mask.to(device)"
   ]
  },
  {
   "attachments": {},
   "cell_type": "markdown",
   "metadata": {},
   "source": [
    "### Test-time training"
   ]
  },
  {
   "cell_type": "code",
   "execution_count": 24,
   "metadata": {},
   "outputs": [],
   "source": [
    "background_flip = True\n",
    "eval_with_binary_mask = False"
   ]
  },
  {
   "cell_type": "code",
   "execution_count": 25,
   "metadata": {},
   "outputs": [
    {
     "name": "stdout",
     "output_type": "stream",
     "text": [
      "Testing sample:  1\n"
     ]
    },
    {
     "ename": "OutOfMemoryError",
     "evalue": "CUDA out of memory. Tried to allocate 38.00 MiB (GPU 0; 23.65 GiB total capacity; 5.44 GiB already allocated; 6.44 MiB free; 5.52 GiB reserved in total by PyTorch) If reserved memory is >> allocated memory try setting max_split_size_mb to avoid fragmentation.  See documentation for Memory Management and PYTORCH_CUDA_ALLOC_CONF",
     "output_type": "error",
     "traceback": [
      "\u001b[0;31m---------------------------------------------------------------------------\u001b[0m",
      "\u001b[0;31mOutOfMemoryError\u001b[0m                          Traceback (most recent call last)",
      "Cell \u001b[0;32mIn[25], line 22\u001b[0m\n\u001b[1;32m     20\u001b[0m input_kspace \u001b[39m=\u001b[39m origk \u001b[39m*\u001b[39m mask \u001b[39m+\u001b[39m \u001b[39m0.0\u001b[39m\n\u001b[1;32m     21\u001b[0m \u001b[39m# scale factor\u001b[39;00m\n\u001b[0;32m---> 22\u001b[0m scale_factor \u001b[39m=\u001b[39m scale_rss(input_kspace, model)\n\u001b[1;32m     23\u001b[0m scale_input_kspace \u001b[39m=\u001b[39m scale_factor \u001b[39m*\u001b[39m input_kspace \u001b[39m# [coils,height,width,2]\u001b[39;00m\n\u001b[1;32m     25\u001b[0m \u001b[39m# gt image by normalized kspace: x\u001b[39;00m\n",
      "File \u001b[0;32m/cheng/metaMRI/metaMRI/run_fastMRI/functions/data/transforms.py:651\u001b[0m, in \u001b[0;36mscale_rss\u001b[0;34m(slice, model)\u001b[0m\n\u001b[1;32m    648\u001b[0m \u001b[39minput\u001b[39m \u001b[39m=\u001b[39m torch\u001b[39m.\u001b[39mmoveaxis( rss_torch(ifft2(\u001b[39mslice\u001b[39m))[\u001b[39mNone\u001b[39;00m,:] , \u001b[39m-\u001b[39m\u001b[39m1\u001b[39m, \u001b[39m1\u001b[39m )\n\u001b[1;32m    649\u001b[0m \u001b[39mfor\u001b[39;00m k \u001b[39min\u001b[39;00m \u001b[39mrange\u001b[39m(\u001b[39m5\u001b[39m):\n\u001b[1;32m    650\u001b[0m     \u001b[39m###\u001b[39;00m\n\u001b[0;32m--> 651\u001b[0m     output \u001b[39m=\u001b[39m torch\u001b[39m.\u001b[39mmoveaxis( model(\u001b[39minput\u001b[39;49m) , \u001b[39m1\u001b[39m, \u001b[39m-\u001b[39m\u001b[39m1\u001b[39m ) \n\u001b[1;32m    652\u001b[0m     \u001b[39mif\u001b[39;00m k \u001b[39m==\u001b[39m \u001b[39m0\u001b[39m:\n\u001b[1;32m    653\u001b[0m         slice_tt_scale \u001b[39m=\u001b[39m \u001b[39mslice\u001b[39m \u001b[39m*\u001b[39m torch\u001b[39m.\u001b[39mnorm(output\u001b[39m.\u001b[39mdetach()) \u001b[39m/\u001b[39m torch\u001b[39m.\u001b[39mnorm(\u001b[39minput\u001b[39m\u001b[39m.\u001b[39mdetach())\n",
      "File \u001b[0;32m/opt/conda/lib/python3.10/site-packages/torch/nn/modules/module.py:1194\u001b[0m, in \u001b[0;36mModule._call_impl\u001b[0;34m(self, *input, **kwargs)\u001b[0m\n\u001b[1;32m   1190\u001b[0m \u001b[39m# If we don't have any hooks, we want to skip the rest of the logic in\u001b[39;00m\n\u001b[1;32m   1191\u001b[0m \u001b[39m# this function, and just call forward.\u001b[39;00m\n\u001b[1;32m   1192\u001b[0m \u001b[39mif\u001b[39;00m \u001b[39mnot\u001b[39;00m (\u001b[39mself\u001b[39m\u001b[39m.\u001b[39m_backward_hooks \u001b[39mor\u001b[39;00m \u001b[39mself\u001b[39m\u001b[39m.\u001b[39m_forward_hooks \u001b[39mor\u001b[39;00m \u001b[39mself\u001b[39m\u001b[39m.\u001b[39m_forward_pre_hooks \u001b[39mor\u001b[39;00m _global_backward_hooks\n\u001b[1;32m   1193\u001b[0m         \u001b[39mor\u001b[39;00m _global_forward_hooks \u001b[39mor\u001b[39;00m _global_forward_pre_hooks):\n\u001b[0;32m-> 1194\u001b[0m     \u001b[39mreturn\u001b[39;00m forward_call(\u001b[39m*\u001b[39;49m\u001b[39minput\u001b[39;49m, \u001b[39m*\u001b[39;49m\u001b[39m*\u001b[39;49mkwargs)\n\u001b[1;32m   1195\u001b[0m \u001b[39m# Do not call functions when jit is used\u001b[39;00m\n\u001b[1;32m   1196\u001b[0m full_backward_hooks, non_full_backward_hooks \u001b[39m=\u001b[39m [], []\n",
      "File \u001b[0;32m/cheng/metaMRI/metaMRI/run_fastMRI/functions/models/unet.py:103\u001b[0m, in \u001b[0;36mUnet.forward\u001b[0;34m(self, image)\u001b[0m\n\u001b[1;32m    100\u001b[0m         output \u001b[39m=\u001b[39m F\u001b[39m.\u001b[39mpad(output, padding, \u001b[39m\"\u001b[39m\u001b[39mreflect\u001b[39m\u001b[39m\"\u001b[39m)\n\u001b[1;32m    102\u001b[0m     output \u001b[39m=\u001b[39m torch\u001b[39m.\u001b[39mcat([output, downsample_layer], dim\u001b[39m=\u001b[39m\u001b[39m1\u001b[39m)\n\u001b[0;32m--> 103\u001b[0m     output \u001b[39m=\u001b[39m conv(output)\n\u001b[1;32m    105\u001b[0m \u001b[39mreturn\u001b[39;00m output\n",
      "File \u001b[0;32m/opt/conda/lib/python3.10/site-packages/torch/nn/modules/module.py:1194\u001b[0m, in \u001b[0;36mModule._call_impl\u001b[0;34m(self, *input, **kwargs)\u001b[0m\n\u001b[1;32m   1190\u001b[0m \u001b[39m# If we don't have any hooks, we want to skip the rest of the logic in\u001b[39;00m\n\u001b[1;32m   1191\u001b[0m \u001b[39m# this function, and just call forward.\u001b[39;00m\n\u001b[1;32m   1192\u001b[0m \u001b[39mif\u001b[39;00m \u001b[39mnot\u001b[39;00m (\u001b[39mself\u001b[39m\u001b[39m.\u001b[39m_backward_hooks \u001b[39mor\u001b[39;00m \u001b[39mself\u001b[39m\u001b[39m.\u001b[39m_forward_hooks \u001b[39mor\u001b[39;00m \u001b[39mself\u001b[39m\u001b[39m.\u001b[39m_forward_pre_hooks \u001b[39mor\u001b[39;00m _global_backward_hooks\n\u001b[1;32m   1193\u001b[0m         \u001b[39mor\u001b[39;00m _global_forward_hooks \u001b[39mor\u001b[39;00m _global_forward_pre_hooks):\n\u001b[0;32m-> 1194\u001b[0m     \u001b[39mreturn\u001b[39;00m forward_call(\u001b[39m*\u001b[39;49m\u001b[39minput\u001b[39;49m, \u001b[39m*\u001b[39;49m\u001b[39m*\u001b[39;49mkwargs)\n\u001b[1;32m   1195\u001b[0m \u001b[39m# Do not call functions when jit is used\u001b[39;00m\n\u001b[1;32m   1196\u001b[0m full_backward_hooks, non_full_backward_hooks \u001b[39m=\u001b[39m [], []\n",
      "File \u001b[0;32m/cheng/metaMRI/metaMRI/run_fastMRI/functions/models/unet.py:146\u001b[0m, in \u001b[0;36mConvBlock.forward\u001b[0;34m(self, image)\u001b[0m\n\u001b[1;32m    138\u001b[0m \u001b[39mdef\u001b[39;00m \u001b[39mforward\u001b[39m(\u001b[39mself\u001b[39m, image: torch\u001b[39m.\u001b[39mTensor) \u001b[39m-\u001b[39m\u001b[39m>\u001b[39m torch\u001b[39m.\u001b[39mTensor:\n\u001b[1;32m    139\u001b[0m     \u001b[39m\"\"\"\u001b[39;00m\n\u001b[1;32m    140\u001b[0m \u001b[39m    Args:\u001b[39;00m\n\u001b[1;32m    141\u001b[0m \u001b[39m        image: Input 4D tensor of shape `(N, in_chans, H, W)`.\u001b[39;00m\n\u001b[0;32m   (...)\u001b[0m\n\u001b[1;32m    144\u001b[0m \u001b[39m        Output tensor of shape `(N, out_chans, H, W)`.\u001b[39;00m\n\u001b[1;32m    145\u001b[0m \u001b[39m    \"\"\"\u001b[39;00m\n\u001b[0;32m--> 146\u001b[0m     \u001b[39mreturn\u001b[39;00m \u001b[39mself\u001b[39;49m\u001b[39m.\u001b[39;49mlayers(image)\n",
      "File \u001b[0;32m/opt/conda/lib/python3.10/site-packages/torch/nn/modules/module.py:1194\u001b[0m, in \u001b[0;36mModule._call_impl\u001b[0;34m(self, *input, **kwargs)\u001b[0m\n\u001b[1;32m   1190\u001b[0m \u001b[39m# If we don't have any hooks, we want to skip the rest of the logic in\u001b[39;00m\n\u001b[1;32m   1191\u001b[0m \u001b[39m# this function, and just call forward.\u001b[39;00m\n\u001b[1;32m   1192\u001b[0m \u001b[39mif\u001b[39;00m \u001b[39mnot\u001b[39;00m (\u001b[39mself\u001b[39m\u001b[39m.\u001b[39m_backward_hooks \u001b[39mor\u001b[39;00m \u001b[39mself\u001b[39m\u001b[39m.\u001b[39m_forward_hooks \u001b[39mor\u001b[39;00m \u001b[39mself\u001b[39m\u001b[39m.\u001b[39m_forward_pre_hooks \u001b[39mor\u001b[39;00m _global_backward_hooks\n\u001b[1;32m   1193\u001b[0m         \u001b[39mor\u001b[39;00m _global_forward_hooks \u001b[39mor\u001b[39;00m _global_forward_pre_hooks):\n\u001b[0;32m-> 1194\u001b[0m     \u001b[39mreturn\u001b[39;00m forward_call(\u001b[39m*\u001b[39;49m\u001b[39minput\u001b[39;49m, \u001b[39m*\u001b[39;49m\u001b[39m*\u001b[39;49mkwargs)\n\u001b[1;32m   1195\u001b[0m \u001b[39m# Do not call functions when jit is used\u001b[39;00m\n\u001b[1;32m   1196\u001b[0m full_backward_hooks, non_full_backward_hooks \u001b[39m=\u001b[39m [], []\n",
      "File \u001b[0;32m/opt/conda/lib/python3.10/site-packages/torch/nn/modules/container.py:204\u001b[0m, in \u001b[0;36mSequential.forward\u001b[0;34m(self, input)\u001b[0m\n\u001b[1;32m    202\u001b[0m \u001b[39mdef\u001b[39;00m \u001b[39mforward\u001b[39m(\u001b[39mself\u001b[39m, \u001b[39minput\u001b[39m):\n\u001b[1;32m    203\u001b[0m     \u001b[39mfor\u001b[39;00m module \u001b[39min\u001b[39;00m \u001b[39mself\u001b[39m:\n\u001b[0;32m--> 204\u001b[0m         \u001b[39minput\u001b[39m \u001b[39m=\u001b[39m module(\u001b[39minput\u001b[39;49m)\n\u001b[1;32m    205\u001b[0m     \u001b[39mreturn\u001b[39;00m \u001b[39minput\u001b[39m\n",
      "File \u001b[0;32m/opt/conda/lib/python3.10/site-packages/torch/nn/modules/module.py:1194\u001b[0m, in \u001b[0;36mModule._call_impl\u001b[0;34m(self, *input, **kwargs)\u001b[0m\n\u001b[1;32m   1190\u001b[0m \u001b[39m# If we don't have any hooks, we want to skip the rest of the logic in\u001b[39;00m\n\u001b[1;32m   1191\u001b[0m \u001b[39m# this function, and just call forward.\u001b[39;00m\n\u001b[1;32m   1192\u001b[0m \u001b[39mif\u001b[39;00m \u001b[39mnot\u001b[39;00m (\u001b[39mself\u001b[39m\u001b[39m.\u001b[39m_backward_hooks \u001b[39mor\u001b[39;00m \u001b[39mself\u001b[39m\u001b[39m.\u001b[39m_forward_hooks \u001b[39mor\u001b[39;00m \u001b[39mself\u001b[39m\u001b[39m.\u001b[39m_forward_pre_hooks \u001b[39mor\u001b[39;00m _global_backward_hooks\n\u001b[1;32m   1193\u001b[0m         \u001b[39mor\u001b[39;00m _global_forward_hooks \u001b[39mor\u001b[39;00m _global_forward_pre_hooks):\n\u001b[0;32m-> 1194\u001b[0m     \u001b[39mreturn\u001b[39;00m forward_call(\u001b[39m*\u001b[39;49m\u001b[39minput\u001b[39;49m, \u001b[39m*\u001b[39;49m\u001b[39m*\u001b[39;49mkwargs)\n\u001b[1;32m   1195\u001b[0m \u001b[39m# Do not call functions when jit is used\u001b[39;00m\n\u001b[1;32m   1196\u001b[0m full_backward_hooks, non_full_backward_hooks \u001b[39m=\u001b[39m [], []\n",
      "File \u001b[0;32m/opt/conda/lib/python3.10/site-packages/torch/nn/modules/conv.py:463\u001b[0m, in \u001b[0;36mConv2d.forward\u001b[0;34m(self, input)\u001b[0m\n\u001b[1;32m    462\u001b[0m \u001b[39mdef\u001b[39;00m \u001b[39mforward\u001b[39m(\u001b[39mself\u001b[39m, \u001b[39minput\u001b[39m: Tensor) \u001b[39m-\u001b[39m\u001b[39m>\u001b[39m Tensor:\n\u001b[0;32m--> 463\u001b[0m     \u001b[39mreturn\u001b[39;00m \u001b[39mself\u001b[39;49m\u001b[39m.\u001b[39;49m_conv_forward(\u001b[39minput\u001b[39;49m, \u001b[39mself\u001b[39;49m\u001b[39m.\u001b[39;49mweight, \u001b[39mself\u001b[39;49m\u001b[39m.\u001b[39;49mbias)\n",
      "File \u001b[0;32m/opt/conda/lib/python3.10/site-packages/torch/nn/modules/conv.py:459\u001b[0m, in \u001b[0;36mConv2d._conv_forward\u001b[0;34m(self, input, weight, bias)\u001b[0m\n\u001b[1;32m    455\u001b[0m \u001b[39mif\u001b[39;00m \u001b[39mself\u001b[39m\u001b[39m.\u001b[39mpadding_mode \u001b[39m!=\u001b[39m \u001b[39m'\u001b[39m\u001b[39mzeros\u001b[39m\u001b[39m'\u001b[39m:\n\u001b[1;32m    456\u001b[0m     \u001b[39mreturn\u001b[39;00m F\u001b[39m.\u001b[39mconv2d(F\u001b[39m.\u001b[39mpad(\u001b[39minput\u001b[39m, \u001b[39mself\u001b[39m\u001b[39m.\u001b[39m_reversed_padding_repeated_twice, mode\u001b[39m=\u001b[39m\u001b[39mself\u001b[39m\u001b[39m.\u001b[39mpadding_mode),\n\u001b[1;32m    457\u001b[0m                     weight, bias, \u001b[39mself\u001b[39m\u001b[39m.\u001b[39mstride,\n\u001b[1;32m    458\u001b[0m                     _pair(\u001b[39m0\u001b[39m), \u001b[39mself\u001b[39m\u001b[39m.\u001b[39mdilation, \u001b[39mself\u001b[39m\u001b[39m.\u001b[39mgroups)\n\u001b[0;32m--> 459\u001b[0m \u001b[39mreturn\u001b[39;00m F\u001b[39m.\u001b[39;49mconv2d(\u001b[39minput\u001b[39;49m, weight, bias, \u001b[39mself\u001b[39;49m\u001b[39m.\u001b[39;49mstride,\n\u001b[1;32m    460\u001b[0m                 \u001b[39mself\u001b[39;49m\u001b[39m.\u001b[39;49mpadding, \u001b[39mself\u001b[39;49m\u001b[39m.\u001b[39;49mdilation, \u001b[39mself\u001b[39;49m\u001b[39m.\u001b[39;49mgroups)\n",
      "\u001b[0;31mOutOfMemoryError\u001b[0m: CUDA out of memory. Tried to allocate 38.00 MiB (GPU 0; 23.65 GiB total capacity; 5.44 GiB already allocated; 6.44 MiB free; 5.52 GiB reserved in total by PyTorch) If reserved memory is >> allocated memory try setting max_split_size_mb to avoid fragmentation.  See documentation for Memory Management and PYTORCH_CUDA_ALLOC_CONF"
     ]
    }
   ],
   "source": [
    "# best_loss_l1_history=[]\n",
    "# best_loss_l1_index_history=[]\n",
    "best_loss_ssim_history=[]\n",
    "best_loss_ssim_index_history=[]\n",
    "ssim_fct = SSIMLoss()\n",
    "l1_loss = torch.nn.L1Loss(reduction='sum')\n",
    "adapt_lr = 0.00001\n",
    "TTT_epoch = 1500\n",
    "# each data point TTT\n",
    "\n",
    "for iter, batch in enumerate(test_dataloader): \n",
    "    print('Testing sample: ', iter+1)\n",
    "    origk, sens_maps, sens_maps_conj, binary_background_mask, fname, slice_num = batch\n",
    "    origk = origk.squeeze(0).to(device)\n",
    "    sens_maps = sens_maps.squeeze(0).to(device)\n",
    "    sens_maps_conj = sens_maps_conj.squeeze(0).to(device)\n",
    "    binary_background_mask = binary_background_mask.to(device)\n",
    "\n",
    "    # input k space\n",
    "    input_kspace = origk * mask + 0.0\n",
    "    # scale factor\n",
    "    scale_factor = scale_rss(input_kspace, model)\n",
    "    scale_input_kspace = scale_factor * input_kspace # [coils,height,width,2]\n",
    "\n",
    "    # gt image by normalized kspace: x\n",
    "    target_image_1c = rss_torch(complex_abs(ifft2c(origk))).unsqueeze(0)\n",
    "    # sensmap combine\n",
    "    # target_image = complex_mul(target_image, sens_maps_conj).sum(dim=0, keepdim=False)\n",
    "    crop_size = torch.Size([min(target_image_1c.shape[-2:]), min(target_image_1c.shape[-2:])])\n",
    "    crop_target_image = center_crop( target_image_1c, crop_size )\n",
    "    std_crop_target_image = crop_target_image.std()\n",
    "    mean_crop_target_image = crop_target_image.mean()\n",
    "\n",
    "    # A†y\n",
    "    # train_inputs = complex_mul(train_inputs, sens_maps_conj).sum(dim=0, keepdim=False) #shape: height,width,2\n",
    "    train_inputs = torch.moveaxis(rss_torch(ifft2c(scale_input_kspace)), -1, 0)   # [2, height, width]\n",
    "\n",
    "    loss_l1_history = []\n",
    "    loss_ssim_history = []\n",
    "    self_loss_history = []\n",
    "    model_ttt = copy.deepcopy(model)\n",
    "    optimizer = torch.optim.Adam(model_ttt.parameters(),lr=adapt_lr)\n",
    "\n",
    "    for iteration in range(TTT_epoch): \n",
    "        ###### training ######\n",
    "        # fθ(A†y)\n",
    "        model_output = model_ttt(train_inputs.unsqueeze(0))    # [1, 2, height, width]       \n",
    "        model_output = torch.moveaxis(model_output, 1, -1 )    #[1, height, width, 2]\n",
    "        # S fθ(A†y) [coils, height, width, channel]\n",
    "        if background_flip == True: \n",
    "            output_sens_image = torch.zeros(sens_maps.shape).to(device) \n",
    "            for j,s in enumerate(sens_maps):\n",
    "                ss = s.clone()\n",
    "                ss[torch.abs(ss)==0.0] = torch.abs(ss).max()\n",
    "                output_sens_image[j,:,:,0] = model_output[0,:,:,0] * ss[:,:,0] - model_output[0,:,:,1] * ss[:,:,1]\n",
    "                output_sens_image[j,:,:,1] = model_output[0,:,:,0] * ss[:,:,1] + model_output[0,:,:,1] * ss[:,:,0]\n",
    "\n",
    "        else: \n",
    "            output_sens_image = complex_mul(model_output, sens_maps)\n",
    "        # FS fθ(A†y)\n",
    "        Fimg = fft2c(output_sens_image)\n",
    "        # MFS fθ(A†y) = A fθ(A†y)\n",
    "        Fimg_forward = Fimg * mask\n",
    "        # consistency loss [y, Afθ(A†y)]\n",
    "        loss_self = l1_loss(Fimg_forward, scale_input_kspace) / torch.sum(torch.abs(scale_input_kspace))\n",
    "\n",
    "        optimizer.zero_grad()\n",
    "        loss_self.backward()\n",
    "        optimizer.step()\n",
    "        #train_loss += loss.item()\n",
    "        #print('TTT loss: ',loss_self.item())\n",
    "        self_loss_history.append(loss_self.item())\n",
    "\n",
    "        ###### evaluation ######\n",
    "        output_image_1c = complex_abs(model_output).unsqueeze(0)    # [2, height, width] -> [1, height, width]\n",
    "        if eval_with_binary_mask == True: \n",
    "            binary_mask_output_image_1c = (output_image_1c.unsqueeze(0) * binary_background_mask).squeeze(0)\n",
    "            # center crop for SSIM\n",
    "            crop_output_image = center_crop( binary_mask_output_image_1c, crop_size )\n",
    "        else: \n",
    "            # center crop for SSIM\n",
    "            crop_output_image = center_crop( output_image_1c, crop_size )\n",
    "        # normalization\n",
    "        crop_output_image = (crop_output_image - crop_output_image.mean()) / crop_output_image.std()\n",
    "        crop_output_image *= std_crop_target_image\n",
    "        crop_output_image += mean_crop_target_image\n",
    "        # SSIM = 1 - loss\n",
    "        loss_ssim = 1 - ssim_fct(crop_output_image, crop_target_image, data_range = crop_target_image.max().unsqueeze(0)).item()\n",
    "        print(f\"Epoch {iteration+1}/{TTT_epoch}, Loss: {loss_self.item():.4f}\", end='\\r')\n",
    "        print(f\"Epoch {iteration+1}/{TTT_epoch}, SSIM: {loss_ssim:.4f}\", end='\\r')\n",
    "\n",
    "        #loss_l1_history.append(loss_l1)\n",
    "        loss_ssim_history.append(loss_ssim)\n",
    "\n",
    "    # best results for an example\n",
    "    # best_loss_l1 = min(loss_l1_history)\n",
    "    # print('The best L1: ', best_loss_l1)\n",
    "    # best_loss_l1_epoch = np.argmin(loss_l1_history)\n",
    "    # print('The best L1 epoch: ', best_loss_l1_epoch)\n",
    "    best_loss_ssim = max(loss_ssim_history)\n",
    "    print('The best SSIM through training process:', best_loss_ssim)\n",
    "    best_loss_ssim_epoch = np.argmax(loss_ssim_history)\n",
    "    print('The best SSIM epoch: ', best_loss_ssim_epoch)\n",
    "\n",
    "    # best_loss_l1_index_history.append(best_loss_l1_epoch)\n",
    "    best_loss_ssim_index_history.append(best_loss_ssim_epoch)\n",
    "    # best_loss_l1_history.append(best_loss_l1)\n",
    "    best_loss_ssim_history.append(best_loss_ssim)\n",
    "\n",
    "\n",
    "# print(\"Testing average L1 loss: \", sum(best_loss_l1_history) / len(best_loss_l1_history))\n",
    "# print(\"Testing average L1 loss epoch: \", sum(best_loss_l1_index_history) / len(best_loss_l1_index_history))\n",
    "print(\"Testing average SSIM loss: \", sum(best_loss_ssim_history) / len(best_loss_ssim_history))\n",
    "print(\"Testing average SSIM loss epoch: \", sum(best_loss_ssim_index_history) / len(best_loss_ssim_index_history))"
   ]
  },
  {
   "cell_type": "code",
   "execution_count": null,
   "metadata": {},
   "outputs": [],
   "source": [
    "checkpoint_path = '/cheng/metaMRI/metaMRI/save/E11/E11.11_sup(l1_1e-5)Q_T300_300epoch/E11.11_sup(l1_1e-5)Q_T300_300epoch_E300_best.pth'\n",
    "# '/cheng/metaMRI/metaMRI/save/E12.1_maml(l1_out-3-5_in-5)P_T300_300epoch/E12.1_maml(l1_out-3-5_in-5)P_T300_300epoch_E300.pth'\n",
    "# '/cheng/metaMRI/metaMRI/save/E11/E11.12_joint(l1_1e-5)P_T300_300epoch/E11.12_joint(l1_1e-5)P_T300_300epoch_E300_best.pth'\n",
    "#'/cheng/metaMRI/metaMRI/save/E12.1_joint(l1_1e-5)P_T300_300epoch/E_12.1_joint(l1_1e-5)P_T300_300epoch_E300_best.pth'\n",
    "\n",
    "model = Unet(in_chans=2, out_chans=2, chans=64, num_pool_layers=4, drop_prob=0.0)\n",
    "model.load_state_dict(torch.load(checkpoint_path))\n",
    "model = model.to(device)"
   ]
  },
  {
   "cell_type": "code",
   "execution_count": null,
   "metadata": {},
   "outputs": [],
   "source": [
    "sup_model_output = model(train_inputs.unsqueeze(0)).squeeze(0)      \n",
    "sup_output_image = complex_abs(torch.moveaxis(sup_model_output, 0, -1 )).unsqueeze(0)"
   ]
  },
  {
   "cell_type": "code",
   "execution_count": null,
   "metadata": {},
   "outputs": [],
   "source": [
    "crop_sup_output_image = center_crop( sup_output_image, crop_size )"
   ]
  },
  {
   "cell_type": "code",
   "execution_count": null,
   "metadata": {},
   "outputs": [],
   "source": [
    "crop_sup_output_image = (crop_sup_output_image - crop_sup_output_image.mean()) / crop_sup_output_image.std()\n",
    "crop_sup_output_image *= std_crop_target_image\n",
    "crop_sup_output_image += mean_crop_target_image"
   ]
  },
  {
   "cell_type": "code",
   "execution_count": null,
   "metadata": {},
   "outputs": [],
   "source": [
    "loss_ssim = 1 - ssim_fct(crop_sup_output_image, crop_target_image, data_range = crop_target_image.max().unsqueeze(0)).item()\n",
    "loss_ssim"
   ]
  },
  {
   "cell_type": "code",
   "execution_count": null,
   "metadata": {},
   "outputs": [],
   "source": [
    "fig, axes = plt.subplots(1, 3, dpi= 300)\n",
    "\n",
    "axes[0].imshow(crop_output_image.squeeze(0).squeeze(0).cpu().detach().numpy(),cmap='gray')\n",
    "axes[0].set_title('Joint train on knee + TTT')\n",
    "axes[0].axis('off')\n",
    "\n",
    "axes[1].imshow(crop_sup_output_image.squeeze(0).squeeze(0).cpu().detach().numpy(),cmap='gray')\n",
    "axes[1].set_title('Sup train on Brain')\n",
    "axes[1].axis('off')\n",
    "\n",
    "axes[2].imshow(crop_target_image.squeeze(0).squeeze(0).cpu().detach().numpy(),cmap='gray')\n",
    "axes[2].set_title('Ground Truth')\n",
    "axes[2].axis('off')\n",
    "\n",
    "plt.subplots_adjust(wspace=0.1)\n",
    "plt.show()"
   ]
  }
 ],
 "metadata": {
  "kernelspec": {
   "display_name": "base",
   "language": "python",
   "name": "python3"
  },
  "language_info": {
   "codemirror_mode": {
    "name": "ipython",
    "version": 3
   },
   "file_extension": ".py",
   "mimetype": "text/x-python",
   "name": "python",
   "nbconvert_exporter": "python",
   "pygments_lexer": "ipython3",
   "version": "3.10.8"
  },
  "orig_nbformat": 4
 },
 "nbformat": 4,
 "nbformat_minor": 2
}
