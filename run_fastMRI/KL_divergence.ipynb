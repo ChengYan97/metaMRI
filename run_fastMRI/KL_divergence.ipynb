{
 "cells": [
  {
   "cell_type": "markdown",
   "metadata": {},
   "source": [
    "### KL divergence to measure the similarity between data distribution"
   ]
  },
  {
   "cell_type": "code",
   "execution_count": 1,
   "metadata": {},
   "outputs": [],
   "source": [
    "import random\n",
    "import numpy as np\n",
    "import os\n",
    "os.environ['CUDA_VISIBLE_DEVICES'] = '2'\n",
    "import torch\n",
    "import learn2learn as l2l\n",
    "from tqdm import tqdm\n",
    "import matplotlib.pyplot as plt\n",
    "# The corase reconstruction is the rss of the zerofilled multi-coil kspaces\n",
    "# after inverse FT.\n",
    "from functions.data.transforms import UnetDataTransform_norm, normalize\n",
    "# Import a torch.utils.data.Dataset class that takes a list of data examples, a path to those examples\n",
    "# a data transform and outputs a torch dataset.\n",
    "from functions.data.mri_dataset import SliceDataset\n",
    "# Unet architecture as nn.Module\n",
    "from functions.models.unet import Unet\n",
    "# Function that returns a MaskFunc object either for generatig random or equispaced masks\n",
    "from functions.data.subsample import create_mask_for_mask_type\n",
    "# Implementation of SSIMLoss\n",
    "from functions.training.losses import SSIMLoss\n",
    "from functions.helper import evaluate_loss_dataloader\n",
    "from functions.fftc import fft2c_new as fft2c\n",
    "\n",
    "device = torch.device('cuda') if torch.cuda.is_available() else torch.device('cpu')\n",
    "\n",
    "# Set seed\n",
    "seed = 1\n",
    "torch.manual_seed(seed)\n",
    "torch.cuda.manual_seed(seed)\n",
    "np.random.seed(seed)\n",
    "random.seed(seed)"
   ]
  },
  {
   "cell_type": "code",
   "execution_count": 2,
   "metadata": {},
   "outputs": [],
   "source": [
    "# path_test1 = '/cheng/metaMRI/metaMRI/data_dict/E-part1/P/knee_train_PD_Biograph_15-22.yaml'\n",
    "# path_test2 = '/cheng/metaMRI/metaMRI/data_dict/E10.2/P/brain_train_T1POST_TrioTim_5-8.yaml'\n",
    "\n",
    "path_test1 = '/cheng/metaMRI/metaMRI/data_dict/E-part1/P/knee_train_PD_Biograph_15-22.yaml'\n",
    "path_test2 = '/cheng/metaMRI/metaMRI/data_dict/E-part1/P/knee_train_PD_Skyra_15-22.yaml'\n",
    "\n",
    "# mask function and data transform\n",
    "mask_function = create_mask_for_mask_type(mask_type_str = 'random', self_sup = False, \n",
    "                    center_fraction = 0.08, acceleration = 4.0, acceleration_total = 3.0)\n",
    "data_transform_test = UnetDataTransform_norm('multicoil', mask_func = mask_function, use_seed=True, mode='adapt')\n",
    "# dataset: num_sample_subset x 3\n",
    "testset1 = SliceDataset(dataset = path_test1, path_to_dataset='', path_to_sensmaps=None, provide_senmaps=False, \n",
    "                      challenge=\"multicoil\", transform=data_transform_test, use_dataset_cache=True)\n",
    "test_dataloader1 = torch.utils.data.DataLoader(dataset = testset1, batch_size = 1, shuffle = False, \n",
    "                                generator = torch.Generator().manual_seed(1), pin_memory = True)\n",
    "testset2 = SliceDataset(dataset = path_test2, path_to_dataset='', path_to_sensmaps=None, provide_senmaps=False, \n",
    "                      challenge=\"multicoil\", transform=data_transform_test, use_dataset_cache=True)\n",
    "test_dataloader2 = torch.utils.data.DataLoader(dataset = testset2, batch_size = 1, shuffle = False, \n",
    "                                generator = torch.Generator().manual_seed(1), pin_memory = True)\n",
    "\n",
    "batch1 = next(iter(test_dataloader1))\n",
    "_, target_image1, _, _, fname, slice_num = batch1\n",
    "batch2 = next(iter(test_dataloader2))\n",
    "_, target_image2, _, _, fname, slice_num = batch2"
   ]
  },
  {
   "cell_type": "code",
   "execution_count": 3,
   "metadata": {},
   "outputs": [
    {
     "name": "stdout",
     "output_type": "stream",
     "text": [
      "KL Divergence between the two images: tensor(0.3282)\n"
     ]
    }
   ],
   "source": [
    "def compute_magnitude_spectrum(image):\n",
    "    # Perform the Fourier transform on the image\n",
    "    fft_image = torch.fft.fft2(image)\n",
    "    # Calculate the magnitude spectrum\n",
    "    magnitude_spectrum = torch.abs(fft_image)\n",
    "    return magnitude_spectrum\n",
    "\n",
    "def compute_probability_distribution(magnitude_spectrum):\n",
    "    # Normalize the magnitude spectrum to get the probability distribution\n",
    "    prob_dist = magnitude_spectrum / torch.sum(magnitude_spectrum)\n",
    "    return prob_dist\n",
    "\n",
    "def compute_kl_divergence(prob_dist_p, prob_dist_q):\n",
    "    # Compute KL divergence\n",
    "    kl_divergence = torch.sum(prob_dist_p * torch.log(prob_dist_p / prob_dist_q))\n",
    "    return kl_divergence\n",
    "\n",
    "# Assuming you have two image tensors named 'image_1' and 'image_2' with shape [1, 1, 320, 320]\n",
    "\n",
    "# Compute the magnitude spectrum for each image\n",
    "magnitude_spectrum_1 = compute_magnitude_spectrum(target_image1)\n",
    "magnitude_spectrum_2 = compute_magnitude_spectrum(target_image2)\n",
    "\n",
    "# Compute the probability distribution for each image in the frequency domain\n",
    "prob_dist_1 = compute_probability_distribution(magnitude_spectrum_1)\n",
    "prob_dist_2 = compute_probability_distribution(magnitude_spectrum_2)\n",
    "\n",
    "# Compute the KL divergence between the probability distributions\n",
    "kl_divergence = compute_kl_divergence(prob_dist_1, prob_dist_2)\n",
    "print(\"KL Divergence between the two images:\", kl_divergence)\n"
   ]
  },
  {
   "cell_type": "markdown",
   "metadata": {},
   "source": [
    "0 means similar"
   ]
  }
 ],
 "metadata": {
  "kernelspec": {
   "display_name": "base",
   "language": "python",
   "name": "python3"
  },
  "language_info": {
   "codemirror_mode": {
    "name": "ipython",
    "version": 3
   },
   "file_extension": ".py",
   "mimetype": "text/x-python",
   "name": "python",
   "nbconvert_exporter": "python",
   "pygments_lexer": "ipython3",
   "version": "3.10.8"
  },
  "orig_nbformat": 4
 },
 "nbformat": 4,
 "nbformat_minor": 2
}
