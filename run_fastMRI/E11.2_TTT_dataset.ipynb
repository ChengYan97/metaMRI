{
 "cells": [
  {
   "cell_type": "code",
   "execution_count": 1,
   "metadata": {},
   "outputs": [
    {
     "data": {
      "text/plain": [
       "<torch._C.Generator at 0x7f5388c356f0>"
      ]
     },
     "execution_count": 1,
     "metadata": {},
     "output_type": "execute_result"
    }
   ],
   "source": [
    "import time\n",
    "import random\n",
    "import numpy as np\n",
    "import pandas as pd\n",
    "import sys\n",
    "import pickle\n",
    "import h5py\n",
    "import os\n",
    "os.environ['CUDA_VISIBLE_DEVICES'] = '2'\n",
    "import torch\n",
    "import learn2learn as l2l\n",
    "from tqdm import tqdm\n",
    "import matplotlib.pyplot as plt\n",
    "from torch.utils.tensorboard import SummaryWriter\n",
    "from torch.optim.lr_scheduler import StepLR, CosineAnnealingLR\n",
    "from functions.fftc import fft2c_new as fft2c\n",
    "from functions.fftc import ifft2c_new as ifft2c\n",
    "from functions.math import complex_abs, complex_mul, complex_conj\n",
    "# The corase reconstruction is the rss of the zerofilled multi-coil kspaces\n",
    "# after inverse FT.\n",
    "from functions.data.transforms import UnetDataTransform_sens_TTT, complex_center_crop, center_crop_to_smallest\n",
    "# Import a torch.utils.data.Dataset class that takes a list of data examples, a path to those examples\n",
    "# a data transform and outputs a torch dataset.\n",
    "from functions.data.mri_dataset import SliceDataset\n",
    "# Unet architecture as nn.Module\n",
    "from functions.models.unet import Unet\n",
    "# Function that returns a MaskFunc object either for generatig random or equispaced masks\n",
    "from functions.data.subsample import create_mask_for_mask_type\n",
    "# Implementation of SSIMLoss\n",
    "from functions.training.losses import SSIMLoss\n",
    "from functions.helper import evaluate2c_imagepair\n",
    "### after you install bart 0.7.00 from https://mrirecon.github.io/bart/, import it as follows\n",
    "sys.path.insert(0,'/cheng/bart-0.7.00/python/')\n",
    "os.environ['TOOLBOX_PATH'] = \"/cheng/bart-0.7.00/\"\n",
    "import bart\n",
    "\n",
    "\n",
    "plt.rcParams.update({\"text.usetex\": True, \"font.family\": \"serif\", \"font.serif\": [\"Computer Modern Roman\"]})\n",
    "\n",
    "colors = ['b','r','k','g','m','c','tab:brown','tab:orange','tab:pink','tab:gray','tab:olive','tab:purple']\n",
    "\n",
    "markers = [\"v\",\"o\",\"^\",\"1\",\"*\",\">\",\"d\",\"<\",\"s\",\"P\",\"X\"]\n",
    "FONTSIZE = 22\n",
    "\n",
    "device = torch.device('cuda') if torch.cuda.is_available() else torch.device('cpu')\n",
    "\n",
    "# seed\n",
    "SEED = 1\n",
    "random.seed(SEED)\n",
    "np.random.seed(SEED)\n",
    "torch.cuda.manual_seed(SEED)\n",
    "torch.manual_seed(SEED)\n"
   ]
  },
  {
   "attachments": {},
   "cell_type": "markdown",
   "metadata": {},
   "source": [
    "### Load the data"
   ]
  },
  {
   "cell_type": "code",
   "execution_count": 3,
   "metadata": {},
   "outputs": [],
   "source": [
    "# data path\n",
    "# path_test = '/cheng/metaMRI/metaMRI/data_dict/E11.1/Q/brain_test_AXT1POST_Skyra_5-8.yaml'\n",
    "# path_test_sensmaps = '/cheng/metaMRI/metaMRI/data_dict/E11.1/Q/sensmap_test/'\n",
    "path_test = '/cheng/metaMRI/metaMRI/data_dict/TTT_paper/TTT_brain_val.yaml'\n",
    "path_test_sensmaps = '/cheng/metaMRI/metaMRI/data_dict/TTT_paper/sensmap_brain_val/'\n",
    "\n",
    "# mask function and data transform\n",
    "mask_function = create_mask_for_mask_type(mask_type_str = 'random', self_sup = False, \n",
    "                    center_fraction = 0.08, acceleration = 4.0, acceleration_total = 3.0)\n",
    "\n",
    "data_transform = UnetDataTransform_sens_TTT('multicoil', mask_func = mask_function, use_seed=True, mode='adapt')\n",
    "\n",
    "# training dataset and data loader\n",
    "testset = SliceDataset(dataset = path_test, path_to_dataset='', \n",
    "                path_to_sensmaps = path_test_sensmaps, provide_senmaps=True, \n",
    "                challenge=\"multicoil\", transform = data_transform, use_dataset_cache=True)\n",
    "\n",
    "test_dataloader = torch.utils.data.DataLoader(dataset = testset, batch_size = 1, \n",
    "                shuffle = False, generator = torch.Generator().manual_seed(1), pin_memory = False)\n"
   ]
  },
  {
   "attachments": {},
   "cell_type": "markdown",
   "metadata": {},
   "source": [
    "### without TTT"
   ]
  },
  {
   "cell_type": "code",
   "execution_count": 10,
   "metadata": {},
   "outputs": [],
   "source": [
    "checkpoint_path = '/cheng/metaMRI/metaMRI/save/E11.2_sup(l1_CA-1e-3-4_P)_T300_120epoch/E11.2_sup(l1_CA-1e-3-4_P)_T300_120epoch_E71_best.pth'\n",
    "# '/cheng/metaMRI/metaMRI/save/E11.2_sup(l1_CA-1e-3-4_P)_T300_120epoch/E11.2_sup(l1_CA-1e-3-4_P)_T300_120epoch_E71_best.pth'\n",
    "# '/cheng/metaMRI/metaMRI/save/E11.2_sup(l1_CA-1e-3-4_Q)_T300_1200epoch/E11.2_sup(l1_CA-1e-3-4_Q)_T300_1200epoch_E98_best.pth'\n",
    "model = Unet(in_chans=2, out_chans=2, chans=32, num_pool_layers=4, drop_prob=0.0)\n",
    "model.load_state_dict(torch.load(checkpoint_path))\n",
    "model = model.to(device)"
   ]
  },
  {
   "cell_type": "code",
   "execution_count": 11,
   "metadata": {},
   "outputs": [
    {
     "name": "stderr",
     "output_type": "stream",
     "text": [
      "200it [00:26,  7.51it/s]\n"
     ]
    }
   ],
   "source": [
    "loss_l1_history_=[]\n",
    "loss_ssim_history_=[]\n",
    "ssim_fct = SSIMLoss()\n",
    "l1_loss = torch.nn.L1Loss(reduction='sum')\n",
    "\n",
    "for iter, batch in tqdm(enumerate(test_dataloader)): \n",
    "    input_image, target_image, ground_truth_image, mean, std, fname, slice_num, input_kspace, input_mask, target_kspace, target_mask, sens_maps, binary_background_mask = batch\n",
    "    input_image = input_image.to(device)\n",
    "    target_image = target_image.to(device)\n",
    "    input_kspace = input_kspace.to(device)\n",
    "    input_mask = input_mask.to(device)\n",
    "    sens_maps = sens_maps.to(device)\n",
    "    std = std.to(device)\n",
    "    mean = mean.to(device)\n",
    "    ground_truth_image = ground_truth_image.to(device)\n",
    "    binary_background_mask = binary_background_mask.to(device)\n",
    "\n",
    "    model_output = model(input_image)\n",
    "    model_output = model_output * std + mean\n",
    "    # supervised loss [x, fθ(A†y)]\n",
    "    # L1\n",
    "    loss_l1 = (l1_loss(model_output, target_image) / torch.sum(torch.abs(target_image))).item()\n",
    "    # SSIM = 1 - loss\n",
    "    output_image_1c = complex_abs(torch.moveaxis(model_output , 1, -1 ))\n",
    "    loss_ssim = 1 - ssim_fct(output_image_1c, ground_truth_image, data_range = ground_truth_image.max().unsqueeze(0)).item()\n",
    "    #print('Test SSIM loss: ',loss_ssim)\n",
    "\n",
    "    loss_l1_history_.append(loss_l1)\n",
    "    loss_ssim_history_.append(loss_ssim)"
   ]
  },
  {
   "cell_type": "code",
   "execution_count": 12,
   "metadata": {},
   "outputs": [
    {
     "name": "stdout",
     "output_type": "stream",
     "text": [
      "Testing average L1 loss:  0.17661301501095295\n",
      "Testing average SSIM loss:  0.924997610449791\n"
     ]
    }
   ],
   "source": [
    "print(\"Testing average L1 loss: \", sum(loss_l1_history_) / len(loss_l1_history_))\n",
    "print(\"Testing average SSIM loss: \", sum(loss_ssim_history_) / len(loss_ssim_history_))"
   ]
  },
  {
   "attachments": {},
   "cell_type": "markdown",
   "metadata": {},
   "source": [
    "### Test-time training"
   ]
  },
  {
   "cell_type": "code",
   "execution_count": 4,
   "metadata": {},
   "outputs": [],
   "source": [
    "ssim_fct = SSIMLoss()\n",
    "l1_loss = torch.nn.L1Loss(reduction='sum')\n",
    "\n",
    "def TTT(model, TTT_epoch, adapt_lr): \n",
    "    optimizer = torch.optim.Adam(model.parameters(),lr=adapt_lr)\n",
    "    \n",
    "    loss_l1_history = []\n",
    "    loss_ssim_history = []\n",
    "    self_loss_history = []\n",
    "\n",
    "    for iteration in range(TTT_epoch):\n",
    "        # fθ(A†y)\n",
    "        model_output = model(input_image)\n",
    "        model_output = model_output * std + mean\n",
    "        # supervised loss [x, fθ(A†y)]\n",
    "        # L1\n",
    "        loss_l1 = (l1_loss(model_output, target_image) / torch.sum(torch.abs(target_image))).item()\n",
    "        #print('Test L1 loss: ',loss_l1)\n",
    "        loss_l1_history.append(loss_l1)\n",
    "        # SSIM = 1 - loss\n",
    "        output_image_1c = complex_abs(torch.moveaxis(model_output , 1, -1 ))\n",
    "        loss_ssim = 1 - ssim_fct(output_image_1c, ground_truth_image, data_range = ground_truth_image.max().unsqueeze(0)).item()\n",
    "        #print('Test SSIM loss: ',loss_ssim)\n",
    "        loss_ssim_history.append(loss_ssim)\n",
    "\n",
    "        # self-supervised loss\n",
    "        # fθ(A†y)\n",
    "        model_output = torch.moveaxis(model_output, 1, -1 )\n",
    "        # S fθ(A†y)\n",
    "        output_sens_image = complex_mul(model_output, sens_maps)\n",
    "        # FS fθ(A†y)\n",
    "        Fimg = fft2c(output_sens_image)\n",
    "        # MFS fθ(A†y) = A fθ(A†y)\n",
    "        Fimg_forward = Fimg * input_mask\n",
    "        # consistency loss [y, Afθ(A†y)]\n",
    "        loss_self = l1_loss(Fimg_forward, input_kspace) / torch.sum(torch.abs(input_kspace))\n",
    "\n",
    "        optimizer.zero_grad()\n",
    "        loss_self.backward()\n",
    "        optimizer.step()\n",
    "        #train_loss += loss.item()\n",
    "        #print('TTT loss: ',loss_self.item())\n",
    "        self_loss_history.append(loss_self.item())\n",
    "\n",
    "    return loss_l1_history, loss_ssim_history, self_loss_history"
   ]
  },
  {
   "cell_type": "code",
   "execution_count": 6,
   "metadata": {},
   "outputs": [
    {
     "name": "stderr",
     "output_type": "stream",
     "text": [
      "1it [00:20, 20.67s/it]"
     ]
    },
    {
     "name": "stdout",
     "output_type": "stream",
     "text": [
      "best L1:  0.10670609772205353\n",
      "best L1 epoch:  179\n",
      "best SSIM: 0.9699586629867554\n",
      "best SSIM epoch:  162\n"
     ]
    },
    {
     "name": "stderr",
     "output_type": "stream",
     "text": [
      "2it [00:40, 20.44s/it]"
     ]
    },
    {
     "name": "stdout",
     "output_type": "stream",
     "text": [
      "best L1:  0.09667706489562988\n",
      "best L1 epoch:  134\n",
      "best SSIM: 0.9734474420547485\n",
      "best SSIM epoch:  137\n"
     ]
    },
    {
     "name": "stderr",
     "output_type": "stream",
     "text": [
      "3it [01:01, 20.39s/it]"
     ]
    },
    {
     "name": "stdout",
     "output_type": "stream",
     "text": [
      "best L1:  0.09713968634605408\n",
      "best L1 epoch:  126\n",
      "best SSIM: 0.9675641655921936\n",
      "best SSIM epoch:  96\n"
     ]
    },
    {
     "name": "stderr",
     "output_type": "stream",
     "text": [
      "4it [01:21, 20.47s/it]"
     ]
    },
    {
     "name": "stdout",
     "output_type": "stream",
     "text": [
      "best L1:  0.09862615913152695\n",
      "best L1 epoch:  112\n",
      "best SSIM: 0.9679025411605835\n",
      "best SSIM epoch:  95\n"
     ]
    },
    {
     "name": "stderr",
     "output_type": "stream",
     "text": [
      "5it [01:42, 20.56s/it]"
     ]
    },
    {
     "name": "stdout",
     "output_type": "stream",
     "text": [
      "best L1:  0.10671133548021317\n",
      "best L1 epoch:  190\n",
      "best SSIM: 0.9537341594696045\n",
      "best SSIM epoch:  15\n"
     ]
    },
    {
     "name": "stderr",
     "output_type": "stream",
     "text": [
      "6it [02:03, 20.61s/it]"
     ]
    },
    {
     "name": "stdout",
     "output_type": "stream",
     "text": [
      "best L1:  0.10765722393989563\n",
      "best L1 epoch:  110\n",
      "best SSIM: 0.9515545964241028\n",
      "best SSIM epoch:  20\n"
     ]
    },
    {
     "name": "stderr",
     "output_type": "stream",
     "text": [
      "7it [02:24, 20.67s/it]"
     ]
    },
    {
     "name": "stdout",
     "output_type": "stream",
     "text": [
      "best L1:  0.1079486832022667\n",
      "best L1 epoch:  157\n",
      "best SSIM: 0.9545013308525085\n",
      "best SSIM epoch:  105\n"
     ]
    },
    {
     "name": "stderr",
     "output_type": "stream",
     "text": [
      "8it [02:44, 20.72s/it]"
     ]
    },
    {
     "name": "stdout",
     "output_type": "stream",
     "text": [
      "best L1:  0.11482849717140198\n",
      "best L1 epoch:  167\n",
      "best SSIM: 0.9568856954574585\n",
      "best SSIM epoch:  103\n"
     ]
    },
    {
     "name": "stderr",
     "output_type": "stream",
     "text": [
      "9it [03:05, 20.74s/it]"
     ]
    },
    {
     "name": "stdout",
     "output_type": "stream",
     "text": [
      "best L1:  0.10422013700008392\n",
      "best L1 epoch:  65\n",
      "best SSIM: 0.9675599932670593\n",
      "best SSIM epoch:  73\n"
     ]
    },
    {
     "name": "stderr",
     "output_type": "stream",
     "text": [
      "10it [03:26, 20.76s/it]"
     ]
    },
    {
     "name": "stdout",
     "output_type": "stream",
     "text": [
      "best L1:  0.10336683690547943\n",
      "best L1 epoch:  59\n",
      "best SSIM: 0.9656522274017334\n",
      "best SSIM epoch:  78\n"
     ]
    },
    {
     "name": "stderr",
     "output_type": "stream",
     "text": [
      "11it [03:47, 20.77s/it]"
     ]
    },
    {
     "name": "stdout",
     "output_type": "stream",
     "text": [
      "best L1:  0.10346397012472153\n",
      "best L1 epoch:  52\n",
      "best SSIM: 0.9656558036804199\n",
      "best SSIM epoch:  72\n"
     ]
    },
    {
     "name": "stderr",
     "output_type": "stream",
     "text": [
      "12it [04:08, 20.78s/it]"
     ]
    },
    {
     "name": "stdout",
     "output_type": "stream",
     "text": [
      "best L1:  0.10818102210760117\n",
      "best L1 epoch:  44\n",
      "best SSIM: 0.966628909111023\n",
      "best SSIM epoch:  47\n"
     ]
    },
    {
     "name": "stderr",
     "output_type": "stream",
     "text": [
      "13it [04:28, 20.79s/it]"
     ]
    },
    {
     "name": "stdout",
     "output_type": "stream",
     "text": [
      "best L1:  0.17345045506954193\n",
      "best L1 epoch:  494\n",
      "best SSIM: 0.9320842623710632\n",
      "best SSIM epoch:  52\n"
     ]
    },
    {
     "name": "stderr",
     "output_type": "stream",
     "text": [
      "14it [04:51, 21.19s/it]"
     ]
    },
    {
     "name": "stdout",
     "output_type": "stream",
     "text": [
      "best L1:  0.16228361427783966\n",
      "best L1 epoch:  320\n",
      "best SSIM: 0.9414843320846558\n",
      "best SSIM epoch:  235\n"
     ]
    },
    {
     "name": "stderr",
     "output_type": "stream",
     "text": [
      "15it [05:12, 21.35s/it]"
     ]
    },
    {
     "name": "stdout",
     "output_type": "stream",
     "text": [
      "best L1:  0.15788210928440094\n",
      "best L1 epoch:  421\n",
      "best SSIM: 0.9388997554779053\n",
      "best SSIM epoch:  46\n"
     ]
    },
    {
     "name": "stderr",
     "output_type": "stream",
     "text": [
      "16it [05:34, 21.57s/it]"
     ]
    },
    {
     "name": "stdout",
     "output_type": "stream",
     "text": [
      "best L1:  0.14744290709495544\n",
      "best L1 epoch:  433\n",
      "best SSIM: 0.9413284063339233\n",
      "best SSIM epoch:  261\n"
     ]
    },
    {
     "name": "stderr",
     "output_type": "stream",
     "text": [
      "17it [05:56, 21.71s/it]"
     ]
    },
    {
     "name": "stdout",
     "output_type": "stream",
     "text": [
      "best L1:  0.10875890403985977\n",
      "best L1 epoch:  268\n",
      "best SSIM: 0.9595195055007935\n",
      "best SSIM epoch:  254\n"
     ]
    },
    {
     "name": "stderr",
     "output_type": "stream",
     "text": [
      "18it [06:18, 21.60s/it]"
     ]
    },
    {
     "name": "stdout",
     "output_type": "stream",
     "text": [
      "best L1:  0.11003213375806808\n",
      "best L1 epoch:  354\n",
      "best SSIM: 0.957179844379425\n",
      "best SSIM epoch:  351\n"
     ]
    },
    {
     "name": "stderr",
     "output_type": "stream",
     "text": [
      "19it [06:39, 21.52s/it]"
     ]
    },
    {
     "name": "stdout",
     "output_type": "stream",
     "text": [
      "best L1:  0.11627744883298874\n",
      "best L1 epoch:  193\n",
      "best SSIM: 0.9592063426971436\n",
      "best SSIM epoch:  186\n"
     ]
    },
    {
     "name": "stderr",
     "output_type": "stream",
     "text": [
      "20it [07:00, 21.47s/it]"
     ]
    },
    {
     "name": "stdout",
     "output_type": "stream",
     "text": [
      "best L1:  0.12733031809329987\n",
      "best L1 epoch:  496\n",
      "best SSIM: 0.9490878582000732\n",
      "best SSIM epoch:  498\n"
     ]
    },
    {
     "name": "stderr",
     "output_type": "stream",
     "text": [
      "21it [07:21, 21.26s/it]"
     ]
    },
    {
     "name": "stdout",
     "output_type": "stream",
     "text": [
      "best L1:  0.15842227637767792\n",
      "best L1 epoch:  185\n",
      "best SSIM: 0.9443852305412292\n",
      "best SSIM epoch:  154\n"
     ]
    },
    {
     "name": "stderr",
     "output_type": "stream",
     "text": [
      "22it [07:42, 21.11s/it]"
     ]
    },
    {
     "name": "stdout",
     "output_type": "stream",
     "text": [
      "best L1:  0.15056617558002472\n",
      "best L1 epoch:  486\n",
      "best SSIM: 0.9443861246109009\n",
      "best SSIM epoch:  130\n"
     ]
    },
    {
     "name": "stderr",
     "output_type": "stream",
     "text": [
      "23it [08:03, 21.02s/it]"
     ]
    },
    {
     "name": "stdout",
     "output_type": "stream",
     "text": [
      "best L1:  0.1484217792749405\n",
      "best L1 epoch:  367\n",
      "best SSIM: 0.941983699798584\n",
      "best SSIM epoch:  100\n"
     ]
    },
    {
     "name": "stderr",
     "output_type": "stream",
     "text": [
      "24it [08:24, 20.97s/it]"
     ]
    },
    {
     "name": "stdout",
     "output_type": "stream",
     "text": [
      "best L1:  0.15014846622943878\n",
      "best L1 epoch:  169\n",
      "best SSIM: 0.9514285922050476\n",
      "best SSIM epoch:  136\n"
     ]
    },
    {
     "name": "stderr",
     "output_type": "stream",
     "text": [
      "25it [08:45, 21.18s/it]"
     ]
    },
    {
     "name": "stdout",
     "output_type": "stream",
     "text": [
      "best L1:  0.09665987640619278\n",
      "best L1 epoch:  167\n",
      "best SSIM: 0.9707717895507812\n",
      "best SSIM epoch:  171\n"
     ]
    },
    {
     "name": "stderr",
     "output_type": "stream",
     "text": [
      "26it [09:07, 21.26s/it]"
     ]
    },
    {
     "name": "stdout",
     "output_type": "stream",
     "text": [
      "best L1:  0.10563778877258301\n",
      "best L1 epoch:  299\n",
      "best SSIM: 0.9679697751998901\n",
      "best SSIM epoch:  173\n"
     ]
    },
    {
     "name": "stderr",
     "output_type": "stream",
     "text": [
      "27it [09:28, 21.42s/it]"
     ]
    },
    {
     "name": "stdout",
     "output_type": "stream",
     "text": [
      "best L1:  0.11249896883964539\n",
      "best L1 epoch:  203\n",
      "best SSIM: 0.9636152982711792\n",
      "best SSIM epoch:  106\n"
     ]
    },
    {
     "name": "stderr",
     "output_type": "stream",
     "text": [
      "28it [09:50, 21.42s/it]"
     ]
    },
    {
     "name": "stdout",
     "output_type": "stream",
     "text": [
      "best L1:  0.11914107203483582\n",
      "best L1 epoch:  135\n",
      "best SSIM: 0.9619897603988647\n",
      "best SSIM epoch:  85\n"
     ]
    },
    {
     "name": "stderr",
     "output_type": "stream",
     "text": [
      "29it [10:11, 21.45s/it]"
     ]
    },
    {
     "name": "stdout",
     "output_type": "stream",
     "text": [
      "best L1:  0.19413304328918457\n",
      "best L1 epoch:  199\n",
      "best SSIM: 0.9158982038497925\n",
      "best SSIM epoch:  130\n"
     ]
    },
    {
     "name": "stderr",
     "output_type": "stream",
     "text": [
      "30it [10:33, 21.49s/it]"
     ]
    },
    {
     "name": "stdout",
     "output_type": "stream",
     "text": [
      "best L1:  0.18764621019363403\n",
      "best L1 epoch:  7\n",
      "best SSIM: 0.925286054611206\n",
      "best SSIM epoch:  82\n"
     ]
    },
    {
     "name": "stderr",
     "output_type": "stream",
     "text": [
      "31it [10:54, 21.49s/it]"
     ]
    },
    {
     "name": "stdout",
     "output_type": "stream",
     "text": [
      "best L1:  0.1822691410779953\n",
      "best L1 epoch:  102\n",
      "best SSIM: 0.9309613704681396\n",
      "best SSIM epoch:  97\n"
     ]
    },
    {
     "name": "stderr",
     "output_type": "stream",
     "text": [
      "32it [11:16, 21.49s/it]"
     ]
    },
    {
     "name": "stdout",
     "output_type": "stream",
     "text": [
      "best L1:  0.18467329442501068\n",
      "best L1 epoch:  245\n",
      "best SSIM: 0.9266878366470337\n",
      "best SSIM epoch:  77\n"
     ]
    },
    {
     "name": "stderr",
     "output_type": "stream",
     "text": [
      "33it [11:38, 21.55s/it]"
     ]
    },
    {
     "name": "stdout",
     "output_type": "stream",
     "text": [
      "best L1:  0.16324849426746368\n",
      "best L1 epoch:  494\n",
      "best SSIM: 0.926679790019989\n",
      "best SSIM epoch:  427\n"
     ]
    },
    {
     "name": "stderr",
     "output_type": "stream",
     "text": [
      "34it [11:59, 21.56s/it]"
     ]
    },
    {
     "name": "stdout",
     "output_type": "stream",
     "text": [
      "best L1:  0.1620856076478958\n",
      "best L1 epoch:  497\n",
      "best SSIM: 0.927860677242279\n",
      "best SSIM epoch:  33\n"
     ]
    },
    {
     "name": "stderr",
     "output_type": "stream",
     "text": [
      "35it [12:21, 21.57s/it]"
     ]
    },
    {
     "name": "stdout",
     "output_type": "stream",
     "text": [
      "best L1:  0.16122101247310638\n",
      "best L1 epoch:  499\n",
      "best SSIM: 0.92943274974823\n",
      "best SSIM epoch:  32\n"
     ]
    },
    {
     "name": "stderr",
     "output_type": "stream",
     "text": [
      "36it [12:42, 21.56s/it]"
     ]
    },
    {
     "name": "stdout",
     "output_type": "stream",
     "text": [
      "best L1:  0.1506877988576889\n",
      "best L1 epoch:  490\n",
      "best SSIM: 0.9345219731330872\n",
      "best SSIM epoch:  31\n"
     ]
    },
    {
     "name": "stderr",
     "output_type": "stream",
     "text": [
      "37it [13:04, 21.58s/it]"
     ]
    },
    {
     "name": "stdout",
     "output_type": "stream",
     "text": [
      "best L1:  0.19263333082199097\n",
      "best L1 epoch:  162\n",
      "best SSIM: 0.9239715337753296\n",
      "best SSIM epoch:  146\n"
     ]
    },
    {
     "name": "stderr",
     "output_type": "stream",
     "text": [
      "38it [13:26, 21.57s/it]"
     ]
    },
    {
     "name": "stdout",
     "output_type": "stream",
     "text": [
      "best L1:  0.1906537562608719\n",
      "best L1 epoch:  135\n",
      "best SSIM: 0.9222130179405212\n",
      "best SSIM epoch:  90\n"
     ]
    },
    {
     "name": "stderr",
     "output_type": "stream",
     "text": [
      "39it [13:47, 21.53s/it]"
     ]
    },
    {
     "name": "stdout",
     "output_type": "stream",
     "text": [
      "best L1:  0.19025759398937225\n",
      "best L1 epoch:  31\n",
      "best SSIM: 0.9274536967277527\n",
      "best SSIM epoch:  68\n"
     ]
    },
    {
     "name": "stderr",
     "output_type": "stream",
     "text": [
      "40it [14:09, 21.54s/it]"
     ]
    },
    {
     "name": "stdout",
     "output_type": "stream",
     "text": [
      "best L1:  0.18986304104328156\n",
      "best L1 epoch:  237\n",
      "best SSIM: 0.923766016960144\n",
      "best SSIM epoch:  40\n"
     ]
    },
    {
     "name": "stderr",
     "output_type": "stream",
     "text": [
      "41it [14:30, 21.36s/it]"
     ]
    },
    {
     "name": "stdout",
     "output_type": "stream",
     "text": [
      "best L1:  0.10425247997045517\n",
      "best L1 epoch:  166\n",
      "best SSIM: 0.9716430902481079\n",
      "best SSIM epoch:  170\n"
     ]
    },
    {
     "name": "stderr",
     "output_type": "stream",
     "text": [
      "42it [14:50, 21.23s/it]"
     ]
    },
    {
     "name": "stdout",
     "output_type": "stream",
     "text": [
      "best L1:  0.09248054772615433\n",
      "best L1 epoch:  471\n",
      "best SSIM: 0.9726628661155701\n",
      "best SSIM epoch:  452\n"
     ]
    },
    {
     "name": "stderr",
     "output_type": "stream",
     "text": [
      "43it [15:11, 21.15s/it]"
     ]
    },
    {
     "name": "stdout",
     "output_type": "stream",
     "text": [
      "best L1:  0.09450868517160416\n",
      "best L1 epoch:  60\n",
      "best SSIM: 0.9692050218582153\n",
      "best SSIM epoch:  66\n"
     ]
    },
    {
     "name": "stderr",
     "output_type": "stream",
     "text": [
      "44it [15:32, 21.10s/it]"
     ]
    },
    {
     "name": "stdout",
     "output_type": "stream",
     "text": [
      "best L1:  0.0920896828174591\n",
      "best L1 epoch:  8\n",
      "best SSIM: 0.9658352136611938\n",
      "best SSIM epoch:  50\n"
     ]
    },
    {
     "name": "stderr",
     "output_type": "stream",
     "text": [
      "45it [15:54, 21.24s/it]"
     ]
    },
    {
     "name": "stdout",
     "output_type": "stream",
     "text": [
      "best L1:  0.11586921662092209\n",
      "best L1 epoch:  315\n",
      "best SSIM: 0.9588462114334106\n",
      "best SSIM epoch:  281\n"
     ]
    },
    {
     "name": "stderr",
     "output_type": "stream",
     "text": [
      "46it [16:16, 21.34s/it]"
     ]
    },
    {
     "name": "stdout",
     "output_type": "stream",
     "text": [
      "best L1:  0.11002952605485916\n",
      "best L1 epoch:  30\n",
      "best SSIM: 0.96408611536026\n",
      "best SSIM epoch:  40\n"
     ]
    },
    {
     "name": "stderr",
     "output_type": "stream",
     "text": [
      "47it [16:37, 21.39s/it]"
     ]
    },
    {
     "name": "stdout",
     "output_type": "stream",
     "text": [
      "best L1:  0.09181622415781021\n",
      "best L1 epoch:  162\n",
      "best SSIM: 0.9732869267463684\n",
      "best SSIM epoch:  170\n"
     ]
    },
    {
     "name": "stderr",
     "output_type": "stream",
     "text": [
      "48it [16:59, 21.44s/it]"
     ]
    },
    {
     "name": "stdout",
     "output_type": "stream",
     "text": [
      "best L1:  0.09125831723213196\n",
      "best L1 epoch:  218\n",
      "best SSIM: 0.9728984832763672\n",
      "best SSIM epoch:  217\n"
     ]
    },
    {
     "name": "stderr",
     "output_type": "stream",
     "text": [
      "49it [17:20, 21.32s/it]"
     ]
    },
    {
     "name": "stdout",
     "output_type": "stream",
     "text": [
      "best L1:  0.11338803917169571\n",
      "best L1 epoch:  67\n",
      "best SSIM: 0.9576177597045898\n",
      "best SSIM epoch:  50\n"
     ]
    },
    {
     "name": "stderr",
     "output_type": "stream",
     "text": [
      "50it [17:41, 21.23s/it]"
     ]
    },
    {
     "name": "stdout",
     "output_type": "stream",
     "text": [
      "best L1:  0.09656540304422379\n",
      "best L1 epoch:  85\n",
      "best SSIM: 0.9650104641914368\n",
      "best SSIM epoch:  103\n"
     ]
    },
    {
     "name": "stderr",
     "output_type": "stream",
     "text": [
      "51it [18:02, 21.14s/it]"
     ]
    },
    {
     "name": "stdout",
     "output_type": "stream",
     "text": [
      "best L1:  0.09245596826076508\n",
      "best L1 epoch:  113\n",
      "best SSIM: 0.970039427280426\n",
      "best SSIM epoch:  113\n"
     ]
    },
    {
     "name": "stderr",
     "output_type": "stream",
     "text": [
      "52it [18:22, 21.07s/it]"
     ]
    },
    {
     "name": "stdout",
     "output_type": "stream",
     "text": [
      "best L1:  0.09189808368682861\n",
      "best L1 epoch:  122\n",
      "best SSIM: 0.9653324484825134\n",
      "best SSIM epoch:  120\n"
     ]
    },
    {
     "name": "stderr",
     "output_type": "stream",
     "text": [
      "53it [18:44, 21.20s/it]"
     ]
    },
    {
     "name": "stdout",
     "output_type": "stream",
     "text": [
      "best L1:  0.10386279225349426\n",
      "best L1 epoch:  129\n",
      "best SSIM: 0.9612932205200195\n",
      "best SSIM epoch:  129\n"
     ]
    },
    {
     "name": "stderr",
     "output_type": "stream",
     "text": [
      "54it [19:06, 21.30s/it]"
     ]
    },
    {
     "name": "stdout",
     "output_type": "stream",
     "text": [
      "best L1:  0.09219074249267578\n",
      "best L1 epoch:  90\n",
      "best SSIM: 0.9632875323295593\n",
      "best SSIM epoch:  106\n"
     ]
    },
    {
     "name": "stderr",
     "output_type": "stream",
     "text": [
      "55it [19:27, 21.38s/it]"
     ]
    },
    {
     "name": "stdout",
     "output_type": "stream",
     "text": [
      "best L1:  0.09048686921596527\n",
      "best L1 epoch:  74\n",
      "best SSIM: 0.9671293497085571\n",
      "best SSIM epoch:  75\n"
     ]
    },
    {
     "name": "stderr",
     "output_type": "stream",
     "text": [
      "56it [19:49, 21.44s/it]"
     ]
    },
    {
     "name": "stdout",
     "output_type": "stream",
     "text": [
      "best L1:  0.08290370553731918\n",
      "best L1 epoch:  102\n",
      "best SSIM: 0.9663819074630737\n",
      "best SSIM epoch:  114\n"
     ]
    },
    {
     "name": "stderr",
     "output_type": "stream",
     "text": [
      "57it [20:10, 21.30s/it]"
     ]
    },
    {
     "name": "stdout",
     "output_type": "stream",
     "text": [
      "best L1:  0.11143074929714203\n",
      "best L1 epoch:  160\n",
      "best SSIM: 0.956511378288269\n",
      "best SSIM epoch:  69\n"
     ]
    },
    {
     "name": "stderr",
     "output_type": "stream",
     "text": [
      "58it [20:31, 21.19s/it]"
     ]
    },
    {
     "name": "stdout",
     "output_type": "stream",
     "text": [
      "best L1:  0.10658065229654312\n",
      "best L1 epoch:  207\n",
      "best SSIM: 0.9591241478919983\n",
      "best SSIM epoch:  142\n"
     ]
    },
    {
     "name": "stderr",
     "output_type": "stream",
     "text": [
      "59it [20:52, 21.12s/it]"
     ]
    },
    {
     "name": "stdout",
     "output_type": "stream",
     "text": [
      "best L1:  0.1024857833981514\n",
      "best L1 epoch:  250\n",
      "best SSIM: 0.9586601257324219\n",
      "best SSIM epoch:  185\n"
     ]
    },
    {
     "name": "stderr",
     "output_type": "stream",
     "text": [
      "60it [21:13, 21.33s/it]"
     ]
    },
    {
     "name": "stdout",
     "output_type": "stream",
     "text": [
      "best L1:  0.10202950984239578\n",
      "best L1 epoch:  184\n",
      "best SSIM: 0.9589254856109619\n",
      "best SSIM epoch:  132\n"
     ]
    },
    {
     "name": "stderr",
     "output_type": "stream",
     "text": [
      "61it [21:36, 21.65s/it]"
     ]
    },
    {
     "name": "stdout",
     "output_type": "stream",
     "text": [
      "best L1:  0.15998205542564392\n",
      "best L1 epoch:  384\n",
      "best SSIM: 0.930424690246582\n",
      "best SSIM epoch:  355\n"
     ]
    },
    {
     "name": "stderr",
     "output_type": "stream",
     "text": [
      "62it [21:58, 21.96s/it]"
     ]
    },
    {
     "name": "stdout",
     "output_type": "stream",
     "text": [
      "best L1:  0.15607082843780518\n",
      "best L1 epoch:  309\n",
      "best SSIM: 0.9296932816505432\n",
      "best SSIM epoch:  152\n"
     ]
    },
    {
     "name": "stderr",
     "output_type": "stream",
     "text": [
      "63it [22:21, 22.06s/it]"
     ]
    },
    {
     "name": "stdout",
     "output_type": "stream",
     "text": [
      "best L1:  0.15090274810791016\n",
      "best L1 epoch:  204\n",
      "best SSIM: 0.9337165355682373\n",
      "best SSIM epoch:  77\n"
     ]
    },
    {
     "name": "stderr",
     "output_type": "stream",
     "text": [
      "64it [22:43, 22.05s/it]"
     ]
    },
    {
     "name": "stdout",
     "output_type": "stream",
     "text": [
      "best L1:  0.1552712470293045\n",
      "best L1 epoch:  303\n",
      "best SSIM: 0.9276952743530273\n",
      "best SSIM epoch:  62\n"
     ]
    },
    {
     "name": "stderr",
     "output_type": "stream",
     "text": [
      "65it [23:04, 21.74s/it]"
     ]
    },
    {
     "name": "stdout",
     "output_type": "stream",
     "text": [
      "best L1:  0.13707473874092102\n",
      "best L1 epoch:  373\n",
      "best SSIM: 0.9477668404579163\n",
      "best SSIM epoch:  28\n"
     ]
    },
    {
     "name": "stderr",
     "output_type": "stream",
     "text": [
      "66it [23:25, 21.51s/it]"
     ]
    },
    {
     "name": "stdout",
     "output_type": "stream",
     "text": [
      "best L1:  0.11603351682424545\n",
      "best L1 epoch:  386\n",
      "best SSIM: 0.9601262211799622\n",
      "best SSIM epoch:  30\n"
     ]
    },
    {
     "name": "stderr",
     "output_type": "stream",
     "text": [
      "67it [23:46, 21.34s/it]"
     ]
    },
    {
     "name": "stdout",
     "output_type": "stream",
     "text": [
      "best L1:  0.10812245309352875\n",
      "best L1 epoch:  236\n",
      "best SSIM: 0.9631870985031128\n",
      "best SSIM epoch:  136\n"
     ]
    },
    {
     "name": "stderr",
     "output_type": "stream",
     "text": [
      "68it [24:07, 21.25s/it]"
     ]
    },
    {
     "name": "stdout",
     "output_type": "stream",
     "text": [
      "best L1:  0.1089777797460556\n",
      "best L1 epoch:  411\n",
      "best SSIM: 0.9577946662902832\n",
      "best SSIM epoch:  55\n"
     ]
    },
    {
     "name": "stderr",
     "output_type": "stream",
     "text": [
      "69it [24:28, 21.35s/it]"
     ]
    },
    {
     "name": "stdout",
     "output_type": "stream",
     "text": [
      "best L1:  0.09948243945837021\n",
      "best L1 epoch:  282\n",
      "best SSIM: 0.9571816921234131\n",
      "best SSIM epoch:  136\n"
     ]
    },
    {
     "name": "stderr",
     "output_type": "stream",
     "text": [
      "70it [24:50, 21.38s/it]"
     ]
    },
    {
     "name": "stdout",
     "output_type": "stream",
     "text": [
      "best L1:  0.09154330939054489\n",
      "best L1 epoch:  104\n",
      "best SSIM: 0.9627789258956909\n",
      "best SSIM epoch:  105\n"
     ]
    },
    {
     "name": "stderr",
     "output_type": "stream",
     "text": [
      "71it [25:11, 21.39s/it]"
     ]
    },
    {
     "name": "stdout",
     "output_type": "stream",
     "text": [
      "best L1:  0.08973105251789093\n",
      "best L1 epoch:  118\n",
      "best SSIM: 0.9686847925186157\n",
      "best SSIM epoch:  118\n"
     ]
    },
    {
     "name": "stderr",
     "output_type": "stream",
     "text": [
      "72it [25:33, 21.39s/it]"
     ]
    },
    {
     "name": "stdout",
     "output_type": "stream",
     "text": [
      "best L1:  0.09634915739297867\n",
      "best L1 epoch:  114\n",
      "best SSIM: 0.9662627577781677\n",
      "best SSIM epoch:  114\n"
     ]
    },
    {
     "name": "stderr",
     "output_type": "stream",
     "text": [
      "73it [25:54, 21.42s/it]"
     ]
    },
    {
     "name": "stdout",
     "output_type": "stream",
     "text": [
      "best L1:  0.0849958062171936\n",
      "best L1 epoch:  69\n",
      "best SSIM: 0.969538152217865\n",
      "best SSIM epoch:  70\n"
     ]
    },
    {
     "name": "stderr",
     "output_type": "stream",
     "text": [
      "74it [26:16, 21.43s/it]"
     ]
    },
    {
     "name": "stdout",
     "output_type": "stream",
     "text": [
      "best L1:  0.08545070886611938\n",
      "best L1 epoch:  53\n",
      "best SSIM: 0.9696478843688965\n",
      "best SSIM epoch:  72\n"
     ]
    },
    {
     "name": "stderr",
     "output_type": "stream",
     "text": [
      "75it [26:37, 21.47s/it]"
     ]
    },
    {
     "name": "stdout",
     "output_type": "stream",
     "text": [
      "best L1:  0.08802735060453415\n",
      "best L1 epoch:  45\n",
      "best SSIM: 0.9707385301589966\n",
      "best SSIM epoch:  81\n"
     ]
    },
    {
     "name": "stderr",
     "output_type": "stream",
     "text": [
      "76it [26:59, 21.48s/it]"
     ]
    },
    {
     "name": "stdout",
     "output_type": "stream",
     "text": [
      "best L1:  0.0879313126206398\n",
      "best L1 epoch:  42\n",
      "best SSIM: 0.9681247472763062\n",
      "best SSIM epoch:  59\n"
     ]
    },
    {
     "name": "stderr",
     "output_type": "stream",
     "text": [
      "77it [27:19, 21.13s/it]"
     ]
    },
    {
     "name": "stdout",
     "output_type": "stream",
     "text": [
      "best L1:  0.1025681346654892\n",
      "best L1 epoch:  131\n",
      "best SSIM: 0.9649922847747803\n",
      "best SSIM epoch:  125\n"
     ]
    },
    {
     "name": "stderr",
     "output_type": "stream",
     "text": [
      "78it [27:39, 20.93s/it]"
     ]
    },
    {
     "name": "stdout",
     "output_type": "stream",
     "text": [
      "best L1:  0.10582169145345688\n",
      "best L1 epoch:  262\n",
      "best SSIM: 0.9638708829879761\n",
      "best SSIM epoch:  39\n"
     ]
    },
    {
     "name": "stderr",
     "output_type": "stream",
     "text": [
      "79it [28:00, 20.76s/it]"
     ]
    },
    {
     "name": "stdout",
     "output_type": "stream",
     "text": [
      "best L1:  0.10183478891849518\n",
      "best L1 epoch:  149\n",
      "best SSIM: 0.9695261716842651\n",
      "best SSIM epoch:  159\n"
     ]
    },
    {
     "name": "stderr",
     "output_type": "stream",
     "text": [
      "80it [28:20, 20.64s/it]"
     ]
    },
    {
     "name": "stdout",
     "output_type": "stream",
     "text": [
      "best L1:  0.10341822355985641\n",
      "best L1 epoch:  129\n",
      "best SSIM: 0.9692142605781555\n",
      "best SSIM epoch:  124\n"
     ]
    },
    {
     "name": "stderr",
     "output_type": "stream",
     "text": [
      "81it [28:41, 20.77s/it]"
     ]
    },
    {
     "name": "stdout",
     "output_type": "stream",
     "text": [
      "best L1:  0.09912426769733429\n",
      "best L1 epoch:  45\n",
      "best SSIM: 0.9588466882705688\n",
      "best SSIM epoch:  54\n"
     ]
    },
    {
     "name": "stderr",
     "output_type": "stream",
     "text": [
      "82it [29:02, 20.83s/it]"
     ]
    },
    {
     "name": "stdout",
     "output_type": "stream",
     "text": [
      "best L1:  0.09866014868021011\n",
      "best L1 epoch:  51\n",
      "best SSIM: 0.9643442630767822\n",
      "best SSIM epoch:  59\n"
     ]
    },
    {
     "name": "stderr",
     "output_type": "stream",
     "text": [
      "83it [29:23, 20.87s/it]"
     ]
    },
    {
     "name": "stdout",
     "output_type": "stream",
     "text": [
      "best L1:  0.09882662445306778\n",
      "best L1 epoch:  103\n",
      "best SSIM: 0.9609019756317139\n",
      "best SSIM epoch:  110\n"
     ]
    },
    {
     "name": "stderr",
     "output_type": "stream",
     "text": [
      "84it [29:44, 20.92s/it]"
     ]
    },
    {
     "name": "stdout",
     "output_type": "stream",
     "text": [
      "best L1:  0.10089822858572006\n",
      "best L1 epoch:  158\n",
      "best SSIM: 0.9686279892921448\n",
      "best SSIM epoch:  156\n"
     ]
    },
    {
     "name": "stderr",
     "output_type": "stream",
     "text": [
      "85it [30:06, 21.10s/it]"
     ]
    },
    {
     "name": "stdout",
     "output_type": "stream",
     "text": [
      "best L1:  0.10708767175674438\n",
      "best L1 epoch:  137\n",
      "best SSIM: 0.9375328421592712\n",
      "best SSIM epoch:  82\n"
     ]
    },
    {
     "name": "stderr",
     "output_type": "stream",
     "text": [
      "86it [30:27, 21.22s/it]"
     ]
    },
    {
     "name": "stdout",
     "output_type": "stream",
     "text": [
      "best L1:  0.10655736178159714\n",
      "best L1 epoch:  132\n",
      "best SSIM: 0.9415245652198792\n",
      "best SSIM epoch:  84\n"
     ]
    },
    {
     "name": "stderr",
     "output_type": "stream",
     "text": [
      "87it [30:49, 21.34s/it]"
     ]
    },
    {
     "name": "stdout",
     "output_type": "stream",
     "text": [
      "best L1:  0.11352768540382385\n",
      "best L1 epoch:  122\n",
      "best SSIM: 0.935524582862854\n",
      "best SSIM epoch:  33\n"
     ]
    },
    {
     "name": "stderr",
     "output_type": "stream",
     "text": [
      "88it [31:10, 21.42s/it]"
     ]
    },
    {
     "name": "stdout",
     "output_type": "stream",
     "text": [
      "best L1:  0.11896666884422302\n",
      "best L1 epoch:  7\n",
      "best SSIM: 0.9396065473556519\n",
      "best SSIM epoch:  87\n"
     ]
    },
    {
     "name": "stderr",
     "output_type": "stream",
     "text": [
      "89it [31:31, 21.31s/it]"
     ]
    },
    {
     "name": "stdout",
     "output_type": "stream",
     "text": [
      "best L1:  0.09325621277093887\n",
      "best L1 epoch:  108\n",
      "best SSIM: 0.9609859585762024\n",
      "best SSIM epoch:  84\n"
     ]
    },
    {
     "name": "stderr",
     "output_type": "stream",
     "text": [
      "90it [31:52, 21.20s/it]"
     ]
    },
    {
     "name": "stdout",
     "output_type": "stream",
     "text": [
      "best L1:  0.09435100853443146\n",
      "best L1 epoch:  157\n",
      "best SSIM: 0.9613913297653198\n",
      "best SSIM epoch:  102\n"
     ]
    },
    {
     "name": "stderr",
     "output_type": "stream",
     "text": [
      "91it [32:14, 21.18s/it]"
     ]
    },
    {
     "name": "stdout",
     "output_type": "stream",
     "text": [
      "best L1:  0.09980808943510056\n",
      "best L1 epoch:  116\n",
      "best SSIM: 0.9626616835594177\n",
      "best SSIM epoch:  94\n"
     ]
    },
    {
     "name": "stderr",
     "output_type": "stream",
     "text": [
      "92it [32:35, 21.13s/it]"
     ]
    },
    {
     "name": "stdout",
     "output_type": "stream",
     "text": [
      "best L1:  0.10349414497613907\n",
      "best L1 epoch:  235\n",
      "best SSIM: 0.9658990502357483\n",
      "best SSIM epoch:  99\n"
     ]
    },
    {
     "name": "stderr",
     "output_type": "stream",
     "text": [
      "93it [32:56, 21.25s/it]"
     ]
    },
    {
     "name": "stdout",
     "output_type": "stream",
     "text": [
      "best L1:  0.09465939551591873\n",
      "best L1 epoch:  198\n",
      "best SSIM: 0.9754593968391418\n",
      "best SSIM epoch:  228\n"
     ]
    },
    {
     "name": "stderr",
     "output_type": "stream",
     "text": [
      "94it [33:18, 21.33s/it]"
     ]
    },
    {
     "name": "stdout",
     "output_type": "stream",
     "text": [
      "best L1:  0.08884046971797943\n",
      "best L1 epoch:  50\n",
      "best SSIM: 0.9757663011550903\n",
      "best SSIM epoch:  87\n"
     ]
    },
    {
     "name": "stderr",
     "output_type": "stream",
     "text": [
      "95it [33:39, 21.39s/it]"
     ]
    },
    {
     "name": "stdout",
     "output_type": "stream",
     "text": [
      "best L1:  0.08306527882814407\n",
      "best L1 epoch:  115\n",
      "best SSIM: 0.9785389304161072\n",
      "best SSIM epoch:  166\n"
     ]
    },
    {
     "name": "stderr",
     "output_type": "stream",
     "text": [
      "96it [34:01, 21.44s/it]"
     ]
    },
    {
     "name": "stdout",
     "output_type": "stream",
     "text": [
      "best L1:  0.08667465299367905\n",
      "best L1 epoch:  82\n",
      "best SSIM: 0.9707969427108765\n",
      "best SSIM epoch:  93\n"
     ]
    },
    {
     "name": "stderr",
     "output_type": "stream",
     "text": [
      "97it [34:22, 21.29s/it]"
     ]
    },
    {
     "name": "stdout",
     "output_type": "stream",
     "text": [
      "best L1:  0.09138602018356323\n",
      "best L1 epoch:  131\n",
      "best SSIM: 0.9708820581436157\n",
      "best SSIM epoch:  172\n"
     ]
    },
    {
     "name": "stderr",
     "output_type": "stream",
     "text": [
      "98it [34:42, 21.17s/it]"
     ]
    },
    {
     "name": "stdout",
     "output_type": "stream",
     "text": [
      "best L1:  0.08702971041202545\n",
      "best L1 epoch:  105\n",
      "best SSIM: 0.9701813459396362\n",
      "best SSIM epoch:  129\n"
     ]
    },
    {
     "name": "stderr",
     "output_type": "stream",
     "text": [
      "99it [35:03, 21.11s/it]"
     ]
    },
    {
     "name": "stdout",
     "output_type": "stream",
     "text": [
      "best L1:  0.08572158962488174\n",
      "best L1 epoch:  112\n",
      "best SSIM: 0.970710039138794\n",
      "best SSIM epoch:  150\n"
     ]
    },
    {
     "name": "stderr",
     "output_type": "stream",
     "text": [
      "100it [35:24, 21.06s/it]"
     ]
    },
    {
     "name": "stdout",
     "output_type": "stream",
     "text": [
      "best L1:  0.08867232501506805\n",
      "best L1 epoch:  170\n",
      "best SSIM: 0.97022944688797\n",
      "best SSIM epoch:  154\n"
     ]
    },
    {
     "name": "stderr",
     "output_type": "stream",
     "text": [
      "101it [35:46, 21.25s/it]"
     ]
    },
    {
     "name": "stdout",
     "output_type": "stream",
     "text": [
      "best L1:  0.11147118359804153\n",
      "best L1 epoch:  9\n",
      "best SSIM: 0.9642130732536316\n",
      "best SSIM epoch:  63\n"
     ]
    },
    {
     "name": "stderr",
     "output_type": "stream",
     "text": [
      "102it [36:08, 21.34s/it]"
     ]
    },
    {
     "name": "stdout",
     "output_type": "stream",
     "text": [
      "best L1:  0.09610558301210403\n",
      "best L1 epoch:  11\n",
      "best SSIM: 0.9719709157943726\n",
      "best SSIM epoch:  84\n"
     ]
    },
    {
     "name": "stderr",
     "output_type": "stream",
     "text": [
      "103it [36:29, 21.39s/it]"
     ]
    },
    {
     "name": "stdout",
     "output_type": "stream",
     "text": [
      "best L1:  0.08935289829969406\n",
      "best L1 epoch:  228\n",
      "best SSIM: 0.9735185503959656\n",
      "best SSIM epoch:  209\n"
     ]
    },
    {
     "name": "stderr",
     "output_type": "stream",
     "text": [
      "104it [36:51, 21.42s/it]"
     ]
    },
    {
     "name": "stdout",
     "output_type": "stream",
     "text": [
      "best L1:  0.09251944720745087\n",
      "best L1 epoch:  136\n",
      "best SSIM: 0.9754707217216492\n",
      "best SSIM epoch:  170\n"
     ]
    },
    {
     "name": "stderr",
     "output_type": "stream",
     "text": [
      "105it [37:12, 21.28s/it]"
     ]
    },
    {
     "name": "stdout",
     "output_type": "stream",
     "text": [
      "best L1:  0.1237955093383789\n",
      "best L1 epoch:  57\n",
      "best SSIM: 0.9505795240402222\n",
      "best SSIM epoch:  53\n"
     ]
    },
    {
     "name": "stderr",
     "output_type": "stream",
     "text": [
      "106it [37:33, 21.22s/it]"
     ]
    },
    {
     "name": "stdout",
     "output_type": "stream",
     "text": [
      "best L1:  0.11112433671951294\n",
      "best L1 epoch:  95\n",
      "best SSIM: 0.9522312879562378\n",
      "best SSIM epoch:  95\n"
     ]
    },
    {
     "name": "stderr",
     "output_type": "stream",
     "text": [
      "107it [37:55, 21.43s/it]"
     ]
    },
    {
     "name": "stdout",
     "output_type": "stream",
     "text": [
      "best L1:  0.10446543991565704\n",
      "best L1 epoch:  137\n",
      "best SSIM: 0.9591695070266724\n",
      "best SSIM epoch:  141\n"
     ]
    },
    {
     "name": "stderr",
     "output_type": "stream",
     "text": [
      "108it [38:17, 21.72s/it]"
     ]
    },
    {
     "name": "stdout",
     "output_type": "stream",
     "text": [
      "best L1:  0.10762616246938705\n",
      "best L1 epoch:  90\n",
      "best SSIM: 0.9606891870498657\n",
      "best SSIM epoch:  93\n"
     ]
    },
    {
     "name": "stderr",
     "output_type": "stream",
     "text": [
      "109it [38:40, 21.98s/it]"
     ]
    },
    {
     "name": "stdout",
     "output_type": "stream",
     "text": [
      "best L1:  0.10711649805307388\n",
      "best L1 epoch:  191\n",
      "best SSIM: 0.9667351245880127\n",
      "best SSIM epoch:  198\n"
     ]
    },
    {
     "name": "stderr",
     "output_type": "stream",
     "text": [
      "110it [39:02, 22.00s/it]"
     ]
    },
    {
     "name": "stdout",
     "output_type": "stream",
     "text": [
      "best L1:  0.11877184361219406\n",
      "best L1 epoch:  93\n",
      "best SSIM: 0.9669547080993652\n",
      "best SSIM epoch:  119\n"
     ]
    },
    {
     "name": "stderr",
     "output_type": "stream",
     "text": [
      "111it [39:23, 21.90s/it]"
     ]
    },
    {
     "name": "stdout",
     "output_type": "stream",
     "text": [
      "best L1:  0.13129332661628723\n",
      "best L1 epoch:  103\n",
      "best SSIM: 0.9640429615974426\n",
      "best SSIM epoch:  126\n"
     ]
    },
    {
     "name": "stderr",
     "output_type": "stream",
     "text": [
      "112it [39:45, 21.79s/it]"
     ]
    },
    {
     "name": "stdout",
     "output_type": "stream",
     "text": [
      "best L1:  0.14050717651844025\n",
      "best L1 epoch:  106\n",
      "best SSIM: 0.9674506783485413\n",
      "best SSIM epoch:  133\n"
     ]
    },
    {
     "name": "stderr",
     "output_type": "stream",
     "text": [
      "113it [40:07, 21.76s/it]"
     ]
    },
    {
     "name": "stdout",
     "output_type": "stream",
     "text": [
      "best L1:  0.11872942000627518\n",
      "best L1 epoch:  309\n",
      "best SSIM: 0.9615490436553955\n",
      "best SSIM epoch:  258\n"
     ]
    },
    {
     "name": "stderr",
     "output_type": "stream",
     "text": [
      "114it [40:28, 21.71s/it]"
     ]
    },
    {
     "name": "stdout",
     "output_type": "stream",
     "text": [
      "best L1:  0.10968030244112015\n",
      "best L1 epoch:  45\n",
      "best SSIM: 0.9548155069351196\n",
      "best SSIM epoch:  70\n"
     ]
    },
    {
     "name": "stderr",
     "output_type": "stream",
     "text": [
      "115it [40:50, 21.69s/it]"
     ]
    },
    {
     "name": "stdout",
     "output_type": "stream",
     "text": [
      "best L1:  0.09963539987802505\n",
      "best L1 epoch:  178\n",
      "best SSIM: 0.9520206451416016\n",
      "best SSIM epoch:  158\n"
     ]
    },
    {
     "name": "stderr",
     "output_type": "stream",
     "text": [
      "116it [41:11, 21.64s/it]"
     ]
    },
    {
     "name": "stdout",
     "output_type": "stream",
     "text": [
      "best L1:  0.09705513715744019\n",
      "best L1 epoch:  64\n",
      "best SSIM: 0.9483386278152466\n",
      "best SSIM epoch:  64\n"
     ]
    },
    {
     "name": "stderr",
     "output_type": "stream",
     "text": [
      "117it [41:33, 21.68s/it]"
     ]
    },
    {
     "name": "stdout",
     "output_type": "stream",
     "text": [
      "best L1:  0.11981920152902603\n",
      "best L1 epoch:  161\n",
      "best SSIM: 0.9689605236053467\n",
      "best SSIM epoch:  178\n"
     ]
    },
    {
     "name": "stderr",
     "output_type": "stream",
     "text": [
      "118it [41:55, 21.63s/it]"
     ]
    },
    {
     "name": "stdout",
     "output_type": "stream",
     "text": [
      "best L1:  0.10663866251707077\n",
      "best L1 epoch:  247\n",
      "best SSIM: 0.9676059484481812\n",
      "best SSIM epoch:  247\n"
     ]
    },
    {
     "name": "stderr",
     "output_type": "stream",
     "text": [
      "119it [42:16, 21.59s/it]"
     ]
    },
    {
     "name": "stdout",
     "output_type": "stream",
     "text": [
      "best L1:  0.09897924959659576\n",
      "best L1 epoch:  7\n",
      "best SSIM: 0.96900475025177\n",
      "best SSIM epoch:  77\n"
     ]
    },
    {
     "name": "stderr",
     "output_type": "stream",
     "text": [
      "120it [42:37, 21.53s/it]"
     ]
    },
    {
     "name": "stdout",
     "output_type": "stream",
     "text": [
      "best L1:  0.09994333237409592\n",
      "best L1 epoch:  178\n",
      "best SSIM: 0.9705275297164917\n",
      "best SSIM epoch:  91\n"
     ]
    },
    {
     "name": "stderr",
     "output_type": "stream",
     "text": [
      "121it [42:58, 21.31s/it]"
     ]
    },
    {
     "name": "stdout",
     "output_type": "stream",
     "text": [
      "best L1:  0.10171156376600266\n",
      "best L1 epoch:  323\n",
      "best SSIM: 0.9534580707550049\n",
      "best SSIM epoch:  41\n"
     ]
    },
    {
     "name": "stderr",
     "output_type": "stream",
     "text": [
      "122it [43:19, 21.16s/it]"
     ]
    },
    {
     "name": "stdout",
     "output_type": "stream",
     "text": [
      "best L1:  0.09843195229768753\n",
      "best L1 epoch:  146\n",
      "best SSIM: 0.9634112119674683\n",
      "best SSIM epoch:  124\n"
     ]
    },
    {
     "name": "stderr",
     "output_type": "stream",
     "text": [
      "123it [43:40, 21.04s/it]"
     ]
    },
    {
     "name": "stdout",
     "output_type": "stream",
     "text": [
      "best L1:  0.09271220862865448\n",
      "best L1 epoch:  187\n",
      "best SSIM: 0.9592975378036499\n",
      "best SSIM epoch:  179\n"
     ]
    },
    {
     "name": "stderr",
     "output_type": "stream",
     "text": [
      "124it [44:01, 20.94s/it]"
     ]
    },
    {
     "name": "stdout",
     "output_type": "stream",
     "text": [
      "best L1:  0.0985809788107872\n",
      "best L1 epoch:  166\n",
      "best SSIM: 0.9650010466575623\n",
      "best SSIM epoch:  149\n"
     ]
    },
    {
     "name": "stderr",
     "output_type": "stream",
     "text": [
      "125it [44:22, 21.05s/it]"
     ]
    },
    {
     "name": "stdout",
     "output_type": "stream",
     "text": [
      "best L1:  0.13429933786392212\n",
      "best L1 epoch:  244\n",
      "best SSIM: 0.9547438621520996\n",
      "best SSIM epoch:  66\n"
     ]
    },
    {
     "name": "stderr",
     "output_type": "stream",
     "text": [
      "126it [44:43, 21.13s/it]"
     ]
    },
    {
     "name": "stdout",
     "output_type": "stream",
     "text": [
      "best L1:  0.1298985332250595\n",
      "best L1 epoch:  160\n",
      "best SSIM: 0.954291045665741\n",
      "best SSIM epoch:  131\n"
     ]
    },
    {
     "name": "stderr",
     "output_type": "stream",
     "text": [
      "127it [45:04, 21.17s/it]"
     ]
    },
    {
     "name": "stdout",
     "output_type": "stream",
     "text": [
      "best L1:  0.13317769765853882\n",
      "best L1 epoch:  222\n",
      "best SSIM: 0.9500036835670471\n",
      "best SSIM epoch:  197\n"
     ]
    },
    {
     "name": "stderr",
     "output_type": "stream",
     "text": [
      "128it [45:26, 21.21s/it]"
     ]
    },
    {
     "name": "stdout",
     "output_type": "stream",
     "text": [
      "best L1:  0.14141373336315155\n",
      "best L1 epoch:  133\n",
      "best SSIM: 0.947963297367096\n",
      "best SSIM epoch:  131\n"
     ]
    },
    {
     "name": "stderr",
     "output_type": "stream",
     "text": [
      "129it [45:46, 21.05s/it]"
     ]
    },
    {
     "name": "stdout",
     "output_type": "stream",
     "text": [
      "best L1:  0.10405483841896057\n",
      "best L1 epoch:  204\n",
      "best SSIM: 0.9654828310012817\n",
      "best SSIM epoch:  134\n"
     ]
    },
    {
     "name": "stderr",
     "output_type": "stream",
     "text": [
      "130it [46:07, 20.96s/it]"
     ]
    },
    {
     "name": "stdout",
     "output_type": "stream",
     "text": [
      "best L1:  0.10116065293550491\n",
      "best L1 epoch:  114\n",
      "best SSIM: 0.9672824144363403\n",
      "best SSIM epoch:  132\n"
     ]
    },
    {
     "name": "stderr",
     "output_type": "stream",
     "text": [
      "131it [46:28, 20.90s/it]"
     ]
    },
    {
     "name": "stdout",
     "output_type": "stream",
     "text": [
      "best L1:  0.10055138915777206\n",
      "best L1 epoch:  216\n",
      "best SSIM: 0.964600145816803\n",
      "best SSIM epoch:  191\n"
     ]
    },
    {
     "name": "stderr",
     "output_type": "stream",
     "text": [
      "132it [46:49, 20.85s/it]"
     ]
    },
    {
     "name": "stdout",
     "output_type": "stream",
     "text": [
      "best L1:  0.11268308758735657\n",
      "best L1 epoch:  183\n",
      "best SSIM: 0.9579010009765625\n",
      "best SSIM epoch:  182\n"
     ]
    },
    {
     "name": "stderr",
     "output_type": "stream",
     "text": [
      "133it [47:09, 20.83s/it]"
     ]
    },
    {
     "name": "stdout",
     "output_type": "stream",
     "text": [
      "best L1:  0.0909247100353241\n",
      "best L1 epoch:  233\n",
      "best SSIM: 0.9750495553016663\n",
      "best SSIM epoch:  233\n"
     ]
    },
    {
     "name": "stderr",
     "output_type": "stream",
     "text": [
      "134it [47:30, 20.79s/it]"
     ]
    },
    {
     "name": "stdout",
     "output_type": "stream",
     "text": [
      "best L1:  0.09267310798168182\n",
      "best L1 epoch:  83\n",
      "best SSIM: 0.9699631929397583\n",
      "best SSIM epoch:  97\n"
     ]
    },
    {
     "name": "stderr",
     "output_type": "stream",
     "text": [
      "135it [47:51, 20.78s/it]"
     ]
    },
    {
     "name": "stdout",
     "output_type": "stream",
     "text": [
      "best L1:  0.09302195906639099\n",
      "best L1 epoch:  80\n",
      "best SSIM: 0.9676879644393921\n",
      "best SSIM epoch:  89\n"
     ]
    },
    {
     "name": "stderr",
     "output_type": "stream",
     "text": [
      "136it [48:11, 20.73s/it]"
     ]
    },
    {
     "name": "stdout",
     "output_type": "stream",
     "text": [
      "best L1:  0.09623868763446808\n",
      "best L1 epoch:  81\n",
      "best SSIM: 0.9687315821647644\n",
      "best SSIM epoch:  86\n"
     ]
    },
    {
     "name": "stderr",
     "output_type": "stream",
     "text": [
      "137it [48:33, 20.91s/it]"
     ]
    },
    {
     "name": "stdout",
     "output_type": "stream",
     "text": [
      "best L1:  0.13157249987125397\n",
      "best L1 epoch:  245\n",
      "best SSIM: 0.9546277523040771\n",
      "best SSIM epoch:  35\n"
     ]
    },
    {
     "name": "stderr",
     "output_type": "stream",
     "text": [
      "138it [48:54, 21.02s/it]"
     ]
    },
    {
     "name": "stdout",
     "output_type": "stream",
     "text": [
      "best L1:  0.13874107599258423\n",
      "best L1 epoch:  291\n",
      "best SSIM: 0.9460298418998718\n",
      "best SSIM epoch:  26\n"
     ]
    },
    {
     "name": "stderr",
     "output_type": "stream",
     "text": [
      "139it [49:15, 21.08s/it]"
     ]
    },
    {
     "name": "stdout",
     "output_type": "stream",
     "text": [
      "best L1:  0.14584217965602875\n",
      "best L1 epoch:  25\n",
      "best SSIM: 0.9494488835334778\n",
      "best SSIM epoch:  32\n"
     ]
    },
    {
     "name": "stderr",
     "output_type": "stream",
     "text": [
      "140it [49:37, 21.13s/it]"
     ]
    },
    {
     "name": "stdout",
     "output_type": "stream",
     "text": [
      "best L1:  0.14968793094158173\n",
      "best L1 epoch:  156\n",
      "best SSIM: 0.9468429088592529\n",
      "best SSIM epoch:  121\n"
     ]
    },
    {
     "name": "stderr",
     "output_type": "stream",
     "text": [
      "141it [49:57, 21.00s/it]"
     ]
    },
    {
     "name": "stdout",
     "output_type": "stream",
     "text": [
      "best L1:  0.09917749464511871\n",
      "best L1 epoch:  48\n",
      "best SSIM: 0.9572860598564148\n",
      "best SSIM epoch:  98\n"
     ]
    },
    {
     "name": "stderr",
     "output_type": "stream",
     "text": [
      "142it [50:18, 20.91s/it]"
     ]
    },
    {
     "name": "stdout",
     "output_type": "stream",
     "text": [
      "best L1:  0.09542839974164963\n",
      "best L1 epoch:  43\n",
      "best SSIM: 0.9578693509101868\n",
      "best SSIM epoch:  90\n"
     ]
    },
    {
     "name": "stderr",
     "output_type": "stream",
     "text": [
      "143it [50:39, 20.84s/it]"
     ]
    },
    {
     "name": "stdout",
     "output_type": "stream",
     "text": [
      "best L1:  0.0999874472618103\n",
      "best L1 epoch:  52\n",
      "best SSIM: 0.9560897350311279\n",
      "best SSIM epoch:  52\n"
     ]
    },
    {
     "name": "stderr",
     "output_type": "stream",
     "text": [
      "144it [50:59, 20.80s/it]"
     ]
    },
    {
     "name": "stdout",
     "output_type": "stream",
     "text": [
      "best L1:  0.09994011372327805\n",
      "best L1 epoch:  104\n",
      "best SSIM: 0.9613922238349915\n",
      "best SSIM epoch:  114\n"
     ]
    },
    {
     "name": "stderr",
     "output_type": "stream",
     "text": [
      "145it [51:20, 20.77s/it]"
     ]
    },
    {
     "name": "stdout",
     "output_type": "stream",
     "text": [
      "best L1:  0.10159341245889664\n",
      "best L1 epoch:  111\n",
      "best SSIM: 0.9624508619308472\n",
      "best SSIM epoch:  111\n"
     ]
    },
    {
     "name": "stderr",
     "output_type": "stream",
     "text": [
      "146it [51:41, 20.73s/it]"
     ]
    },
    {
     "name": "stdout",
     "output_type": "stream",
     "text": [
      "best L1:  0.10406889766454697\n",
      "best L1 epoch:  67\n",
      "best SSIM: 0.9621020555496216\n",
      "best SSIM epoch:  85\n"
     ]
    },
    {
     "name": "stderr",
     "output_type": "stream",
     "text": [
      "147it [52:01, 20.73s/it]"
     ]
    },
    {
     "name": "stdout",
     "output_type": "stream",
     "text": [
      "best L1:  0.10628491640090942\n",
      "best L1 epoch:  55\n",
      "best SSIM: 0.9591548442840576\n",
      "best SSIM epoch:  78\n"
     ]
    },
    {
     "name": "stderr",
     "output_type": "stream",
     "text": [
      "148it [52:22, 20.73s/it]"
     ]
    },
    {
     "name": "stdout",
     "output_type": "stream",
     "text": [
      "best L1:  0.10503298789262772\n",
      "best L1 epoch:  135\n",
      "best SSIM: 0.958089292049408\n",
      "best SSIM epoch:  136\n"
     ]
    },
    {
     "name": "stderr",
     "output_type": "stream",
     "text": [
      "149it [52:43, 20.70s/it]"
     ]
    },
    {
     "name": "stdout",
     "output_type": "stream",
     "text": [
      "best L1:  0.10786449164152145\n",
      "best L1 epoch:  116\n",
      "best SSIM: 0.9625262022018433\n",
      "best SSIM epoch:  116\n"
     ]
    },
    {
     "name": "stderr",
     "output_type": "stream",
     "text": [
      "150it [53:03, 20.69s/it]"
     ]
    },
    {
     "name": "stdout",
     "output_type": "stream",
     "text": [
      "best L1:  0.10072670131921768\n",
      "best L1 epoch:  121\n",
      "best SSIM: 0.964607834815979\n",
      "best SSIM epoch:  92\n"
     ]
    },
    {
     "name": "stderr",
     "output_type": "stream",
     "text": [
      "151it [53:24, 20.69s/it]"
     ]
    },
    {
     "name": "stdout",
     "output_type": "stream",
     "text": [
      "best L1:  0.0979168489575386\n",
      "best L1 epoch:  176\n",
      "best SSIM: 0.9674876928329468\n",
      "best SSIM epoch:  142\n"
     ]
    },
    {
     "name": "stderr",
     "output_type": "stream",
     "text": [
      "152it [53:45, 20.73s/it]"
     ]
    },
    {
     "name": "stdout",
     "output_type": "stream",
     "text": [
      "best L1:  0.101716548204422\n",
      "best L1 epoch:  319\n",
      "best SSIM: 0.9660614132881165\n",
      "best SSIM epoch:  76\n"
     ]
    },
    {
     "name": "stderr",
     "output_type": "stream",
     "text": [
      "153it [54:08, 21.31s/it]"
     ]
    },
    {
     "name": "stdout",
     "output_type": "stream",
     "text": [
      "best L1:  0.1574542075395584\n",
      "best L1 epoch:  397\n",
      "best SSIM: 0.9280297756195068\n",
      "best SSIM epoch:  22\n"
     ]
    },
    {
     "name": "stderr",
     "output_type": "stream",
     "text": [
      "154it [54:30, 21.62s/it]"
     ]
    },
    {
     "name": "stdout",
     "output_type": "stream",
     "text": [
      "best L1:  0.15178526937961578\n",
      "best L1 epoch:  213\n",
      "best SSIM: 0.9362044334411621\n",
      "best SSIM epoch:  36\n"
     ]
    },
    {
     "name": "stderr",
     "output_type": "stream",
     "text": [
      "155it [54:52, 21.81s/it]"
     ]
    },
    {
     "name": "stdout",
     "output_type": "stream",
     "text": [
      "best L1:  0.14916449785232544\n",
      "best L1 epoch:  216\n",
      "best SSIM: 0.9288234114646912\n",
      "best SSIM epoch:  16\n"
     ]
    },
    {
     "name": "stderr",
     "output_type": "stream",
     "text": [
      "156it [55:14, 21.80s/it]"
     ]
    },
    {
     "name": "stdout",
     "output_type": "stream",
     "text": [
      "best L1:  0.1466924250125885\n",
      "best L1 epoch:  287\n",
      "best SSIM: 0.9336181282997131\n",
      "best SSIM epoch:  152\n"
     ]
    },
    {
     "name": "stderr",
     "output_type": "stream",
     "text": [
      "157it [55:35, 21.49s/it]"
     ]
    },
    {
     "name": "stdout",
     "output_type": "stream",
     "text": [
      "best L1:  0.10084877908229828\n",
      "best L1 epoch:  195\n",
      "best SSIM: 0.9586781859397888\n",
      "best SSIM epoch:  160\n"
     ]
    },
    {
     "name": "stderr",
     "output_type": "stream",
     "text": [
      "158it [55:55, 21.25s/it]"
     ]
    },
    {
     "name": "stdout",
     "output_type": "stream",
     "text": [
      "best L1:  0.1002238541841507\n",
      "best L1 epoch:  164\n",
      "best SSIM: 0.9598807096481323\n",
      "best SSIM epoch:  91\n"
     ]
    },
    {
     "name": "stderr",
     "output_type": "stream",
     "text": [
      "159it [56:16, 21.10s/it]"
     ]
    },
    {
     "name": "stdout",
     "output_type": "stream",
     "text": [
      "best L1:  0.09586905688047409\n",
      "best L1 epoch:  191\n",
      "best SSIM: 0.9644057750701904\n",
      "best SSIM epoch:  111\n"
     ]
    },
    {
     "name": "stderr",
     "output_type": "stream",
     "text": [
      "160it [56:37, 20.97s/it]"
     ]
    },
    {
     "name": "stdout",
     "output_type": "stream",
     "text": [
      "best L1:  0.09970203787088394\n",
      "best L1 epoch:  243\n",
      "best SSIM: 0.9599124193191528\n",
      "best SSIM epoch:  80\n"
     ]
    },
    {
     "name": "stderr",
     "output_type": "stream",
     "text": [
      "161it [56:58, 21.07s/it]"
     ]
    },
    {
     "name": "stdout",
     "output_type": "stream",
     "text": [
      "best L1:  0.13266059756278992\n",
      "best L1 epoch:  366\n",
      "best SSIM: 0.9596137404441833\n",
      "best SSIM epoch:  336\n"
     ]
    },
    {
     "name": "stderr",
     "output_type": "stream",
     "text": [
      "162it [57:19, 21.15s/it]"
     ]
    },
    {
     "name": "stdout",
     "output_type": "stream",
     "text": [
      "best L1:  0.13309727609157562\n",
      "best L1 epoch:  448\n",
      "best SSIM: 0.9546129107475281\n",
      "best SSIM epoch:  377\n"
     ]
    },
    {
     "name": "stderr",
     "output_type": "stream",
     "text": [
      "163it [57:41, 21.17s/it]"
     ]
    },
    {
     "name": "stdout",
     "output_type": "stream",
     "text": [
      "best L1:  0.13540767133235931\n",
      "best L1 epoch:  321\n",
      "best SSIM: 0.9520694613456726\n",
      "best SSIM epoch:  307\n"
     ]
    },
    {
     "name": "stderr",
     "output_type": "stream",
     "text": [
      "164it [58:02, 21.20s/it]"
     ]
    },
    {
     "name": "stdout",
     "output_type": "stream",
     "text": [
      "best L1:  0.13757967948913574\n",
      "best L1 epoch:  290\n",
      "best SSIM: 0.9503526091575623\n",
      "best SSIM epoch:  212\n"
     ]
    },
    {
     "name": "stderr",
     "output_type": "stream",
     "text": [
      "165it [58:23, 21.25s/it]"
     ]
    },
    {
     "name": "stdout",
     "output_type": "stream",
     "text": [
      "best L1:  0.0988982617855072\n",
      "best L1 epoch:  116\n",
      "best SSIM: 0.9656005501747131\n",
      "best SSIM epoch:  120\n"
     ]
    },
    {
     "name": "stderr",
     "output_type": "stream",
     "text": [
      "166it [58:45, 21.24s/it]"
     ]
    },
    {
     "name": "stdout",
     "output_type": "stream",
     "text": [
      "best L1:  0.09077949821949005\n",
      "best L1 epoch:  82\n",
      "best SSIM: 0.9690434336662292\n",
      "best SSIM epoch:  97\n"
     ]
    },
    {
     "name": "stderr",
     "output_type": "stream",
     "text": [
      "167it [59:06, 21.24s/it]"
     ]
    },
    {
     "name": "stdout",
     "output_type": "stream",
     "text": [
      "best L1:  0.08767146617174149\n",
      "best L1 epoch:  58\n",
      "best SSIM: 0.9714832305908203\n",
      "best SSIM epoch:  86\n"
     ]
    },
    {
     "name": "stderr",
     "output_type": "stream",
     "text": [
      "168it [59:27, 21.25s/it]"
     ]
    },
    {
     "name": "stdout",
     "output_type": "stream",
     "text": [
      "best L1:  0.09071966260671616\n",
      "best L1 epoch:  38\n",
      "best SSIM: 0.9665090441703796\n",
      "best SSIM epoch:  40\n"
     ]
    },
    {
     "name": "stderr",
     "output_type": "stream",
     "text": [
      "169it [59:48, 21.27s/it]"
     ]
    },
    {
     "name": "stdout",
     "output_type": "stream",
     "text": [
      "best L1:  0.09314732998609543\n",
      "best L1 epoch:  274\n",
      "best SSIM: 0.9727272391319275\n",
      "best SSIM epoch:  183\n"
     ]
    },
    {
     "name": "stderr",
     "output_type": "stream",
     "text": [
      "170it [1:00:10, 21.28s/it]"
     ]
    },
    {
     "name": "stdout",
     "output_type": "stream",
     "text": [
      "best L1:  0.09251260757446289\n",
      "best L1 epoch:  120\n",
      "best SSIM: 0.9680770039558411\n",
      "best SSIM epoch:  111\n"
     ]
    },
    {
     "name": "stderr",
     "output_type": "stream",
     "text": [
      "171it [1:00:31, 21.28s/it]"
     ]
    },
    {
     "name": "stdout",
     "output_type": "stream",
     "text": [
      "best L1:  0.09081336855888367\n",
      "best L1 epoch:  184\n",
      "best SSIM: 0.9701508283615112\n",
      "best SSIM epoch:  174\n"
     ]
    },
    {
     "name": "stderr",
     "output_type": "stream",
     "text": [
      "172it [1:00:52, 21.27s/it]"
     ]
    },
    {
     "name": "stdout",
     "output_type": "stream",
     "text": [
      "best L1:  0.09717684984207153\n",
      "best L1 epoch:  52\n",
      "best SSIM: 0.9617750644683838\n",
      "best SSIM epoch:  77\n"
     ]
    },
    {
     "name": "stderr",
     "output_type": "stream",
     "text": [
      "173it [1:01:13, 21.12s/it]"
     ]
    },
    {
     "name": "stdout",
     "output_type": "stream",
     "text": [
      "best L1:  0.15135745704174042\n",
      "best L1 epoch:  224\n",
      "best SSIM: 0.938711941242218\n",
      "best SSIM epoch:  91\n"
     ]
    },
    {
     "name": "stderr",
     "output_type": "stream",
     "text": [
      "174it [1:01:34, 21.00s/it]"
     ]
    },
    {
     "name": "stdout",
     "output_type": "stream",
     "text": [
      "best L1:  0.14127850532531738\n",
      "best L1 epoch:  103\n",
      "best SSIM: 0.9428026080131531\n",
      "best SSIM epoch:  89\n"
     ]
    },
    {
     "name": "stderr",
     "output_type": "stream",
     "text": [
      "175it [1:01:54, 20.92s/it]"
     ]
    },
    {
     "name": "stdout",
     "output_type": "stream",
     "text": [
      "best L1:  0.13549000024795532\n",
      "best L1 epoch:  135\n",
      "best SSIM: 0.9446293711662292\n",
      "best SSIM epoch:  62\n"
     ]
    },
    {
     "name": "stderr",
     "output_type": "stream",
     "text": [
      "176it [1:02:15, 20.84s/it]"
     ]
    },
    {
     "name": "stdout",
     "output_type": "stream",
     "text": [
      "best L1:  0.13950994610786438\n",
      "best L1 epoch:  118\n",
      "best SSIM: 0.9477407932281494\n",
      "best SSIM epoch:  55\n"
     ]
    },
    {
     "name": "stderr",
     "output_type": "stream",
     "text": [
      "177it [1:02:36, 20.80s/it]"
     ]
    },
    {
     "name": "stdout",
     "output_type": "stream",
     "text": [
      "best L1:  0.09320531785488129\n",
      "best L1 epoch:  122\n",
      "best SSIM: 0.9617484211921692\n",
      "best SSIM epoch:  185\n"
     ]
    },
    {
     "name": "stderr",
     "output_type": "stream",
     "text": [
      "178it [1:02:57, 20.77s/it]"
     ]
    },
    {
     "name": "stdout",
     "output_type": "stream",
     "text": [
      "best L1:  0.09525284171104431\n",
      "best L1 epoch:  135\n",
      "best SSIM: 0.9659299254417419\n",
      "best SSIM epoch:  181\n"
     ]
    },
    {
     "name": "stderr",
     "output_type": "stream",
     "text": [
      "179it [1:03:17, 20.73s/it]"
     ]
    },
    {
     "name": "stdout",
     "output_type": "stream",
     "text": [
      "best L1:  0.09552478790283203\n",
      "best L1 epoch:  150\n",
      "best SSIM: 0.9650965332984924\n",
      "best SSIM epoch:  156\n"
     ]
    },
    {
     "name": "stderr",
     "output_type": "stream",
     "text": [
      "180it [1:03:38, 20.73s/it]"
     ]
    },
    {
     "name": "stdout",
     "output_type": "stream",
     "text": [
      "best L1:  0.10145291686058044\n",
      "best L1 epoch:  9\n",
      "best SSIM: 0.960629940032959\n",
      "best SSIM epoch:  44\n"
     ]
    },
    {
     "name": "stderr",
     "output_type": "stream",
     "text": [
      "181it [1:03:59, 20.90s/it]"
     ]
    },
    {
     "name": "stdout",
     "output_type": "stream",
     "text": [
      "best L1:  0.1283014416694641\n",
      "best L1 epoch:  296\n",
      "best SSIM: 0.9681094884872437\n",
      "best SSIM epoch:  206\n"
     ]
    },
    {
     "name": "stderr",
     "output_type": "stream",
     "text": [
      "182it [1:04:20, 21.00s/it]"
     ]
    },
    {
     "name": "stdout",
     "output_type": "stream",
     "text": [
      "best L1:  0.12700140476226807\n",
      "best L1 epoch:  442\n",
      "best SSIM: 0.9697247743606567\n",
      "best SSIM epoch:  366\n"
     ]
    },
    {
     "name": "stderr",
     "output_type": "stream",
     "text": [
      "183it [1:04:42, 21.07s/it]"
     ]
    },
    {
     "name": "stdout",
     "output_type": "stream",
     "text": [
      "best L1:  0.13632968068122864\n",
      "best L1 epoch:  151\n",
      "best SSIM: 0.9607146382331848\n",
      "best SSIM epoch:  97\n"
     ]
    },
    {
     "name": "stderr",
     "output_type": "stream",
     "text": [
      "184it [1:05:03, 21.12s/it]"
     ]
    },
    {
     "name": "stdout",
     "output_type": "stream",
     "text": [
      "best L1:  0.13892656564712524\n",
      "best L1 epoch:  216\n",
      "best SSIM: 0.9650582075119019\n",
      "best SSIM epoch:  160\n"
     ]
    },
    {
     "name": "stderr",
     "output_type": "stream",
     "text": [
      "185it [1:05:24, 21.08s/it]"
     ]
    },
    {
     "name": "stdout",
     "output_type": "stream",
     "text": [
      "best L1:  0.10018721967935562\n",
      "best L1 epoch:  87\n",
      "best SSIM: 0.9537906050682068\n",
      "best SSIM epoch:  87\n"
     ]
    },
    {
     "name": "stderr",
     "output_type": "stream",
     "text": [
      "186it [1:05:45, 21.05s/it]"
     ]
    },
    {
     "name": "stdout",
     "output_type": "stream",
     "text": [
      "best L1:  0.09081508219242096\n",
      "best L1 epoch:  51\n",
      "best SSIM: 0.960008978843689\n",
      "best SSIM epoch:  78\n"
     ]
    },
    {
     "name": "stderr",
     "output_type": "stream",
     "text": [
      "187it [1:06:06, 21.01s/it]"
     ]
    },
    {
     "name": "stdout",
     "output_type": "stream",
     "text": [
      "best L1:  0.08820958435535431\n",
      "best L1 epoch:  72\n",
      "best SSIM: 0.962212085723877\n",
      "best SSIM epoch:  106\n"
     ]
    },
    {
     "name": "stderr",
     "output_type": "stream",
     "text": [
      "188it [1:06:27, 21.04s/it]"
     ]
    },
    {
     "name": "stdout",
     "output_type": "stream",
     "text": [
      "best L1:  0.09049270302057266\n",
      "best L1 epoch:  122\n",
      "best SSIM: 0.9661126136779785\n",
      "best SSIM epoch:  139\n"
     ]
    },
    {
     "name": "stderr",
     "output_type": "stream",
     "text": [
      "189it [1:06:47, 20.65s/it]"
     ]
    },
    {
     "name": "stdout",
     "output_type": "stream",
     "text": [
      "best L1:  0.11748605966567993\n",
      "best L1 epoch:  150\n",
      "best SSIM: 0.9570043087005615\n",
      "best SSIM epoch:  137\n"
     ]
    },
    {
     "name": "stderr",
     "output_type": "stream",
     "text": [
      "190it [1:07:06, 20.38s/it]"
     ]
    },
    {
     "name": "stdout",
     "output_type": "stream",
     "text": [
      "best L1:  0.11457479000091553\n",
      "best L1 epoch:  118\n",
      "best SSIM: 0.951592743396759\n",
      "best SSIM epoch:  118\n"
     ]
    },
    {
     "name": "stderr",
     "output_type": "stream",
     "text": [
      "191it [1:07:26, 20.19s/it]"
     ]
    },
    {
     "name": "stdout",
     "output_type": "stream",
     "text": [
      "best L1:  0.11116596311330795\n",
      "best L1 epoch:  176\n",
      "best SSIM: 0.9515858888626099\n",
      "best SSIM epoch:  156\n"
     ]
    },
    {
     "name": "stderr",
     "output_type": "stream",
     "text": [
      "192it [1:07:46, 20.09s/it]"
     ]
    },
    {
     "name": "stdout",
     "output_type": "stream",
     "text": [
      "best L1:  0.11720127612352371\n",
      "best L1 epoch:  34\n",
      "best SSIM: 0.9466712474822998\n",
      "best SSIM epoch:  35\n"
     ]
    },
    {
     "name": "stderr",
     "output_type": "stream",
     "text": [
      "193it [1:08:08, 20.53s/it]"
     ]
    },
    {
     "name": "stdout",
     "output_type": "stream",
     "text": [
      "best L1:  0.12578034400939941\n",
      "best L1 epoch:  429\n",
      "best SSIM: 0.963962197303772\n",
      "best SSIM epoch:  102\n"
     ]
    },
    {
     "name": "stderr",
     "output_type": "stream",
     "text": [
      "194it [1:08:29, 20.91s/it]"
     ]
    },
    {
     "name": "stdout",
     "output_type": "stream",
     "text": [
      "best L1:  0.12480314075946808\n",
      "best L1 epoch:  204\n",
      "best SSIM: 0.9661834836006165\n",
      "best SSIM epoch:  177\n"
     ]
    },
    {
     "name": "stderr",
     "output_type": "stream",
     "text": [
      "195it [1:08:51, 21.11s/it]"
     ]
    },
    {
     "name": "stdout",
     "output_type": "stream",
     "text": [
      "best L1:  0.13839200139045715\n",
      "best L1 epoch:  202\n",
      "best SSIM: 0.9597880840301514\n",
      "best SSIM epoch:  174\n"
     ]
    },
    {
     "name": "stderr",
     "output_type": "stream",
     "text": [
      "196it [1:09:12, 21.23s/it]"
     ]
    },
    {
     "name": "stdout",
     "output_type": "stream",
     "text": [
      "best L1:  0.1513838917016983\n",
      "best L1 epoch:  268\n",
      "best SSIM: 0.9598381519317627\n",
      "best SSIM epoch:  212\n"
     ]
    },
    {
     "name": "stderr",
     "output_type": "stream",
     "text": [
      "197it [1:09:34, 21.19s/it]"
     ]
    },
    {
     "name": "stdout",
     "output_type": "stream",
     "text": [
      "best L1:  0.11576884984970093\n",
      "best L1 epoch:  288\n",
      "best SSIM: 0.9622659683227539\n",
      "best SSIM epoch:  216\n"
     ]
    },
    {
     "name": "stderr",
     "output_type": "stream",
     "text": [
      "198it [1:09:55, 21.16s/it]"
     ]
    },
    {
     "name": "stdout",
     "output_type": "stream",
     "text": [
      "best L1:  0.11347907036542892\n",
      "best L1 epoch:  204\n",
      "best SSIM: 0.9617080688476562\n",
      "best SSIM epoch:  175\n"
     ]
    },
    {
     "name": "stderr",
     "output_type": "stream",
     "text": [
      "199it [1:10:17, 21.40s/it]"
     ]
    },
    {
     "name": "stdout",
     "output_type": "stream",
     "text": [
      "best L1:  0.11716939508914948\n",
      "best L1 epoch:  123\n",
      "best SSIM: 0.9584152698516846\n",
      "best SSIM epoch:  50\n"
     ]
    },
    {
     "name": "stderr",
     "output_type": "stream",
     "text": [
      "200it [1:10:39, 21.20s/it]"
     ]
    },
    {
     "name": "stdout",
     "output_type": "stream",
     "text": [
      "best L1:  0.11932849884033203\n",
      "best L1 epoch:  262\n",
      "best SSIM: 0.9563634991645813\n",
      "best SSIM epoch:  29\n",
      "Testing average L1 loss:  0.11496226418763399\n",
      "Testing average L1 loss epoch:  176.82\n",
      "Testing average SSIM loss:  0.957665029168129\n",
      "Testing average SSIM loss epoch:  124.81\n"
     ]
    },
    {
     "name": "stderr",
     "output_type": "stream",
     "text": [
      "\n"
     ]
    }
   ],
   "source": [
    "checkpoint_path_self = '/cheng/metaMRI/metaMRI/save/E11.3_joint(l1_CA-1e-3-4_Q)_T300_120epoch/E11.3_joint(l1_CA-1e-3-4_Q)_T300_120epoch_E111_best.pth'\n",
    "# '/cheng/metaMRI/metaMRI/save/E11.2_joint(l1_CA-1e-3-4_P)_T300_120epoch/E11.2_joint(l1_CA-1e-3-4_P)_T300_120epoch_E75_best.pth'\n",
    "# '/cheng/metaMRI/metaMRI/save/E11.3_joint(l1_CA-1e-3-4_P)_T300_120epoch/E11.3_joint(l1_CA-1e-3-4_P)_T300_120epoch_E66_best.pth'\n",
    "\n",
    "model_self = Unet(in_chans=2, out_chans=2, chans=32, num_pool_layers=4, drop_prob=0.0)\n",
    "model_self.load_state_dict(torch.load(checkpoint_path_self))\n",
    "model_self = model_self.to(device)\n",
    "\n",
    "best_loss_l1_history=[]\n",
    "best_loss_l1_index_history=[]\n",
    "best_loss_ssim_history=[]\n",
    "best_loss_ssim_index_history=[]\n",
    "\n",
    "for iter, batch in tqdm(enumerate(test_dataloader)): \n",
    "    input_image, target_image, ground_truth_image, mean, std, fname, slice_num, input_kspace, input_mask, target_kspace, target_mask, sens_maps, binary_background_mask = batch\n",
    "    input_image = input_image.to(device)\n",
    "    target_image = target_image.to(device)\n",
    "    input_kspace = input_kspace.to(device)\n",
    "    input_mask = input_mask.to(device)\n",
    "    sens_maps = sens_maps.to(device)\n",
    "    std = std.to(device)\n",
    "    mean = mean.to(device)\n",
    "    ground_truth_image = ground_truth_image.to(device)\n",
    "    binary_background_mask = binary_background_mask.to(device)\n",
    "\n",
    "    # model re-init\n",
    "    model_self.load_state_dict(torch.load(checkpoint_path_self))\n",
    "\n",
    "    # each data point TTT\n",
    "    loss_l1_history, loss_ssim_history, self_loss_history = TTT(model_self, TTT_epoch=500, adapt_lr=0.0001)\n",
    "    best_loss_l1 = min(loss_l1_history)\n",
    "    print('best L1: ', best_loss_l1)\n",
    "    best_loss_l1_epoch = np.argmin(loss_l1_history)\n",
    "    print('best L1 epoch: ', best_loss_l1_epoch)\n",
    "    best_loss_ssim = max(loss_ssim_history)\n",
    "    print('best SSIM:', best_loss_ssim)\n",
    "    best_loss_ssim_epoch = np.argmax(loss_ssim_history)\n",
    "    print('best SSIM epoch: ', best_loss_ssim_epoch)\n",
    "\n",
    "    best_loss_l1_index_history.append(best_loss_l1_epoch)\n",
    "    best_loss_ssim_index_history.append(best_loss_ssim_epoch)\n",
    "    best_loss_l1_history.append(best_loss_l1)\n",
    "    best_loss_ssim_history.append(best_loss_ssim)\n",
    "\n",
    "\n",
    "print(\"Testing average L1 loss: \", sum(best_loss_l1_history) / len(best_loss_l1_history))\n",
    "print(\"Testing average L1 loss epoch: \", sum(best_loss_l1_index_history) / len(best_loss_l1_index_history))\n",
    "print(\"Testing average SSIM loss: \", sum(best_loss_ssim_history) / len(best_loss_ssim_history))\n",
    "print(\"Testing average SSIM loss epoch: \", sum(best_loss_ssim_index_history) / len(best_loss_ssim_index_history))"
   ]
  },
  {
   "cell_type": "markdown",
   "metadata": {},
   "source": [
    "Meta"
   ]
  },
  {
   "cell_type": "code",
   "execution_count": 4,
   "metadata": {},
   "outputs": [
    {
     "name": "stderr",
     "output_type": "stream",
     "text": [
      "1it [00:24, 24.15s/it]"
     ]
    },
    {
     "name": "stdout",
     "output_type": "stream",
     "text": [
      "best L1:  0.09542027115821838\n",
      "best L1 epoch:  271\n",
      "best SSIM: 0.9753828048706055\n",
      "best SSIM epoch:  240\n"
     ]
    },
    {
     "name": "stderr",
     "output_type": "stream",
     "text": [
      "2it [00:44, 21.90s/it]"
     ]
    },
    {
     "name": "stdout",
     "output_type": "stream",
     "text": [
      "best L1:  0.08968939632177353\n",
      "best L1 epoch:  293\n",
      "best SSIM: 0.9772889614105225\n",
      "best SSIM epoch:  283\n"
     ]
    },
    {
     "name": "stderr",
     "output_type": "stream",
     "text": [
      "3it [01:04, 21.25s/it]"
     ]
    },
    {
     "name": "stdout",
     "output_type": "stream",
     "text": [
      "best L1:  0.09123352915048599\n",
      "best L1 epoch:  278\n",
      "best SSIM: 0.9707908034324646\n",
      "best SSIM epoch:  134\n"
     ]
    },
    {
     "name": "stderr",
     "output_type": "stream",
     "text": [
      "4it [01:25, 21.12s/it]"
     ]
    },
    {
     "name": "stdout",
     "output_type": "stream",
     "text": [
      "best L1:  0.0919998288154602\n",
      "best L1 epoch:  194\n",
      "best SSIM: 0.971930205821991\n",
      "best SSIM epoch:  122\n"
     ]
    },
    {
     "name": "stderr",
     "output_type": "stream",
     "text": [
      "5it [01:47, 21.18s/it]"
     ]
    },
    {
     "name": "stdout",
     "output_type": "stream",
     "text": [
      "best L1:  0.0939367413520813\n",
      "best L1 epoch:  150\n",
      "best SSIM: 0.9669789671897888\n",
      "best SSIM epoch:  135\n"
     ]
    },
    {
     "name": "stderr",
     "output_type": "stream",
     "text": [
      "6it [02:08, 21.13s/it]"
     ]
    },
    {
     "name": "stdout",
     "output_type": "stream",
     "text": [
      "best L1:  0.08902391046285629\n",
      "best L1 epoch:  257\n",
      "best SSIM: 0.9670738577842712\n",
      "best SSIM epoch:  237\n"
     ]
    },
    {
     "name": "stderr",
     "output_type": "stream",
     "text": [
      "7it [02:29, 21.14s/it]"
     ]
    },
    {
     "name": "stdout",
     "output_type": "stream",
     "text": [
      "best L1:  0.0928732380270958\n",
      "best L1 epoch:  272\n",
      "best SSIM: 0.9674776792526245\n",
      "best SSIM epoch:  204\n"
     ]
    },
    {
     "name": "stderr",
     "output_type": "stream",
     "text": [
      "8it [02:50, 21.20s/it]"
     ]
    },
    {
     "name": "stdout",
     "output_type": "stream",
     "text": [
      "best L1:  0.10012566298246384\n",
      "best L1 epoch:  334\n",
      "best SSIM: 0.9681989550590515\n",
      "best SSIM epoch:  213\n"
     ]
    },
    {
     "name": "stderr",
     "output_type": "stream",
     "text": [
      "9it [03:11, 21.22s/it]"
     ]
    },
    {
     "name": "stdout",
     "output_type": "stream",
     "text": [
      "best L1:  0.10478296130895615\n",
      "best L1 epoch:  234\n",
      "best SSIM: 0.9694415330886841\n",
      "best SSIM epoch:  177\n"
     ]
    },
    {
     "name": "stderr",
     "output_type": "stream",
     "text": [
      "10it [03:33, 21.22s/it]"
     ]
    },
    {
     "name": "stdout",
     "output_type": "stream",
     "text": [
      "best L1:  0.10244802385568619\n",
      "best L1 epoch:  200\n",
      "best SSIM: 0.9677351117134094\n",
      "best SSIM epoch:  187\n"
     ]
    },
    {
     "name": "stderr",
     "output_type": "stream",
     "text": [
      "11it [03:54, 21.23s/it]"
     ]
    },
    {
     "name": "stdout",
     "output_type": "stream",
     "text": [
      "best L1:  0.10398036241531372\n",
      "best L1 epoch:  84\n",
      "best SSIM: 0.9665967226028442\n",
      "best SSIM epoch:  141\n"
     ]
    },
    {
     "name": "stderr",
     "output_type": "stream",
     "text": [
      "12it [04:15, 21.23s/it]"
     ]
    },
    {
     "name": "stdout",
     "output_type": "stream",
     "text": [
      "best L1:  0.10434482991695404\n",
      "best L1 epoch:  177\n",
      "best SSIM: 0.9709377884864807\n",
      "best SSIM epoch:  177\n"
     ]
    },
    {
     "name": "stderr",
     "output_type": "stream",
     "text": [
      "13it [04:36, 21.24s/it]"
     ]
    },
    {
     "name": "stdout",
     "output_type": "stream",
     "text": [
      "best L1:  0.1544817090034485\n",
      "best L1 epoch:  298\n",
      "best SSIM: 0.9435643553733826\n",
      "best SSIM epoch:  232\n"
     ]
    },
    {
     "name": "stderr",
     "output_type": "stream",
     "text": [
      "14it [04:58, 21.24s/it]"
     ]
    },
    {
     "name": "stdout",
     "output_type": "stream",
     "text": [
      "best L1:  0.15045711398124695\n",
      "best L1 epoch:  198\n",
      "best SSIM: 0.9511724710464478\n",
      "best SSIM epoch:  165\n"
     ]
    },
    {
     "name": "stderr",
     "output_type": "stream",
     "text": [
      "15it [05:19, 21.25s/it]"
     ]
    },
    {
     "name": "stdout",
     "output_type": "stream",
     "text": [
      "best L1:  0.14411309361457825\n",
      "best L1 epoch:  201\n",
      "best SSIM: 0.949988067150116\n",
      "best SSIM epoch:  184\n"
     ]
    },
    {
     "name": "stderr",
     "output_type": "stream",
     "text": [
      "16it [05:40, 21.22s/it]"
     ]
    },
    {
     "name": "stdout",
     "output_type": "stream",
     "text": [
      "best L1:  0.13852562010288239\n",
      "best L1 epoch:  185\n",
      "best SSIM: 0.951339840888977\n",
      "best SSIM epoch:  157\n"
     ]
    },
    {
     "name": "stderr",
     "output_type": "stream",
     "text": [
      "17it [06:02, 21.57s/it]"
     ]
    },
    {
     "name": "stdout",
     "output_type": "stream",
     "text": [
      "best L1:  0.1052439957857132\n",
      "best L1 epoch:  179\n",
      "best SSIM: 0.9623805284500122\n",
      "best SSIM epoch:  185\n"
     ]
    },
    {
     "name": "stderr",
     "output_type": "stream",
     "text": [
      "18it [06:24, 21.61s/it]"
     ]
    },
    {
     "name": "stdout",
     "output_type": "stream",
     "text": [
      "best L1:  0.10731004923582077\n",
      "best L1 epoch:  122\n",
      "best SSIM: 0.9624531865119934\n",
      "best SSIM epoch:  110\n"
     ]
    },
    {
     "name": "stderr",
     "output_type": "stream",
     "text": [
      "19it [06:46, 21.63s/it]"
     ]
    },
    {
     "name": "stdout",
     "output_type": "stream",
     "text": [
      "best L1:  0.11334026604890823\n",
      "best L1 epoch:  108\n",
      "best SSIM: 0.9633277058601379\n",
      "best SSIM epoch:  107\n"
     ]
    },
    {
     "name": "stderr",
     "output_type": "stream",
     "text": [
      "20it [07:07, 21.61s/it]"
     ]
    },
    {
     "name": "stdout",
     "output_type": "stream",
     "text": [
      "best L1:  0.11768661439418793\n",
      "best L1 epoch:  205\n",
      "best SSIM: 0.9628327488899231\n",
      "best SSIM epoch:  142\n"
     ]
    },
    {
     "name": "stderr",
     "output_type": "stream",
     "text": [
      "21it [07:28, 21.44s/it]"
     ]
    },
    {
     "name": "stdout",
     "output_type": "stream",
     "text": [
      "best L1:  0.14416225254535675\n",
      "best L1 epoch:  394\n",
      "best SSIM: 0.9511070251464844\n",
      "best SSIM epoch:  153\n"
     ]
    },
    {
     "name": "stderr",
     "output_type": "stream",
     "text": [
      "22it [07:49, 21.30s/it]"
     ]
    },
    {
     "name": "stdout",
     "output_type": "stream",
     "text": [
      "best L1:  0.13577057421207428\n",
      "best L1 epoch:  377\n",
      "best SSIM: 0.9558674693107605\n",
      "best SSIM epoch:  275\n"
     ]
    },
    {
     "name": "stderr",
     "output_type": "stream",
     "text": [
      "23it [08:10, 21.21s/it]"
     ]
    },
    {
     "name": "stdout",
     "output_type": "stream",
     "text": [
      "best L1:  0.13556025922298431\n",
      "best L1 epoch:  341\n",
      "best SSIM: 0.9529127478599548\n",
      "best SSIM epoch:  319\n"
     ]
    },
    {
     "name": "stderr",
     "output_type": "stream",
     "text": [
      "24it [08:32, 21.42s/it]"
     ]
    },
    {
     "name": "stdout",
     "output_type": "stream",
     "text": [
      "best L1:  0.13532103598117828\n",
      "best L1 epoch:  316\n",
      "best SSIM: 0.959423840045929\n",
      "best SSIM epoch:  252\n"
     ]
    },
    {
     "name": "stderr",
     "output_type": "stream",
     "text": [
      "25it [08:55, 21.70s/it]"
     ]
    },
    {
     "name": "stdout",
     "output_type": "stream",
     "text": [
      "best L1:  0.09182751923799515\n",
      "best L1 epoch:  144\n",
      "best SSIM: 0.973969042301178\n",
      "best SSIM epoch:  147\n"
     ]
    },
    {
     "name": "stderr",
     "output_type": "stream",
     "text": [
      "26it [09:17, 21.97s/it]"
     ]
    },
    {
     "name": "stdout",
     "output_type": "stream",
     "text": [
      "best L1:  0.09774383902549744\n",
      "best L1 epoch:  290\n",
      "best SSIM: 0.972687840461731\n",
      "best SSIM epoch:  263\n"
     ]
    },
    {
     "name": "stderr",
     "output_type": "stream",
     "text": [
      "27it [09:39, 22.02s/it]"
     ]
    },
    {
     "name": "stdout",
     "output_type": "stream",
     "text": [
      "best L1:  0.1053604781627655\n",
      "best L1 epoch:  324\n",
      "best SSIM: 0.968712568283081\n",
      "best SSIM epoch:  132\n"
     ]
    },
    {
     "name": "stderr",
     "output_type": "stream",
     "text": [
      "28it [10:01, 21.87s/it]"
     ]
    },
    {
     "name": "stdout",
     "output_type": "stream",
     "text": [
      "best L1:  0.11389225721359253\n",
      "best L1 epoch:  100\n",
      "best SSIM: 0.9660491943359375\n",
      "best SSIM epoch:  96\n"
     ]
    },
    {
     "name": "stderr",
     "output_type": "stream",
     "text": [
      "29it [10:23, 21.79s/it]"
     ]
    },
    {
     "name": "stdout",
     "output_type": "stream",
     "text": [
      "best L1:  0.17644765973091125\n",
      "best L1 epoch:  256\n",
      "best SSIM: 0.9269631505012512\n",
      "best SSIM epoch:  179\n"
     ]
    },
    {
     "name": "stderr",
     "output_type": "stream",
     "text": [
      "30it [10:44, 21.75s/it]"
     ]
    },
    {
     "name": "stdout",
     "output_type": "stream",
     "text": [
      "best L1:  0.16731132566928864\n",
      "best L1 epoch:  222\n",
      "best SSIM: 0.938101589679718\n",
      "best SSIM epoch:  165\n"
     ]
    },
    {
     "name": "stderr",
     "output_type": "stream",
     "text": [
      "31it [11:06, 21.68s/it]"
     ]
    },
    {
     "name": "stdout",
     "output_type": "stream",
     "text": [
      "best L1:  0.16402441263198853\n",
      "best L1 epoch:  311\n",
      "best SSIM: 0.9394919872283936\n",
      "best SSIM epoch:  139\n"
     ]
    },
    {
     "name": "stderr",
     "output_type": "stream",
     "text": [
      "32it [11:27, 21.65s/it]"
     ]
    },
    {
     "name": "stdout",
     "output_type": "stream",
     "text": [
      "best L1:  0.17085649073123932\n",
      "best L1 epoch:  232\n",
      "best SSIM: 0.9366075396537781\n",
      "best SSIM epoch:  99\n"
     ]
    },
    {
     "name": "stderr",
     "output_type": "stream",
     "text": [
      "33it [11:49, 21.63s/it]"
     ]
    },
    {
     "name": "stdout",
     "output_type": "stream",
     "text": [
      "best L1:  0.15460598468780518\n",
      "best L1 epoch:  457\n",
      "best SSIM: 0.9385453462600708\n",
      "best SSIM epoch:  199\n"
     ]
    },
    {
     "name": "stderr",
     "output_type": "stream",
     "text": [
      "34it [12:10, 21.60s/it]"
     ]
    },
    {
     "name": "stdout",
     "output_type": "stream",
     "text": [
      "best L1:  0.14535029232501984\n",
      "best L1 epoch:  422\n",
      "best SSIM: 0.9431533217430115\n",
      "best SSIM epoch:  153\n"
     ]
    },
    {
     "name": "stderr",
     "output_type": "stream",
     "text": [
      "35it [12:32, 21.59s/it]"
     ]
    },
    {
     "name": "stdout",
     "output_type": "stream",
     "text": [
      "best L1:  0.137716606259346\n",
      "best L1 epoch:  326\n",
      "best SSIM: 0.9476429224014282\n",
      "best SSIM epoch:  193\n"
     ]
    },
    {
     "name": "stderr",
     "output_type": "stream",
     "text": [
      "36it [12:54, 21.59s/it]"
     ]
    },
    {
     "name": "stdout",
     "output_type": "stream",
     "text": [
      "best L1:  0.13381142914295197\n",
      "best L1 epoch:  334\n",
      "best SSIM: 0.9509304165840149\n",
      "best SSIM epoch:  142\n"
     ]
    },
    {
     "name": "stderr",
     "output_type": "stream",
     "text": [
      "37it [13:15, 21.62s/it]"
     ]
    },
    {
     "name": "stdout",
     "output_type": "stream",
     "text": [
      "best L1:  0.17204606533050537\n",
      "best L1 epoch:  494\n",
      "best SSIM: 0.9336510896682739\n",
      "best SSIM epoch:  272\n"
     ]
    },
    {
     "name": "stderr",
     "output_type": "stream",
     "text": [
      "38it [13:37, 21.61s/it]"
     ]
    },
    {
     "name": "stdout",
     "output_type": "stream",
     "text": [
      "best L1:  0.16892732679843903\n",
      "best L1 epoch:  220\n",
      "best SSIM: 0.9372952580451965\n",
      "best SSIM epoch:  157\n"
     ]
    },
    {
     "name": "stderr",
     "output_type": "stream",
     "text": [
      "39it [13:58, 21.58s/it]"
     ]
    },
    {
     "name": "stdout",
     "output_type": "stream",
     "text": [
      "best L1:  0.1652401238679886\n",
      "best L1 epoch:  340\n",
      "best SSIM: 0.9431619048118591\n",
      "best SSIM epoch:  189\n"
     ]
    },
    {
     "name": "stderr",
     "output_type": "stream",
     "text": [
      "40it [14:20, 21.56s/it]"
     ]
    },
    {
     "name": "stdout",
     "output_type": "stream",
     "text": [
      "best L1:  0.16515418887138367\n",
      "best L1 epoch:  390\n",
      "best SSIM: 0.9445903897285461\n",
      "best SSIM epoch:  224\n"
     ]
    },
    {
     "name": "stderr",
     "output_type": "stream",
     "text": [
      "41it [14:41, 21.41s/it]"
     ]
    },
    {
     "name": "stdout",
     "output_type": "stream",
     "text": [
      "best L1:  0.09472101181745529\n",
      "best L1 epoch:  367\n",
      "best SSIM: 0.9766635298728943\n",
      "best SSIM epoch:  107\n"
     ]
    },
    {
     "name": "stderr",
     "output_type": "stream",
     "text": [
      "42it [15:02, 21.27s/it]"
     ]
    },
    {
     "name": "stdout",
     "output_type": "stream",
     "text": [
      "best L1:  0.08747849613428116\n",
      "best L1 epoch:  201\n",
      "best SSIM: 0.97650146484375\n",
      "best SSIM epoch:  222\n"
     ]
    },
    {
     "name": "stderr",
     "output_type": "stream",
     "text": [
      "43it [15:23, 21.18s/it]"
     ]
    },
    {
     "name": "stdout",
     "output_type": "stream",
     "text": [
      "best L1:  0.0799856036901474\n",
      "best L1 epoch:  247\n",
      "best SSIM: 0.9776799082756042\n",
      "best SSIM epoch:  278\n"
     ]
    },
    {
     "name": "stderr",
     "output_type": "stream",
     "text": [
      "44it [15:44, 21.09s/it]"
     ]
    },
    {
     "name": "stdout",
     "output_type": "stream",
     "text": [
      "best L1:  0.07711127400398254\n",
      "best L1 epoch:  209\n",
      "best SSIM: 0.9766711592674255\n",
      "best SSIM epoch:  290\n"
     ]
    },
    {
     "name": "stderr",
     "output_type": "stream",
     "text": [
      "45it [16:05, 21.24s/it]"
     ]
    },
    {
     "name": "stdout",
     "output_type": "stream",
     "text": [
      "best L1:  0.10453697293996811\n",
      "best L1 epoch:  186\n",
      "best SSIM: 0.9680054187774658\n",
      "best SSIM epoch:  178\n"
     ]
    },
    {
     "name": "stderr",
     "output_type": "stream",
     "text": [
      "46it [16:27, 21.34s/it]"
     ]
    },
    {
     "name": "stdout",
     "output_type": "stream",
     "text": [
      "best L1:  0.09933102130889893\n",
      "best L1 epoch:  168\n",
      "best SSIM: 0.9705914855003357\n",
      "best SSIM epoch:  125\n"
     ]
    },
    {
     "name": "stderr",
     "output_type": "stream",
     "text": [
      "47it [16:48, 21.41s/it]"
     ]
    },
    {
     "name": "stdout",
     "output_type": "stream",
     "text": [
      "best L1:  0.08808907866477966\n",
      "best L1 epoch:  109\n",
      "best SSIM: 0.9751512408256531\n",
      "best SSIM epoch:  124\n"
     ]
    },
    {
     "name": "stderr",
     "output_type": "stream",
     "text": [
      "48it [17:10, 21.46s/it]"
     ]
    },
    {
     "name": "stdout",
     "output_type": "stream",
     "text": [
      "best L1:  0.0874539241194725\n",
      "best L1 epoch:  76\n",
      "best SSIM: 0.9758014678955078\n",
      "best SSIM epoch:  119\n"
     ]
    },
    {
     "name": "stderr",
     "output_type": "stream",
     "text": [
      "49it [17:31, 21.32s/it]"
     ]
    },
    {
     "name": "stdout",
     "output_type": "stream",
     "text": [
      "best L1:  0.10538697987794876\n",
      "best L1 epoch:  268\n",
      "best SSIM: 0.9621421098709106\n",
      "best SSIM epoch:  77\n"
     ]
    },
    {
     "name": "stderr",
     "output_type": "stream",
     "text": [
      "50it [17:52, 21.23s/it]"
     ]
    },
    {
     "name": "stdout",
     "output_type": "stream",
     "text": [
      "best L1:  0.09474293142557144\n",
      "best L1 epoch:  172\n",
      "best SSIM: 0.9670721888542175\n",
      "best SSIM epoch:  124\n"
     ]
    },
    {
     "name": "stderr",
     "output_type": "stream",
     "text": [
      "51it [18:13, 21.19s/it]"
     ]
    },
    {
     "name": "stdout",
     "output_type": "stream",
     "text": [
      "best L1:  0.0873248353600502\n",
      "best L1 epoch:  148\n",
      "best SSIM: 0.9726898670196533\n",
      "best SSIM epoch:  154\n"
     ]
    },
    {
     "name": "stderr",
     "output_type": "stream",
     "text": [
      "52it [18:34, 21.14s/it]"
     ]
    },
    {
     "name": "stdout",
     "output_type": "stream",
     "text": [
      "best L1:  0.08833400905132294\n",
      "best L1 epoch:  144\n",
      "best SSIM: 0.9679383039474487\n",
      "best SSIM epoch:  129\n"
     ]
    },
    {
     "name": "stderr",
     "output_type": "stream",
     "text": [
      "53it [18:56, 21.29s/it]"
     ]
    },
    {
     "name": "stdout",
     "output_type": "stream",
     "text": [
      "best L1:  0.09694229811429977\n",
      "best L1 epoch:  136\n",
      "best SSIM: 0.9669427275657654\n",
      "best SSIM epoch:  136\n"
     ]
    },
    {
     "name": "stderr",
     "output_type": "stream",
     "text": [
      "54it [19:17, 21.39s/it]"
     ]
    },
    {
     "name": "stdout",
     "output_type": "stream",
     "text": [
      "best L1:  0.08895174413919449\n",
      "best L1 epoch:  171\n",
      "best SSIM: 0.9665238261222839\n",
      "best SSIM epoch:  182\n"
     ]
    },
    {
     "name": "stderr",
     "output_type": "stream",
     "text": [
      "55it [19:39, 21.45s/it]"
     ]
    },
    {
     "name": "stdout",
     "output_type": "stream",
     "text": [
      "best L1:  0.08526981621980667\n",
      "best L1 epoch:  191\n",
      "best SSIM: 0.9717448949813843\n",
      "best SSIM epoch:  226\n"
     ]
    },
    {
     "name": "stderr",
     "output_type": "stream",
     "text": [
      "56it [20:01, 21.50s/it]"
     ]
    },
    {
     "name": "stdout",
     "output_type": "stream",
     "text": [
      "best L1:  0.07876420021057129\n",
      "best L1 epoch:  173\n",
      "best SSIM: 0.9703564643859863\n",
      "best SSIM epoch:  187\n"
     ]
    },
    {
     "name": "stderr",
     "output_type": "stream",
     "text": [
      "57it [20:22, 21.42s/it]"
     ]
    },
    {
     "name": "stdout",
     "output_type": "stream",
     "text": [
      "best L1:  0.09615308791399002\n",
      "best L1 epoch:  250\n",
      "best SSIM: 0.9653632044792175\n",
      "best SSIM epoch:  172\n"
     ]
    },
    {
     "name": "stderr",
     "output_type": "stream",
     "text": [
      "58it [20:43, 21.30s/it]"
     ]
    },
    {
     "name": "stdout",
     "output_type": "stream",
     "text": [
      "best L1:  0.09459620714187622\n",
      "best L1 epoch:  351\n",
      "best SSIM: 0.9663500189781189\n",
      "best SSIM epoch:  285\n"
     ]
    },
    {
     "name": "stderr",
     "output_type": "stream",
     "text": [
      "59it [21:04, 21.26s/it]"
     ]
    },
    {
     "name": "stdout",
     "output_type": "stream",
     "text": [
      "best L1:  0.09345629066228867\n",
      "best L1 epoch:  270\n",
      "best SSIM: 0.9648367166519165\n",
      "best SSIM epoch:  175\n"
     ]
    },
    {
     "name": "stderr",
     "output_type": "stream",
     "text": [
      "60it [21:25, 21.17s/it]"
     ]
    },
    {
     "name": "stdout",
     "output_type": "stream",
     "text": [
      "best L1:  0.09297342598438263\n",
      "best L1 epoch:  166\n",
      "best SSIM: 0.9653714299201965\n",
      "best SSIM epoch:  169\n"
     ]
    },
    {
     "name": "stderr",
     "output_type": "stream",
     "text": [
      "61it [21:47, 21.32s/it]"
     ]
    },
    {
     "name": "stdout",
     "output_type": "stream",
     "text": [
      "best L1:  0.15860608220100403\n",
      "best L1 epoch:  272\n",
      "best SSIM: 0.9342551827430725\n",
      "best SSIM epoch:  78\n"
     ]
    },
    {
     "name": "stderr",
     "output_type": "stream",
     "text": [
      "62it [22:08, 21.40s/it]"
     ]
    },
    {
     "name": "stdout",
     "output_type": "stream",
     "text": [
      "best L1:  0.1401219367980957\n",
      "best L1 epoch:  290\n",
      "best SSIM: 0.9398586750030518\n",
      "best SSIM epoch:  77\n"
     ]
    },
    {
     "name": "stderr",
     "output_type": "stream",
     "text": [
      "63it [22:30, 21.52s/it]"
     ]
    },
    {
     "name": "stdout",
     "output_type": "stream",
     "text": [
      "best L1:  0.1358499526977539\n",
      "best L1 epoch:  241\n",
      "best SSIM: 0.9449256658554077\n",
      "best SSIM epoch:  206\n"
     ]
    },
    {
     "name": "stderr",
     "output_type": "stream",
     "text": [
      "64it [22:52, 21.56s/it]"
     ]
    },
    {
     "name": "stdout",
     "output_type": "stream",
     "text": [
      "best L1:  0.13941147923469543\n",
      "best L1 epoch:  174\n",
      "best SSIM: 0.9407252669334412\n",
      "best SSIM epoch:  78\n"
     ]
    },
    {
     "name": "stderr",
     "output_type": "stream",
     "text": [
      "65it [23:13, 21.42s/it]"
     ]
    },
    {
     "name": "stdout",
     "output_type": "stream",
     "text": [
      "best L1:  0.127620130777359\n",
      "best L1 epoch:  389\n",
      "best SSIM: 0.9569563269615173\n",
      "best SSIM epoch:  169\n"
     ]
    },
    {
     "name": "stderr",
     "output_type": "stream",
     "text": [
      "66it [23:34, 21.31s/it]"
     ]
    },
    {
     "name": "stdout",
     "output_type": "stream",
     "text": [
      "best L1:  0.10850849747657776\n",
      "best L1 epoch:  222\n",
      "best SSIM: 0.9667223691940308\n",
      "best SSIM epoch:  187\n"
     ]
    },
    {
     "name": "stderr",
     "output_type": "stream",
     "text": [
      "67it [23:55, 21.22s/it]"
     ]
    },
    {
     "name": "stdout",
     "output_type": "stream",
     "text": [
      "best L1:  0.10022220015525818\n",
      "best L1 epoch:  238\n",
      "best SSIM: 0.9686683416366577\n",
      "best SSIM epoch:  210\n"
     ]
    },
    {
     "name": "stderr",
     "output_type": "stream",
     "text": [
      "68it [24:16, 21.14s/it]"
     ]
    },
    {
     "name": "stdout",
     "output_type": "stream",
     "text": [
      "best L1:  0.09936796873807907\n",
      "best L1 epoch:  316\n",
      "best SSIM: 0.9673221111297607\n",
      "best SSIM epoch:  153\n"
     ]
    },
    {
     "name": "stderr",
     "output_type": "stream",
     "text": [
      "69it [24:38, 21.32s/it]"
     ]
    },
    {
     "name": "stdout",
     "output_type": "stream",
     "text": [
      "best L1:  0.09205775707960129\n",
      "best L1 epoch:  202\n",
      "best SSIM: 0.9631994962692261\n",
      "best SSIM epoch:  155\n"
     ]
    },
    {
     "name": "stderr",
     "output_type": "stream",
     "text": [
      "70it [24:59, 21.41s/it]"
     ]
    },
    {
     "name": "stdout",
     "output_type": "stream",
     "text": [
      "best L1:  0.0852237194776535\n",
      "best L1 epoch:  138\n",
      "best SSIM: 0.9668852686882019\n",
      "best SSIM epoch:  148\n"
     ]
    },
    {
     "name": "stderr",
     "output_type": "stream",
     "text": [
      "71it [25:21, 21.61s/it]"
     ]
    },
    {
     "name": "stdout",
     "output_type": "stream",
     "text": [
      "best L1:  0.08533234149217606\n",
      "best L1 epoch:  80\n",
      "best SSIM: 0.9693694710731506\n",
      "best SSIM epoch:  106\n"
     ]
    },
    {
     "name": "stderr",
     "output_type": "stream",
     "text": [
      "72it [25:44, 21.87s/it]"
     ]
    },
    {
     "name": "stdout",
     "output_type": "stream",
     "text": [
      "best L1:  0.09160126000642776\n",
      "best L1 epoch:  58\n",
      "best SSIM: 0.9681652188301086\n",
      "best SSIM epoch:  103\n"
     ]
    },
    {
     "name": "stderr",
     "output_type": "stream",
     "text": [
      "73it [26:06, 22.10s/it]"
     ]
    },
    {
     "name": "stdout",
     "output_type": "stream",
     "text": [
      "best L1:  0.08196770399808884\n",
      "best L1 epoch:  118\n",
      "best SSIM: 0.9713064432144165\n",
      "best SSIM epoch:  117\n"
     ]
    },
    {
     "name": "stderr",
     "output_type": "stream",
     "text": [
      "74it [26:29, 22.16s/it]"
     ]
    },
    {
     "name": "stdout",
     "output_type": "stream",
     "text": [
      "best L1:  0.08253371715545654\n",
      "best L1 epoch:  83\n",
      "best SSIM: 0.9718943238258362\n",
      "best SSIM epoch:  87\n"
     ]
    },
    {
     "name": "stderr",
     "output_type": "stream",
     "text": [
      "75it [26:51, 22.27s/it]"
     ]
    },
    {
     "name": "stdout",
     "output_type": "stream",
     "text": [
      "best L1:  0.08292181044816971\n",
      "best L1 epoch:  114\n",
      "best SSIM: 0.9748255014419556\n",
      "best SSIM epoch:  142\n"
     ]
    },
    {
     "name": "stderr",
     "output_type": "stream",
     "text": [
      "76it [27:13, 22.08s/it]"
     ]
    },
    {
     "name": "stdout",
     "output_type": "stream",
     "text": [
      "best L1:  0.08290477842092514\n",
      "best L1 epoch:  68\n",
      "best SSIM: 0.9732781648635864\n",
      "best SSIM epoch:  94\n"
     ]
    },
    {
     "name": "stderr",
     "output_type": "stream",
     "text": [
      "77it [27:33, 21.62s/it]"
     ]
    },
    {
     "name": "stdout",
     "output_type": "stream",
     "text": [
      "best L1:  0.09508589655160904\n",
      "best L1 epoch:  251\n",
      "best SSIM: 0.9703114628791809\n",
      "best SSIM epoch:  133\n"
     ]
    },
    {
     "name": "stderr",
     "output_type": "stream",
     "text": [
      "78it [27:54, 21.27s/it]"
     ]
    },
    {
     "name": "stdout",
     "output_type": "stream",
     "text": [
      "best L1:  0.0927104577422142\n",
      "best L1 epoch:  230\n",
      "best SSIM: 0.9727928638458252\n",
      "best SSIM epoch:  177\n"
     ]
    },
    {
     "name": "stderr",
     "output_type": "stream",
     "text": [
      "79it [28:14, 21.06s/it]"
     ]
    },
    {
     "name": "stdout",
     "output_type": "stream",
     "text": [
      "best L1:  0.09684967249631882\n",
      "best L1 epoch:  236\n",
      "best SSIM: 0.9722785949707031\n",
      "best SSIM epoch:  135\n"
     ]
    },
    {
     "name": "stderr",
     "output_type": "stream",
     "text": [
      "80it [28:35, 20.88s/it]"
     ]
    },
    {
     "name": "stdout",
     "output_type": "stream",
     "text": [
      "best L1:  0.09601639211177826\n",
      "best L1 epoch:  201\n",
      "best SSIM: 0.9727606773376465\n",
      "best SSIM epoch:  151\n"
     ]
    },
    {
     "name": "stderr",
     "output_type": "stream",
     "text": [
      "81it [28:56, 20.96s/it]"
     ]
    },
    {
     "name": "stdout",
     "output_type": "stream",
     "text": [
      "best L1:  0.09378154575824738\n",
      "best L1 epoch:  141\n",
      "best SSIM: 0.9651272296905518\n",
      "best SSIM epoch:  64\n"
     ]
    },
    {
     "name": "stderr",
     "output_type": "stream",
     "text": [
      "82it [29:17, 21.04s/it]"
     ]
    },
    {
     "name": "stdout",
     "output_type": "stream",
     "text": [
      "best L1:  0.09295430034399033\n",
      "best L1 epoch:  125\n",
      "best SSIM: 0.9683964252471924\n",
      "best SSIM epoch:  92\n"
     ]
    },
    {
     "name": "stderr",
     "output_type": "stream",
     "text": [
      "83it [29:38, 21.04s/it]"
     ]
    },
    {
     "name": "stdout",
     "output_type": "stream",
     "text": [
      "best L1:  0.09455990791320801\n",
      "best L1 epoch:  172\n",
      "best SSIM: 0.9636478424072266\n",
      "best SSIM epoch:  150\n"
     ]
    },
    {
     "name": "stderr",
     "output_type": "stream",
     "text": [
      "84it [30:00, 21.10s/it]"
     ]
    },
    {
     "name": "stdout",
     "output_type": "stream",
     "text": [
      "best L1:  0.09404554963111877\n",
      "best L1 epoch:  217\n",
      "best SSIM: 0.9724173545837402\n",
      "best SSIM epoch:  215\n"
     ]
    },
    {
     "name": "stderr",
     "output_type": "stream",
     "text": [
      "85it [30:22, 21.50s/it]"
     ]
    },
    {
     "name": "stdout",
     "output_type": "stream",
     "text": [
      "best L1:  0.09846901893615723\n",
      "best L1 epoch:  209\n",
      "best SSIM: 0.9444413185119629\n",
      "best SSIM epoch:  82\n"
     ]
    },
    {
     "name": "stderr",
     "output_type": "stream",
     "text": [
      "86it [30:44, 21.77s/it]"
     ]
    },
    {
     "name": "stdout",
     "output_type": "stream",
     "text": [
      "best L1:  0.10009127855300903\n",
      "best L1 epoch:  106\n",
      "best SSIM: 0.947093665599823\n",
      "best SSIM epoch:  86\n"
     ]
    },
    {
     "name": "stderr",
     "output_type": "stream",
     "text": [
      "87it [31:07, 21.94s/it]"
     ]
    },
    {
     "name": "stdout",
     "output_type": "stream",
     "text": [
      "best L1:  0.1031390056014061\n",
      "best L1 epoch:  130\n",
      "best SSIM: 0.9432845115661621\n",
      "best SSIM epoch:  143\n"
     ]
    },
    {
     "name": "stderr",
     "output_type": "stream",
     "text": [
      "88it [31:29, 22.18s/it]"
     ]
    },
    {
     "name": "stdout",
     "output_type": "stream",
     "text": [
      "best L1:  0.10965783149003983\n",
      "best L1 epoch:  111\n",
      "best SSIM: 0.9469884634017944\n",
      "best SSIM epoch:  131\n"
     ]
    },
    {
     "name": "stderr",
     "output_type": "stream",
     "text": [
      "89it [31:51, 22.09s/it]"
     ]
    },
    {
     "name": "stdout",
     "output_type": "stream",
     "text": [
      "best L1:  0.08765087276697159\n",
      "best L1 epoch:  153\n",
      "best SSIM: 0.9653712511062622\n",
      "best SSIM epoch:  98\n"
     ]
    },
    {
     "name": "stderr",
     "output_type": "stream",
     "text": [
      "90it [32:13, 22.01s/it]"
     ]
    },
    {
     "name": "stdout",
     "output_type": "stream",
     "text": [
      "best L1:  0.08722730726003647\n",
      "best L1 epoch:  276\n",
      "best SSIM: 0.9665929675102234\n",
      "best SSIM epoch:  143\n"
     ]
    },
    {
     "name": "stderr",
     "output_type": "stream",
     "text": [
      "91it [32:35, 21.98s/it]"
     ]
    },
    {
     "name": "stdout",
     "output_type": "stream",
     "text": [
      "best L1:  0.08908804506063461\n",
      "best L1 epoch:  222\n",
      "best SSIM: 0.9698267579078674\n",
      "best SSIM epoch:  212\n"
     ]
    },
    {
     "name": "stderr",
     "output_type": "stream",
     "text": [
      "92it [32:57, 22.01s/it]"
     ]
    },
    {
     "name": "stdout",
     "output_type": "stream",
     "text": [
      "best L1:  0.09480281174182892\n",
      "best L1 epoch:  168\n",
      "best SSIM: 0.9724209904670715\n",
      "best SSIM epoch:  145\n"
     ]
    },
    {
     "name": "stderr",
     "output_type": "stream",
     "text": [
      "93it [33:20, 22.22s/it]"
     ]
    },
    {
     "name": "stdout",
     "output_type": "stream",
     "text": [
      "best L1:  0.08553002774715424\n",
      "best L1 epoch:  206\n",
      "best SSIM: 0.9799364805221558\n",
      "best SSIM epoch:  209\n"
     ]
    },
    {
     "name": "stderr",
     "output_type": "stream",
     "text": [
      "94it [33:43, 22.42s/it]"
     ]
    },
    {
     "name": "stdout",
     "output_type": "stream",
     "text": [
      "best L1:  0.08073902875185013\n",
      "best L1 epoch:  165\n",
      "best SSIM: 0.980781614780426\n",
      "best SSIM epoch:  242\n"
     ]
    },
    {
     "name": "stderr",
     "output_type": "stream",
     "text": [
      "95it [34:06, 22.56s/it]"
     ]
    },
    {
     "name": "stdout",
     "output_type": "stream",
     "text": [
      "best L1:  0.07695765793323517\n",
      "best L1 epoch:  143\n",
      "best SSIM: 0.9816233515739441\n",
      "best SSIM epoch:  220\n"
     ]
    },
    {
     "name": "stderr",
     "output_type": "stream",
     "text": [
      "96it [34:29, 22.66s/it]"
     ]
    },
    {
     "name": "stdout",
     "output_type": "stream",
     "text": [
      "best L1:  0.07906512916088104\n",
      "best L1 epoch:  148\n",
      "best SSIM: 0.9756248593330383\n",
      "best SSIM epoch:  226\n"
     ]
    },
    {
     "name": "stderr",
     "output_type": "stream",
     "text": [
      "97it [34:51, 22.55s/it]"
     ]
    },
    {
     "name": "stdout",
     "output_type": "stream",
     "text": [
      "best L1:  0.08323144167661667\n",
      "best L1 epoch:  229\n",
      "best SSIM: 0.9763792753219604\n",
      "best SSIM epoch:  221\n"
     ]
    },
    {
     "name": "stderr",
     "output_type": "stream",
     "text": [
      "98it [35:13, 22.52s/it]"
     ]
    },
    {
     "name": "stdout",
     "output_type": "stream",
     "text": [
      "best L1:  0.08102311193943024\n",
      "best L1 epoch:  213\n",
      "best SSIM: 0.9738590121269226\n",
      "best SSIM epoch:  213\n"
     ]
    },
    {
     "name": "stderr",
     "output_type": "stream",
     "text": [
      "99it [35:36, 22.57s/it]"
     ]
    },
    {
     "name": "stdout",
     "output_type": "stream",
     "text": [
      "best L1:  0.08177953958511353\n",
      "best L1 epoch:  109\n",
      "best SSIM: 0.9729408621788025\n",
      "best SSIM epoch:  134\n"
     ]
    },
    {
     "name": "stderr",
     "output_type": "stream",
     "text": [
      "100it [35:59, 22.58s/it]"
     ]
    },
    {
     "name": "stdout",
     "output_type": "stream",
     "text": [
      "best L1:  0.08420871943235397\n",
      "best L1 epoch:  129\n",
      "best SSIM: 0.972780168056488\n",
      "best SSIM epoch:  168\n"
     ]
    },
    {
     "name": "stderr",
     "output_type": "stream",
     "text": [
      "101it [36:22, 22.80s/it]"
     ]
    },
    {
     "name": "stdout",
     "output_type": "stream",
     "text": [
      "best L1:  0.09751065820455551\n",
      "best L1 epoch:  189\n",
      "best SSIM: 0.9736687541007996\n",
      "best SSIM epoch:  206\n"
     ]
    },
    {
     "name": "stderr",
     "output_type": "stream",
     "text": [
      "102it [36:45, 23.02s/it]"
     ]
    },
    {
     "name": "stdout",
     "output_type": "stream",
     "text": [
      "best L1:  0.08584669232368469\n",
      "best L1 epoch:  198\n",
      "best SSIM: 0.9774525165557861\n",
      "best SSIM epoch:  193\n"
     ]
    },
    {
     "name": "stderr",
     "output_type": "stream",
     "text": [
      "103it [37:09, 23.04s/it]"
     ]
    },
    {
     "name": "stdout",
     "output_type": "stream",
     "text": [
      "best L1:  0.08406461775302887\n",
      "best L1 epoch:  274\n",
      "best SSIM: 0.9759595990180969\n",
      "best SSIM epoch:  174\n"
     ]
    },
    {
     "name": "stderr",
     "output_type": "stream",
     "text": [
      "104it [37:32, 23.13s/it]"
     ]
    },
    {
     "name": "stdout",
     "output_type": "stream",
     "text": [
      "best L1:  0.09011886268854141\n",
      "best L1 epoch:  169\n",
      "best SSIM: 0.976847231388092\n",
      "best SSIM epoch:  148\n"
     ]
    },
    {
     "name": "stderr",
     "output_type": "stream",
     "text": [
      "105it [37:54, 22.98s/it]"
     ]
    },
    {
     "name": "stdout",
     "output_type": "stream",
     "text": [
      "best L1:  0.1139177680015564\n",
      "best L1 epoch:  212\n",
      "best SSIM: 0.9584475159645081\n",
      "best SSIM epoch:  79\n"
     ]
    },
    {
     "name": "stderr",
     "output_type": "stream",
     "text": [
      "106it [38:17, 22.84s/it]"
     ]
    },
    {
     "name": "stdout",
     "output_type": "stream",
     "text": [
      "best L1:  0.10215281695127487\n",
      "best L1 epoch:  282\n",
      "best SSIM: 0.9586583971977234\n",
      "best SSIM epoch:  87\n"
     ]
    },
    {
     "name": "stderr",
     "output_type": "stream",
     "text": [
      "107it [38:39, 22.72s/it]"
     ]
    },
    {
     "name": "stdout",
     "output_type": "stream",
     "text": [
      "best L1:  0.09774205088615417\n",
      "best L1 epoch:  229\n",
      "best SSIM: 0.9637389183044434\n",
      "best SSIM epoch:  156\n"
     ]
    },
    {
     "name": "stderr",
     "output_type": "stream",
     "text": [
      "108it [39:02, 22.67s/it]"
     ]
    },
    {
     "name": "stdout",
     "output_type": "stream",
     "text": [
      "best L1:  0.10119663178920746\n",
      "best L1 epoch:  140\n",
      "best SSIM: 0.9653064012527466\n",
      "best SSIM epoch:  137\n"
     ]
    },
    {
     "name": "stderr",
     "output_type": "stream",
     "text": [
      "109it [39:25, 22.86s/it]"
     ]
    },
    {
     "name": "stdout",
     "output_type": "stream",
     "text": [
      "best L1:  0.10592244565486908\n",
      "best L1 epoch:  458\n",
      "best SSIM: 0.9667039513587952\n",
      "best SSIM epoch:  295\n"
     ]
    },
    {
     "name": "stderr",
     "output_type": "stream",
     "text": [
      "110it [39:49, 23.08s/it]"
     ]
    },
    {
     "name": "stdout",
     "output_type": "stream",
     "text": [
      "best L1:  0.12035919725894928\n",
      "best L1 epoch:  122\n",
      "best SSIM: 0.9683527946472168\n",
      "best SSIM epoch:  125\n"
     ]
    },
    {
     "name": "stderr",
     "output_type": "stream",
     "text": [
      "111it [40:12, 23.17s/it]"
     ]
    },
    {
     "name": "stdout",
     "output_type": "stream",
     "text": [
      "best L1:  0.13293448090553284\n",
      "best L1 epoch:  402\n",
      "best SSIM: 0.9656428098678589\n",
      "best SSIM epoch:  132\n"
     ]
    },
    {
     "name": "stderr",
     "output_type": "stream",
     "text": [
      "112it [40:36, 23.33s/it]"
     ]
    },
    {
     "name": "stdout",
     "output_type": "stream",
     "text": [
      "best L1:  0.14202812314033508\n",
      "best L1 epoch:  125\n",
      "best SSIM: 0.9692134857177734\n",
      "best SSIM epoch:  133\n"
     ]
    },
    {
     "name": "stderr",
     "output_type": "stream",
     "text": [
      "113it [40:59, 23.27s/it]"
     ]
    },
    {
     "name": "stdout",
     "output_type": "stream",
     "text": [
      "best L1:  0.1139511838555336\n",
      "best L1 epoch:  317\n",
      "best SSIM: 0.9637726545333862\n",
      "best SSIM epoch:  244\n"
     ]
    },
    {
     "name": "stderr",
     "output_type": "stream",
     "text": [
      "114it [41:22, 23.23s/it]"
     ]
    },
    {
     "name": "stdout",
     "output_type": "stream",
     "text": [
      "best L1:  0.10009337216615677\n",
      "best L1 epoch:  258\n",
      "best SSIM: 0.9612166881561279\n",
      "best SSIM epoch:  241\n"
     ]
    },
    {
     "name": "stderr",
     "output_type": "stream",
     "text": [
      "115it [41:46, 23.25s/it]"
     ]
    },
    {
     "name": "stdout",
     "output_type": "stream",
     "text": [
      "best L1:  0.09250139445066452\n",
      "best L1 epoch:  164\n",
      "best SSIM: 0.9580127000808716\n",
      "best SSIM epoch:  130\n"
     ]
    },
    {
     "name": "stderr",
     "output_type": "stream",
     "text": [
      "116it [42:09, 23.27s/it]"
     ]
    },
    {
     "name": "stdout",
     "output_type": "stream",
     "text": [
      "best L1:  0.09225577116012573\n",
      "best L1 epoch:  71\n",
      "best SSIM: 0.9529008269309998\n",
      "best SSIM epoch:  83\n"
     ]
    },
    {
     "name": "stderr",
     "output_type": "stream",
     "text": [
      "117it [42:32, 23.25s/it]"
     ]
    },
    {
     "name": "stdout",
     "output_type": "stream",
     "text": [
      "best L1:  0.10779400169849396\n",
      "best L1 epoch:  300\n",
      "best SSIM: 0.9751165509223938\n",
      "best SSIM epoch:  250\n"
     ]
    },
    {
     "name": "stderr",
     "output_type": "stream",
     "text": [
      "118it [42:55, 23.21s/it]"
     ]
    },
    {
     "name": "stdout",
     "output_type": "stream",
     "text": [
      "best L1:  0.09772468358278275\n",
      "best L1 epoch:  324\n",
      "best SSIM: 0.9730037450790405\n",
      "best SSIM epoch:  60\n"
     ]
    },
    {
     "name": "stderr",
     "output_type": "stream",
     "text": [
      "119it [43:19, 23.25s/it]"
     ]
    },
    {
     "name": "stdout",
     "output_type": "stream",
     "text": [
      "best L1:  0.08725473284721375\n",
      "best L1 epoch:  212\n",
      "best SSIM: 0.9767407178878784\n",
      "best SSIM epoch:  207\n"
     ]
    },
    {
     "name": "stderr",
     "output_type": "stream",
     "text": [
      "120it [43:42, 23.28s/it]"
     ]
    },
    {
     "name": "stdout",
     "output_type": "stream",
     "text": [
      "best L1:  0.08919735252857208\n",
      "best L1 epoch:  129\n",
      "best SSIM: 0.9760477542877197\n",
      "best SSIM epoch:  146\n"
     ]
    },
    {
     "name": "stderr",
     "output_type": "stream",
     "text": [
      "121it [44:04, 23.03s/it]"
     ]
    },
    {
     "name": "stdout",
     "output_type": "stream",
     "text": [
      "best L1:  0.09363778680562973\n",
      "best L1 epoch:  120\n",
      "best SSIM: 0.9635044932365417\n",
      "best SSIM epoch:  115\n"
     ]
    },
    {
     "name": "stderr",
     "output_type": "stream",
     "text": [
      "122it [44:28, 23.13s/it]"
     ]
    },
    {
     "name": "stdout",
     "output_type": "stream",
     "text": [
      "best L1:  0.088707834482193\n",
      "best L1 epoch:  136\n",
      "best SSIM: 0.9703470468521118\n",
      "best SSIM epoch:  137\n"
     ]
    },
    {
     "name": "stderr",
     "output_type": "stream",
     "text": [
      "123it [44:52, 23.41s/it]"
     ]
    },
    {
     "name": "stdout",
     "output_type": "stream",
     "text": [
      "best L1:  0.0879506766796112\n",
      "best L1 epoch:  194\n",
      "best SSIM: 0.964457631111145\n",
      "best SSIM epoch:  67\n"
     ]
    },
    {
     "name": "stderr",
     "output_type": "stream",
     "text": [
      "124it [45:15, 23.31s/it]"
     ]
    },
    {
     "name": "stdout",
     "output_type": "stream",
     "text": [
      "best L1:  0.09237547218799591\n",
      "best L1 epoch:  105\n",
      "best SSIM: 0.9698969721794128\n",
      "best SSIM epoch:  106\n"
     ]
    },
    {
     "name": "stderr",
     "output_type": "stream",
     "text": [
      "125it [45:40, 24.01s/it]"
     ]
    },
    {
     "name": "stdout",
     "output_type": "stream",
     "text": [
      "best L1:  0.12268822640180588\n",
      "best L1 epoch:  336\n",
      "best SSIM: 0.963548481464386\n",
      "best SSIM epoch:  72\n"
     ]
    },
    {
     "name": "stderr",
     "output_type": "stream",
     "text": [
      "126it [46:05, 24.22s/it]"
     ]
    },
    {
     "name": "stdout",
     "output_type": "stream",
     "text": [
      "best L1:  0.11855675280094147\n",
      "best L1 epoch:  377\n",
      "best SSIM: 0.9619076251983643\n",
      "best SSIM epoch:  200\n"
     ]
    },
    {
     "name": "stderr",
     "output_type": "stream",
     "text": [
      "127it [46:30, 24.47s/it]"
     ]
    },
    {
     "name": "stdout",
     "output_type": "stream",
     "text": [
      "best L1:  0.12604515254497528\n",
      "best L1 epoch:  415\n",
      "best SSIM: 0.9557913541793823\n",
      "best SSIM epoch:  104\n"
     ]
    },
    {
     "name": "stderr",
     "output_type": "stream",
     "text": [
      "128it [46:55, 24.49s/it]"
     ]
    },
    {
     "name": "stdout",
     "output_type": "stream",
     "text": [
      "best L1:  0.12737442553043365\n",
      "best L1 epoch:  322\n",
      "best SSIM: 0.9572932720184326\n",
      "best SSIM epoch:  140\n"
     ]
    },
    {
     "name": "stderr",
     "output_type": "stream",
     "text": [
      "129it [47:18, 24.20s/it]"
     ]
    },
    {
     "name": "stdout",
     "output_type": "stream",
     "text": [
      "best L1:  0.09781110286712646\n",
      "best L1 epoch:  245\n",
      "best SSIM: 0.9692245125770569\n",
      "best SSIM epoch:  130\n"
     ]
    },
    {
     "name": "stderr",
     "output_type": "stream",
     "text": [
      "130it [47:41, 23.86s/it]"
     ]
    },
    {
     "name": "stdout",
     "output_type": "stream",
     "text": [
      "best L1:  0.09473082423210144\n",
      "best L1 epoch:  293\n",
      "best SSIM: 0.9710000157356262\n",
      "best SSIM epoch:  301\n"
     ]
    },
    {
     "name": "stderr",
     "output_type": "stream",
     "text": [
      "131it [48:04, 23.60s/it]"
     ]
    },
    {
     "name": "stdout",
     "output_type": "stream",
     "text": [
      "best L1:  0.09466831386089325\n",
      "best L1 epoch:  322\n",
      "best SSIM: 0.96795654296875\n",
      "best SSIM epoch:  307\n"
     ]
    },
    {
     "name": "stderr",
     "output_type": "stream",
     "text": [
      "132it [48:27, 23.34s/it]"
     ]
    },
    {
     "name": "stdout",
     "output_type": "stream",
     "text": [
      "best L1:  0.10272786766290665\n",
      "best L1 epoch:  372\n",
      "best SSIM: 0.9645829200744629\n",
      "best SSIM epoch:  181\n"
     ]
    },
    {
     "name": "stderr",
     "output_type": "stream",
     "text": [
      "133it [48:50, 23.18s/it]"
     ]
    },
    {
     "name": "stdout",
     "output_type": "stream",
     "text": [
      "best L1:  0.08648630231618881\n",
      "best L1 epoch:  125\n",
      "best SSIM: 0.9777032136917114\n",
      "best SSIM epoch:  143\n"
     ]
    },
    {
     "name": "stderr",
     "output_type": "stream",
     "text": [
      "134it [49:13, 23.09s/it]"
     ]
    },
    {
     "name": "stdout",
     "output_type": "stream",
     "text": [
      "best L1:  0.08583526313304901\n",
      "best L1 epoch:  152\n",
      "best SSIM: 0.9756826162338257\n",
      "best SSIM epoch:  145\n"
     ]
    },
    {
     "name": "stderr",
     "output_type": "stream",
     "text": [
      "135it [49:36, 23.02s/it]"
     ]
    },
    {
     "name": "stdout",
     "output_type": "stream",
     "text": [
      "best L1:  0.0859152302145958\n",
      "best L1 epoch:  137\n",
      "best SSIM: 0.9732998609542847\n",
      "best SSIM epoch:  137\n"
     ]
    },
    {
     "name": "stderr",
     "output_type": "stream",
     "text": [
      "136it [49:59, 23.00s/it]"
     ]
    },
    {
     "name": "stdout",
     "output_type": "stream",
     "text": [
      "best L1:  0.0957026407122612\n",
      "best L1 epoch:  68\n",
      "best SSIM: 0.970617413520813\n",
      "best SSIM epoch:  62\n"
     ]
    },
    {
     "name": "stderr",
     "output_type": "stream",
     "text": [
      "137it [50:22, 23.21s/it]"
     ]
    },
    {
     "name": "stdout",
     "output_type": "stream",
     "text": [
      "best L1:  0.11627562344074249\n",
      "best L1 epoch:  135\n",
      "best SSIM: 0.9641249775886536\n",
      "best SSIM epoch:  117\n"
     ]
    },
    {
     "name": "stderr",
     "output_type": "stream",
     "text": [
      "138it [50:46, 23.30s/it]"
     ]
    },
    {
     "name": "stdout",
     "output_type": "stream",
     "text": [
      "best L1:  0.12239611148834229\n",
      "best L1 epoch:  138\n",
      "best SSIM: 0.9581522345542908\n",
      "best SSIM epoch:  130\n"
     ]
    },
    {
     "name": "stderr",
     "output_type": "stream",
     "text": [
      "139it [51:09, 23.28s/it]"
     ]
    },
    {
     "name": "stdout",
     "output_type": "stream",
     "text": [
      "best L1:  0.13107013702392578\n",
      "best L1 epoch:  110\n",
      "best SSIM: 0.9599891901016235\n",
      "best SSIM epoch:  119\n"
     ]
    },
    {
     "name": "stderr",
     "output_type": "stream",
     "text": [
      "140it [51:33, 23.34s/it]"
     ]
    },
    {
     "name": "stdout",
     "output_type": "stream",
     "text": [
      "best L1:  0.13988330960273743\n",
      "best L1 epoch:  131\n",
      "best SSIM: 0.9544830322265625\n",
      "best SSIM epoch:  124\n"
     ]
    },
    {
     "name": "stderr",
     "output_type": "stream",
     "text": [
      "141it [51:55, 23.21s/it]"
     ]
    },
    {
     "name": "stdout",
     "output_type": "stream",
     "text": [
      "best L1:  0.09478537738323212\n",
      "best L1 epoch:  77\n",
      "best SSIM: 0.963119387626648\n",
      "best SSIM epoch:  83\n"
     ]
    },
    {
     "name": "stderr",
     "output_type": "stream",
     "text": [
      "142it [52:18, 23.01s/it]"
     ]
    },
    {
     "name": "stdout",
     "output_type": "stream",
     "text": [
      "best L1:  0.093199722468853\n",
      "best L1 epoch:  65\n",
      "best SSIM: 0.9634000658988953\n",
      "best SSIM epoch:  60\n"
     ]
    },
    {
     "name": "stderr",
     "output_type": "stream",
     "text": [
      "143it [52:41, 22.87s/it]"
     ]
    },
    {
     "name": "stdout",
     "output_type": "stream",
     "text": [
      "best L1:  0.09577303379774094\n",
      "best L1 epoch:  93\n",
      "best SSIM: 0.9619033336639404\n",
      "best SSIM epoch:  47\n"
     ]
    },
    {
     "name": "stderr",
     "output_type": "stream",
     "text": [
      "144it [53:03, 22.83s/it]"
     ]
    },
    {
     "name": "stdout",
     "output_type": "stream",
     "text": [
      "best L1:  0.09901504963636398\n",
      "best L1 epoch:  75\n",
      "best SSIM: 0.9637069702148438\n",
      "best SSIM epoch:  68\n"
     ]
    },
    {
     "name": "stderr",
     "output_type": "stream",
     "text": [
      "145it [53:27, 22.97s/it]"
     ]
    },
    {
     "name": "stdout",
     "output_type": "stream",
     "text": [
      "best L1:  0.0939071998000145\n",
      "best L1 epoch:  106\n",
      "best SSIM: 0.9689401984214783\n",
      "best SSIM epoch:  205\n"
     ]
    },
    {
     "name": "stderr",
     "output_type": "stream",
     "text": [
      "146it [53:49, 22.84s/it]"
     ]
    },
    {
     "name": "stdout",
     "output_type": "stream",
     "text": [
      "best L1:  0.09481175243854523\n",
      "best L1 epoch:  140\n",
      "best SSIM: 0.9695103168487549\n",
      "best SSIM epoch:  172\n"
     ]
    },
    {
     "name": "stderr",
     "output_type": "stream",
     "text": [
      "147it [54:12, 22.89s/it]"
     ]
    },
    {
     "name": "stdout",
     "output_type": "stream",
     "text": [
      "best L1:  0.0968288704752922\n",
      "best L1 epoch:  93\n",
      "best SSIM: 0.9656981825828552\n",
      "best SSIM epoch:  157\n"
     ]
    },
    {
     "name": "stderr",
     "output_type": "stream",
     "text": [
      "148it [54:35, 22.81s/it]"
     ]
    },
    {
     "name": "stdout",
     "output_type": "stream",
     "text": [
      "best L1:  0.09912855178117752\n",
      "best L1 epoch:  187\n",
      "best SSIM: 0.9623842835426331\n",
      "best SSIM epoch:  150\n"
     ]
    },
    {
     "name": "stderr",
     "output_type": "stream",
     "text": [
      "149it [54:58, 22.91s/it]"
     ]
    },
    {
     "name": "stdout",
     "output_type": "stream",
     "text": [
      "best L1:  0.10151707381010056\n",
      "best L1 epoch:  264\n",
      "best SSIM: 0.9671306014060974\n",
      "best SSIM epoch:  97\n"
     ]
    },
    {
     "name": "stderr",
     "output_type": "stream",
     "text": [
      "150it [55:21, 22.85s/it]"
     ]
    },
    {
     "name": "stdout",
     "output_type": "stream",
     "text": [
      "best L1:  0.09286455810070038\n",
      "best L1 epoch:  105\n",
      "best SSIM: 0.9705319404602051\n",
      "best SSIM epoch:  96\n"
     ]
    },
    {
     "name": "stderr",
     "output_type": "stream",
     "text": [
      "151it [55:43, 22.85s/it]"
     ]
    },
    {
     "name": "stdout",
     "output_type": "stream",
     "text": [
      "best L1:  0.09048714488744736\n",
      "best L1 epoch:  235\n",
      "best SSIM: 0.9726371169090271\n",
      "best SSIM epoch:  102\n"
     ]
    },
    {
     "name": "stderr",
     "output_type": "stream",
     "text": [
      "152it [56:06, 22.77s/it]"
     ]
    },
    {
     "name": "stdout",
     "output_type": "stream",
     "text": [
      "best L1:  0.09307052195072174\n",
      "best L1 epoch:  125\n",
      "best SSIM: 0.9722990989685059\n",
      "best SSIM epoch:  131\n"
     ]
    },
    {
     "name": "stderr",
     "output_type": "stream",
     "text": [
      "153it [56:29, 22.97s/it]"
     ]
    },
    {
     "name": "stdout",
     "output_type": "stream",
     "text": [
      "best L1:  0.141119122505188\n",
      "best L1 epoch:  295\n",
      "best SSIM: 0.943155825138092\n",
      "best SSIM epoch:  78\n"
     ]
    },
    {
     "name": "stderr",
     "output_type": "stream",
     "text": [
      "154it [56:53, 23.16s/it]"
     ]
    },
    {
     "name": "stdout",
     "output_type": "stream",
     "text": [
      "best L1:  0.13538844883441925\n",
      "best L1 epoch:  255\n",
      "best SSIM: 0.9475914835929871\n",
      "best SSIM epoch:  100\n"
     ]
    },
    {
     "name": "stderr",
     "output_type": "stream",
     "text": [
      "155it [57:17, 23.32s/it]"
     ]
    },
    {
     "name": "stdout",
     "output_type": "stream",
     "text": [
      "best L1:  0.1366204023361206\n",
      "best L1 epoch:  239\n",
      "best SSIM: 0.9395495653152466\n",
      "best SSIM epoch:  57\n"
     ]
    },
    {
     "name": "stderr",
     "output_type": "stream",
     "text": [
      "156it [57:40, 23.27s/it]"
     ]
    },
    {
     "name": "stdout",
     "output_type": "stream",
     "text": [
      "best L1:  0.13777054846286774\n",
      "best L1 epoch:  284\n",
      "best SSIM: 0.940819263458252\n",
      "best SSIM epoch:  198\n"
     ]
    },
    {
     "name": "stderr",
     "output_type": "stream",
     "text": [
      "157it [58:03, 23.12s/it]"
     ]
    },
    {
     "name": "stdout",
     "output_type": "stream",
     "text": [
      "best L1:  0.09344436973333359\n",
      "best L1 epoch:  282\n",
      "best SSIM: 0.9632859826087952\n",
      "best SSIM epoch:  191\n"
     ]
    },
    {
     "name": "stderr",
     "output_type": "stream",
     "text": [
      "158it [58:25, 22.99s/it]"
     ]
    },
    {
     "name": "stdout",
     "output_type": "stream",
     "text": [
      "best L1:  0.09271895885467529\n",
      "best L1 epoch:  327\n",
      "best SSIM: 0.9660593867301941\n",
      "best SSIM epoch:  124\n"
     ]
    },
    {
     "name": "stderr",
     "output_type": "stream",
     "text": [
      "159it [58:49, 23.07s/it]"
     ]
    },
    {
     "name": "stdout",
     "output_type": "stream",
     "text": [
      "best L1:  0.08879507333040237\n",
      "best L1 epoch:  224\n",
      "best SSIM: 0.9692770838737488\n",
      "best SSIM epoch:  162\n"
     ]
    },
    {
     "name": "stderr",
     "output_type": "stream",
     "text": [
      "160it [59:11, 22.85s/it]"
     ]
    },
    {
     "name": "stdout",
     "output_type": "stream",
     "text": [
      "best L1:  0.09122871607542038\n",
      "best L1 epoch:  242\n",
      "best SSIM: 0.9671424031257629\n",
      "best SSIM epoch:  222\n"
     ]
    },
    {
     "name": "stderr",
     "output_type": "stream",
     "text": [
      "161it [59:35, 23.10s/it]"
     ]
    },
    {
     "name": "stdout",
     "output_type": "stream",
     "text": [
      "best L1:  0.12530900537967682\n",
      "best L1 epoch:  324\n",
      "best SSIM: 0.9659883975982666\n",
      "best SSIM epoch:  290\n"
     ]
    },
    {
     "name": "stderr",
     "output_type": "stream",
     "text": [
      "162it [59:58, 23.20s/it]"
     ]
    },
    {
     "name": "stdout",
     "output_type": "stream",
     "text": [
      "best L1:  0.1245185062289238\n",
      "best L1 epoch:  335\n",
      "best SSIM: 0.9628764390945435\n",
      "best SSIM epoch:  293\n"
     ]
    },
    {
     "name": "stderr",
     "output_type": "stream",
     "text": [
      "163it [1:00:22, 23.36s/it]"
     ]
    },
    {
     "name": "stdout",
     "output_type": "stream",
     "text": [
      "best L1:  0.12840209901332855\n",
      "best L1 epoch:  283\n",
      "best SSIM: 0.9577615857124329\n",
      "best SSIM epoch:  186\n"
     ]
    },
    {
     "name": "stderr",
     "output_type": "stream",
     "text": [
      "164it [1:00:45, 23.35s/it]"
     ]
    },
    {
     "name": "stdout",
     "output_type": "stream",
     "text": [
      "best L1:  0.1299310326576233\n",
      "best L1 epoch:  223\n",
      "best SSIM: 0.9586099982261658\n",
      "best SSIM epoch:  218\n"
     ]
    },
    {
     "name": "stderr",
     "output_type": "stream",
     "text": [
      "165it [1:01:09, 23.41s/it]"
     ]
    },
    {
     "name": "stdout",
     "output_type": "stream",
     "text": [
      "best L1:  0.09364870190620422\n",
      "best L1 epoch:  178\n",
      "best SSIM: 0.9687207341194153\n",
      "best SSIM epoch:  125\n"
     ]
    },
    {
     "name": "stderr",
     "output_type": "stream",
     "text": [
      "166it [1:01:32, 23.33s/it]"
     ]
    },
    {
     "name": "stdout",
     "output_type": "stream",
     "text": [
      "best L1:  0.08644621819257736\n",
      "best L1 epoch:  57\n",
      "best SSIM: 0.9721155166625977\n",
      "best SSIM epoch:  106\n"
     ]
    },
    {
     "name": "stderr",
     "output_type": "stream",
     "text": [
      "167it [1:01:55, 23.36s/it]"
     ]
    },
    {
     "name": "stdout",
     "output_type": "stream",
     "text": [
      "best L1:  0.08418156206607819\n",
      "best L1 epoch:  239\n",
      "best SSIM: 0.9741144180297852\n",
      "best SSIM epoch:  206\n"
     ]
    },
    {
     "name": "stderr",
     "output_type": "stream",
     "text": [
      "168it [1:02:19, 23.38s/it]"
     ]
    },
    {
     "name": "stdout",
     "output_type": "stream",
     "text": [
      "best L1:  0.08392130583524704\n",
      "best L1 epoch:  107\n",
      "best SSIM: 0.9715051651000977\n",
      "best SSIM epoch:  150\n"
     ]
    },
    {
     "name": "stderr",
     "output_type": "stream",
     "text": [
      "169it [1:02:42, 23.41s/it]"
     ]
    },
    {
     "name": "stdout",
     "output_type": "stream",
     "text": [
      "best L1:  0.08861659467220306\n",
      "best L1 epoch:  427\n",
      "best SSIM: 0.9753386974334717\n",
      "best SSIM epoch:  254\n"
     ]
    },
    {
     "name": "stderr",
     "output_type": "stream",
     "text": [
      "170it [1:03:05, 23.37s/it]"
     ]
    },
    {
     "name": "stdout",
     "output_type": "stream",
     "text": [
      "best L1:  0.08747117221355438\n",
      "best L1 epoch:  167\n",
      "best SSIM: 0.9732073545455933\n",
      "best SSIM epoch:  125\n"
     ]
    },
    {
     "name": "stderr",
     "output_type": "stream",
     "text": [
      "171it [1:03:29, 23.32s/it]"
     ]
    },
    {
     "name": "stdout",
     "output_type": "stream",
     "text": [
      "best L1:  0.08780456334352493\n",
      "best L1 epoch:  232\n",
      "best SSIM: 0.9727368354797363\n",
      "best SSIM epoch:  195\n"
     ]
    },
    {
     "name": "stderr",
     "output_type": "stream",
     "text": [
      "172it [1:03:52, 23.34s/it]"
     ]
    },
    {
     "name": "stdout",
     "output_type": "stream",
     "text": [
      "best L1:  0.09150030463933945\n",
      "best L1 epoch:  118\n",
      "best SSIM: 0.9674893617630005\n",
      "best SSIM epoch:  132\n"
     ]
    },
    {
     "name": "stderr",
     "output_type": "stream",
     "text": [
      "173it [1:04:15, 23.23s/it]"
     ]
    },
    {
     "name": "stdout",
     "output_type": "stream",
     "text": [
      "best L1:  0.13474279642105103\n",
      "best L1 epoch:  311\n",
      "best SSIM: 0.9489244818687439\n",
      "best SSIM epoch:  215\n"
     ]
    },
    {
     "name": "stderr",
     "output_type": "stream",
     "text": [
      "174it [1:04:38, 23.07s/it]"
     ]
    },
    {
     "name": "stdout",
     "output_type": "stream",
     "text": [
      "best L1:  0.1270228922367096\n",
      "best L1 epoch:  290\n",
      "best SSIM: 0.9521542191505432\n",
      "best SSIM epoch:  220\n"
     ]
    },
    {
     "name": "stderr",
     "output_type": "stream",
     "text": [
      "175it [1:05:00, 22.93s/it]"
     ]
    },
    {
     "name": "stdout",
     "output_type": "stream",
     "text": [
      "best L1:  0.12064522504806519\n",
      "best L1 epoch:  247\n",
      "best SSIM: 0.9541496634483337\n",
      "best SSIM epoch:  208\n"
     ]
    },
    {
     "name": "stderr",
     "output_type": "stream",
     "text": [
      "176it [1:05:23, 22.88s/it]"
     ]
    },
    {
     "name": "stdout",
     "output_type": "stream",
     "text": [
      "best L1:  0.12218205630779266\n",
      "best L1 epoch:  241\n",
      "best SSIM: 0.9586595892906189\n",
      "best SSIM epoch:  191\n"
     ]
    },
    {
     "name": "stderr",
     "output_type": "stream",
     "text": [
      "177it [1:05:46, 23.05s/it]"
     ]
    },
    {
     "name": "stdout",
     "output_type": "stream",
     "text": [
      "best L1:  0.08897494524717331\n",
      "best L1 epoch:  163\n",
      "best SSIM: 0.9662989377975464\n",
      "best SSIM epoch:  197\n"
     ]
    },
    {
     "name": "stderr",
     "output_type": "stream",
     "text": [
      "178it [1:06:11, 23.55s/it]"
     ]
    },
    {
     "name": "stdout",
     "output_type": "stream",
     "text": [
      "best L1:  0.09035609662532806\n",
      "best L1 epoch:  183\n",
      "best SSIM: 0.9700857996940613\n",
      "best SSIM epoch:  210\n"
     ]
    },
    {
     "name": "stderr",
     "output_type": "stream",
     "text": [
      "179it [1:06:35, 23.70s/it]"
     ]
    },
    {
     "name": "stdout",
     "output_type": "stream",
     "text": [
      "best L1:  0.08932320028543472\n",
      "best L1 epoch:  190\n",
      "best SSIM: 0.9694361090660095\n",
      "best SSIM epoch:  226\n"
     ]
    },
    {
     "name": "stderr",
     "output_type": "stream",
     "text": [
      "180it [1:06:59, 23.73s/it]"
     ]
    },
    {
     "name": "stdout",
     "output_type": "stream",
     "text": [
      "best L1:  0.09255674481391907\n",
      "best L1 epoch:  116\n",
      "best SSIM: 0.9677006006240845\n",
      "best SSIM epoch:  160\n"
     ]
    },
    {
     "name": "stderr",
     "output_type": "stream",
     "text": [
      "181it [1:07:23, 23.90s/it]"
     ]
    },
    {
     "name": "stdout",
     "output_type": "stream",
     "text": [
      "best L1:  0.1155422255396843\n",
      "best L1 epoch:  251\n",
      "best SSIM: 0.9742400646209717\n",
      "best SSIM epoch:  234\n"
     ]
    },
    {
     "name": "stderr",
     "output_type": "stream",
     "text": [
      "182it [1:07:48, 24.16s/it]"
     ]
    },
    {
     "name": "stdout",
     "output_type": "stream",
     "text": [
      "best L1:  0.1199268326163292\n",
      "best L1 epoch:  341\n",
      "best SSIM: 0.9729095697402954\n",
      "best SSIM epoch:  256\n"
     ]
    },
    {
     "name": "stderr",
     "output_type": "stream",
     "text": [
      "183it [1:08:13, 24.35s/it]"
     ]
    },
    {
     "name": "stdout",
     "output_type": "stream",
     "text": [
      "best L1:  0.12254710495471954\n",
      "best L1 epoch:  160\n",
      "best SSIM: 0.9691108465194702\n",
      "best SSIM epoch:  156\n"
     ]
    },
    {
     "name": "stderr",
     "output_type": "stream",
     "text": [
      "184it [1:08:38, 24.68s/it]"
     ]
    },
    {
     "name": "stdout",
     "output_type": "stream",
     "text": [
      "best L1:  0.1332392692565918\n",
      "best L1 epoch:  218\n",
      "best SSIM: 0.9686930775642395\n",
      "best SSIM epoch:  86\n"
     ]
    },
    {
     "name": "stderr",
     "output_type": "stream",
     "text": [
      "185it [1:09:03, 24.65s/it]"
     ]
    },
    {
     "name": "stdout",
     "output_type": "stream",
     "text": [
      "best L1:  0.09672179073095322\n",
      "best L1 epoch:  68\n",
      "best SSIM: 0.9585517644882202\n",
      "best SSIM epoch:  75\n"
     ]
    },
    {
     "name": "stderr",
     "output_type": "stream",
     "text": [
      "186it [1:09:27, 24.40s/it]"
     ]
    },
    {
     "name": "stdout",
     "output_type": "stream",
     "text": [
      "best L1:  0.0880432054400444\n",
      "best L1 epoch:  85\n",
      "best SSIM: 0.9637559652328491\n",
      "best SSIM epoch:  92\n"
     ]
    },
    {
     "name": "stderr",
     "output_type": "stream",
     "text": [
      "187it [1:09:51, 24.38s/it]"
     ]
    },
    {
     "name": "stdout",
     "output_type": "stream",
     "text": [
      "best L1:  0.08704439550638199\n",
      "best L1 epoch:  83\n",
      "best SSIM: 0.9647764563560486\n",
      "best SSIM epoch:  95\n"
     ]
    },
    {
     "name": "stderr",
     "output_type": "stream",
     "text": [
      "188it [1:10:15, 24.35s/it]"
     ]
    },
    {
     "name": "stdout",
     "output_type": "stream",
     "text": [
      "best L1:  0.08440578728914261\n",
      "best L1 epoch:  119\n",
      "best SSIM: 0.9709040522575378\n",
      "best SSIM epoch:  156\n"
     ]
    },
    {
     "name": "stderr",
     "output_type": "stream",
     "text": [
      "189it [1:10:38, 23.92s/it]"
     ]
    },
    {
     "name": "stdout",
     "output_type": "stream",
     "text": [
      "best L1:  0.11041291058063507\n",
      "best L1 epoch:  300\n",
      "best SSIM: 0.9613929986953735\n",
      "best SSIM epoch:  115\n"
     ]
    },
    {
     "name": "stderr",
     "output_type": "stream",
     "text": [
      "190it [1:11:00, 23.37s/it]"
     ]
    },
    {
     "name": "stdout",
     "output_type": "stream",
     "text": [
      "best L1:  0.10681479424238205\n",
      "best L1 epoch:  147\n",
      "best SSIM: 0.9569554924964905\n",
      "best SSIM epoch:  131\n"
     ]
    },
    {
     "name": "stderr",
     "output_type": "stream",
     "text": [
      "191it [1:11:22, 22.73s/it]"
     ]
    },
    {
     "name": "stdout",
     "output_type": "stream",
     "text": [
      "best L1:  0.10425782203674316\n",
      "best L1 epoch:  105\n",
      "best SSIM: 0.9564170241355896\n",
      "best SSIM epoch:  105\n"
     ]
    },
    {
     "name": "stderr",
     "output_type": "stream",
     "text": [
      "192it [1:11:43, 22.47s/it]"
     ]
    },
    {
     "name": "stdout",
     "output_type": "stream",
     "text": [
      "best L1:  0.10669272392988205\n",
      "best L1 epoch:  85\n",
      "best SSIM: 0.9544827342033386\n",
      "best SSIM epoch:  100\n"
     ]
    },
    {
     "name": "stderr",
     "output_type": "stream",
     "text": [
      "193it [1:12:08, 22.94s/it]"
     ]
    },
    {
     "name": "stdout",
     "output_type": "stream",
     "text": [
      "best L1:  0.11493970453739166\n",
      "best L1 epoch:  170\n",
      "best SSIM: 0.9699002504348755\n",
      "best SSIM epoch:  139\n"
     ]
    },
    {
     "name": "stderr",
     "output_type": "stream",
     "text": [
      "194it [1:12:31, 23.05s/it]"
     ]
    },
    {
     "name": "stdout",
     "output_type": "stream",
     "text": [
      "best L1:  0.11560003459453583\n",
      "best L1 epoch:  272\n",
      "best SSIM: 0.9707151055335999\n",
      "best SSIM epoch:  215\n"
     ]
    },
    {
     "name": "stderr",
     "output_type": "stream",
     "text": [
      "195it [1:12:54, 23.06s/it]"
     ]
    },
    {
     "name": "stdout",
     "output_type": "stream",
     "text": [
      "best L1:  0.12459635734558105\n",
      "best L1 epoch:  270\n",
      "best SSIM: 0.9673397541046143\n",
      "best SSIM epoch:  211\n"
     ]
    },
    {
     "name": "stderr",
     "output_type": "stream",
     "text": [
      "196it [1:13:17, 23.14s/it]"
     ]
    },
    {
     "name": "stdout",
     "output_type": "stream",
     "text": [
      "best L1:  0.14267560839653015\n",
      "best L1 epoch:  291\n",
      "best SSIM: 0.9634409546852112\n",
      "best SSIM epoch:  201\n"
     ]
    },
    {
     "name": "stderr",
     "output_type": "stream",
     "text": [
      "197it [1:13:40, 22.96s/it]"
     ]
    },
    {
     "name": "stdout",
     "output_type": "stream",
     "text": [
      "best L1:  0.106934554874897\n",
      "best L1 epoch:  184\n",
      "best SSIM: 0.968389093875885\n",
      "best SSIM epoch:  163\n"
     ]
    },
    {
     "name": "stderr",
     "output_type": "stream",
     "text": [
      "198it [1:14:03, 22.91s/it]"
     ]
    },
    {
     "name": "stdout",
     "output_type": "stream",
     "text": [
      "best L1:  0.10394541174173355\n",
      "best L1 epoch:  175\n",
      "best SSIM: 0.9665471315383911\n",
      "best SSIM epoch:  116\n"
     ]
    },
    {
     "name": "stderr",
     "output_type": "stream",
     "text": [
      "199it [1:14:26, 22.97s/it]"
     ]
    },
    {
     "name": "stdout",
     "output_type": "stream",
     "text": [
      "best L1:  0.10637722164392471\n",
      "best L1 epoch:  92\n",
      "best SSIM: 0.9646404385566711\n",
      "best SSIM epoch:  87\n"
     ]
    },
    {
     "name": "stderr",
     "output_type": "stream",
     "text": [
      "200it [1:14:49, 22.45s/it]"
     ]
    },
    {
     "name": "stdout",
     "output_type": "stream",
     "text": [
      "best L1:  0.11155816912651062\n",
      "best L1 epoch:  196\n",
      "best SSIM: 0.9626089930534363\n",
      "best SSIM epoch:  84\n",
      "Testing average L1 loss:  0.10637188885360956\n",
      "Testing average L1 loss epoch:  211.95\n",
      "Testing average SSIM loss:  0.9640017288923264\n",
      "Testing average SSIM loss epoch:  159.63\n"
     ]
    },
    {
     "name": "stderr",
     "output_type": "stream",
     "text": [
      "\n"
     ]
    }
   ],
   "source": [
    "checkpoint_path_meta =  '/cheng/metaMRI/metaMRI/save/E11.2_maml(l1_CA-1e-3-4_Q)_T300_200epoch/E11.2_maml(l1_CA-1e-3-4_Q)_T300_200epoch_E98_best.pth'\n",
    "# '/cheng/metaMRI/metaMRI/save/E11.1_maml(L1-5adapt)_T300_200epoch/E11.1_maml(L1-5adapt)_T300_200epoch_E79_best.pth'\n",
    "# '/cheng/metaMRI/metaMRI/save/E11.3_maml(l1_CA-1e-3-4_P)_T300_200epoch/E11.3_maml(l1_CA-1e-3-4_P)_T300_200epoch_E79_best.pth'\n",
    "# '/cheng/metaMRI/metaMRI/save/E11.3_maml(l1_CA-1e-3-4_P)_adapt10_T300_200epoch/E11.3_maml(l1_CA-1e-3-4_P)_adapt10_T300_200epoch_E92_best.pth'\n",
    "\n",
    "model_meta = Unet(in_chans=2, out_chans=2, chans=32, num_pool_layers=4, drop_prob=0.0)\n",
    "model_meta.load_state_dict(torch.load(checkpoint_path_meta))\n",
    "model_meta = model_meta.to(device)\n",
    "\n",
    "\n",
    "best_loss_l1_history=[]\n",
    "best_loss_l1_index_history=[]\n",
    "best_loss_ssim_history=[]\n",
    "best_loss_ssim_index_history=[]\n",
    "\n",
    "for iter, batch in tqdm(enumerate(test_dataloader)): \n",
    "    input_image, target_image, ground_truth_image, mean, std, fname, slice_num, input_kspace, input_mask, target_kspace, target_mask, sens_maps, binary_background_mask = batch\n",
    "    input_image = input_image.to(device)\n",
    "    target_image = target_image.to(device)\n",
    "    input_kspace = input_kspace.to(device)\n",
    "    input_mask = input_mask.to(device)\n",
    "    sens_maps = sens_maps.to(device)\n",
    "    std = std.to(device)\n",
    "    mean = mean.to(device)\n",
    "    ground_truth_image = ground_truth_image.to(device)\n",
    "    binary_background_mask = binary_background_mask.to(device)\n",
    "\n",
    "    # model re-init\n",
    "    model_meta.load_state_dict(torch.load(checkpoint_path_meta))\n",
    "\n",
    "    # each data point TTT\n",
    "    loss_l1_history, loss_ssim_history, self_loss_history = TTT(model_meta, TTT_epoch=500, adapt_lr=0.0001)\n",
    "    best_loss_l1 = min(loss_l1_history)\n",
    "    print('best L1: ', best_loss_l1)\n",
    "    best_loss_l1_epoch = np.argmin(loss_l1_history)\n",
    "    print('best L1 epoch: ', best_loss_l1_epoch)\n",
    "    best_loss_ssim = max(loss_ssim_history)\n",
    "    print('best SSIM:', best_loss_ssim)\n",
    "    best_loss_ssim_epoch = np.argmax(loss_ssim_history)\n",
    "    print('best SSIM epoch: ', best_loss_ssim_epoch)\n",
    "\n",
    "    best_loss_l1_index_history.append(best_loss_l1_epoch)\n",
    "    best_loss_ssim_index_history.append(best_loss_ssim_epoch)\n",
    "    best_loss_l1_history.append(best_loss_l1)\n",
    "    best_loss_ssim_history.append(best_loss_ssim)\n",
    "\n",
    "\n",
    "print(\"Testing average L1 loss: \", sum(best_loss_l1_history) / len(best_loss_l1_history))\n",
    "print(\"Testing average L1 loss epoch: \", sum(best_loss_l1_index_history) / len(best_loss_l1_index_history))\n",
    "print(\"Testing average SSIM loss: \", sum(best_loss_ssim_history) / len(best_loss_ssim_history))\n",
    "print(\"Testing average SSIM loss epoch: \", sum(best_loss_ssim_index_history) / len(best_loss_ssim_index_history))"
   ]
  }
 ],
 "metadata": {
  "kernelspec": {
   "display_name": "base",
   "language": "python",
   "name": "python3"
  },
  "language_info": {
   "codemirror_mode": {
    "name": "ipython",
    "version": 3
   },
   "file_extension": ".py",
   "mimetype": "text/x-python",
   "name": "python",
   "nbconvert_exporter": "python",
   "pygments_lexer": "ipython3",
   "version": "3.10.8"
  },
  "orig_nbformat": 4
 },
 "nbformat": 4,
 "nbformat_minor": 2
}
