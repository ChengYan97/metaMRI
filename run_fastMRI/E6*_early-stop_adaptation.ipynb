{
 "cells": [
  {
   "cell_type": "code",
   "execution_count": 1,
   "metadata": {},
   "outputs": [],
   "source": [
    "import random\n",
    "import numpy as np\n",
    "import os\n",
    "os.environ['CUDA_VISIBLE_DEVICES'] = '1'\n",
    "import torch\n",
    "import learn2learn as l2l\n",
    "from tqdm import tqdm\n",
    "from torch.utils.tensorboard import SummaryWriter\n",
    "from torch.optim.lr_scheduler import StepLR\n",
    "# The corase reconstruction is the rss of the zerofilled multi-coil kspaces\n",
    "# after inverse FT.\n",
    "from functions.data.transforms import UnetDataTransform, UnetDataTransform_norm, normalize\n",
    "# Import a torch.utils.data.Dataset class that takes a list of data examples, a path to those examples\n",
    "# a data transform and outputs a torch dataset.\n",
    "from functions.data.mri_dataset import SliceDataset\n",
    "# Unet architecture as nn.Module\n",
    "from functions.models.unet import Unet\n",
    "# Function that returns a MaskFunc object either for generatig random or equispaced masks\n",
    "from functions.data.subsample import create_mask_for_mask_type\n",
    "# Implementation of SSIMLoss\n",
    "from functions.training.losses import SSIMLoss\n",
    "\n",
    "device = torch.device('cuda') if torch.cuda.is_available() else torch.device('cpu')\n",
    "\n",
    "####################################################################################\n",
    "SEED = 1\n",
    "INIT = 'standard'   # 'standard', 'maml'\n",
    "TARGET = 'Q2'       # 'Q1', 'Q2', 'Q3'\n",
    "LR = 0.001 \n",
    "\n",
    "\n",
    "# hyperparameter\n",
    "TRAINING_EPOCH = 30\n",
    "adapt_shot = 10\n",
    "\n",
    "####################################################################################\n",
    "# seed\n",
    "random.seed(SEED)\n",
    "np.random.seed(SEED)\n",
    "torch.cuda.manual_seed(SEED)\n",
    "torch.manual_seed(SEED)\n",
    "\n",
    "# different trained weight\n",
    "if INIT == 'standard':\n",
    "    checkpoint_path = \"/cheng/metaMRI/metaMRI/save/E6*/E6.6_standard(NMSE-lrAnneal)_T8x200_100epoch_E85_best.pth\"\n",
    "elif INIT == 'maml':\n",
    "    checkpoint_path = \"/cheng/metaMRI/metaMRI/save/E6*/E6.4_maml(NMSE-lre-3)_T8x200_200epoch_E200_best.pth\"\n",
    "else: \n",
    "    print('Choose the initialization weight. ')\n",
    "\n",
    "# target domain\n",
    "if TARGET == 'Q1': \n",
    "    path_adapt = '/cheng/metaMRI/metaMRI/data_dict/E6.2/brain_train_AXT1POST_TrioTim_5-8.yaml'\n",
    "    path_test = '/cheng/metaMRI/metaMRI/data_dict/E6.2/brain_test_AXT1POST_TrioTim_5-8.yaml'\n",
    "elif TARGET == 'Q2': \n",
    "    path_adapt = '/cheng/metaMRI/metaMRI/data_dict/E6.2/brain_train_AXFLAIR_Skyra_5-8.yaml'\n",
    "    path_test = '/cheng/metaMRI/metaMRI/data_dict/E6.2/brain_test_AXFLAIR_Skyra_5-8.yaml'\n",
    "elif TARGET == 'Q3': \n",
    "    path_adapt = '/cheng/metaMRI/metaMRI/data_dict/E6.2/brain_train_AXT2_Aera_5-8.yaml'\n",
    "    path_test = '/cheng/metaMRI/metaMRI/data_dict/E6.2/brain_test_AXT2_Aera_5-8.yaml'\n",
    "elif TARGET == 'P1': \n",
    "    path_adapt = '/cheng/metaMRI/metaMRI/data_dict/E6.3/P/knee_val_PD_Aera_2-9.yaml'\n",
    "    path_test = '/cheng/metaMRI/metaMRI/data_dict/E6.3/P/knee_test_PD_Aera_2-9.yaml'\n",
    "elif TARGET == 'P2': \n",
    "    path_adapt = '/cheng/metaMRI/metaMRI/data_dict/E6.3/P/knee_val_PD_Aera_15-22.yaml'\n",
    "    path_test = '/cheng/metaMRI/metaMRI/data_dict/E6.3/P/knee_test_PD_Aera_15-22.yaml'\n",
    "elif TARGET == 'P3': \n",
    "    path_adapt = '/cheng/metaMRI/metaMRI/data_dict/E6.3/P/knee_val_PD_Biograph_15-22.yaml'\n",
    "    path_test = '/cheng/metaMRI/metaMRI/data_dict/E6.3/P/knee_test_PD_Biograph_15-22.yaml'\n",
    "elif TARGET == 'P4': \n",
    "    path_adapt = '/cheng/metaMRI/metaMRI/data_dict/E6.3/P/knee_val_PD_Skyra_15-22.yaml'\n",
    "    path_test = '/cheng/metaMRI/metaMRI/data_dict/E6.3/P/knee_test_PD_Skyra_15-22.yaml'\n",
    "elif TARGET == 'P5': \n",
    "    path_adapt = '/cheng/metaMRI/metaMRI/data_dict/E6.3/P/knee_val_PDFS_Aera_2-9.yaml'\n",
    "    path_test = '/cheng/metaMRI/metaMRI/data_dict/E6.3/P/knee_test_PDFS_Aera_2-9.yaml'\n",
    "elif TARGET == 'P6': \n",
    "    path_adapt = '/cheng/metaMRI/metaMRI/data_dict/E6.3/P/knee_val_PDFS_Aera_15-22.yaml'\n",
    "    path_test = '/cheng/metaMRI/metaMRI/data_dict/E6.3/P/knee_test_PDFS_Aera_15-22.yaml'\n",
    "elif TARGET == 'P7': \n",
    "    path_adapt = '/cheng/metaMRI/metaMRI/data_dict/E6.3/P/knee_val_PDFS_Biograph_15-22.yaml'\n",
    "    path_test = '/cheng/metaMRI/metaMRI/data_dict/E6.3/P/knee_test_PDFS_Biograph_15-22.yaml'\n",
    "elif TARGET == 'P8': \n",
    "    path_adapt = '/cheng/metaMRI/metaMRI/data_dict/E6.3/P/knee_val_PDFS_Skyra_15-22.yaml'\n",
    "    path_test = '/cheng/metaMRI/metaMRI/data_dict/E6.3/P/knee_test_PDFS_Skyra_15-22.yaml'\n"
   ]
  },
  {
   "attachments": {},
   "cell_type": "markdown",
   "metadata": {},
   "source": [
    "Data"
   ]
  },
  {
   "cell_type": "code",
   "execution_count": 2,
   "metadata": {},
   "outputs": [
    {
     "name": "stdout",
     "output_type": "stream",
     "text": [
      "Adapt date number:  10\n",
      "Validation date number:  300\n"
     ]
    }
   ],
   "source": [
    "# mask function and data transform\n",
    "mask_function = create_mask_for_mask_type(mask_type_str = 'random', self_sup = False, \n",
    "                    center_fraction = 0.08, acceleration = 4.0, acceleration_total = 3.0)\n",
    "\n",
    "\n",
    "data_transform = UnetDataTransform_norm('multicoil', mask_func = mask_function, use_seed=True, mode='adapt')\n",
    "\n",
    "sourse_set = SliceDataset(dataset = path_adapt, path_to_dataset='', path_to_sensmaps=None, provide_senmaps=False, \n",
    "                        challenge=\"multicoil\", transform=data_transform, use_dataset_cache=True)\n",
    "indices = random.sample(range(len(sourse_set)), adapt_shot)\n",
    "# adapt_shot_sampler = torch.utils.data.sampler.SubsetRandomSampler(indices)\n",
    "adapt_dataset = torch.utils.data.Subset(sourse_set, indices)\n",
    "adapt_dataloader = torch.utils.data.DataLoader(adapt_dataset, batch_size = 1, num_workers = 8, \n",
    "                                generator = torch.Generator().manual_seed(1), pin_memory = True)\n",
    "\n",
    "print(\"Adapt date number: \", len(adapt_dataloader))\n",
    "#%%\n",
    "\n",
    "test_set = SliceDataset(dataset = path_test, path_to_dataset='', path_to_sensmaps=None, provide_senmaps=False, \n",
    "                      challenge=\"multicoil\", transform=data_transform, use_dataset_cache=True)\n",
    "print(\"Validation date number: \", len(test_set))\n",
    "\n",
    "# dataloader: batch size 1 \n",
    "test_dataloader = torch.utils.data.DataLoader(dataset = test_set, batch_size = 1, num_workers = 8, \n",
    "                    shuffle = False, generator = torch.Generator().manual_seed(1))"
   ]
  },
  {
   "attachments": {},
   "cell_type": "markdown",
   "metadata": {},
   "source": [
    "Model"
   ]
  },
  {
   "cell_type": "code",
   "execution_count": 3,
   "metadata": {},
   "outputs": [],
   "source": [
    "model = Unet(in_chans=1, out_chans=1, chans=32, num_pool_layers=4, drop_prob=0.0)\n",
    "model.load_state_dict(torch.load(checkpoint_path))\n",
    "model = model.to(device)\n",
    "\n",
    "optimizer = torch.optim.Adam(model.parameters(),lr=LR)"
   ]
  },
  {
   "attachments": {},
   "cell_type": "markdown",
   "metadata": {},
   "source": [
    "### Calculate the early-stopping epoch as a hyperparameter"
   ]
  },
  {
   "cell_type": "code",
   "execution_count": 4,
   "metadata": {},
   "outputs": [],
   "source": [
    "def evaluate(model, dataloader):\n",
    "    model.eval()\n",
    "    total_l1_loss = 0.0\n",
    "    total_ssim_loss = 0.0\n",
    "    total_psnr_loss = 0.0\n",
    "    total_nmse_loss = 0.0\n",
    "    l1_loss = torch.nn.L1Loss(reduction='sum')\n",
    "    ssim_fct = SSIMLoss()\n",
    "    psner_mse_fct = torch.nn.MSELoss(reduction='mean')\n",
    "    mse_fct = torch.nn.MSELoss(reduction='sum')\n",
    "\n",
    "    for iter, batch in enumerate(dataloader): \n",
    "        input_image, target_image, mean, std, fname, slice_num = batch\n",
    "        val_inputs = input_image.to(device)\n",
    "        val_targets = target_image.to(device)\n",
    "        std = std.to(device)\n",
    "        mean = mean.to(device)\n",
    "\n",
    "        val_outputs = model(val_inputs)\n",
    "        val_outputs = val_outputs * std + mean\n",
    "\n",
    "        # NMAE\n",
    "        l1 = l1_loss(val_outputs, val_targets) / torch.sum(torch.abs(val_targets))\n",
    "        total_l1_loss += l1.item()\n",
    "        # NMSE \n",
    "        nmse_loss = mse_fct(val_outputs, val_targets) / torch.sum(torch.abs(val_targets)**2)\n",
    "        total_nmse_loss += nmse_loss.item()\n",
    "        # PSNR\n",
    "        psnr_loss = 20*torch.log10(torch.tensor(val_targets.max().unsqueeze(0).item()))-10*torch.log10(psner_mse_fct(val_outputs,val_targets))\n",
    "        total_psnr_loss += psnr_loss.item()\n",
    "        # SSIM = 1 - loss\n",
    "        ssim_loss = ssim_fct(val_outputs, val_targets, data_range = val_targets.max().unsqueeze(0))\n",
    "        total_ssim_loss += (1-ssim_loss.item())\n",
    "\n",
    "    validation_loss_l1 = total_l1_loss / len(dataloader) \n",
    "    validation_loss_NMSE = total_nmse_loss / len(dataloader)\n",
    "    validation_loss_PSNR = total_psnr_loss / len(dataloader)\n",
    "    validation_loss_SSIM = total_ssim_loss / len(dataloader)\n",
    "\n",
    "    return validation_loss_l1, validation_loss_NMSE, validation_loss_PSNR, validation_loss_SSIM"
   ]
  },
  {
   "cell_type": "code",
   "execution_count": 5,
   "metadata": {},
   "outputs": [
    {
     "name": "stderr",
     "output_type": "stream",
     "text": [
      "100%|██████████| 30/30 [00:06<00:00,  4.97it/s]\n",
      "100%|██████████| 30/30 [00:04<00:00,  6.36it/s]\n",
      "100%|██████████| 30/30 [00:04<00:00,  6.34it/s]\n",
      "100%|██████████| 30/30 [00:04<00:00,  6.16it/s]\n",
      "100%|██████████| 30/30 [00:04<00:00,  6.37it/s]\n"
     ]
    }
   ],
   "source": [
    "# for one sampled specific few-shots\n",
    "def cal_early_stopping(model, adapt_dataset, training_epoch=30):\n",
    "    # init the model\n",
    "    model.load_state_dict(torch.load(checkpoint_path))\n",
    "    model.train()\n",
    "    # Split the val data for early stop\n",
    "    train_dataset, val_dataset = torch.utils.data.random_split(list(adapt_dataset), [7, 3])\n",
    "\n",
    "    train_loader = torch.utils.data.DataLoader(dataset = train_dataset, batch_size = 1,  \n",
    "                        shuffle = False, generator = torch.Generator().manual_seed(1))\n",
    "    val_loader = torch.utils.data.DataLoader(dataset = val_dataset, batch_size = 1,\n",
    "                        shuffle = False, generator = torch.Generator().manual_seed(1))\n",
    "    val_loss_history = []\n",
    "    for i in tqdm(range(training_epoch)):    \n",
    "        #print('Iteration:', iteration+1)\n",
    "        # train on 5-shots\n",
    "        mse_fct = torch.nn.MSELoss(reduction='sum')\n",
    "\n",
    "        for iter, batch in enumerate(train_loader):\n",
    "            input_image, target_image, mean, std, fname, slice_num = batch\n",
    "            train_inputs = input_image.to(device)\n",
    "            train_targets = target_image.to(device)\n",
    "            std = std.to(device)\n",
    "            mean = mean.to(device)\n",
    "\n",
    "            train_outputs = model(train_inputs)\n",
    "            train_outputs = train_outputs * std + mean\n",
    "\n",
    "            loss = mse_fct(train_outputs, train_targets) / torch.sum(torch.abs(train_targets)**2)\n",
    "            \n",
    "            optimizer.zero_grad()\n",
    "            loss.backward()\n",
    "            optimizer.step()\n",
    "        # evaluate on another 5-shots\n",
    "        validation_loss_l1, validation_loss_NMSE, validation_loss_PSNR, validation_loss_SSIM = evaluate(model, val_loader)\n",
    "        val_loss_history.append(validation_loss_NMSE)\n",
    "\n",
    "        # init the min value and index\n",
    "        min_value = val_loss_history[0] \n",
    "        min_index = 0     \n",
    "        for i in range(1, len(val_loss_history)):\n",
    "            if val_loss_history[i] < min_value:\n",
    "                min_value = val_loss_history[i]\n",
    "                min_index = i \n",
    "\n",
    "    return min_index\n",
    "\n",
    "# repeat several times and get the average early-stopping epoch\n",
    "min_index_history = []\n",
    "for i in range(5):\n",
    "    min_index = cal_early_stopping(model, adapt_dataset)\n",
    "    min_index_history.append(min_index)\n",
    "\n",
    "min_index_mean = sum(min_index_history) / len(min_index_history) "
   ]
  },
  {
   "attachments": {},
   "cell_type": "markdown",
   "metadata": {},
   "source": [
    "Suggested early-stopping epoch"
   ]
  },
  {
   "cell_type": "code",
   "execution_count": 6,
   "metadata": {},
   "outputs": [
    {
     "data": {
      "text/plain": [
       "9.8"
      ]
     },
     "execution_count": 6,
     "metadata": {},
     "output_type": "execute_result"
    }
   ],
   "source": [
    "min_index_mean"
   ]
  },
  {
   "cell_type": "code",
   "execution_count": 7,
   "metadata": {},
   "outputs": [
    {
     "name": "stdout",
     "output_type": "stream",
     "text": [
      "The early-stopping epoch:  11\n"
     ]
    }
   ],
   "source": [
    "print('The early-stopping epoch: ', round(min_index_mean)+1)"
   ]
  },
  {
   "attachments": {},
   "cell_type": "markdown",
   "metadata": {},
   "source": [
    "### Adaptation"
   ]
  },
  {
   "cell_type": "code",
   "execution_count": 8,
   "metadata": {},
   "outputs": [
    {
     "name": "stderr",
     "output_type": "stream",
     "text": [
      "100%|██████████| 30/30 [07:39<00:00, 15.30s/it]\n"
     ]
    }
   ],
   "source": [
    "def adapt(model, dataloader, optimizer): \n",
    "    model.train()\n",
    "    train_loss = 0.0\n",
    "    mse_fct = torch.nn.MSELoss(reduction='sum')\n",
    "\n",
    "    for iter, batch in enumerate(dataloader):\n",
    "        input_image, target_image, mean, std, fname, slice_num = batch\n",
    "        train_inputs = input_image.to(device)\n",
    "        train_targets = target_image.to(device)\n",
    "        std = std.to(device)\n",
    "        mean = mean.to(device)\n",
    "\n",
    "        train_outputs = model(train_inputs)\n",
    "        train_outputs = train_outputs * std + mean\n",
    "\n",
    "        loss = mse_fct(train_outputs, train_targets) / torch.sum(torch.abs(train_targets)**2)\n",
    "        \n",
    "        optimizer.zero_grad()\n",
    "        loss.backward()\n",
    "        optimizer.step()\n",
    "        train_loss += loss.item()\n",
    "\n",
    "    avg_train_loss = train_loss / len(dataloader)\n",
    "    return avg_train_loss\n",
    "\n",
    "##########################\n",
    "# init the model\n",
    "model.load_state_dict(torch.load(checkpoint_path))\n",
    "\n",
    "train_loss_history = []\n",
    "test_loss_history_NMSE = []\n",
    "test_loss_history_PSNR = []\n",
    "test_loss_history_SSIM = []\n",
    "test_loss_l1, test_loss_NMSE, test_loss_PSNR, test_loss_SSIM = evaluate(model, test_dataloader)\n",
    "test_loss_history_NMSE.append(test_loss_NMSE)\n",
    "test_loss_history_PSNR.append(test_loss_PSNR)\n",
    "test_loss_history_SSIM.append(test_loss_SSIM)\n",
    "for iteration in tqdm(range(TRAINING_EPOCH)):\n",
    "    # print('Iteration:', iteration+1)\n",
    "    # training\n",
    "    training_loss = adapt(model, adapt_dataloader, optimizer)\n",
    "    train_loss_history.append(training_loss)\n",
    "    # val\n",
    "    test_loss_l1, test_loss_NMSE, test_loss_PSNR, test_loss_SSIM = evaluate(model, test_dataloader)\n",
    "    test_loss_history_NMSE.append(test_loss_NMSE)\n",
    "    test_loss_history_PSNR.append(test_loss_PSNR)\n",
    "    test_loss_history_SSIM.append(test_loss_SSIM)\n"
   ]
  },
  {
   "cell_type": "code",
   "execution_count": 9,
   "metadata": {},
   "outputs": [
    {
     "name": "stdout",
     "output_type": "stream",
     "text": [
      "The initial performance: \n",
      "NMSE:  0.01305391053436324\n",
      "PSNR:  30.332847557067872\n",
      "SSIM:  0.8302354888121287\n"
     ]
    }
   ],
   "source": [
    "print('The initial performance: ')\n",
    "print('NMSE: ', test_loss_history_NMSE[0])\n",
    "print('PSNR: ', test_loss_history_PSNR[0])\n",
    "print('SSIM: ', test_loss_history_SSIM[0])"
   ]
  },
  {
   "cell_type": "code",
   "execution_count": 10,
   "metadata": {},
   "outputs": [
    {
     "name": "stdout",
     "output_type": "stream",
     "text": [
      "The performance by early-stopping: \n",
      "NMSE:  0.012077562672396501\n",
      "PSNR:  30.73623488108317\n",
      "SSIM:  0.8352386226256688\n"
     ]
    }
   ],
   "source": [
    "print('The performance by early-stopping: ')\n",
    "print('NMSE: ', test_loss_history_NMSE[round(min_index_mean)+1])\n",
    "print('PSNR: ', test_loss_history_PSNR[round(min_index_mean)+1])\n",
    "print('SSIM: ', test_loss_history_SSIM[round(min_index_mean)+1])"
   ]
  },
  {
   "cell_type": "code",
   "execution_count": 15,
   "metadata": {},
   "outputs": [
    {
     "name": "stdout",
     "output_type": "stream",
     "text": [
      "NMSE:  0.011677923220364999\n",
      "PSNR:  30.87469275156657\n",
      "SSIM:  0.8368381836016973\n"
     ]
    }
   ],
   "source": [
    "b = 14\n",
    "print('NMSE: ', test_loss_history_NMSE[b])\n",
    "print('PSNR: ', test_loss_history_PSNR[b])\n",
    "print('SSIM: ', test_loss_history_SSIM[b])"
   ]
  },
  {
   "attachments": {},
   "cell_type": "markdown",
   "metadata": {},
   "source": [
    "### Plot figures"
   ]
  },
  {
   "cell_type": "code",
   "execution_count": 12,
   "metadata": {},
   "outputs": [],
   "source": [
    "import matplotlib.pyplot as plt\n",
    "import numpy as np\n",
    "import pandas as pd\n",
    "\n",
    "plt.rcParams.update({\n",
    "    \"text.usetex\": True,\n",
    "    \"font.family\": \"serif\",\n",
    "    \"font.serif\": [\"Computer Modern Roman\"],\n",
    "    })\n",
    "\n",
    "colors = [(0.2298057,0.298717966,0.753683153),\n",
    "          (0.3634607953411765,0.4847836818509804,0.9010188868941177),\n",
    "          (0.5108243242509803,0.6493966148235294,0.9850787763764707),\n",
    "          (0.6672529243333334,0.7791764569999999,0.992959213),\n",
    "          (0.8049647588235295,0.8516661605568627,0.9261650744313725),\n",
    "          (0.9193759889058823,0.8312727235294118,0.7828736304470588),\n",
    "          (0.968203399,0.7208441,0.6122929913333334),\n",
    "          (0.9440545734235294,0.5531534787490197,0.4355484903137255),\n",
    "          (0.8523781350078431,0.34649194649411763,0.2803464686980392),\n",
    "          (0.705673158,0.01555616,0.150232812)]\n",
    "colors = ['b','r','k','g','m','c','tab:brown','tab:orange','tab:pink','tab:gray','tab:olive','tab:purple']\n",
    "\n",
    "markers = [\"v\",\"o\",\"^\",\"1\",\"*\",\">\",\"d\",\"<\",\"s\",\"P\",\"X\"]\n",
    "FONTSIZE = 22\n"
   ]
  },
  {
   "cell_type": "code",
   "execution_count": 18,
   "metadata": {},
   "outputs": [
    {
     "data": {
      "image/png": "[encoded data removed]",
      "text/plain": [
       "<Figure size 600x500 with 1 Axes>"
      ]
     },
     "metadata": {},
     "output_type": "display_data"
    }
   ],
   "source": [
    "plt.figure(figsize=(6,5))# ,dpi=300\n",
    "plt.plot(range(1, 31), train_loss_history, color=colors[0], label='Training on few-shots')\n",
    "plt.plot(range(0, 31), test_loss_history_NMSE, color=colors[1], label='Testing on the domain')\n",
    "plt.scatter(round(min_index_mean)+1, test_loss_history_NMSE[round(min_index_mean)+1], color=colors[1], s=FONTSIZE, label = 'Early-stopping')\n",
    "plt.legend(fontsize = (FONTSIZE-3)/2)\n",
    "plt.title('10-shots Adaptation', fontsize = FONTSIZE/2)\n",
    "#plt.yticks(np.arange(0, 0.5, 0.1))\n",
    "plt.tick_params(axis='both', which='major', labelsize=FONTSIZE/2)\n",
    "plt.tick_params(axis='both', which='minor', labelsize=(FONTSIZE-2)/2)\n",
    "plt.xlabel('Epoch',fontsize=FONTSIZE/2)\n",
    "plt.ylabel('NMSE',fontsize=FONTSIZE/2)\n",
    "plt.grid(True)\n",
    "# plt.savefig('save/plots/fasterrcnn_v2.png', format='png', bbox_inches='tight')"
   ]
  },
  {
   "cell_type": "code",
   "execution_count": 14,
   "metadata": {},
   "outputs": [
    {
     "data": {
      "image/png": "[encoded data removed]",
      "text/plain": [
       "<Figure size 600x500 with 1 Axes>"
      ]
     },
     "metadata": {},
     "output_type": "display_data"
    }
   ],
   "source": [
    "plt.figure(figsize=(6,5))\n",
    "plt.plot(range(0, 31), test_loss_history_SSIM, color=colors[1], label='Testing on the domain')\n",
    "plt.scatter(round(min_index_mean)+1, test_loss_history_SSIM[round(min_index_mean)+1], color=colors[1], s=FONTSIZE, label = 'Early-stopping')\n",
    "plt.legend(fontsize = (FONTSIZE-3)/2)\n",
    "plt.title('10-shots Adaptation', fontsize = FONTSIZE/2)\n",
    "#plt.yticks(np.arange(0, 0.5, 0.1))\n",
    "plt.tick_params(axis='both', which='major', labelsize=FONTSIZE/2)\n",
    "plt.tick_params(axis='both', which='minor', labelsize=(FONTSIZE-2)/2)\n",
    "plt.xlabel('Epoch',fontsize=FONTSIZE/2)\n",
    "plt.ylabel('SSIM',fontsize=FONTSIZE/2)\n",
    "plt.grid(True)\n",
    "# plt.savefig('save/plots/fasterrcnn_v2.png', format='png', bbox_inches='tight')"
   ]
  }
 ],
 "metadata": {
  "kernelspec": {
   "display_name": "base",
   "language": "python",
   "name": "python3"
  },
  "language_info": {
   "codemirror_mode": {
    "name": "ipython",
    "version": 3
   },
   "file_extension": ".py",
   "mimetype": "text/x-python",
   "name": "python",
   "nbconvert_exporter": "python",
   "pygments_lexer": "ipython3",
   "version": "3.10.8"
  },
  "orig_nbformat": 4
 },
 "nbformat": 4,
 "nbformat_minor": 2
}
