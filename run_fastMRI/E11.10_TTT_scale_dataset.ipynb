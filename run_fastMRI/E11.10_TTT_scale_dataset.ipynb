{
 "cells": [
  {
   "cell_type": "code",
   "execution_count": 2,
   "metadata": {},
   "outputs": [
    {
     "data": {
      "text/plain": [
       "<torch._C.Generator at 0x7fad143ddcf0>"
      ]
     },
     "execution_count": 2,
     "metadata": {},
     "output_type": "execute_result"
    }
   ],
   "source": [
    "import time\n",
    "import random\n",
    "import numpy as np\n",
    "import pandas as pd\n",
    "import sys\n",
    "import pickle\n",
    "import h5py\n",
    "import os\n",
    "os.environ['CUDA_VISIBLE_DEVICES'] = '2'\n",
    "import torch\n",
    "import learn2learn as l2l\n",
    "from tqdm import tqdm\n",
    "import matplotlib.pyplot as plt\n",
    "from torch.utils.tensorboard import SummaryWriter\n",
    "from torch.optim.lr_scheduler import StepLR, CosineAnnealingLR\n",
    "from functions.fftc import fft2c_new as fft2c\n",
    "from functions.fftc import ifft2c_new as ifft2c\n",
    "from functions.math import complex_abs, complex_mul, complex_conj\n",
    "# The corase reconstruction is the rss of the zerofilled multi-coil kspaces\n",
    "# after inverse FT.\n",
    "from functions.data.transforms import UnetDataTransform_TTTpaper, center_crop, scale, normalize_separate_over_ch\n",
    "# Import a torch.utils.data.Dataset class that takes a list of data examples, a path to those examples\n",
    "# a data transform and outputs a torch dataset.\n",
    "from functions.data.mri_dataset import SliceDataset\n",
    "# Unet architecture as nn.Module\n",
    "from functions.models.unet import Unet\n",
    "# Function that returns a MaskFunc object either for generatig random or equispaced masks\n",
    "from functions.data.subsample import create_mask_for_mask_type\n",
    "# Implementation of SSIMLoss\n",
    "from functions.training.losses import SSIMLoss\n",
    "from functions.helper import evaluate2c_imagepair\n",
    "### after you install bart 0.7.00 from https://mrirecon.github.io/bart/, import it as follows\n",
    "sys.path.insert(0,'/cheng/bart-0.7.00/python/')\n",
    "os.environ['TOOLBOX_PATH'] = \"/cheng/bart-0.7.00/\"\n",
    "import bart\n",
    "\n",
    "\n",
    "plt.rcParams.update({\"text.usetex\": True, \"font.family\": \"serif\", \"font.serif\": [\"Computer Modern Roman\"]})\n",
    "\n",
    "colors = ['b','r','k','g','m','c','tab:brown','tab:orange','tab:pink','tab:gray','tab:olive','tab:purple']\n",
    "\n",
    "markers = [\"v\",\"o\",\"^\",\"1\",\"*\",\">\",\"d\",\"<\",\"s\",\"P\",\"X\"]\n",
    "FONTSIZE = 22\n",
    "\n",
    "device = torch.device('cuda') if torch.cuda.is_available() else torch.device('cpu')\n",
    "\n",
    "# seed\n",
    "SEED = 1\n",
    "random.seed(SEED)\n",
    "np.random.seed(SEED)\n",
    "torch.cuda.manual_seed(SEED)\n",
    "torch.manual_seed(SEED)\n"
   ]
  },
  {
   "attachments": {},
   "cell_type": "markdown",
   "metadata": {},
   "source": [
    "### Load the data"
   ]
  },
  {
   "cell_type": "code",
   "execution_count": 3,
   "metadata": {},
   "outputs": [],
   "source": [
    "# data path\n",
    "path_test = '/cheng/metaMRI/metaMRI/data_dict/TTT_paper/TTT_brain_val.yaml'\n",
    "path_test_sensmaps = '/cheng/metaMRI/metaMRI/data_dict/TTT_paper/sensmap_brain_val/'\n",
    "# path_test = '/cheng/metaMRI/metaMRI/data_dict/TTT_paper/TTT_brain_test_100.yaml'\n",
    "# path_test_sensmaps = '/cheng/metaMRI/metaMRI/data_dict/TTT_paper/sensmap_brain_test/'\n",
    "\n",
    "# mask function and data transform\n",
    "mask_function = create_mask_for_mask_type(mask_type_str = 'random', self_sup = False, \n",
    "                    center_fraction = 0.08, acceleration = 4.0, acceleration_total = 3.0)\n",
    "\n",
    "data_transform = UnetDataTransform_TTTpaper('multicoil', mask_func = mask_function, use_seed=True, mode='adapt')\n",
    "\n",
    "# training dataset and data loader\n",
    "testset = SliceDataset(dataset = path_test, path_to_dataset='', \n",
    "                path_to_sensmaps = path_test_sensmaps, provide_senmaps=True, \n",
    "                challenge=\"multicoil\", transform = data_transform, use_dataset_cache=True)\n",
    "\n",
    "test_dataloader = torch.utils.data.DataLoader(dataset = testset, batch_size = 1, \n",
    "                shuffle = False, generator = torch.Generator().manual_seed(1), pin_memory = False)\n"
   ]
  },
  {
   "cell_type": "code",
   "execution_count": 9,
   "metadata": {},
   "outputs": [],
   "source": [
    "checkpoint_path = '/cheng/metaMRI/metaMRI/save/E11.9_joint(l1_CA-1e-3-4_P)_T300_150epoch/E11.9_joint(l1_CA-1e-3-4_P)_T300_150epoch_E112_best.pth'\n",
    "model = Unet(in_chans=2, out_chans=2, chans=32, num_pool_layers=4, drop_prob=0.0)\n",
    "model.load_state_dict(torch.load(checkpoint_path))\n",
    "model = model.to(device)"
   ]
  },
  {
   "attachments": {},
   "cell_type": "markdown",
   "metadata": {},
   "source": [
    "### without TTT"
   ]
  },
  {
   "cell_type": "code",
   "execution_count": 10,
   "metadata": {},
   "outputs": [],
   "source": [
    "def evaluate(model, k_input, k_gt, conj_sensmaps): \n",
    "    # k_input, k_gt: [1, coils, height, width, channel]\n",
    "\n",
    "    ssim_fct = SSIMLoss()\n",
    "    l1_loss = torch.nn.L1Loss(reduction='sum')\n",
    "    # gt image: complex\n",
    "    ground_truth_image = ifft2c(k_gt.squeeze(0))\n",
    "    ground_truth_image = complex_mul(ground_truth_image.squeeze(0), conj_sensmaps.squeeze(0))\n",
    "    ground_truth_image = ground_truth_image.sum(dim=0, keepdim=False)\n",
    "    ground_truth_image = torch.moveaxis( ground_truth_image , -1, 0 ) \n",
    "\n",
    "    # A†y\n",
    "    train_inputs = ifft2c(k_input.squeeze(0)) #shape: coils,height,width,2\n",
    "    train_inputs = complex_mul(train_inputs, conj_sensmaps.squeeze(0))\n",
    "    train_inputs = train_inputs.sum(dim=0, keepdim=False) #shape: height,width,2\n",
    "    train_inputs = torch.moveaxis( train_inputs , -1, 0 ) # move complex channels to channel dimension\n",
    "    # normalize input to have zero mean and std one\n",
    "    #train_inputs, mean, std = normalize_separate_over_ch(train_inputs, eps=1e-11)\n",
    "\n",
    "    # fθ(A†y)\n",
    "    model_output = model(train_inputs.unsqueeze(0))\n",
    "    model_output = model_output.squeeze(0)# * std + mean\n",
    "\n",
    "    # supervised loss [x, fθ(A†y)]\n",
    "    output_image_1c = complex_abs(torch.moveaxis(model_output , 0, -1 )).unsqueeze(0)\n",
    "    ground_truth_image_1c = complex_abs(torch.moveaxis(ground_truth_image , 0, -1 )).unsqueeze(0)\n",
    "    # center crop\n",
    "    min_size = min(ground_truth_image_1c.shape[-2:])\n",
    "    crop = torch.Size([min_size, min_size])\n",
    "    ground_truth_image_1c = center_crop( ground_truth_image_1c, crop )\n",
    "    output_image_1c = center_crop( output_image_1c, crop )\n",
    "    # normalization\n",
    "    output_image_1c = (output_image_1c - output_image_1c.mean()) / output_image_1c.std()\n",
    "    output_image_1c *= ground_truth_image_1c.std()\n",
    "    output_image_1c += ground_truth_image_1c.mean()\n",
    "\n",
    "    # L1\n",
    "    loss_l1 = (l1_loss(output_image_1c, ground_truth_image_1c) / torch.sum(torch.abs(ground_truth_image_1c))).item()\n",
    "    # SSIM = 1 - loss\n",
    "    loss_ssim = 1 - ssim_fct(output_image_1c, ground_truth_image_1c, data_range = ground_truth_image_1c.max().unsqueeze(0)).item()\n",
    "    \n",
    "    return loss_l1, loss_ssim"
   ]
  },
  {
   "cell_type": "code",
   "execution_count": 11,
   "metadata": {},
   "outputs": [
    {
     "name": "stderr",
     "output_type": "stream",
     "text": [
      "100it [08:33,  5.13s/it]\n"
     ]
    }
   ],
   "source": [
    "loss_l1_history_=[]\n",
    "loss_ssim_history_=[]\n",
    "\n",
    "\n",
    "for iter, batch in tqdm(enumerate(test_dataloader)): \n",
    "    input_kspace, input_mask, kspace, sens_maps, sens_maps_conj, binary_background_mask, fname, slice_num = batch\n",
    "    input_kspace = input_kspace.to(device)\n",
    "    input_mask = input_mask.to(device)\n",
    "    kspace = kspace.to(device)\n",
    "    sens_maps = sens_maps.to(device)\n",
    "    sens_maps_conj = sens_maps_conj.to(device)\n",
    "\n",
    "    # scale normalization\n",
    "    scale_factor = scale(input_kspace.squeeze(0), model)\n",
    "    scaled_input_kspace = scale_factor * input_kspace.squeeze(0)\n",
    "    # input_kspace / kspace:  [1, coils, height, width, channel]\n",
    "    loss_l1, loss_ssim = evaluate(model, scaled_input_kspace, kspace, sens_maps_conj)\n",
    "\n",
    "    loss_l1_history_.append(loss_l1)\n",
    "    loss_ssim_history_.append(loss_ssim)"
   ]
  },
  {
   "cell_type": "code",
   "execution_count": 12,
   "metadata": {},
   "outputs": [
    {
     "name": "stdout",
     "output_type": "stream",
     "text": [
      "Testing average L1 loss:  0.1990935182571411\n",
      "Testing average SSIM loss:  0.7657672464847565\n"
     ]
    }
   ],
   "source": [
    "print(\"Testing average L1 loss: \", sum(loss_l1_history_) / len(loss_l1_history_))\n",
    "print(\"Testing average SSIM loss: \", sum(loss_ssim_history_) / len(loss_ssim_history_))"
   ]
  },
  {
   "attachments": {},
   "cell_type": "markdown",
   "metadata": {},
   "source": [
    "### Test-time training"
   ]
  },
  {
   "cell_type": "code",
   "execution_count": 8,
   "metadata": {},
   "outputs": [
    {
     "name": "stderr",
     "output_type": "stream",
     "text": [
      "1it [04:50, 290.84s/it]"
     ]
    },
    {
     "name": "stdout",
     "output_type": "stream",
     "text": [
      "best L1:  0.12027107179164886\n",
      "best L1 epoch:  1496\n",
      "best SSIM: 0.8916576504707336\n",
      "best SSIM epoch:  1494\n"
     ]
    },
    {
     "name": "stderr",
     "output_type": "stream",
     "text": [
      "2it [10:12, 309.06s/it]"
     ]
    },
    {
     "name": "stdout",
     "output_type": "stream",
     "text": [
      "best L1:  0.13555407524108887\n",
      "best L1 epoch:  1476\n",
      "best SSIM: 0.8540239930152893\n",
      "best SSIM epoch:  1375\n"
     ]
    },
    {
     "name": "stderr",
     "output_type": "stream",
     "text": [
      "3it [14:34, 287.54s/it]"
     ]
    },
    {
     "name": "stdout",
     "output_type": "stream",
     "text": [
      "best L1:  0.1827261745929718\n",
      "best L1 epoch:  1488\n",
      "best SSIM: 0.8546640872955322\n",
      "best SSIM epoch:  1477\n"
     ]
    },
    {
     "name": "stderr",
     "output_type": "stream",
     "text": [
      "4it [19:25, 289.03s/it]"
     ]
    },
    {
     "name": "stdout",
     "output_type": "stream",
     "text": [
      "best L1:  0.19028446078300476\n",
      "best L1 epoch:  1497\n",
      "best SSIM: 0.8113265633583069\n",
      "best SSIM epoch:  0\n"
     ]
    },
    {
     "name": "stderr",
     "output_type": "stream",
     "text": [
      "4it [23:26, 351.62s/it]\n"
     ]
    },
    {
     "ename": "KeyboardInterrupt",
     "evalue": "",
     "output_type": "error",
     "traceback": [
      "\u001b[0;31m---------------------------------------------------------------------------\u001b[0m",
      "\u001b[0;31mKeyboardInterrupt\u001b[0m                         Traceback (most recent call last)",
      "Cell \u001b[0;32mIn[8], line 43\u001b[0m\n\u001b[1;32m     38\u001b[0m train_inputs \u001b[39m=\u001b[39m torch\u001b[39m.\u001b[39mmoveaxis( train_inputs , \u001b[39m-\u001b[39m\u001b[39m1\u001b[39m, \u001b[39m0\u001b[39m ) \u001b[39m# move complex channels to channel dimension\u001b[39;00m\n\u001b[1;32m     39\u001b[0m \u001b[39m# normalize input to have zero mean and std one\u001b[39;00m\n\u001b[1;32m     40\u001b[0m \u001b[39m#train_inputs, mean, std = normalize_separate_over_ch(train_inputs, eps=1e-11)\u001b[39;00m\n\u001b[1;32m     41\u001b[0m \n\u001b[1;32m     42\u001b[0m \u001b[39m# fθ(A†y)\u001b[39;00m\n\u001b[0;32m---> 43\u001b[0m model_output \u001b[39m=\u001b[39m model(train_inputs\u001b[39m.\u001b[39;49munsqueeze(\u001b[39m0\u001b[39;49m))\n\u001b[1;32m     44\u001b[0m model_output \u001b[39m=\u001b[39m model_output\u001b[39m.\u001b[39msqueeze(\u001b[39m0\u001b[39m)\u001b[39m# * std + mean\u001b[39;00m\n\u001b[1;32m     45\u001b[0m model_output \u001b[39m=\u001b[39m torch\u001b[39m.\u001b[39mmoveaxis(model_output\u001b[39m.\u001b[39munsqueeze(\u001b[39m0\u001b[39m), \u001b[39m1\u001b[39m, \u001b[39m-\u001b[39m\u001b[39m1\u001b[39m )\n",
      "File \u001b[0;32m/opt/conda/lib/python3.10/site-packages/torch/nn/modules/module.py:1194\u001b[0m, in \u001b[0;36mModule._call_impl\u001b[0;34m(self, *input, **kwargs)\u001b[0m\n\u001b[1;32m   1190\u001b[0m \u001b[39m# If we don't have any hooks, we want to skip the rest of the logic in\u001b[39;00m\n\u001b[1;32m   1191\u001b[0m \u001b[39m# this function, and just call forward.\u001b[39;00m\n\u001b[1;32m   1192\u001b[0m \u001b[39mif\u001b[39;00m \u001b[39mnot\u001b[39;00m (\u001b[39mself\u001b[39m\u001b[39m.\u001b[39m_backward_hooks \u001b[39mor\u001b[39;00m \u001b[39mself\u001b[39m\u001b[39m.\u001b[39m_forward_hooks \u001b[39mor\u001b[39;00m \u001b[39mself\u001b[39m\u001b[39m.\u001b[39m_forward_pre_hooks \u001b[39mor\u001b[39;00m _global_backward_hooks\n\u001b[1;32m   1193\u001b[0m         \u001b[39mor\u001b[39;00m _global_forward_hooks \u001b[39mor\u001b[39;00m _global_forward_pre_hooks):\n\u001b[0;32m-> 1194\u001b[0m     \u001b[39mreturn\u001b[39;00m forward_call(\u001b[39m*\u001b[39;49m\u001b[39minput\u001b[39;49m, \u001b[39m*\u001b[39;49m\u001b[39m*\u001b[39;49mkwargs)\n\u001b[1;32m   1195\u001b[0m \u001b[39m# Do not call functions when jit is used\u001b[39;00m\n\u001b[1;32m   1196\u001b[0m full_backward_hooks, non_full_backward_hooks \u001b[39m=\u001b[39m [], []\n",
      "File \u001b[0;32m/cheng/metaMRI/metaMRI/run_fastMRI/functions/models/unet.py:102\u001b[0m, in \u001b[0;36mUnet.forward\u001b[0;34m(self, image)\u001b[0m\n\u001b[1;32m     99\u001b[0m     \u001b[39mif\u001b[39;00m torch\u001b[39m.\u001b[39msum(torch\u001b[39m.\u001b[39mtensor(padding)) \u001b[39m!=\u001b[39m \u001b[39m0\u001b[39m:\n\u001b[1;32m    100\u001b[0m         output \u001b[39m=\u001b[39m F\u001b[39m.\u001b[39mpad(output, padding, \u001b[39m\"\u001b[39m\u001b[39mreflect\u001b[39m\u001b[39m\"\u001b[39m)\n\u001b[0;32m--> 102\u001b[0m     output \u001b[39m=\u001b[39m torch\u001b[39m.\u001b[39;49mcat([output, downsample_layer], dim\u001b[39m=\u001b[39;49m\u001b[39m1\u001b[39;49m)\n\u001b[1;32m    103\u001b[0m     output \u001b[39m=\u001b[39m conv(output)\n\u001b[1;32m    105\u001b[0m \u001b[39mreturn\u001b[39;00m output\n",
      "\u001b[0;31mKeyboardInterrupt\u001b[0m: "
     ]
    }
   ],
   "source": [
    "best_loss_l1_history=[]\n",
    "best_loss_l1_index_history=[]\n",
    "best_loss_ssim_history=[]\n",
    "best_loss_ssim_index_history=[]\n",
    "ssim_fct = SSIMLoss()\n",
    "l1_loss = torch.nn.L1Loss(reduction='sum')\n",
    "adapt_lr = 0.0001\n",
    "TTT_epoch = 1500\n",
    "\n",
    "for iter, batch in tqdm(enumerate(test_dataloader)): \n",
    "    input_kspace, input_mask, kspace, sens_maps, sens_maps_conj, binary_background_mask, fname, slice_num = batch\n",
    "    input_kspace = input_kspace.to(device)\n",
    "    input_mask = input_mask.to(device)\n",
    "    kspace = kspace.to(device)\n",
    "    sens_maps = sens_maps.to(device)\n",
    "    sens_maps_conj = sens_maps_conj.to(device)\n",
    "\n",
    "    # model re-init\n",
    "    model.load_state_dict(torch.load(checkpoint_path))\n",
    "\n",
    "    # each data point TTT\n",
    "    optimizer = torch.optim.Adam(model.parameters(),lr=adapt_lr)\n",
    "    \n",
    "    loss_l1_history = []\n",
    "    loss_ssim_history = []\n",
    "    self_loss_history = []\n",
    "\n",
    "    for iteration in range(TTT_epoch): \n",
    "        ####### training ######\n",
    "        # scale normalization\n",
    "        scale_factor = scale(input_kspace.squeeze(0), model)\n",
    "\n",
    "        # A†y\n",
    "        scaled_input_kspace = scale_factor * input_kspace.squeeze(0)\n",
    "        train_inputs = ifft2c(scaled_input_kspace) #shape: coils,height,width,2\n",
    "        train_inputs = complex_mul(train_inputs, sens_maps_conj.squeeze(0))\n",
    "        train_inputs = train_inputs.sum(dim=0, keepdim=False) #shape: height,width,2\n",
    "        train_inputs = torch.moveaxis( train_inputs , -1, 0 ) # move complex channels to channel dimension\n",
    "        # normalize input to have zero mean and std one\n",
    "        #train_inputs, mean, std = normalize_separate_over_ch(train_inputs, eps=1e-11)\n",
    "\n",
    "        # fθ(A†y)\n",
    "        model_output = model(train_inputs.unsqueeze(0))\n",
    "        model_output = model_output.squeeze(0)# * std + mean\n",
    "        model_output = torch.moveaxis(model_output.unsqueeze(0), 1, -1 )\n",
    "        # S fθ(A†y)\n",
    "        output_sens_image = complex_mul(model_output, sens_maps.squeeze(0))\n",
    "        # FS fθ(A†y)\n",
    "        Fimg = fft2c(output_sens_image)\n",
    "        # MFS fθ(A†y) = A fθ(A†y)\n",
    "        Fimg_forward = Fimg * input_mask.squeeze(0)\n",
    "        # consistency loss [y, Afθ(A†y)]\n",
    "        loss_self = l1_loss(Fimg_forward, scaled_input_kspace) / torch.sum(torch.abs(scaled_input_kspace))\n",
    "    \n",
    "        optimizer.zero_grad()\n",
    "        loss_self.backward()\n",
    "        optimizer.step()\n",
    "        #train_loss += loss.item()\n",
    "        #print('TTT loss: ',loss_self.item())\n",
    "        self_loss_history.append(loss_self.item())\n",
    "\n",
    "\n",
    "        ###### evaluation ######\n",
    "        loss_l1, loss_ssim = evaluate(model, scaled_input_kspace, kspace, sens_maps_conj)\n",
    "\n",
    "        loss_l1_history.append(loss_l1)\n",
    "        loss_ssim_history.append(loss_ssim)\n",
    "\n",
    "\n",
    "    # best results for an example\n",
    "    best_loss_l1 = min(loss_l1_history)\n",
    "    print('best L1: ', best_loss_l1)\n",
    "    best_loss_l1_epoch = np.argmin(loss_l1_history)\n",
    "    print('best L1 epoch: ', best_loss_l1_epoch)\n",
    "    best_loss_ssim = max(loss_ssim_history)\n",
    "    print('best SSIM:', best_loss_ssim)\n",
    "    best_loss_ssim_epoch = np.argmax(loss_ssim_history)\n",
    "    print('best SSIM epoch: ', best_loss_ssim_epoch)\n",
    "\n",
    "    best_loss_l1_index_history.append(best_loss_l1_epoch)\n",
    "    best_loss_ssim_index_history.append(best_loss_ssim_epoch)\n",
    "    best_loss_l1_history.append(best_loss_l1)\n",
    "    best_loss_ssim_history.append(best_loss_ssim)\n",
    "\n",
    "\n",
    "print(\"Testing average L1 loss: \", sum(best_loss_l1_history) / len(best_loss_l1_history))\n",
    "print(\"Testing average L1 loss epoch: \", sum(best_loss_l1_index_history) / len(best_loss_l1_index_history))\n",
    "print(\"Testing average SSIM loss: \", sum(best_loss_ssim_history) / len(best_loss_ssim_history))\n",
    "print(\"Testing average SSIM loss epoch: \", sum(best_loss_ssim_index_history) / len(best_loss_ssim_index_history))"
   ]
  }
 ],
 "metadata": {
  "kernelspec": {
   "display_name": "base",
   "language": "python",
   "name": "python3"
  },
  "language_info": {
   "codemirror_mode": {
    "name": "ipython",
    "version": 3
   },
   "file_extension": ".py",
   "mimetype": "text/x-python",
   "name": "python",
   "nbconvert_exporter": "python",
   "pygments_lexer": "ipython3",
   "version": "3.10.8"
  },
  "orig_nbformat": 4
 },
 "nbformat": 4,
 "nbformat_minor": 2
}
