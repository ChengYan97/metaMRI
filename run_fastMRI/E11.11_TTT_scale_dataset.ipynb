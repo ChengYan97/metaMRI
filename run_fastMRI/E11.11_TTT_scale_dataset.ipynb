{
 "cells": [
  {
   "cell_type": "code",
   "execution_count": 1,
   "metadata": {},
   "outputs": [
    {
     "data": {
      "text/plain": [
       "<torch._C.Generator at 0x7fe3fb8496d0>"
      ]
     },
     "execution_count": 1,
     "metadata": {},
     "output_type": "execute_result"
    }
   ],
   "source": [
    "import time\n",
    "import random\n",
    "import numpy as np\n",
    "import pandas as pd\n",
    "import sys\n",
    "import pickle\n",
    "import h5py\n",
    "import os\n",
    "os.environ['CUDA_VISIBLE_DEVICES'] = '0'\n",
    "import torch\n",
    "import learn2learn as l2l\n",
    "from tqdm import tqdm\n",
    "import matplotlib.pyplot as plt\n",
    "from torch.utils.tensorboard import SummaryWriter\n",
    "from torch.optim.lr_scheduler import StepLR, CosineAnnealingLR\n",
    "from functions.fftc import fft2c_new as fft2c\n",
    "from functions.fftc import ifft2c_new as ifft2c\n",
    "from functions.math import complex_abs, complex_mul, complex_conj\n",
    "# The corase reconstruction is the rss of the zerofilled multi-coil kspaces\n",
    "# after inverse FT.\n",
    "from functions.data.transforms import UnetDataTransform_TTTpaper_fixMask, center_crop, scale_rss, normalize_separate_over_ch, rss_torch\n",
    "# Import a torch.utils.data.Dataset class that takes a list of data examples, a path to those examples\n",
    "# a data transform and outputs a torch dataset.\n",
    "from functions.data.mri_dataset import SliceDataset\n",
    "# Unet architecture as nn.Module\n",
    "from functions.models.unet import Unet\n",
    "# Function that returns a MaskFunc object either for generatig random or equispaced masks\n",
    "from functions.data.subsample import create_mask_for_mask_type\n",
    "# Implementation of SSIMLoss\n",
    "from functions.training.losses import SSIMLoss\n",
    "from functions.helper import evaluate2c_imagepair\n",
    "### after you install bart 0.7.00 from https://mrirecon.github.io/bart/, import it as follows\n",
    "sys.path.insert(0,'/cheng/bart-0.7.00/python/')\n",
    "os.environ['TOOLBOX_PATH'] = \"/cheng/bart-0.7.00/\"\n",
    "import bart\n",
    "\n",
    "\n",
    "plt.rcParams.update({\"text.usetex\": True, \"font.family\": \"serif\", \"font.serif\": [\"Computer Modern Roman\"]})\n",
    "\n",
    "colors = ['b','r','k','g','m','c','tab:brown','tab:orange','tab:pink','tab:gray','tab:olive','tab:purple']\n",
    "\n",
    "markers = [\"v\",\"o\",\"^\",\"1\",\"*\",\">\",\"d\",\"<\",\"s\",\"P\",\"X\"]\n",
    "FONTSIZE = 22\n",
    "\n",
    "device = torch.device('cuda') if torch.cuda.is_available() else torch.device('cpu')\n",
    "\n",
    "# seed\n",
    "SEED = 1\n",
    "random.seed(SEED)\n",
    "np.random.seed(SEED)\n",
    "torch.cuda.manual_seed(SEED)\n",
    "torch.manual_seed(SEED)\n"
   ]
  },
  {
   "attachments": {},
   "cell_type": "markdown",
   "metadata": {},
   "source": [
    "### Load the data"
   ]
  },
  {
   "cell_type": "code",
   "execution_count": 2,
   "metadata": {},
   "outputs": [],
   "source": [
    "# data path\n",
    "path_test = '/cheng/metaMRI/metaMRI/data_dict/TTT_paper/TTT_brain_val.yaml'\n",
    "path_test_sensmaps = '/cheng/metaMRI/metaMRI/data_dict/TTT_paper/sensmap_brain_val/'\n",
    "\n",
    "# path_test = '/cheng/metaMRI/metaMRI/data_dict/TTT_paper/TTT_brain_test_100.yaml'\n",
    "# path_test_sensmaps = '/cheng/metaMRI/metaMRI/data_dict/TTT_paper/sensmap_brain_test/'\n",
    "\n",
    "# data transform\n",
    "data_transform = UnetDataTransform_TTTpaper_fixMask('multicoil')\n",
    "\n",
    "# training dataset and data loader\n",
    "testset = SliceDataset(dataset = path_test, path_to_dataset='', \n",
    "                path_to_sensmaps = path_test_sensmaps, provide_senmaps=True, \n",
    "                challenge=\"multicoil\", transform = data_transform, use_dataset_cache=True)\n",
    "\n",
    "# shuffle = False !!!!!!!\n",
    "test_dataloader = torch.utils.data.DataLoader(dataset = testset, batch_size = 1, \n",
    "                shuffle = False, generator = torch.Generator().manual_seed(1), pin_memory = False)\n"
   ]
  },
  {
   "cell_type": "code",
   "execution_count": 51,
   "metadata": {},
   "outputs": [],
   "source": [
    "checkpoint_path = '/cheng/metaMRI/metaMRI/save/E11.11_sup(l1_1e-5)P_T300_300epoch/E11.11_sup(l1_1e-5)P_T300_300epoch_E300_best.pth'\n",
    "# '/cheng/metaMRI/metaMRI/save/E11.11_joint(l1_1e-5)P_T300_300epoch/E11.11_joint(l1_1e-5)P_T300_300epoch_E300_best.pth'\n",
    "# '/cheng/metaMRI/metaMRI/save/E11.11_sup(l1_1e-5)P_T300_300epoch/E11.11_sup(l1_1e-5)P_T300_300epoch_E300_best.pth'\n",
    "\n",
    "model = Unet(in_chans=2, out_chans=2, chans=64, num_pool_layers=4, drop_prob=0.0)\n",
    "model.load_state_dict(torch.load(checkpoint_path))\n",
    "model = model.to(device)"
   ]
  },
  {
   "cell_type": "code",
   "execution_count": 16,
   "metadata": {},
   "outputs": [],
   "source": [
    "path_mask = '/cheng/metaMRI/ttt_for_deep_learning_cs/unet/test_data/anatomy_shift/mask2d'\n",
    "with open(path_mask,'rb') as fn:\n",
    "    mask2d = pickle.load(fn)\n",
    "mask = torch.tensor(mask2d[0]).unsqueeze(0).unsqueeze(0).unsqueeze(-1)\n",
    "mask = mask.to(device)"
   ]
  },
  {
   "attachments": {},
   "cell_type": "markdown",
   "metadata": {},
   "source": [
    "### without TTT"
   ]
  },
  {
   "cell_type": "code",
   "execution_count": 52,
   "metadata": {},
   "outputs": [
    {
     "name": "stderr",
     "output_type": "stream",
     "text": [
      "100it [01:22,  1.22it/s]\n"
     ]
    }
   ],
   "source": [
    "# loss_l1_history_=[]\n",
    "loss_ssim_history_=[]\n",
    "ssim_fct = SSIMLoss()\n",
    "l1_loss = torch.nn.L1Loss(reduction='sum')\n",
    "\n",
    "for iter, batch in tqdm(enumerate(test_dataloader)): \n",
    "    kspace, sens_maps, sens_maps_conj, _, fname, slice_num = batch\n",
    "    kspace = kspace.squeeze(0).to(device)\n",
    "    sens_maps = sens_maps.squeeze(0).to(device)\n",
    "    sens_maps_conj = sens_maps_conj.squeeze(0).to(device)\n",
    "\n",
    "    # scale factor\n",
    "    scale_factor = scale_rss(input_kspace, model)\n",
    "\n",
    "    # input k space\n",
    "    input_kspace = kspace * mask + 0.0\n",
    "\n",
    "    # gt image no normalization: x\n",
    "    target_image_1c = rss_torch(complex_abs(ifft2c(kspace))).unsqueeze(0)\n",
    "    # sensmap combine\n",
    "    # target_image = complex_mul(target_image, sens_maps_conj).sum(dim=0, keepdim=False)\n",
    "    \n",
    "    # A†y\n",
    "    train_inputs = rss_torch(ifft2c(scale_factor * input_kspace))      # [coils,height,width,2] -> [height,width,2]\n",
    "    # train_inputs = complex_mul(train_inputs, sens_maps_conj).sum(dim=0, keepdim=False) #shape: height,width,2\n",
    "    train_inputs = torch.moveaxis( train_inputs , -1, 0 )   # [2, height, width]\n",
    "\n",
    "    # fθ(A†y)\n",
    "    train_outputs = model(train_inputs.unsqueeze(0))\n",
    "    train_outputs = train_outputs.squeeze(0) # [2, height, width]\n",
    "    \n",
    "    # supervised loss [x, fθ(A†y)]\n",
    "    output_image_1c = complex_abs(torch.moveaxis(train_outputs, 0, -1 )).unsqueeze(0)    # [2, height, width] -> [1, height, width]\n",
    "    # # normalization\n",
    "    # output_image_1c = (output_image_1c - output_image_1c.mean()) / output_image_1c.std()\n",
    "    # output_image_1c *= target_image_1c.std()\n",
    "    # output_image_1c += target_image_1c.mean()\n",
    "    # # L1\n",
    "    # loss_l1 = (l1_loss(output_image_1c, target_image_1c) / torch.sum(torch.abs(target_image_1c))).item()\n",
    "    \n",
    "    # center crop for SSIM\n",
    "    crop_size = torch.Size([min(target_image_1c.shape[-2:]), min(target_image_1c.shape[-2:])])\n",
    "    crop_target_image_1c = center_crop( target_image_1c, crop_size )\n",
    "    crop_output_image_1c = center_crop( output_image_1c, crop_size )\n",
    "    # normalization\n",
    "    crop_output_image_1c = (crop_output_image_1c - crop_output_image_1c.mean()) / crop_output_image_1c.std()\n",
    "    crop_output_image_1c *= crop_target_image_1c.std()\n",
    "    crop_output_image_1c += crop_target_image_1c.mean()\n",
    "    # SSIM = 1 - loss\n",
    "    loss_ssim = 1 - ssim_fct(crop_output_image_1c, crop_target_image_1c, data_range = crop_target_image_1c.max().unsqueeze(0)).item()\n",
    "\n",
    "    # loss_l1_history_.append(loss_l1)\n",
    "    loss_ssim_history_.append(loss_ssim)"
   ]
  },
  {
   "cell_type": "code",
   "execution_count": 53,
   "metadata": {},
   "outputs": [
    {
     "name": "stdout",
     "output_type": "stream",
     "text": [
      "Testing average SSIM loss:  0.866934124827385\n"
     ]
    }
   ],
   "source": [
    "# print(\"Testing average L1 loss: \", sum(loss_l1_history_) / len(loss_l1_history_))\n",
    "print(\"Testing average SSIM loss: \", sum(loss_ssim_history_) / len(loss_ssim_history_))"
   ]
  },
  {
   "attachments": {},
   "cell_type": "markdown",
   "metadata": {},
   "source": [
    "### Test-time training"
   ]
  },
  {
   "cell_type": "code",
   "execution_count": 50,
   "metadata": {},
   "outputs": [
    {
     "name": "stdout",
     "output_type": "stream",
     "text": [
      "Testing sample:  1\n",
      "Epoch 479/1500, SSIM: 0.9106\r"
     ]
    },
    {
     "ename": "KeyboardInterrupt",
     "evalue": "",
     "output_type": "error",
     "traceback": [
      "\u001b[0;31m---------------------------------------------------------------------------\u001b[0m",
      "\u001b[0;31mKeyboardInterrupt\u001b[0m                         Traceback (most recent call last)",
      "Cell \u001b[0;32mIn[50], line 62\u001b[0m\n\u001b[1;32m     59\u001b[0m optimizer\u001b[39m.\u001b[39mstep()\n\u001b[1;32m     60\u001b[0m \u001b[39m#train_loss += loss.item()\u001b[39;00m\n\u001b[1;32m     61\u001b[0m \u001b[39m#print('TTT loss: ',loss_self.item())\u001b[39;00m\n\u001b[0;32m---> 62\u001b[0m self_loss_history\u001b[39m.\u001b[39mappend(loss_self\u001b[39m.\u001b[39;49mitem())\n\u001b[1;32m     64\u001b[0m \u001b[39m###### evaluation ######\u001b[39;00m\n\u001b[1;32m     65\u001b[0m output_image_1c \u001b[39m=\u001b[39m complex_abs(torch\u001b[39m.\u001b[39mmoveaxis(model_output, \u001b[39m0\u001b[39m, \u001b[39m-\u001b[39m\u001b[39m1\u001b[39m ))\u001b[39m.\u001b[39munsqueeze(\u001b[39m0\u001b[39m)    \u001b[39m# [2, height, width] -> [1, height, width]\u001b[39;00m\n",
      "\u001b[0;31mKeyboardInterrupt\u001b[0m: "
     ]
    }
   ],
   "source": [
    "# best_loss_l1_history=[]\n",
    "# best_loss_l1_index_history=[]\n",
    "best_loss_ssim_history=[]\n",
    "best_loss_ssim_index_history=[]\n",
    "ssim_fct = SSIMLoss()\n",
    "l1_loss = torch.nn.L1Loss(reduction='sum')\n",
    "adapt_lr = 0.00001\n",
    "TTT_epoch = 1500\n",
    "# each data point TTT\n",
    "optimizer = torch.optim.Adam(model.parameters(),lr=adapt_lr)\n",
    "\n",
    "\n",
    "for iter, batch in enumerate(test_dataloader): \n",
    "    print('Testing sample: ', iter+1)\n",
    "    kspace, sens_maps, sens_maps_conj, _, fname, slice_num = batch\n",
    "    kspace = kspace.squeeze(0).to(device)\n",
    "    sens_maps = sens_maps.squeeze(0).to(device)\n",
    "    sens_maps_conj = sens_maps_conj.squeeze(0).to(device)\n",
    "\n",
    "    # scale factor\n",
    "    scale_factor = scale_rss(input_kspace, model)\n",
    "\n",
    "    # input k space\n",
    "    input_kspace = kspace * mask + 0.0\n",
    "    scale_input_kspace = scale_factor * input_kspace\n",
    "    # gt image by normalized kspace: x\n",
    "    target_image_1c = rss_torch(complex_abs(ifft2c(kspace))).unsqueeze(0)\n",
    "    # sensmap combine\n",
    "    # target_image = complex_mul(target_image, sens_maps_conj).sum(dim=0, keepdim=False)\n",
    "    \n",
    "    # A†y\n",
    "    train_inputs = rss_torch(ifft2c(scale_input_kspace))      # [coils,height,width,2] -> [height,width,2]\n",
    "    # train_inputs = complex_mul(train_inputs, sens_maps_conj).sum(dim=0, keepdim=False) #shape: height,width,2\n",
    "    train_inputs = torch.moveaxis( train_inputs , -1, 0 )   # [2, height, width]\n",
    "\n",
    "    # model re-init\n",
    "    model.load_state_dict(torch.load(checkpoint_path))\n",
    "    \n",
    "    loss_l1_history = []\n",
    "    loss_ssim_history = []\n",
    "    self_loss_history = []\n",
    "\n",
    "    for iteration in range(TTT_epoch): \n",
    "        ###### training ######\n",
    "        # fθ(A†y)\n",
    "        model_output = model(train_inputs.unsqueeze(0))\n",
    "        model_output = model_output.squeeze(0)      # [2, height, width]       \n",
    "        # S fθ(A†y) [coils, height, width, channel]\n",
    "        output_sens_image = complex_mul(torch.moveaxis(model_output.unsqueeze(0), 1, -1 ), sens_maps)\n",
    "        # FS fθ(A†y)\n",
    "        Fimg = fft2c(output_sens_image)\n",
    "        # MFS fθ(A†y) = A fθ(A†y)\n",
    "        Fimg_forward = Fimg * mask\n",
    "        # consistency loss [y, Afθ(A†y)]\n",
    "        loss_self = l1_loss(Fimg_forward, scale_input_kspace) / torch.sum(torch.abs(scale_input_kspace))\n",
    "    \n",
    "        optimizer.zero_grad()\n",
    "        loss_self.backward()\n",
    "        optimizer.step()\n",
    "        #train_loss += loss.item()\n",
    "        #print('TTT loss: ',loss_self.item())\n",
    "        self_loss_history.append(loss_self.item())\n",
    "\n",
    "        ###### evaluation ######\n",
    "        output_image_1c = complex_abs(torch.moveaxis(model_output, 0, -1 )).unsqueeze(0)    # [2, height, width] -> [1, height, width]\n",
    "        # # normalization\n",
    "        # output_image_1c = (output_image_1c - output_image_1c.mean()) / output_image_1c.std()\n",
    "        # output_image_1c *= target_image_1c.std()\n",
    "        # output_image_1c += target_image_1c.mean()\n",
    "        # # L1\n",
    "        # loss_l1 = (l1_loss(output_image_1c, target_image_1c) / torch.sum(torch.abs(target_image_1c))).item()\n",
    "\n",
    "        # center crop for SSIM\n",
    "        crop_size = torch.Size([min(target_image_1c.shape[-2:]), min(target_image_1c.shape[-2:])])\n",
    "        crop_target_image_1c = center_crop( target_image_1c, crop_size )\n",
    "        crop_output_image_1c = center_crop( output_image_1c, crop_size )\n",
    "        # normalization\n",
    "        crop_output_image_1c = (crop_output_image_1c - crop_output_image_1c.mean()) / crop_output_image_1c.std()\n",
    "        crop_output_image_1c *= crop_target_image_1c.std()\n",
    "        crop_output_image_1c += crop_target_image_1c.mean()\n",
    "        # SSIM = 1 - loss\n",
    "        loss_ssim = 1 - ssim_fct(crop_output_image_1c, crop_target_image_1c, data_range = crop_target_image_1c.max().unsqueeze(0)).item()\n",
    "        print(f\"Epoch {iteration+1}/{TTT_epoch}, SSIM: {loss_ssim:.4f}\", end='\\r')\n",
    "\n",
    "        #loss_l1_history.append(loss_l1)\n",
    "        loss_ssim_history.append(loss_ssim)\n",
    "\n",
    "    # best results for an example\n",
    "    # best_loss_l1 = min(loss_l1_history)\n",
    "    # print('The best L1: ', best_loss_l1)\n",
    "    # best_loss_l1_epoch = np.argmin(loss_l1_history)\n",
    "    # print('The best L1 epoch: ', best_loss_l1_epoch)\n",
    "    best_loss_ssim = max(loss_ssim_history)\n",
    "    print('The best SSIM through training process:', best_loss_ssim)\n",
    "    best_loss_ssim_epoch = np.argmax(loss_ssim_history)\n",
    "    print('The best SSIM epoch: ', best_loss_ssim_epoch)\n",
    "\n",
    "    # best_loss_l1_index_history.append(best_loss_l1_epoch)\n",
    "    best_loss_ssim_index_history.append(best_loss_ssim_epoch)\n",
    "    # best_loss_l1_history.append(best_loss_l1)\n",
    "    best_loss_ssim_history.append(best_loss_ssim)\n",
    "\n",
    "\n",
    "# print(\"Testing average L1 loss: \", sum(best_loss_l1_history) / len(best_loss_l1_history))\n",
    "# print(\"Testing average L1 loss epoch: \", sum(best_loss_l1_index_history) / len(best_loss_l1_index_history))\n",
    "print(\"Testing average SSIM loss: \", sum(best_loss_ssim_history) / len(best_loss_ssim_history))\n",
    "print(\"Testing average SSIM loss epoch: \", sum(best_loss_ssim_index_history) / len(best_loss_ssim_index_history))"
   ]
  }
 ],
 "metadata": {
  "kernelspec": {
   "display_name": "base",
   "language": "python",
   "name": "python3"
  },
  "language_info": {
   "codemirror_mode": {
    "name": "ipython",
    "version": 3
   },
   "file_extension": ".py",
   "mimetype": "text/x-python",
   "name": "python",
   "nbconvert_exporter": "python",
   "pygments_lexer": "ipython3",
   "version": "3.10.8"
  },
  "orig_nbformat": 4
 },
 "nbformat": 4,
 "nbformat_minor": 2
}
