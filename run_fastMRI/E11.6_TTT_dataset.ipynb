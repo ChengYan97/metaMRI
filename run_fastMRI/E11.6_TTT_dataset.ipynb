{
 "cells": [
  {
   "cell_type": "code",
   "execution_count": 1,
   "metadata": {},
   "outputs": [
    {
     "data": {
      "text/plain": [
       "<torch._C.Generator at 0x7fbd0a0c16f0>"
      ]
     },
     "execution_count": 1,
     "metadata": {},
     "output_type": "execute_result"
    }
   ],
   "source": [
    "import time\n",
    "import random\n",
    "import numpy as np\n",
    "import pandas as pd\n",
    "import sys\n",
    "import pickle\n",
    "import h5py\n",
    "import os\n",
    "os.environ['CUDA_VISIBLE_DEVICES'] = '0'\n",
    "import torch\n",
    "import learn2learn as l2l\n",
    "from tqdm import tqdm\n",
    "import matplotlib.pyplot as plt\n",
    "from torch.utils.tensorboard import SummaryWriter\n",
    "from torch.optim.lr_scheduler import StepLR, CosineAnnealingLR\n",
    "from functions.fftc import fft2c_new as fft2c\n",
    "from functions.fftc import ifft2c_new as ifft2c\n",
    "from functions.math import complex_abs, complex_mul, complex_conj\n",
    "# The corase reconstruction is the rss of the zerofilled multi-coil kspaces\n",
    "# after inverse FT.\n",
    "from functions.data.transforms import UnetDataTransform_sens_TTT, center_crop\n",
    "# Import a torch.utils.data.Dataset class that takes a list of data examples, a path to those examples\n",
    "# a data transform and outputs a torch dataset.\n",
    "from functions.data.mri_dataset import SliceDataset\n",
    "# Unet architecture as nn.Module\n",
    "from functions.models.unet import Unet\n",
    "# Function that returns a MaskFunc object either for generatig random or equispaced masks\n",
    "from functions.data.subsample import create_mask_for_mask_type\n",
    "# Implementation of SSIMLoss\n",
    "from functions.training.losses import SSIMLoss\n",
    "from functions.helper import evaluate2c_imagepair\n",
    "### after you install bart 0.7.00 from https://mrirecon.github.io/bart/, import it as follows\n",
    "sys.path.insert(0,'/cheng/bart-0.7.00/python/')\n",
    "os.environ['TOOLBOX_PATH'] = \"/cheng/bart-0.7.00/\"\n",
    "import bart\n",
    "\n",
    "\n",
    "plt.rcParams.update({\"text.usetex\": True, \"font.family\": \"serif\", \"font.serif\": [\"Computer Modern Roman\"]})\n",
    "\n",
    "colors = ['b','r','k','g','m','c','tab:brown','tab:orange','tab:pink','tab:gray','tab:olive','tab:purple']\n",
    "\n",
    "markers = [\"v\",\"o\",\"^\",\"1\",\"*\",\">\",\"d\",\"<\",\"s\",\"P\",\"X\"]\n",
    "FONTSIZE = 22\n",
    "\n",
    "device = torch.device('cuda') if torch.cuda.is_available() else torch.device('cpu')\n",
    "\n",
    "# seed\n",
    "SEED = 1\n",
    "random.seed(SEED)\n",
    "np.random.seed(SEED)\n",
    "torch.cuda.manual_seed(SEED)\n",
    "torch.manual_seed(SEED)\n"
   ]
  },
  {
   "attachments": {},
   "cell_type": "markdown",
   "metadata": {},
   "source": [
    "### Load the data"
   ]
  },
  {
   "cell_type": "code",
   "execution_count": 2,
   "metadata": {},
   "outputs": [],
   "source": [
    "# data path\n",
    "# path_test = '/cheng/metaMRI/metaMRI/data_dict/E11.1/Q/brain_test_AXT1POST_Skyra_5-8.yaml'\n",
    "# path_test_sensmaps = '/cheng/metaMRI/metaMRI/data_dict/E11.1/Q/sensmap_test/'\n",
    "path_test = '/cheng/metaMRI/metaMRI/data_dict/TTT_paper/TTT_brain_test_100.yaml'\n",
    "path_test_sensmaps = '/cheng/metaMRI/metaMRI/data_dict/TTT_paper/sensmap_brain_test/'\n",
    "\n",
    "# mask function and data transform\n",
    "mask_function = create_mask_for_mask_type(mask_type_str = 'random', self_sup = False, \n",
    "                    center_fraction = 0.08, acceleration = 4.0, acceleration_total = 3.0)\n",
    "\n",
    "data_transform = UnetDataTransform_sens_TTT('multicoil', mask_func = mask_function, use_seed=True, mode='adapt')\n",
    "\n",
    "# training dataset and data loader\n",
    "testset = SliceDataset(dataset = path_test, path_to_dataset='', \n",
    "                path_to_sensmaps = path_test_sensmaps, provide_senmaps=True, \n",
    "                challenge=\"multicoil\", transform = data_transform, use_dataset_cache=True)\n",
    "\n",
    "test_dataloader = torch.utils.data.DataLoader(dataset = testset, batch_size = 1, \n",
    "                shuffle = False, generator = torch.Generator().manual_seed(1), pin_memory = False)\n"
   ]
  },
  {
   "cell_type": "code",
   "execution_count": 3,
   "metadata": {},
   "outputs": [],
   "source": [
    "checkpoint_path = '/cheng/metaMRI/metaMRI/save/E11.6_joint(l1_1e-5_P)_T300_150epoch/E11.6_joint(l1_1e-5_P)_T300_150epoch_E150_best.pth'\n",
    "model = Unet(in_chans=2, out_chans=2, chans=32, num_pool_layers=4, drop_prob=0.0)\n",
    "model.load_state_dict(torch.load(checkpoint_path))\n",
    "model = model.to(device)"
   ]
  },
  {
   "attachments": {},
   "cell_type": "markdown",
   "metadata": {},
   "source": [
    "### without TTT"
   ]
  },
  {
   "cell_type": "code",
   "execution_count": 4,
   "metadata": {},
   "outputs": [
    {
     "name": "stderr",
     "output_type": "stream",
     "text": [
      "100it [00:20,  4.88it/s]\n"
     ]
    }
   ],
   "source": [
    "loss_l1_history_=[]\n",
    "loss_ssim_history_=[]\n",
    "ssim_fct = SSIMLoss()\n",
    "l1_loss = torch.nn.L1Loss(reduction='sum')\n",
    "\n",
    "for iter, batch in tqdm(enumerate(test_dataloader)): \n",
    "    input_image, target_image, ground_truth_image, mean, std, fname, slice_num, input_kspace, input_mask, target_kspace, target_mask, sens_maps, binary_background_mask = batch\n",
    "    input_image = input_image.to(device)\n",
    "    target_image = target_image.to(device)\n",
    "    input_kspace = input_kspace.to(device)\n",
    "    input_mask = input_mask.to(device)\n",
    "    sens_maps = sens_maps.to(device)\n",
    "    std = std.to(device)\n",
    "    mean = mean.to(device)\n",
    "    ground_truth_image = ground_truth_image.to(device)\n",
    "    binary_background_mask = binary_background_mask.to(device)\n",
    "\n",
    "    model_output = model(input_image)\n",
    "    model_output = model_output * std + mean\n",
    "    # supervised loss [x, fθ(A†y)]\n",
    "    # L1\n",
    "    loss_l1 = (l1_loss(model_output, target_image) / torch.sum(torch.abs(target_image))).item()\n",
    "    # SSIM = 1 - loss\n",
    "    output_image_1c = complex_abs(torch.moveaxis(model_output , 1, -1 ))\n",
    "    # center crop\n",
    "    min_size = min(ground_truth_image.shape[-2:])\n",
    "    crop = torch.Size([min_size, min_size])\n",
    "    ground_truth_image = center_crop( ground_truth_image, crop )\n",
    "    output_image_1c = center_crop( output_image_1c, crop )\n",
    "    loss_ssim = 1 - ssim_fct(output_image_1c, ground_truth_image, data_range = ground_truth_image.max().unsqueeze(0)).item()\n",
    "    #print('Test SSIM loss: ',loss_ssim)\n",
    "\n",
    "    loss_l1_history_.append(loss_l1)\n",
    "    loss_ssim_history_.append(loss_ssim)"
   ]
  },
  {
   "cell_type": "code",
   "execution_count": 6,
   "metadata": {},
   "outputs": [
    {
     "name": "stdout",
     "output_type": "stream",
     "text": [
      "Testing average L1 loss:  0.28124732211232184\n",
      "Testing average SSIM loss:  0.7954672402143479\n"
     ]
    }
   ],
   "source": [
    "print(\"Testing average L1 loss: \", sum(loss_l1_history_) / len(loss_l1_history_))\n",
    "print(\"Testing average SSIM loss: \", sum(loss_ssim_history_) / len(loss_ssim_history_))"
   ]
  },
  {
   "attachments": {},
   "cell_type": "markdown",
   "metadata": {},
   "source": [
    "### Test-time training"
   ]
  },
  {
   "cell_type": "code",
   "execution_count": 7,
   "metadata": {},
   "outputs": [
    {
     "name": "stderr",
     "output_type": "stream",
     "text": [
      "0it [00:00, ?it/s]"
     ]
    },
    {
     "name": "stderr",
     "output_type": "stream",
     "text": [
      "1it [01:00, 60.85s/it]"
     ]
    },
    {
     "name": "stdout",
     "output_type": "stream",
     "text": [
      "best L1:  0.2099648416042328\n",
      "best L1 epoch:  62\n",
      "best SSIM: 0.8269193172454834\n",
      "best SSIM epoch:  55\n"
     ]
    },
    {
     "name": "stderr",
     "output_type": "stream",
     "text": [
      "2it [02:01, 60.69s/it]"
     ]
    },
    {
     "name": "stdout",
     "output_type": "stream",
     "text": [
      "best L1:  0.1558871567249298\n",
      "best L1 epoch:  81\n",
      "best SSIM: 0.8308753371238708\n",
      "best SSIM epoch:  81\n"
     ]
    },
    {
     "name": "stderr",
     "output_type": "stream",
     "text": [
      "3it [03:02, 60.64s/it]"
     ]
    },
    {
     "name": "stdout",
     "output_type": "stream",
     "text": [
      "best L1:  0.15853410959243774\n",
      "best L1 epoch:  82\n",
      "best SSIM: 0.8681472539901733\n",
      "best SSIM epoch:  60\n"
     ]
    },
    {
     "name": "stderr",
     "output_type": "stream",
     "text": [
      "4it [04:02, 60.65s/it]"
     ]
    },
    {
     "name": "stdout",
     "output_type": "stream",
     "text": [
      "best L1:  0.22414475679397583\n",
      "best L1 epoch:  78\n",
      "best SSIM: 0.8117135167121887\n",
      "best SSIM epoch:  63\n"
     ]
    },
    {
     "name": "stderr",
     "output_type": "stream",
     "text": [
      "5it [05:03, 60.68s/it]"
     ]
    },
    {
     "name": "stdout",
     "output_type": "stream",
     "text": [
      "best L1:  0.2320133000612259\n",
      "best L1 epoch:  43\n",
      "best SSIM: 0.8102740049362183\n",
      "best SSIM epoch:  43\n"
     ]
    },
    {
     "name": "stderr",
     "output_type": "stream",
     "text": [
      "6it [05:55, 57.83s/it]"
     ]
    },
    {
     "name": "stdout",
     "output_type": "stream",
     "text": [
      "best L1:  0.18415094912052155\n",
      "best L1 epoch:  105\n",
      "best SSIM: 0.8515225052833557\n",
      "best SSIM epoch:  71\n"
     ]
    },
    {
     "name": "stderr",
     "output_type": "stream",
     "text": [
      "7it [06:56, 58.73s/it]"
     ]
    },
    {
     "name": "stdout",
     "output_type": "stream",
     "text": [
      "best L1:  0.18991127610206604\n",
      "best L1 epoch:  71\n",
      "best SSIM: 0.8867068290710449\n",
      "best SSIM epoch:  49\n"
     ]
    },
    {
     "name": "stderr",
     "output_type": "stream",
     "text": [
      "8it [07:56, 59.34s/it]"
     ]
    },
    {
     "name": "stdout",
     "output_type": "stream",
     "text": [
      "best L1:  0.20700393617153168\n",
      "best L1 epoch:  55\n",
      "best SSIM: 0.8538332581520081\n",
      "best SSIM epoch:  41\n"
     ]
    },
    {
     "name": "stderr",
     "output_type": "stream",
     "text": [
      "9it [08:57, 59.58s/it]"
     ]
    },
    {
     "name": "stdout",
     "output_type": "stream",
     "text": [
      "best L1:  0.21448153257369995\n",
      "best L1 epoch:  70\n",
      "best SSIM: 0.8302619457244873\n",
      "best SSIM epoch:  50\n"
     ]
    },
    {
     "name": "stderr",
     "output_type": "stream",
     "text": [
      "10it [09:57, 59.74s/it]"
     ]
    },
    {
     "name": "stdout",
     "output_type": "stream",
     "text": [
      "best L1:  0.1679583191871643\n",
      "best L1 epoch:  86\n",
      "best SSIM: 0.8673034310340881\n",
      "best SSIM epoch:  65\n"
     ]
    },
    {
     "name": "stderr",
     "output_type": "stream",
     "text": [
      "11it [10:57, 59.85s/it]"
     ]
    },
    {
     "name": "stdout",
     "output_type": "stream",
     "text": [
      "best L1:  0.14868514239788055\n",
      "best L1 epoch:  78\n",
      "best SSIM: 0.8620362281799316\n",
      "best SSIM epoch:  62\n"
     ]
    },
    {
     "name": "stderr",
     "output_type": "stream",
     "text": [
      "12it [11:57, 59.91s/it]"
     ]
    },
    {
     "name": "stdout",
     "output_type": "stream",
     "text": [
      "best L1:  0.23380343616008759\n",
      "best L1 epoch:  75\n",
      "best SSIM: 0.7255272269248962\n",
      "best SSIM epoch:  35\n"
     ]
    },
    {
     "name": "stderr",
     "output_type": "stream",
     "text": [
      "13it [12:57, 59.92s/it]"
     ]
    },
    {
     "name": "stdout",
     "output_type": "stream",
     "text": [
      "best L1:  0.18946310877799988\n",
      "best L1 epoch:  55\n",
      "best SSIM: 0.8540046811103821\n",
      "best SSIM epoch:  52\n"
     ]
    },
    {
     "name": "stderr",
     "output_type": "stream",
     "text": [
      "14it [13:56, 59.84s/it]"
     ]
    },
    {
     "name": "stdout",
     "output_type": "stream",
     "text": [
      "best L1:  0.19039054214954376\n",
      "best L1 epoch:  124\n",
      "best SSIM: 0.8191182017326355\n",
      "best SSIM epoch:  109\n"
     ]
    },
    {
     "name": "stderr",
     "output_type": "stream",
     "text": [
      "15it [14:56, 59.83s/it]"
     ]
    },
    {
     "name": "stdout",
     "output_type": "stream",
     "text": [
      "best L1:  0.17936040461063385\n",
      "best L1 epoch:  75\n",
      "best SSIM: 0.8463544249534607\n",
      "best SSIM epoch:  59\n"
     ]
    },
    {
     "name": "stderr",
     "output_type": "stream",
     "text": [
      "16it [16:02, 61.75s/it]"
     ]
    },
    {
     "name": "stdout",
     "output_type": "stream",
     "text": [
      "best L1:  0.1949545294046402\n",
      "best L1 epoch:  138\n",
      "best SSIM: 0.9105905294418335\n",
      "best SSIM epoch:  93\n"
     ]
    },
    {
     "name": "stderr",
     "output_type": "stream",
     "text": [
      "17it [17:06, 62.25s/it]"
     ]
    },
    {
     "name": "stdout",
     "output_type": "stream",
     "text": [
      "best L1:  0.18903107941150665\n",
      "best L1 epoch:  118\n",
      "best SSIM: 0.9123648405075073\n",
      "best SSIM epoch:  84\n"
     ]
    },
    {
     "name": "stderr",
     "output_type": "stream",
     "text": [
      "18it [18:09, 62.57s/it]"
     ]
    },
    {
     "name": "stdout",
     "output_type": "stream",
     "text": [
      "best L1:  0.15404941141605377\n",
      "best L1 epoch:  79\n",
      "best SSIM: 0.9260188937187195\n",
      "best SSIM epoch:  70\n"
     ]
    },
    {
     "name": "stderr",
     "output_type": "stream",
     "text": [
      "19it [19:15, 63.64s/it]"
     ]
    },
    {
     "name": "stdout",
     "output_type": "stream",
     "text": [
      "best L1:  0.17913246154785156\n",
      "best L1 epoch:  210\n",
      "best SSIM: 0.838662326335907\n",
      "best SSIM epoch:  172\n"
     ]
    },
    {
     "name": "stderr",
     "output_type": "stream",
     "text": [
      "20it [20:22, 64.52s/it]"
     ]
    },
    {
     "name": "stdout",
     "output_type": "stream",
     "text": [
      "best L1:  0.2617347836494446\n",
      "best L1 epoch:  107\n",
      "best SSIM: 0.8112187385559082\n",
      "best SSIM epoch:  75\n"
     ]
    },
    {
     "name": "stderr",
     "output_type": "stream",
     "text": [
      "21it [21:27, 64.71s/it]"
     ]
    },
    {
     "name": "stdout",
     "output_type": "stream",
     "text": [
      "best L1:  0.22814726829528809\n",
      "best L1 epoch:  190\n",
      "best SSIM: 0.8276022672653198\n",
      "best SSIM epoch:  115\n"
     ]
    },
    {
     "name": "stderr",
     "output_type": "stream",
     "text": [
      "22it [22:33, 65.15s/it]"
     ]
    },
    {
     "name": "stdout",
     "output_type": "stream",
     "text": [
      "best L1:  0.20765039324760437\n",
      "best L1 epoch:  165\n",
      "best SSIM: 0.896100640296936\n",
      "best SSIM epoch:  64\n"
     ]
    },
    {
     "name": "stderr",
     "output_type": "stream",
     "text": [
      "23it [23:38, 65.12s/it]"
     ]
    },
    {
     "name": "stdout",
     "output_type": "stream",
     "text": [
      "best L1:  0.195331871509552\n",
      "best L1 epoch:  98\n",
      "best SSIM: 0.8735427260398865\n",
      "best SSIM epoch:  61\n"
     ]
    },
    {
     "name": "stderr",
     "output_type": "stream",
     "text": [
      "24it [24:44, 65.20s/it]"
     ]
    },
    {
     "name": "stdout",
     "output_type": "stream",
     "text": [
      "best L1:  0.18004119396209717\n",
      "best L1 epoch:  165\n",
      "best SSIM: 0.857361376285553\n",
      "best SSIM epoch:  130\n"
     ]
    },
    {
     "name": "stderr",
     "output_type": "stream",
     "text": [
      "25it [25:49, 65.30s/it]"
     ]
    },
    {
     "name": "stdout",
     "output_type": "stream",
     "text": [
      "best L1:  0.22384338080883026\n",
      "best L1 epoch:  124\n",
      "best SSIM: 0.836162269115448\n",
      "best SSIM epoch:  63\n"
     ]
    },
    {
     "name": "stderr",
     "output_type": "stream",
     "text": [
      "26it [26:49, 63.77s/it]"
     ]
    },
    {
     "name": "stdout",
     "output_type": "stream",
     "text": [
      "best L1:  0.2332524210214615\n",
      "best L1 epoch:  224\n",
      "best SSIM: 0.7369975447654724\n",
      "best SSIM epoch:  104\n"
     ]
    },
    {
     "name": "stderr",
     "output_type": "stream",
     "text": [
      "27it [27:55, 64.30s/it]"
     ]
    },
    {
     "name": "stdout",
     "output_type": "stream",
     "text": [
      "best L1:  0.17542509734630585\n",
      "best L1 epoch:  143\n",
      "best SSIM: 0.8781123161315918\n",
      "best SSIM epoch:  99\n"
     ]
    },
    {
     "name": "stderr",
     "output_type": "stream",
     "text": [
      "28it [29:01, 64.71s/it]"
     ]
    },
    {
     "name": "stdout",
     "output_type": "stream",
     "text": [
      "best L1:  0.22579443454742432\n",
      "best L1 epoch:  168\n",
      "best SSIM: 0.8022077083587646\n",
      "best SSIM epoch:  92\n"
     ]
    },
    {
     "name": "stderr",
     "output_type": "stream",
     "text": [
      "29it [30:07, 65.28s/it]"
     ]
    },
    {
     "name": "stdout",
     "output_type": "stream",
     "text": [
      "best L1:  0.2221979945898056\n",
      "best L1 epoch:  158\n",
      "best SSIM: 0.8503038883209229\n",
      "best SSIM epoch:  119\n"
     ]
    },
    {
     "name": "stderr",
     "output_type": "stream",
     "text": [
      "30it [31:12, 65.24s/it]"
     ]
    },
    {
     "name": "stdout",
     "output_type": "stream",
     "text": [
      "best L1:  0.1954353302717209\n",
      "best L1 epoch:  173\n",
      "best SSIM: 0.8356055021286011\n",
      "best SSIM epoch:  76\n"
     ]
    },
    {
     "name": "stderr",
     "output_type": "stream",
     "text": [
      "31it [32:13, 63.89s/it]"
     ]
    },
    {
     "name": "stdout",
     "output_type": "stream",
     "text": [
      "best L1:  0.1626785397529602\n",
      "best L1 epoch:  59\n",
      "best SSIM: 0.8599189519882202\n",
      "best SSIM epoch:  49\n"
     ]
    },
    {
     "name": "stderr",
     "output_type": "stream",
     "text": [
      "32it [33:19, 64.51s/it]"
     ]
    },
    {
     "name": "stdout",
     "output_type": "stream",
     "text": [
      "best L1:  0.14683789014816284\n",
      "best L1 epoch:  69\n",
      "best SSIM: 0.9276238083839417\n",
      "best SSIM epoch:  59\n"
     ]
    },
    {
     "name": "stderr",
     "output_type": "stream",
     "text": [
      "33it [34:20, 63.34s/it]"
     ]
    },
    {
     "name": "stdout",
     "output_type": "stream",
     "text": [
      "best L1:  0.17497548460960388\n",
      "best L1 epoch:  85\n",
      "best SSIM: 0.8774202466011047\n",
      "best SSIM epoch:  54\n"
     ]
    },
    {
     "name": "stderr",
     "output_type": "stream",
     "text": [
      "34it [35:26, 64.16s/it]"
     ]
    },
    {
     "name": "stdout",
     "output_type": "stream",
     "text": [
      "best L1:  0.22621920704841614\n",
      "best L1 epoch:  142\n",
      "best SSIM: 0.8513139486312866\n",
      "best SSIM epoch:  3\n"
     ]
    },
    {
     "name": "stderr",
     "output_type": "stream",
     "text": [
      "35it [36:31, 64.62s/it]"
     ]
    },
    {
     "name": "stdout",
     "output_type": "stream",
     "text": [
      "best L1:  0.19791394472122192\n",
      "best L1 epoch:  124\n",
      "best SSIM: 0.9026313424110413\n",
      "best SSIM epoch:  77\n"
     ]
    },
    {
     "name": "stderr",
     "output_type": "stream",
     "text": [
      "36it [37:37, 64.97s/it]"
     ]
    },
    {
     "name": "stdout",
     "output_type": "stream",
     "text": [
      "best L1:  0.15918700397014618\n",
      "best L1 epoch:  94\n",
      "best SSIM: 0.9099578857421875\n",
      "best SSIM epoch:  81\n"
     ]
    },
    {
     "name": "stderr",
     "output_type": "stream",
     "text": [
      "37it [38:43, 65.21s/it]"
     ]
    },
    {
     "name": "stdout",
     "output_type": "stream",
     "text": [
      "best L1:  0.21316008269786835\n",
      "best L1 epoch:  117\n",
      "best SSIM: 0.8454534411430359\n",
      "best SSIM epoch:  110\n"
     ]
    },
    {
     "name": "stderr",
     "output_type": "stream",
     "text": [
      "38it [39:49, 65.52s/it]"
     ]
    },
    {
     "name": "stdout",
     "output_type": "stream",
     "text": [
      "best L1:  0.19320228695869446\n",
      "best L1 epoch:  220\n",
      "best SSIM: 0.8514959812164307\n",
      "best SSIM epoch:  140\n"
     ]
    },
    {
     "name": "stderr",
     "output_type": "stream",
     "text": [
      "39it [40:54, 65.39s/it]"
     ]
    },
    {
     "name": "stdout",
     "output_type": "stream",
     "text": [
      "best L1:  0.14604486525058746\n",
      "best L1 epoch:  128\n",
      "best SSIM: 0.8920755386352539\n",
      "best SSIM epoch:  81\n"
     ]
    }
   ],
   "source": [
    "best_loss_l1_history=[]\n",
    "best_loss_l1_index_history=[]\n",
    "best_loss_ssim_history=[]\n",
    "best_loss_ssim_index_history=[]\n",
    "ssim_fct = SSIMLoss()\n",
    "l1_loss = torch.nn.L1Loss(reduction='sum')\n",
    "adapt_lr = 0.0001\n",
    "TTT_epoch = 500\n",
    "\n",
    "for iter, batch in tqdm(enumerate(test_dataloader)): \n",
    "    input_image, target_image, ground_truth_image, mean, std, fname, slice_num, input_kspace, input_mask, target_kspace, target_mask, sens_maps, binary_background_mask = batch\n",
    "    input_image = input_image.to(device)\n",
    "    target_image = target_image.to(device)\n",
    "    input_kspace = input_kspace.to(device)\n",
    "    input_mask = input_mask.to(device)\n",
    "    sens_maps = sens_maps.to(device)\n",
    "    std = std.to(device)\n",
    "    mean = mean.to(device)\n",
    "    ground_truth_image = ground_truth_image.to(device)\n",
    "    binary_background_mask = binary_background_mask.to(device)\n",
    "\n",
    "    # model re-init\n",
    "    model.load_state_dict(torch.load(checkpoint_path))\n",
    "\n",
    "    # each data point TTT\n",
    "    optimizer = torch.optim.Adam(model.parameters(),lr=adapt_lr)\n",
    "    \n",
    "    loss_l1_history = []\n",
    "    loss_ssim_history = []\n",
    "    self_loss_history = []\n",
    "\n",
    "    for iteration in range(TTT_epoch):\n",
    "        # fθ(A†y)\n",
    "        model_output = model(input_image)\n",
    "        model_output = model_output * std + mean\n",
    "        # supervised loss [x, fθ(A†y)]\n",
    "        # L1\n",
    "        loss_l1 = (l1_loss(model_output, target_image) / torch.sum(torch.abs(target_image))).item()\n",
    "        #print('Test L1 loss: ',loss_l1)\n",
    "        loss_l1_history.append(loss_l1)\n",
    "        # SSIM = 1 - loss\n",
    "        output_image_1c = complex_abs(torch.moveaxis(model_output , 1, -1 ))\n",
    "\n",
    "        # center crop\n",
    "        min_size = min(ground_truth_image.shape[-2:])\n",
    "        crop = torch.Size([min_size, min_size])\n",
    "        ground_truth_image = center_crop( ground_truth_image, crop )\n",
    "        output_image_1c = center_crop( output_image_1c, crop )\n",
    "\n",
    "        loss_ssim = 1 - ssim_fct(output_image_1c, ground_truth_image, data_range = ground_truth_image.max().unsqueeze(0)).item()\n",
    "        #print('Test SSIM loss: ',loss_ssim)\n",
    "        loss_ssim_history.append(loss_ssim)\n",
    "\n",
    "        # self-supervised loss\n",
    "        # fθ(A†y)\n",
    "        model_output = torch.moveaxis(model_output, 1, -1 )\n",
    "        # S fθ(A†y)\n",
    "        output_sens_image = complex_mul(model_output, sens_maps)\n",
    "        # FS fθ(A†y)\n",
    "        Fimg = fft2c(output_sens_image)\n",
    "        # MFS fθ(A†y) = A fθ(A†y)\n",
    "        Fimg_forward = Fimg * input_mask\n",
    "        # consistency loss [y, Afθ(A†y)]\n",
    "        loss_self = l1_loss(Fimg_forward, input_kspace) / torch.sum(torch.abs(input_kspace))\n",
    "\n",
    "        optimizer.zero_grad()\n",
    "        loss_self.backward()\n",
    "        optimizer.step()\n",
    "        #train_loss += loss.item()\n",
    "        #print('TTT loss: ',loss_self.item())\n",
    "        self_loss_history.append(loss_self.item())\n",
    "\n",
    "\n",
    "\n",
    "    # \n",
    "    best_loss_l1 = min(loss_l1_history)\n",
    "    print('best L1: ', best_loss_l1)\n",
    "    best_loss_l1_epoch = np.argmin(loss_l1_history)\n",
    "    print('best L1 epoch: ', best_loss_l1_epoch)\n",
    "    best_loss_ssim = max(loss_ssim_history)\n",
    "    print('best SSIM:', best_loss_ssim)\n",
    "    best_loss_ssim_epoch = np.argmax(loss_ssim_history)\n",
    "    print('best SSIM epoch: ', best_loss_ssim_epoch)\n",
    "\n",
    "    best_loss_l1_index_history.append(best_loss_l1_epoch)\n",
    "    best_loss_ssim_index_history.append(best_loss_ssim_epoch)\n",
    "    best_loss_l1_history.append(best_loss_l1)\n",
    "    best_loss_ssim_history.append(best_loss_ssim)\n",
    "\n",
    "\n",
    "print(\"Testing average L1 loss: \", sum(best_loss_l1_history) / len(best_loss_l1_history))\n",
    "print(\"Testing average L1 loss epoch: \", sum(best_loss_l1_index_history) / len(best_loss_l1_index_history))\n",
    "print(\"Testing average SSIM loss: \", sum(best_loss_ssim_history) / len(best_loss_ssim_history))\n",
    "print(\"Testing average SSIM loss epoch: \", sum(best_loss_ssim_index_history) / len(best_loss_ssim_index_history))"
   ]
  }
 ],
 "metadata": {
  "kernelspec": {
   "display_name": "base",
   "language": "python",
   "name": "python3"
  },
  "language_info": {
   "codemirror_mode": {
    "name": "ipython",
    "version": 3
   },
   "file_extension": ".py",
   "mimetype": "text/x-python",
   "name": "python",
   "nbconvert_exporter": "python",
   "pygments_lexer": "ipython3",
   "version": "3.10.8"
  },
  "orig_nbformat": 4
 },
 "nbformat": 4,
 "nbformat_minor": 2
}
