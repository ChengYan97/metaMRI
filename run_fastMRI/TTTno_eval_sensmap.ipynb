{
 "cells": [
  {
   "cell_type": "code",
   "execution_count": 1,
   "metadata": {},
   "outputs": [
    {
     "data": {
      "text/plain": [
       "<torch._C.Generator at 0x7f3a99eed730>"
      ]
     },
     "execution_count": 1,
     "metadata": {},
     "output_type": "execute_result"
    }
   ],
   "source": [
    "import time\n",
    "import random\n",
    "import numpy as np\n",
    "import pandas as pd\n",
    "import sys\n",
    "import pickle\n",
    "import h5py\n",
    "import copy\n",
    "import os\n",
    "os.environ['CUDA_VISIBLE_DEVICES'] = '0'\n",
    "import torch\n",
    "import learn2learn as l2l\n",
    "from tqdm import tqdm\n",
    "import matplotlib.pyplot as plt\n",
    "from torch.utils.tensorboard import SummaryWriter\n",
    "from torch.optim.lr_scheduler import StepLR, CosineAnnealingLR\n",
    "from functions.fftc import fft2c_new as fft2c\n",
    "from functions.fftc import ifft2c_new as ifft2c\n",
    "from functions.math import complex_abs, complex_mul, complex_conj\n",
    "# The corase reconstruction is the rss of the zerofilled multi-coil kspaces\n",
    "# after inverse FT.\n",
    "from functions.data.transforms import UnetDataTransform_TTTpaper_fixMask, center_crop, scale_sensmap, rss_torch\n",
    "# Import a torch.utils.data.Dataset class that takes a list of data examples, a path to those examples\n",
    "# a data transform and outputs a torch dataset.\n",
    "from functions.data.mri_dataset import SliceDataset\n",
    "# Unet architecture as nn.Module\n",
    "from functions.models.unet import Unet\n",
    "# Function that returns a MaskFunc object either for generatig random or equispaced masks\n",
    "from functions.data.subsample import create_mask_for_mask_type\n",
    "# Implementation of SSIMLoss\n",
    "from functions.training.losses import SSIMLoss\n",
    "from functions.helper import evaluate2c_imagepair\n",
    "### after you install bart 0.7.00 from https://mrirecon.github.io/bart/, import it as follows\n",
    "sys.path.insert(0,'/cheng/bart-0.7.00/python/')\n",
    "os.environ['TOOLBOX_PATH'] = \"/cheng/bart-0.7.00/\"\n",
    "import bart\n",
    "\n",
    "\n",
    "plt.rcParams.update({\"text.usetex\": True, \"font.family\": \"serif\", \"font.serif\": [\"Computer Modern Roman\"]})\n",
    "\n",
    "colors = ['b','r','k','g','m','c','tab:brown','tab:orange','tab:pink','tab:gray','tab:olive','tab:purple']\n",
    "\n",
    "markers = [\"v\",\"o\",\"^\",\"1\",\"*\",\">\",\"d\",\"<\",\"s\",\"P\",\"X\"]\n",
    "FONTSIZE = 22\n",
    "\n",
    "device = torch.device('cuda') if torch.cuda.is_available() else torch.device('cpu')\n",
    "\n",
    "# seed\n",
    "SEED = 1\n",
    "random.seed(SEED)\n",
    "np.random.seed(SEED)\n",
    "torch.cuda.manual_seed(SEED)\n",
    "torch.manual_seed(SEED)\n"
   ]
  },
  {
   "attachments": {},
   "cell_type": "markdown",
   "metadata": {},
   "source": [
    "### Load the data"
   ]
  },
  {
   "cell_type": "code",
   "execution_count": 2,
   "metadata": {},
   "outputs": [],
   "source": [
    "# data path\n",
    "path_test = '/cheng/metaMRI/metaMRI/data_dict/TTT_paper/TTT_knee_val_match.yaml'\n",
    "path_test_sensmaps = '/cheng/metaMRI/metaMRI/data_dict/TTT_paper/sensmap_knee_val/'\n",
    "\n",
    "# path_test = '/cheng/metaMRI/metaMRI/data_dict/TTT_paper/TTT_brain_test_100.yaml'\n",
    "# path_test_sensmaps = '/cheng/metaMRI/metaMRI/data_dict/TTT_paper/sensmap_brain_test/'\n",
    "\n",
    "# data transform\n",
    "data_transform = UnetDataTransform_TTTpaper_fixMask('multicoil')\n",
    "\n",
    "# training dataset and data loader\n",
    "testset = SliceDataset(dataset = path_test, path_to_dataset='', \n",
    "                path_to_sensmaps = path_test_sensmaps, provide_senmaps=True, \n",
    "                challenge=\"multicoil\", transform = data_transform, use_dataset_cache=True)\n",
    "\n",
    "# shuffle = False !!!!!!!\n",
    "test_dataloader = torch.utils.data.DataLoader(dataset = testset, batch_size = 1, \n",
    "                shuffle = False, generator = torch.Generator().manual_seed(1), pin_memory = False)\n"
   ]
  },
  {
   "cell_type": "code",
   "execution_count": 16,
   "metadata": {},
   "outputs": [],
   "source": [
    "checkpoint_path = '/cheng/metaMRI/metaMRI/save/E_ttt_maml(1st)_out-sup(l1_out-5_in-5)P_T300_300epoch/E_ttt_maml(1st)_out-sup(l1_out-5_in-5)P_T300_300epoch_E300.pth'\n",
    "\n",
    "model = Unet(in_chans=2, out_chans=2, chans=64, num_pool_layers=4, drop_prob=0.0)\n",
    "model.load_state_dict(torch.load(checkpoint_path))\n",
    "model = model.to(device)"
   ]
  },
  {
   "cell_type": "code",
   "execution_count": 6,
   "metadata": {},
   "outputs": [],
   "source": [
    "path_mask = '/cheng/metaMRI/metaMRI/data_dict/TTT_paper/knee_mask'\n",
    "with open(path_mask,'rb') as fn:\n",
    "    mask2d = pickle.load(fn)\n",
    "mask = torch.tensor(mask2d[0]).unsqueeze(0).unsqueeze(0).unsqueeze(-1)\n",
    "mask = mask.to(device)"
   ]
  },
  {
   "cell_type": "markdown",
   "metadata": {},
   "source": [
    "without TTT"
   ]
  },
  {
   "cell_type": "code",
   "execution_count": 17,
   "metadata": {},
   "outputs": [
    {
     "name": "stderr",
     "output_type": "stream",
     "text": [
      "43it [00:13,  3.20it/s]\n"
     ]
    }
   ],
   "source": [
    "COIL = 'sensmap'\n",
    "gt_norm = True\n",
    "\n",
    "loss_ssim_history_=[]\n",
    "ssim_fct = SSIMLoss()\n",
    "l1_loss = torch.nn.L1Loss(reduction='sum')\n",
    "\n",
    "for iter, batch in tqdm(enumerate(test_dataloader)): \n",
    "    kspace, sens_maps, sens_maps_conj, _, fname, slice_num = batch\n",
    "    kspace = kspace.squeeze(0).to(device)\n",
    "    sens_maps = sens_maps.squeeze(0).to(device)\n",
    "    sens_maps_conj = sens_maps_conj.squeeze(0).to(device)\n",
    "\n",
    "    # input k space\n",
    "    input_kspace = kspace * mask + 0.0\n",
    "\n",
    "    # scale factor\n",
    "    if COIL == 'rss':\n",
    "        scale_factor = scale_rss(input_kspace, model)\n",
    "    elif COIL == 'sensmap': \n",
    "        scale_factor = scale_sensmap(input_kspace, model, sens_maps_conj)\n",
    "\n",
    "    # gt image: x\n",
    "    if COIL == 'rss':\n",
    "        target_image_1c = rss_torch(complex_abs(ifft2c(kspace))).unsqueeze(0)\n",
    "    elif COIL == 'sensmap':\n",
    "        target_image_1c = complex_abs(complex_mul(ifft2c(kspace), sens_maps_conj).sum(dim=0, keepdim=False)).unsqueeze(0)\n",
    "    # center crop for SSIM\n",
    "    crop_size = torch.Size([min(target_image_1c.shape[-2:]), min(target_image_1c.shape[-2:])])\n",
    "    crop_target_image = center_crop( target_image_1c, crop_size )\n",
    "    if gt_norm: \n",
    "        std_crop_target_image = crop_target_image.std()\n",
    "        mean_crop_target_image = crop_target_image.mean()\n",
    "\n",
    "    # A†y\n",
    "    scale_input_kspace = scale_factor* input_kspace\n",
    "    if COIL == 'rss':\n",
    "        train_inputs = rss_torch(ifft2c(scale_input_kspace))\n",
    "    elif COIL == 'sensmap':    \n",
    "        train_inputs = complex_mul(ifft2c(scale_input_kspace), sens_maps_conj).sum(dim=0, keepdim=False)\n",
    "    # [height, width, 2]\n",
    "    train_inputs = torch.moveaxis( train_inputs , -1, 0 ) # move complex channels to channel dimension\n",
    "    # [2, height, width]\n",
    "\n",
    "    # fθ(A†y)\n",
    "    train_outputs = model(train_inputs.unsqueeze(0)) # [1, 2, height, width]\n",
    "    train_outputs_1c = complex_abs(torch.moveaxis(train_outputs.squeeze(0), 0, -1 )).unsqueeze(0) # [1, height, width]\n",
    "\n",
    "    # center crop for SSIM\n",
    "    crop_output_image = center_crop( train_outputs_1c, crop_size )\n",
    "    # normalization\n",
    "    if gt_norm: \n",
    "        crop_output_image = (crop_output_image - crop_output_image.mean()) / crop_output_image.std()\n",
    "        crop_output_image *= std_crop_target_image\n",
    "        crop_output_image += mean_crop_target_image\n",
    "\n",
    "\n",
    "    # loss_ssim = 1 - ssim_fct(binary_mask_output_image_1c, crop_target_image, data_range = crop_target_image.max().unsqueeze(0)).item()\n",
    "    loss_ssim = 1 - ssim_fct(crop_output_image, crop_target_image, data_range = crop_target_image.max().unsqueeze(0)).item()\n",
    "\n",
    "    # loss_l1_history_.append(loss_l1)\n",
    "    loss_ssim_history_.append(loss_ssim)"
   ]
  },
  {
   "cell_type": "code",
   "execution_count": 18,
   "metadata": {},
   "outputs": [
    {
     "name": "stdout",
     "output_type": "stream",
     "text": [
      "Testing average SSIM loss:  0.8448106286137603\n"
     ]
    }
   ],
   "source": [
    "# print(\"Testing average L1 loss: \", sum(loss_l1_history_) / len(loss_l1_history_))\n",
    "print(\"Testing average SSIM loss: \", sum(loss_ssim_history_) / len(loss_ssim_history_))"
   ]
  },
  {
   "cell_type": "markdown",
   "metadata": {},
   "source": [
    "sup"
   ]
  },
  {
   "cell_type": "code",
   "execution_count": 9,
   "metadata": {},
   "outputs": [],
   "source": [
    "checkpoint_path = '/cheng/metaMRI/metaMRI/save/E_tttpaper_sensmap_sup(l1_1e-5)P_T300_300epoch/E_tttpaper_sensmap_sup(l1_1e-5)P_T300_300epoch_E300.pth'\n",
    "\n",
    "model = Unet(in_chans=2, out_chans=2, chans=64, num_pool_layers=4, drop_prob=0.0)\n",
    "model.load_state_dict(torch.load(checkpoint_path))\n",
    "model = model.to(device)"
   ]
  },
  {
   "cell_type": "code",
   "execution_count": 10,
   "metadata": {},
   "outputs": [
    {
     "name": "stderr",
     "output_type": "stream",
     "text": [
      "43it [00:15,  2.85it/s]\n"
     ]
    }
   ],
   "source": [
    "COIL = 'sensmap'\n",
    "gt_norm = True\n",
    "\n",
    "loss_ssim_history_=[]\n",
    "ssim_fct = SSIMLoss()\n",
    "l1_loss = torch.nn.L1Loss(reduction='sum')\n",
    "\n",
    "for iter, batch in tqdm(enumerate(test_dataloader)): \n",
    "    kspace, sens_maps, sens_maps_conj, _, fname, slice_num = batch\n",
    "    kspace = kspace.squeeze(0).to(device)\n",
    "    sens_maps = sens_maps.squeeze(0).to(device)\n",
    "    sens_maps_conj = sens_maps_conj.squeeze(0).to(device)\n",
    "\n",
    "    # input k space\n",
    "    input_kspace = kspace * mask + 0.0\n",
    "\n",
    "    # scale factor\n",
    "    if COIL == 'rss':\n",
    "        scale_factor = scale_rss(input_kspace, model)\n",
    "    elif COIL == 'sensmap': \n",
    "        scale_factor = scale_sensmap(input_kspace, model, sens_maps_conj)\n",
    "\n",
    "    # gt image: x\n",
    "    if COIL == 'rss':\n",
    "        target_image_1c = rss_torch(complex_abs(ifft2c(kspace))).unsqueeze(0)\n",
    "    elif COIL == 'sensmap':\n",
    "        target_image_1c = complex_abs(complex_mul(ifft2c(kspace), sens_maps_conj).sum(dim=0, keepdim=False)).unsqueeze(0)\n",
    "    # center crop for SSIM\n",
    "    crop_size = torch.Size([min(target_image_1c.shape[-2:]), min(target_image_1c.shape[-2:])])\n",
    "    crop_target_image = center_crop( target_image_1c, crop_size )\n",
    "    if gt_norm: \n",
    "        std_crop_target_image = crop_target_image.std()\n",
    "        mean_crop_target_image = crop_target_image.mean()\n",
    "\n",
    "    # A†y\n",
    "    scale_input_kspace = scale_factor* input_kspace\n",
    "    if COIL == 'rss':\n",
    "        train_inputs = rss_torch(ifft2c(scale_input_kspace))\n",
    "    elif COIL == 'sensmap':    \n",
    "        train_inputs = complex_mul(ifft2c(scale_input_kspace), sens_maps_conj).sum(dim=0, keepdim=False)\n",
    "    # [height, width, 2]\n",
    "    train_inputs = torch.moveaxis( train_inputs , -1, 0 ) # move complex channels to channel dimension\n",
    "    # [2, height, width]\n",
    "\n",
    "    # fθ(A†y)\n",
    "    train_outputs = model(train_inputs.unsqueeze(0)) # [1, 2, height, width]\n",
    "    train_outputs_1c = complex_abs(torch.moveaxis(train_outputs.squeeze(0), 0, -1 )).unsqueeze(0) # [1, height, width]\n",
    "\n",
    "    # center crop for SSIM\n",
    "    crop_output_image = center_crop( train_outputs_1c, crop_size )\n",
    "    # normalization\n",
    "    if gt_norm: \n",
    "        crop_output_image = (crop_output_image - crop_output_image.mean()) / crop_output_image.std()\n",
    "        crop_output_image *= std_crop_target_image\n",
    "        crop_output_image += mean_crop_target_image\n",
    "\n",
    "\n",
    "    # loss_ssim = 1 - ssim_fct(binary_mask_output_image_1c, crop_target_image, data_range = crop_target_image.max().unsqueeze(0)).item()\n",
    "    loss_ssim = 1 - ssim_fct(crop_output_image, crop_target_image, data_range = crop_target_image.max().unsqueeze(0)).item()\n",
    "\n",
    "    # loss_l1_history_.append(loss_l1)\n",
    "    loss_ssim_history_.append(loss_ssim)"
   ]
  },
  {
   "cell_type": "code",
   "execution_count": 11,
   "metadata": {},
   "outputs": [
    {
     "name": "stdout",
     "output_type": "stream",
     "text": [
      "Testing average SSIM loss:  0.8436909359554912\n"
     ]
    }
   ],
   "source": [
    "# print(\"Testing average L1 loss: \", sum(loss_l1_history_) / len(loss_l1_history_))\n",
    "print(\"Testing average SSIM loss: \", sum(loss_ssim_history_) / len(loss_ssim_history_))"
   ]
  }
 ],
 "metadata": {
  "kernelspec": {
   "display_name": "base",
   "language": "python",
   "name": "python3"
  },
  "language_info": {
   "codemirror_mode": {
    "name": "ipython",
    "version": 3
   },
   "file_extension": ".py",
   "mimetype": "text/x-python",
   "name": "python",
   "nbconvert_exporter": "python",
   "pygments_lexer": "ipython3",
   "version": "3.10.8"
  },
  "orig_nbformat": 4
 },
 "nbformat": 4,
 "nbformat_minor": 2
}
