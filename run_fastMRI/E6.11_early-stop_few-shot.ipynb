{
 "cells": [
  {
   "cell_type": "code",
   "execution_count": 1,
   "metadata": {},
   "outputs": [],
   "source": [
    "import random\n",
    "import numpy as np\n",
    "import os\n",
    "os.environ['CUDA_VISIBLE_DEVICES'] = '1'\n",
    "import torch\n",
    "import learn2learn as l2l\n",
    "from tqdm import tqdm\n",
    "from torch.utils.tensorboard import SummaryWriter\n",
    "from torch.optim.lr_scheduler import StepLR\n",
    "# The corase reconstruction is the rss of the zerofilled multi-coil kspaces\n",
    "# after inverse FT.\n",
    "from functions.data.transforms import UnetDataTransform, UnetDataTransform_norm, normalize\n",
    "# Import a torch.utils.data.Dataset class that takes a list of data examples, a path to those examples\n",
    "# a data transform and outputs a torch dataset.\n",
    "from functions.data.mri_dataset import SliceDataset\n",
    "# Unet architecture as nn.Module\n",
    "from functions.models.unet import Unet\n",
    "# Function that returns a MaskFunc object either for generatig random or equispaced masks\n",
    "from functions.data.subsample import create_mask_for_mask_type\n",
    "# Implementation of SSIMLoss\n",
    "from functions.training.losses import SSIMLoss\n",
    "\n",
    "device = torch.device('cuda') if torch.cuda.is_available() else torch.device('cpu')\n",
    "\n",
    "####################################################################################\n",
    "SEED = 1\n",
    "INIT = 'maml'   # 'standard', 'maml'\n",
    "TARGET = 'Q1'       # 'Q1', 'Q2', 'Q3'\n",
    "LR = 0.001 \n",
    "\n",
    "\n",
    "# hyperparameter\n",
    "TRAINING_EPOCH = 30\n",
    "sourse_shot = 200\n",
    "adapt_shot = 10\n",
    "\n",
    "####################################################################################\n",
    "# seed\n",
    "random.seed(SEED)\n",
    "np.random.seed(SEED)\n",
    "torch.cuda.manual_seed(SEED)\n",
    "torch.manual_seed(SEED)\n",
    "\n",
    "# different trained weight\n",
    "if INIT == 'standard':\n",
    "    checkpoint_path = \"/cheng/metaMRI/metaMRI/save/E6*/E6.6_standard(NMSE-lrAnneal)_T8x200_100epoch_E85_best.pth\"\n",
    "elif INIT == 'maml':\n",
    "    checkpoint_path = \"/cheng/metaMRI/metaMRI/save/E6*/E6.4_maml(NMSE-lre-3)_T8x200_200epoch_E200_best.pth\"\n",
    "else: \n",
    "    print('Choose the initialization weight. ')\n",
    "\n",
    "# target domain\n",
    "if TARGET == 'Q1': \n",
    "    path_adapt = '/cheng/metaMRI/metaMRI/data_dict/E6.2/brain_train_AXT1POST_TrioTim_5-8.yaml'\n",
    "    path_test = '/cheng/metaMRI/metaMRI/data_dict/E6.2/brain_test_AXT1POST_TrioTim_5-8.yaml'\n",
    "elif TARGET == 'Q2': \n",
    "    path_adapt = '/cheng/metaMRI/metaMRI/data_dict/E6.2/brain_train_AXFLAIR_Skyra_5-8.yaml'\n",
    "    path_test = '/cheng/metaMRI/metaMRI/data_dict/E6.2/brain_test_AXFLAIR_Skyra_5-8.yaml'\n",
    "elif TARGET == 'Q3': \n",
    "    path_adapt = '/cheng/metaMRI/metaMRI/data_dict/E6.2/brain_train_AXT2_Aera_5-8.yaml'\n",
    "    path_test = '/cheng/metaMRI/metaMRI/data_dict/E6.2/brain_test_AXT2_Aera_5-8.yaml'\n",
    " \n"
   ]
  },
  {
   "cell_type": "code",
   "execution_count": 2,
   "metadata": {},
   "outputs": [
    {
     "name": "stdout",
     "output_type": "stream",
     "text": [
      "Adapt date number:  10\n",
      "Validation date number:  132\n"
     ]
    }
   ],
   "source": [
    "\n",
    "####################################################################################\n",
    "# mask function and data transform\n",
    "mask_function = create_mask_for_mask_type(mask_type_str = 'random', self_sup = False, \n",
    "                    center_fraction = 0.08, acceleration = 4.0, acceleration_total = 3.0)\n",
    "\n",
    "\n",
    "data_transform = UnetDataTransform_norm('multicoil', mask_func = mask_function, use_seed=True, mode='adapt')\n",
    "\n",
    "sourse_set = SliceDataset(dataset = path_adapt, path_to_dataset='', path_to_sensmaps=None, provide_senmaps=False, \n",
    "                        challenge=\"multicoil\", transform=data_transform, use_dataset_cache=True, num_samples = sourse_shot)\n",
    "indices = random.sample(range(sourse_shot), adapt_shot)\n",
    "adapt_shot_sampler = torch.utils.data.sampler.SubsetRandomSampler(indices)\n",
    "\n",
    "adapt_dataloader = torch.utils.data.DataLoader(sourse_set, batch_size = 1, sampler=adapt_shot_sampler, \n",
    "                    num_workers = 8, generator = torch.Generator().manual_seed(1), pin_memory = True)\n",
    "\n",
    "print(\"Adapt date number: \", len(adapt_dataloader))\n",
    "#%%\n",
    "\n",
    "test_set = SliceDataset(dataset = path_test, path_to_dataset='', path_to_sensmaps=None, provide_senmaps=False, \n",
    "                      challenge=\"multicoil\", transform=data_transform, use_dataset_cache=True)\n",
    "print(\"Validation date number: \", len(test_set))\n",
    "\n",
    "# dataloader: batch size 1 \n",
    "test_dataloader = torch.utils.data.DataLoader(dataset = test_set, batch_size = 1, num_workers = 8, \n",
    "                    shuffle = False, generator = torch.Generator().manual_seed(1))"
   ]
  },
  {
   "attachments": {},
   "cell_type": "markdown",
   "metadata": {},
   "source": [
    "Split the val data for early stop"
   ]
  },
  {
   "cell_type": "code",
   "execution_count": 32,
   "metadata": {},
   "outputs": [],
   "source": [
    "train_dataset, val_dataset = torch.utils.data.random_split(list(adapt_dataloader), [5, 5])"
   ]
  },
  {
   "cell_type": "code",
   "execution_count": 33,
   "metadata": {},
   "outputs": [],
   "source": [
    "train_loader = torch.utils.data.DataLoader(dataset = train_dataset, batch_size = 1,  \n",
    "                    shuffle = False, generator = torch.Generator().manual_seed(1))\n",
    "val_loader = torch.utils.data.DataLoader(dataset = val_dataset, batch_size = 1,\n",
    "                    shuffle = False, generator = torch.Generator().manual_seed(1))"
   ]
  },
  {
   "cell_type": "code",
   "execution_count": 34,
   "metadata": {},
   "outputs": [],
   "source": [
    "def train(model, dataloader, optimizer): \n",
    "    model.train()\n",
    "    train_loss = 0.0\n",
    "    mse_fct = torch.nn.MSELoss(reduction='sum')\n",
    "\n",
    "    for iter, batch in tqdm(enumerate(dataloader)):\n",
    "        input_image, target_image, mean, std, fname, slice_num = batch\n",
    "        train_inputs = input_image.squeeze(0).to(device)\n",
    "        train_targets = target_image.squeeze(0).to(device)\n",
    "        std = std.squeeze(0).to(device)\n",
    "        mean = mean.squeeze(0).to(device)\n",
    "\n",
    "        train_outputs = model(train_inputs)\n",
    "        train_outputs = train_outputs * std + mean\n",
    "\n",
    "        loss = mse_fct(train_outputs, train_targets) / torch.sum(torch.abs(train_targets)**2)\n",
    "        \n",
    "        optimizer.zero_grad()\n",
    "        loss.backward()\n",
    "        optimizer.step()\n",
    "        train_loss += loss.item()\n",
    "\n",
    "    avg_train_loss = train_loss / len(dataloader)\n",
    "    return avg_train_loss\n",
    "\n",
    "\n",
    "def evaluate(model, dataloader):\n",
    "    model.eval()\n",
    "    total_l1_loss = 0.0\n",
    "    total_ssim_loss = 0.0\n",
    "    total_psnr_loss = 0.0\n",
    "    total_nmse_loss = 0.0\n",
    "    ssim_fct = SSIMLoss()\n",
    "    psner_mse_fct = torch.nn.MSELoss(reduction='mean')\n",
    "    mse_fct = torch.nn.MSELoss(reduction='sum')\n",
    "\n",
    "    for iter, batch in enumerate(dataloader): \n",
    "        input_image, target_image, mean, std, fname, slice_num = batch\n",
    "        val_inputs = input_image.squeeze(0).to(device)\n",
    "        val_targets = target_image.squeeze(0).to(device)\n",
    "        std = std.squeeze(0).to(device)\n",
    "        mean = mean.squeeze(0).to(device)\n",
    "\n",
    "        val_outputs = model(val_inputs)\n",
    "        val_outputs = val_outputs * std + mean\n",
    "\n",
    "        # NMAE\n",
    "        l1 = l1_loss(val_outputs, val_targets) / torch.sum(torch.abs(val_targets))\n",
    "        total_l1_loss += l1.item()\n",
    "        # NMSE \n",
    "        nmse_loss = mse_fct(val_outputs, val_targets) / torch.sum(torch.abs(val_targets)**2)\n",
    "        total_nmse_loss += nmse_loss.item()\n",
    "        # PSNR\n",
    "        psnr_loss = 20*torch.log10(torch.tensor(val_targets.max().unsqueeze(0).item()))-10*torch.log10(psner_mse_fct(val_outputs,val_targets))\n",
    "        total_psnr_loss += psnr_loss.item()\n",
    "        # SSIM = 1 - loss\n",
    "        ssim_loss = ssim_fct(val_outputs, val_targets, data_range = val_targets.max().unsqueeze(0))\n",
    "        total_ssim_loss += (1-ssim_loss.item())\n",
    "\n",
    "    validation_loss_l1 = total_l1_loss / len(dataloader) \n",
    "    validation_loss_NMSE = total_nmse_loss / len(dataloader)\n",
    "    validation_loss_PSNR = total_psnr_loss / len(dataloader)\n",
    "    validation_loss_SSIM = total_ssim_loss / len(dataloader)\n",
    "\n",
    "    return validation_loss_l1, validation_loss_NMSE, validation_loss_PSNR, validation_loss_SSIM\n",
    "\n",
    "\n",
    "model = Unet(in_chans=1, out_chans=1, chans=32, num_pool_layers=4, drop_prob=0.0)\n",
    "model.load_state_dict(torch.load(checkpoint_path))\n",
    "model = model.to(device)\n",
    "\n",
    "\n",
    "##########################\n",
    "optimizer = torch.optim.Adam(model.parameters(),lr=LR)\n",
    "l1_loss = torch.nn.L1Loss(reduction='sum')"
   ]
  },
  {
   "cell_type": "code",
   "execution_count": 35,
   "metadata": {},
   "outputs": [
    {
     "name": "stdout",
     "output_type": "stream",
     "text": [
      "Iteration: 1\n"
     ]
    },
    {
     "name": "stderr",
     "output_type": "stream",
     "text": [
      "5it [00:00, 42.29it/s]\n"
     ]
    },
    {
     "name": "stdout",
     "output_type": "stream",
     "text": [
      "Iteration: 2\n"
     ]
    },
    {
     "name": "stderr",
     "output_type": "stream",
     "text": [
      "5it [00:00, 46.40it/s]\n"
     ]
    },
    {
     "name": "stdout",
     "output_type": "stream",
     "text": [
      "Iteration: 3\n"
     ]
    },
    {
     "name": "stderr",
     "output_type": "stream",
     "text": [
      "5it [00:00, 22.70it/s]\n"
     ]
    },
    {
     "name": "stdout",
     "output_type": "stream",
     "text": [
      "Iteration: 4\n"
     ]
    },
    {
     "name": "stderr",
     "output_type": "stream",
     "text": [
      "5it [00:00, 22.38it/s]\n"
     ]
    },
    {
     "name": "stdout",
     "output_type": "stream",
     "text": [
      "Iteration: 5\n"
     ]
    },
    {
     "name": "stderr",
     "output_type": "stream",
     "text": [
      "5it [00:00, 21.47it/s]\n"
     ]
    },
    {
     "name": "stdout",
     "output_type": "stream",
     "text": [
      "Iteration: 6\n"
     ]
    },
    {
     "name": "stderr",
     "output_type": "stream",
     "text": [
      "5it [00:00, 20.38it/s]\n"
     ]
    },
    {
     "name": "stdout",
     "output_type": "stream",
     "text": [
      "Iteration: 7\n"
     ]
    },
    {
     "name": "stderr",
     "output_type": "stream",
     "text": [
      "5it [00:00, 21.58it/s]\n"
     ]
    },
    {
     "name": "stdout",
     "output_type": "stream",
     "text": [
      "Iteration: 8\n"
     ]
    },
    {
     "name": "stderr",
     "output_type": "stream",
     "text": [
      "5it [00:00, 21.78it/s]\n"
     ]
    },
    {
     "name": "stdout",
     "output_type": "stream",
     "text": [
      "Iteration: 9\n"
     ]
    },
    {
     "name": "stderr",
     "output_type": "stream",
     "text": [
      "5it [00:00, 21.95it/s]\n"
     ]
    },
    {
     "name": "stdout",
     "output_type": "stream",
     "text": [
      "Iteration: 10\n"
     ]
    },
    {
     "name": "stderr",
     "output_type": "stream",
     "text": [
      "5it [00:00, 21.82it/s]\n"
     ]
    },
    {
     "name": "stdout",
     "output_type": "stream",
     "text": [
      "Iteration: 11\n"
     ]
    },
    {
     "name": "stderr",
     "output_type": "stream",
     "text": [
      "5it [00:00, 21.61it/s]\n"
     ]
    },
    {
     "name": "stdout",
     "output_type": "stream",
     "text": [
      "Iteration: 12\n"
     ]
    },
    {
     "name": "stderr",
     "output_type": "stream",
     "text": [
      "5it [00:00, 19.50it/s]\n"
     ]
    },
    {
     "name": "stdout",
     "output_type": "stream",
     "text": [
      "Iteration: 13\n"
     ]
    },
    {
     "name": "stderr",
     "output_type": "stream",
     "text": [
      "5it [00:00, 39.84it/s]\n"
     ]
    },
    {
     "name": "stdout",
     "output_type": "stream",
     "text": [
      "Iteration: 14\n"
     ]
    },
    {
     "name": "stderr",
     "output_type": "stream",
     "text": [
      "5it [00:00, 18.63it/s]\n"
     ]
    },
    {
     "name": "stdout",
     "output_type": "stream",
     "text": [
      "Iteration: 15\n"
     ]
    },
    {
     "name": "stderr",
     "output_type": "stream",
     "text": [
      "5it [00:00, 28.13it/s]\n"
     ]
    },
    {
     "name": "stdout",
     "output_type": "stream",
     "text": [
      "Iteration: 16\n"
     ]
    },
    {
     "name": "stderr",
     "output_type": "stream",
     "text": [
      "5it [00:00, 32.54it/s]\n"
     ]
    },
    {
     "name": "stdout",
     "output_type": "stream",
     "text": [
      "Iteration: 17\n"
     ]
    },
    {
     "name": "stderr",
     "output_type": "stream",
     "text": [
      "5it [00:00, 39.01it/s]\n"
     ]
    },
    {
     "name": "stdout",
     "output_type": "stream",
     "text": [
      "Iteration: 18\n"
     ]
    },
    {
     "name": "stderr",
     "output_type": "stream",
     "text": [
      "5it [00:00, 44.53it/s]\n"
     ]
    },
    {
     "name": "stdout",
     "output_type": "stream",
     "text": [
      "Iteration: 19\n"
     ]
    },
    {
     "name": "stderr",
     "output_type": "stream",
     "text": [
      "5it [00:00, 21.25it/s]\n"
     ]
    },
    {
     "name": "stdout",
     "output_type": "stream",
     "text": [
      "Iteration: 20\n"
     ]
    },
    {
     "name": "stderr",
     "output_type": "stream",
     "text": [
      "5it [00:00, 20.84it/s]\n"
     ]
    },
    {
     "name": "stdout",
     "output_type": "stream",
     "text": [
      "Iteration: 21\n"
     ]
    },
    {
     "name": "stderr",
     "output_type": "stream",
     "text": [
      "5it [00:00, 21.64it/s]\n"
     ]
    },
    {
     "name": "stdout",
     "output_type": "stream",
     "text": [
      "Iteration: 22\n"
     ]
    },
    {
     "name": "stderr",
     "output_type": "stream",
     "text": [
      "5it [00:00, 21.87it/s]\n"
     ]
    },
    {
     "name": "stdout",
     "output_type": "stream",
     "text": [
      "Iteration: 23\n"
     ]
    },
    {
     "name": "stderr",
     "output_type": "stream",
     "text": [
      "5it [00:00, 22.11it/s]\n"
     ]
    },
    {
     "name": "stdout",
     "output_type": "stream",
     "text": [
      "Iteration: 24\n"
     ]
    },
    {
     "name": "stderr",
     "output_type": "stream",
     "text": [
      "5it [00:00, 21.57it/s]\n"
     ]
    },
    {
     "name": "stdout",
     "output_type": "stream",
     "text": [
      "Iteration: 25\n"
     ]
    },
    {
     "name": "stderr",
     "output_type": "stream",
     "text": [
      "5it [00:00, 21.83it/s]\n"
     ]
    },
    {
     "name": "stdout",
     "output_type": "stream",
     "text": [
      "Iteration: 26\n"
     ]
    },
    {
     "name": "stderr",
     "output_type": "stream",
     "text": [
      "5it [00:00, 21.52it/s]\n"
     ]
    },
    {
     "name": "stdout",
     "output_type": "stream",
     "text": [
      "Iteration: 27\n"
     ]
    },
    {
     "name": "stderr",
     "output_type": "stream",
     "text": [
      "5it [00:00, 21.53it/s]\n"
     ]
    },
    {
     "name": "stdout",
     "output_type": "stream",
     "text": [
      "Iteration: 28\n"
     ]
    },
    {
     "name": "stderr",
     "output_type": "stream",
     "text": [
      "5it [00:00, 20.70it/s]\n"
     ]
    },
    {
     "name": "stdout",
     "output_type": "stream",
     "text": [
      "Iteration: 29\n"
     ]
    },
    {
     "name": "stderr",
     "output_type": "stream",
     "text": [
      "5it [00:00, 27.87it/s]\n"
     ]
    },
    {
     "name": "stdout",
     "output_type": "stream",
     "text": [
      "Iteration: 30\n"
     ]
    },
    {
     "name": "stderr",
     "output_type": "stream",
     "text": [
      "5it [00:00, 20.64it/s]\n"
     ]
    }
   ],
   "source": [
    "train_loss_history = []\n",
    "val_loss_history = []\n",
    "\n",
    "for iteration in range(TRAINING_EPOCH):\n",
    "    print('Iteration:', iteration+1)\n",
    "    # training\n",
    "    training_loss = train(model, train_loader, optimizer)\n",
    "    train_loss_history.append(training_loss)\n",
    "    # val\n",
    "    validation_loss_l1, validation_loss_NMSE, validation_loss_PSNR, validation_loss_SSIM = evaluate(model, val_loader)\n",
    "    val_loss_history.append(validation_loss_NMSE)"
   ]
  },
  {
   "cell_type": "code",
   "execution_count": 36,
   "metadata": {},
   "outputs": [
    {
     "data": {
      "image/png": "[encoded data removed]",
      "text/plain": [
       "<Figure size 600x500 with 1 Axes>"
      ]
     },
     "metadata": {},
     "output_type": "display_data"
    }
   ],
   "source": [
    "import matplotlib.pyplot as plt\n",
    "import numpy as np\n",
    "import pandas as pd\n",
    "\n",
    "plt.rcParams.update({\n",
    "    \"text.usetex\": True,\n",
    "    \"font.family\": \"serif\",\n",
    "    \"font.serif\": [\"Computer Modern Roman\"],\n",
    "    })\n",
    "\n",
    "colors = [(0.2298057,0.298717966,0.753683153),\n",
    "          (0.3634607953411765,0.4847836818509804,0.9010188868941177),\n",
    "          (0.5108243242509803,0.6493966148235294,0.9850787763764707),\n",
    "          (0.6672529243333334,0.7791764569999999,0.992959213),\n",
    "          (0.8049647588235295,0.8516661605568627,0.9261650744313725),\n",
    "          (0.9193759889058823,0.8312727235294118,0.7828736304470588),\n",
    "          (0.968203399,0.7208441,0.6122929913333334),\n",
    "          (0.9440545734235294,0.5531534787490197,0.4355484903137255),\n",
    "          (0.8523781350078431,0.34649194649411763,0.2803464686980392),\n",
    "          (0.705673158,0.01555616,0.150232812)]\n",
    "colors = ['b','r','k','g','m','c','tab:brown','tab:orange','tab:pink','tab:gray','tab:olive','tab:purple']\n",
    "\n",
    "markers = [\"v\",\"o\",\"^\",\"1\",\"*\",\">\",\"d\",\"<\",\"s\",\"P\",\"X\"]\n",
    "FONTSIZE = 22\n",
    "\n",
    "\n",
    "\n",
    "plt.figure(figsize=(6,5))\n",
    "plt.plot(range(1, 31), train_loss_history, color=colors[0], label='Training on few-shots')\n",
    "plt.plot(range(1, 31), val_loss_history, color=colors[1], label='Validation on few-shots')\n",
    "plt.legend(fontsize = (FONTSIZE-3)/2)\n",
    "plt.title('9-shots training and 1-shot for validation', fontsize = FONTSIZE/2)\n",
    "#plt.yticks(np.arange(0, 0.5, 0.1))\n",
    "plt.tick_params(axis='both', which='major', labelsize=FONTSIZE/2)\n",
    "plt.tick_params(axis='both', which='minor', labelsize=(FONTSIZE-2)/2)\n",
    "plt.xlabel('Epoch',fontsize=FONTSIZE/2)\n",
    "plt.ylabel('NMSE',fontsize=FONTSIZE/2)\n",
    "plt.grid(True)\n",
    "# plt.savefig('save/plots/fasterrcnn_v2.png', format='png', bbox_inches='tight')"
   ]
  }
 ],
 "metadata": {
  "kernelspec": {
   "display_name": "base",
   "language": "python",
   "name": "python3"
  },
  "language_info": {
   "codemirror_mode": {
    "name": "ipython",
    "version": 3
   },
   "file_extension": ".py",
   "mimetype": "text/x-python",
   "name": "python",
   "nbconvert_exporter": "python",
   "pygments_lexer": "ipython3",
   "version": "3.10.8"
  },
  "orig_nbformat": 4
 },
 "nbformat": 4,
 "nbformat_minor": 2
}
