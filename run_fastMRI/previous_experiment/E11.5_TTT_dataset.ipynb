{
 "cells": [
  {
   "cell_type": "code",
   "execution_count": 1,
   "metadata": {},
   "outputs": [
    {
     "data": {
      "text/plain": [
       "<torch._C.Generator at 0x7f97c3ebd6f0>"
      ]
     },
     "execution_count": 1,
     "metadata": {},
     "output_type": "execute_result"
    }
   ],
   "source": [
    "import time\n",
    "import random\n",
    "import numpy as np\n",
    "import pandas as pd\n",
    "import sys\n",
    "import pickle\n",
    "import h5py\n",
    "import os\n",
    "os.environ['CUDA_VISIBLE_DEVICES'] = '2'\n",
    "import torch\n",
    "import learn2learn as l2l\n",
    "from tqdm import tqdm\n",
    "import matplotlib.pyplot as plt\n",
    "from torch.utils.tensorboard import SummaryWriter\n",
    "from torch.optim.lr_scheduler import StepLR, CosineAnnealingLR\n",
    "from functions.fftc import fft2c_new as fft2c\n",
    "from functions.fftc import ifft2c_new as ifft2c\n",
    "from functions.math import complex_abs, complex_mul, complex_conj\n",
    "# The corase reconstruction is the rss of the zerofilled multi-coil kspaces\n",
    "# after inverse FT.\n",
    "from functions.data.transforms import UnetDataTransform_sens_TTT, complex_center_crop, center_crop_to_smallest\n",
    "# Import a torch.utils.data.Dataset class that takes a list of data examples, a path to those examples\n",
    "# a data transform and outputs a torch dataset.\n",
    "from functions.data.mri_dataset import SliceDataset\n",
    "# Unet architecture as nn.Module\n",
    "from functions.models.unet import Unet\n",
    "# Function that returns a MaskFunc object either for generatig random or equispaced masks\n",
    "from functions.data.subsample import create_mask_for_mask_type\n",
    "# Implementation of SSIMLoss\n",
    "from functions.training.losses import SSIMLoss\n",
    "from functions.helper import evaluate2c_imagepair\n",
    "### after you install bart 0.7.00 from https://mrirecon.github.io/bart/, import it as follows\n",
    "sys.path.insert(0,'/cheng/bart-0.7.00/python/')\n",
    "os.environ['TOOLBOX_PATH'] = \"/cheng/bart-0.7.00/\"\n",
    "import bart\n",
    "\n",
    "\n",
    "plt.rcParams.update({\"text.usetex\": True, \"font.family\": \"serif\", \"font.serif\": [\"Computer Modern Roman\"]})\n",
    "\n",
    "colors = ['b','r','k','g','m','c','tab:brown','tab:orange','tab:pink','tab:gray','tab:olive','tab:purple']\n",
    "\n",
    "markers = [\"v\",\"o\",\"^\",\"1\",\"*\",\">\",\"d\",\"<\",\"s\",\"P\",\"X\"]\n",
    "FONTSIZE = 22\n",
    "\n",
    "device = torch.device('cuda') if torch.cuda.is_available() else torch.device('cpu')\n",
    "\n",
    "# seed\n",
    "SEED = 1\n",
    "random.seed(SEED)\n",
    "np.random.seed(SEED)\n",
    "torch.cuda.manual_seed(SEED)\n",
    "torch.manual_seed(SEED)\n"
   ]
  },
  {
   "attachments": {},
   "cell_type": "markdown",
   "metadata": {},
   "source": [
    "### Load the data"
   ]
  },
  {
   "cell_type": "code",
   "execution_count": 2,
   "metadata": {},
   "outputs": [],
   "source": [
    "# data path\n",
    "# path_test = '/cheng/metaMRI/metaMRI/data_dict/E11.1/Q/brain_test_AXT1POST_Skyra_5-8.yaml'\n",
    "# path_test_sensmaps = '/cheng/metaMRI/metaMRI/data_dict/E11.1/Q/sensmap_test/'\n",
    "path_test = '/cheng/metaMRI/metaMRI/data_dict/TTT_paper/TTT_brain_test_100.yaml'\n",
    "path_test_sensmaps = '/cheng/metaMRI/metaMRI/data_dict/TTT_paper/sensmap_brain_test/'\n",
    "\n",
    "# mask function and data transform\n",
    "mask_function = create_mask_for_mask_type(mask_type_str = 'random', self_sup = False, \n",
    "                    center_fraction = 0.08, acceleration = 4.0, acceleration_total = 3.0)\n",
    "\n",
    "data_transform = UnetDataTransform_sens_TTT('multicoil', mask_func = mask_function, use_seed=True, mode='adapt')\n",
    "\n",
    "# training dataset and data loader\n",
    "testset = SliceDataset(dataset = path_test, path_to_dataset='', \n",
    "                path_to_sensmaps = path_test_sensmaps, provide_senmaps=True, \n",
    "                challenge=\"multicoil\", transform = data_transform, use_dataset_cache=True)\n",
    "\n",
    "test_dataloader = torch.utils.data.DataLoader(dataset = testset, batch_size = 1, \n",
    "                shuffle = False, generator = torch.Generator().manual_seed(1), pin_memory = False)\n"
   ]
  },
  {
   "attachments": {},
   "cell_type": "markdown",
   "metadata": {},
   "source": [
    "### without TTT"
   ]
  },
  {
   "cell_type": "code",
   "execution_count": 4,
   "metadata": {},
   "outputs": [],
   "source": [
    "checkpoint_path = '/cheng/metaMRI/metaMRI/save/E11.5_joint(l1_CA-1e-3-4_P)_T300_150epoch/E11.5_joint(l1_CA-1e-3-4_P)_T300_150epoch_E81_best.pth'\n",
    "model = Unet(in_chans=2, out_chans=2, chans=32, num_pool_layers=4, drop_prob=0.0)\n",
    "model.load_state_dict(torch.load(checkpoint_path))\n",
    "model = model.to(device)"
   ]
  },
  {
   "cell_type": "code",
   "execution_count": 5,
   "metadata": {},
   "outputs": [
    {
     "name": "stderr",
     "output_type": "stream",
     "text": [
      "100it [00:20,  4.99it/s]\n"
     ]
    }
   ],
   "source": [
    "loss_l1_history_=[]\n",
    "loss_ssim_history_=[]\n",
    "ssim_fct = SSIMLoss()\n",
    "l1_loss = torch.nn.L1Loss(reduction='sum')\n",
    "\n",
    "for iter, batch in tqdm(enumerate(test_dataloader)): \n",
    "    input_image, target_image, ground_truth_image, mean, std, fname, slice_num, input_kspace, input_mask, target_kspace, target_mask, sens_maps, binary_background_mask = batch\n",
    "    input_image = input_image.to(device)\n",
    "    target_image = target_image.to(device)\n",
    "    input_kspace = input_kspace.to(device)\n",
    "    input_mask = input_mask.to(device)\n",
    "    sens_maps = sens_maps.to(device)\n",
    "    std = std.to(device)\n",
    "    mean = mean.to(device)\n",
    "    ground_truth_image = ground_truth_image.to(device)\n",
    "    binary_background_mask = binary_background_mask.to(device)\n",
    "\n",
    "    model_output = model(input_image)\n",
    "    model_output = model_output * std + mean\n",
    "    # supervised loss [x, fθ(A†y)]\n",
    "    # L1\n",
    "    loss_l1 = (l1_loss(model_output, target_image) / torch.sum(torch.abs(target_image))).item()\n",
    "    # SSIM = 1 - loss\n",
    "    output_image_1c = complex_abs(torch.moveaxis(model_output , 1, -1 ))\n",
    "    loss_ssim = 1 - ssim_fct(output_image_1c, ground_truth_image, data_range = ground_truth_image.max().unsqueeze(0)).item()\n",
    "    #print('Test SSIM loss: ',loss_ssim)\n",
    "\n",
    "    loss_l1_history_.append(loss_l1)\n",
    "    loss_ssim_history_.append(loss_ssim)"
   ]
  },
  {
   "cell_type": "code",
   "execution_count": 6,
   "metadata": {},
   "outputs": [
    {
     "name": "stdout",
     "output_type": "stream",
     "text": [
      "Testing average L1 loss:  0.20074446067214013\n",
      "Testing average SSIM loss:  0.932037141919136\n"
     ]
    }
   ],
   "source": [
    "print(\"Testing average L1 loss: \", sum(loss_l1_history_) / len(loss_l1_history_))\n",
    "print(\"Testing average SSIM loss: \", sum(loss_ssim_history_) / len(loss_ssim_history_))"
   ]
  },
  {
   "attachments": {},
   "cell_type": "markdown",
   "metadata": {},
   "source": [
    "### Test-time training"
   ]
  },
  {
   "cell_type": "code",
   "execution_count": 7,
   "metadata": {},
   "outputs": [],
   "source": [
    "ssim_fct = SSIMLoss()\n",
    "l1_loss = torch.nn.L1Loss(reduction='sum')\n",
    "\n",
    "def TTT(model, TTT_epoch, adapt_lr): \n",
    "    optimizer = torch.optim.Adam(model.parameters(),lr=adapt_lr)\n",
    "    \n",
    "    loss_l1_history = []\n",
    "    loss_ssim_history = []\n",
    "    self_loss_history = []\n",
    "\n",
    "    for iteration in range(TTT_epoch):\n",
    "        # fθ(A†y)\n",
    "        model_output = model(input_image)\n",
    "        model_output = model_output * std + mean\n",
    "        # supervised loss [x, fθ(A†y)]\n",
    "        # L1\n",
    "        loss_l1 = (l1_loss(model_output, target_image) / torch.sum(torch.abs(target_image))).item()\n",
    "        #print('Test L1 loss: ',loss_l1)\n",
    "        loss_l1_history.append(loss_l1)\n",
    "        # SSIM = 1 - loss\n",
    "        output_image_1c = complex_abs(torch.moveaxis(model_output , 1, -1 ))\n",
    "        loss_ssim = 1 - ssim_fct(output_image_1c, ground_truth_image, data_range = ground_truth_image.max().unsqueeze(0)).item()\n",
    "        #print('Test SSIM loss: ',loss_ssim)\n",
    "        loss_ssim_history.append(loss_ssim)\n",
    "\n",
    "        # self-supervised loss\n",
    "        # fθ(A†y)\n",
    "        model_output = torch.moveaxis(model_output, 1, -1 )\n",
    "        # S fθ(A†y)\n",
    "        output_sens_image = complex_mul(model_output, sens_maps)\n",
    "        # FS fθ(A†y)\n",
    "        Fimg = fft2c(output_sens_image)\n",
    "        # MFS fθ(A†y) = A fθ(A†y)\n",
    "        Fimg_forward = Fimg * input_mask\n",
    "        # consistency loss [y, Afθ(A†y)]\n",
    "        loss_self = l1_loss(Fimg_forward, input_kspace) / torch.sum(torch.abs(input_kspace))\n",
    "\n",
    "        optimizer.zero_grad()\n",
    "        loss_self.backward()\n",
    "        optimizer.step()\n",
    "        #train_loss += loss.item()\n",
    "        #print('TTT loss: ',loss_self.item())\n",
    "        self_loss_history.append(loss_self.item())\n",
    "\n",
    "    return loss_l1_history, loss_ssim_history, self_loss_history"
   ]
  },
  {
   "cell_type": "code",
   "execution_count": 8,
   "metadata": {},
   "outputs": [
    {
     "name": "stderr",
     "output_type": "stream",
     "text": [
      "1it [00:28, 28.18s/it]"
     ]
    },
    {
     "name": "stdout",
     "output_type": "stream",
     "text": [
      "best L1:  0.146330326795578\n",
      "best L1 epoch:  182\n",
      "best SSIM: 0.948037326335907\n",
      "best SSIM epoch:  137\n"
     ]
    },
    {
     "name": "stderr",
     "output_type": "stream",
     "text": [
      "2it [00:56, 28.31s/it]"
     ]
    },
    {
     "name": "stdout",
     "output_type": "stream",
     "text": [
      "best L1:  0.11303205788135529\n",
      "best L1 epoch:  195\n",
      "best SSIM: 0.9505217671394348\n",
      "best SSIM epoch:  50\n"
     ]
    },
    {
     "name": "stderr",
     "output_type": "stream",
     "text": [
      "3it [01:26, 28.89s/it]"
     ]
    },
    {
     "name": "stdout",
     "output_type": "stream",
     "text": [
      "best L1:  0.11976895481348038\n",
      "best L1 epoch:  271\n",
      "best SSIM: 0.9570644497871399\n",
      "best SSIM epoch:  83\n"
     ]
    },
    {
     "name": "stderr",
     "output_type": "stream",
     "text": [
      "4it [01:54, 28.81s/it]"
     ]
    },
    {
     "name": "stdout",
     "output_type": "stream",
     "text": [
      "best L1:  0.1564408391714096\n",
      "best L1 epoch:  98\n",
      "best SSIM: 0.9397196173667908\n",
      "best SSIM epoch:  46\n"
     ]
    },
    {
     "name": "stderr",
     "output_type": "stream",
     "text": [
      "5it [02:23, 28.86s/it]"
     ]
    },
    {
     "name": "stdout",
     "output_type": "stream",
     "text": [
      "best L1:  0.17222213745117188\n",
      "best L1 epoch:  256\n",
      "best SSIM: 0.9348370432853699\n",
      "best SSIM epoch:  12\n"
     ]
    },
    {
     "name": "stderr",
     "output_type": "stream",
     "text": [
      "6it [02:49, 27.80s/it]"
     ]
    },
    {
     "name": "stdout",
     "output_type": "stream",
     "text": [
      "best L1:  0.14824283123016357\n",
      "best L1 epoch:  335\n",
      "best SSIM: 0.9424673914909363\n",
      "best SSIM epoch:  76\n"
     ]
    },
    {
     "name": "stderr",
     "output_type": "stream",
     "text": [
      "7it [03:18, 28.33s/it]"
     ]
    },
    {
     "name": "stdout",
     "output_type": "stream",
     "text": [
      "best L1:  0.14615972340106964\n",
      "best L1 epoch:  182\n",
      "best SSIM: 0.9594327211380005\n",
      "best SSIM epoch:  121\n"
     ]
    },
    {
     "name": "stderr",
     "output_type": "stream",
     "text": [
      "8it [03:48, 28.87s/it]"
     ]
    },
    {
     "name": "stdout",
     "output_type": "stream",
     "text": [
      "best L1:  0.18312378227710724\n",
      "best L1 epoch:  27\n",
      "best SSIM: 0.9314367771148682\n",
      "best SSIM epoch:  22\n"
     ]
    },
    {
     "name": "stderr",
     "output_type": "stream",
     "text": [
      "9it [04:18, 29.11s/it]"
     ]
    },
    {
     "name": "stdout",
     "output_type": "stream",
     "text": [
      "best L1:  0.16940584778785706\n",
      "best L1 epoch:  46\n",
      "best SSIM: 0.9416257739067078\n",
      "best SSIM epoch:  40\n"
     ]
    },
    {
     "name": "stderr",
     "output_type": "stream",
     "text": [
      "10it [04:48, 29.33s/it]"
     ]
    },
    {
     "name": "stdout",
     "output_type": "stream",
     "text": [
      "best L1:  0.13024817407131195\n",
      "best L1 epoch:  347\n",
      "best SSIM: 0.9463090300559998\n",
      "best SSIM epoch:  206\n"
     ]
    },
    {
     "name": "stderr",
     "output_type": "stream",
     "text": [
      "11it [05:18, 29.67s/it]"
     ]
    },
    {
     "name": "stdout",
     "output_type": "stream",
     "text": [
      "best L1:  0.10457651317119598\n",
      "best L1 epoch:  305\n",
      "best SSIM: 0.9583730697631836\n",
      "best SSIM epoch:  67\n"
     ]
    },
    {
     "name": "stderr",
     "output_type": "stream",
     "text": [
      "12it [05:48, 29.74s/it]"
     ]
    },
    {
     "name": "stdout",
     "output_type": "stream",
     "text": [
      "best L1:  0.14850452542304993\n",
      "best L1 epoch:  230\n",
      "best SSIM: 0.9368010759353638\n",
      "best SSIM epoch:  115\n"
     ]
    },
    {
     "name": "stderr",
     "output_type": "stream",
     "text": [
      "13it [06:18, 29.80s/it]"
     ]
    },
    {
     "name": "stdout",
     "output_type": "stream",
     "text": [
      "best L1:  0.13661424815654755\n",
      "best L1 epoch:  176\n",
      "best SSIM: 0.9537216424942017\n",
      "best SSIM epoch:  132\n"
     ]
    },
    {
     "name": "stderr",
     "output_type": "stream",
     "text": [
      "14it [06:48, 29.84s/it]"
     ]
    },
    {
     "name": "stdout",
     "output_type": "stream",
     "text": [
      "best L1:  0.12285356223583221\n",
      "best L1 epoch:  244\n",
      "best SSIM: 0.9575855731964111\n",
      "best SSIM epoch:  48\n"
     ]
    },
    {
     "name": "stderr",
     "output_type": "stream",
     "text": [
      "15it [07:18, 29.81s/it]"
     ]
    },
    {
     "name": "stdout",
     "output_type": "stream",
     "text": [
      "best L1:  0.14152191579341888\n",
      "best L1 epoch:  182\n",
      "best SSIM: 0.9366791248321533\n",
      "best SSIM epoch:  15\n"
     ]
    },
    {
     "name": "stderr",
     "output_type": "stream",
     "text": [
      "16it [07:52, 31.10s/it]"
     ]
    },
    {
     "name": "stdout",
     "output_type": "stream",
     "text": [
      "best L1:  0.1293037086725235\n",
      "best L1 epoch:  348\n",
      "best SSIM: 0.9747278690338135\n",
      "best SSIM epoch:  240\n"
     ]
    },
    {
     "name": "stderr",
     "output_type": "stream",
     "text": [
      "17it [08:23, 31.07s/it]"
     ]
    },
    {
     "name": "stdout",
     "output_type": "stream",
     "text": [
      "best L1:  0.14399521052837372\n",
      "best L1 epoch:  296\n",
      "best SSIM: 0.9708261489868164\n",
      "best SSIM epoch:  258\n"
     ]
    },
    {
     "name": "stderr",
     "output_type": "stream",
     "text": [
      "18it [08:54, 31.03s/it]"
     ]
    },
    {
     "name": "stdout",
     "output_type": "stream",
     "text": [
      "best L1:  0.1353311985731125\n",
      "best L1 epoch:  337\n",
      "best SSIM: 0.9685353636741638\n",
      "best SSIM epoch:  260\n"
     ]
    },
    {
     "name": "stderr",
     "output_type": "stream",
     "text": [
      "19it [09:26, 31.41s/it]"
     ]
    },
    {
     "name": "stdout",
     "output_type": "stream",
     "text": [
      "best L1:  0.10727320611476898\n",
      "best L1 epoch:  496\n",
      "best SSIM: 0.9660672545433044\n",
      "best SSIM epoch:  277\n"
     ]
    },
    {
     "name": "stderr",
     "output_type": "stream",
     "text": [
      "20it [09:58, 31.41s/it]"
     ]
    },
    {
     "name": "stdout",
     "output_type": "stream",
     "text": [
      "best L1:  0.16199898719787598\n",
      "best L1 epoch:  364\n",
      "best SSIM: 0.9604897499084473\n",
      "best SSIM epoch:  250\n"
     ]
    },
    {
     "name": "stderr",
     "output_type": "stream",
     "text": [
      "21it [10:29, 31.41s/it]"
     ]
    },
    {
     "name": "stdout",
     "output_type": "stream",
     "text": [
      "best L1:  0.13825634121894836\n",
      "best L1 epoch:  346\n",
      "best SSIM: 0.9605395793914795\n",
      "best SSIM epoch:  230\n"
     ]
    },
    {
     "name": "stderr",
     "output_type": "stream",
     "text": [
      "22it [11:01, 31.65s/it]"
     ]
    },
    {
     "name": "stdout",
     "output_type": "stream",
     "text": [
      "best L1:  0.14351418614387512\n",
      "best L1 epoch:  407\n",
      "best SSIM: 0.9662796854972839\n",
      "best SSIM epoch:  261\n"
     ]
    },
    {
     "name": "stderr",
     "output_type": "stream",
     "text": [
      "23it [11:33, 31.58s/it]"
     ]
    },
    {
     "name": "stdout",
     "output_type": "stream",
     "text": [
      "best L1:  0.13584502041339874\n",
      "best L1 epoch:  480\n",
      "best SSIM: 0.96103435754776\n",
      "best SSIM epoch:  249\n"
     ]
    },
    {
     "name": "stderr",
     "output_type": "stream",
     "text": [
      "24it [12:04, 31.52s/it]"
     ]
    },
    {
     "name": "stdout",
     "output_type": "stream",
     "text": [
      "best L1:  0.12456105649471283\n",
      "best L1 epoch:  493\n",
      "best SSIM: 0.9612717628479004\n",
      "best SSIM epoch:  321\n"
     ]
    },
    {
     "name": "stderr",
     "output_type": "stream",
     "text": [
      "25it [12:35, 31.49s/it]"
     ]
    },
    {
     "name": "stdout",
     "output_type": "stream",
     "text": [
      "best L1:  0.14429496228694916\n",
      "best L1 epoch:  272\n",
      "best SSIM: 0.9615022540092468\n",
      "best SSIM epoch:  179\n"
     ]
    },
    {
     "name": "stderr",
     "output_type": "stream",
     "text": [
      "26it [13:05, 30.95s/it]"
     ]
    },
    {
     "name": "stdout",
     "output_type": "stream",
     "text": [
      "best L1:  0.12285561859607697\n",
      "best L1 epoch:  240\n",
      "best SSIM: 0.9620741009712219\n",
      "best SSIM epoch:  91\n"
     ]
    },
    {
     "name": "stderr",
     "output_type": "stream",
     "text": [
      "27it [13:37, 31.10s/it]"
     ]
    },
    {
     "name": "stdout",
     "output_type": "stream",
     "text": [
      "best L1:  0.10814410448074341\n",
      "best L1 epoch:  313\n",
      "best SSIM: 0.9774221181869507\n",
      "best SSIM epoch:  243\n"
     ]
    },
    {
     "name": "stderr",
     "output_type": "stream",
     "text": [
      "28it [14:09, 31.47s/it]"
     ]
    },
    {
     "name": "stdout",
     "output_type": "stream",
     "text": [
      "best L1:  0.12320542335510254\n",
      "best L1 epoch:  450\n",
      "best SSIM: 0.9712675213813782\n",
      "best SSIM epoch:  273\n"
     ]
    },
    {
     "name": "stderr",
     "output_type": "stream",
     "text": [
      "29it [14:40, 31.47s/it]"
     ]
    },
    {
     "name": "stdout",
     "output_type": "stream",
     "text": [
      "best L1:  0.14802132546901703\n",
      "best L1 epoch:  378\n",
      "best SSIM: 0.95964515209198\n",
      "best SSIM epoch:  188\n"
     ]
    },
    {
     "name": "stderr",
     "output_type": "stream",
     "text": [
      "30it [15:12, 31.46s/it]"
     ]
    },
    {
     "name": "stdout",
     "output_type": "stream",
     "text": [
      "best L1:  0.12169203162193298\n",
      "best L1 epoch:  238\n",
      "best SSIM: 0.9681848883628845\n",
      "best SSIM epoch:  159\n"
     ]
    },
    {
     "name": "stderr",
     "output_type": "stream",
     "text": [
      "31it [15:42, 30.94s/it]"
     ]
    },
    {
     "name": "stdout",
     "output_type": "stream",
     "text": [
      "best L1:  0.14294028282165527\n",
      "best L1 epoch:  228\n",
      "best SSIM: 0.9342052340507507\n",
      "best SSIM epoch:  213\n"
     ]
    },
    {
     "name": "stderr",
     "output_type": "stream",
     "text": [
      "32it [16:13, 31.08s/it]"
     ]
    },
    {
     "name": "stdout",
     "output_type": "stream",
     "text": [
      "best L1:  0.1153322085738182\n",
      "best L1 epoch:  167\n",
      "best SSIM: 0.9739894270896912\n",
      "best SSIM epoch:  154\n"
     ]
    },
    {
     "name": "stderr",
     "output_type": "stream",
     "text": [
      "33it [16:43, 30.66s/it]"
     ]
    },
    {
     "name": "stdout",
     "output_type": "stream",
     "text": [
      "best L1:  0.14433638751506805\n",
      "best L1 epoch:  146\n",
      "best SSIM: 0.9489536881446838\n",
      "best SSIM epoch:  117\n"
     ]
    },
    {
     "name": "stderr",
     "output_type": "stream",
     "text": [
      "34it [17:15, 31.15s/it]"
     ]
    },
    {
     "name": "stdout",
     "output_type": "stream",
     "text": [
      "best L1:  0.15285566449165344\n",
      "best L1 epoch:  398\n",
      "best SSIM: 0.9605857729911804\n",
      "best SSIM epoch:  313\n"
     ]
    },
    {
     "name": "stderr",
     "output_type": "stream",
     "text": [
      "35it [17:47, 31.48s/it]"
     ]
    },
    {
     "name": "stdout",
     "output_type": "stream",
     "text": [
      "best L1:  0.15137900412082672\n",
      "best L1 epoch:  421\n",
      "best SSIM: 0.9659227132797241\n",
      "best SSIM epoch:  274\n"
     ]
    },
    {
     "name": "stderr",
     "output_type": "stream",
     "text": [
      "36it [18:19, 31.46s/it]"
     ]
    },
    {
     "name": "stdout",
     "output_type": "stream",
     "text": [
      "best L1:  0.11387309432029724\n",
      "best L1 epoch:  403\n",
      "best SSIM: 0.9687678813934326\n",
      "best SSIM epoch:  296\n"
     ]
    },
    {
     "name": "stderr",
     "output_type": "stream",
     "text": [
      "37it [18:51, 31.70s/it]"
     ]
    },
    {
     "name": "stdout",
     "output_type": "stream",
     "text": [
      "best L1:  0.13768307864665985\n",
      "best L1 epoch:  351\n",
      "best SSIM: 0.9597625732421875\n",
      "best SSIM epoch:  295\n"
     ]
    },
    {
     "name": "stderr",
     "output_type": "stream",
     "text": [
      "38it [19:23, 31.88s/it]"
     ]
    },
    {
     "name": "stdout",
     "output_type": "stream",
     "text": [
      "best L1:  0.13420288264751434\n",
      "best L1 epoch:  499\n",
      "best SSIM: 0.9537281394004822\n",
      "best SSIM epoch:  125\n"
     ]
    },
    {
     "name": "stderr",
     "output_type": "stream",
     "text": [
      "39it [19:55, 31.78s/it]"
     ]
    },
    {
     "name": "stdout",
     "output_type": "stream",
     "text": [
      "best L1:  0.1033836081624031\n",
      "best L1 epoch:  380\n",
      "best SSIM: 0.9669576287269592\n",
      "best SSIM epoch:  296\n"
     ]
    },
    {
     "name": "stderr",
     "output_type": "stream",
     "text": [
      "40it [20:25, 31.28s/it]"
     ]
    },
    {
     "name": "stdout",
     "output_type": "stream",
     "text": [
      "best L1:  0.13610303401947021\n",
      "best L1 epoch:  104\n",
      "best SSIM: 0.9625952839851379\n",
      "best SSIM epoch:  23\n"
     ]
    },
    {
     "name": "stderr",
     "output_type": "stream",
     "text": [
      "41it [20:52, 29.93s/it]"
     ]
    },
    {
     "name": "stdout",
     "output_type": "stream",
     "text": [
      "best L1:  0.16450589895248413\n",
      "best L1 epoch:  325\n",
      "best SSIM: 0.9249216318130493\n",
      "best SSIM epoch:  325\n"
     ]
    },
    {
     "name": "stderr",
     "output_type": "stream",
     "text": [
      "42it [21:24, 30.67s/it]"
     ]
    },
    {
     "name": "stdout",
     "output_type": "stream",
     "text": [
      "best L1:  0.1909298449754715\n",
      "best L1 epoch:  151\n",
      "best SSIM: 0.943111777305603\n",
      "best SSIM epoch:  141\n"
     ]
    },
    {
     "name": "stderr",
     "output_type": "stream",
     "text": [
      "43it [21:54, 30.38s/it]"
     ]
    },
    {
     "name": "stdout",
     "output_type": "stream",
     "text": [
      "best L1:  0.14467838406562805\n",
      "best L1 epoch:  242\n",
      "best SSIM: 0.9561465978622437\n",
      "best SSIM epoch:  201\n"
     ]
    },
    {
     "name": "stderr",
     "output_type": "stream",
     "text": [
      "44it [22:25, 30.71s/it]"
     ]
    },
    {
     "name": "stdout",
     "output_type": "stream",
     "text": [
      "best L1:  0.11772726476192474\n",
      "best L1 epoch:  498\n",
      "best SSIM: 0.9694010019302368\n",
      "best SSIM epoch:  366\n"
     ]
    },
    {
     "name": "stderr",
     "output_type": "stream",
     "text": [
      "45it [22:57, 30.95s/it]"
     ]
    },
    {
     "name": "stdout",
     "output_type": "stream",
     "text": [
      "best L1:  0.1433299332857132\n",
      "best L1 epoch:  233\n",
      "best SSIM: 0.9755207300186157\n",
      "best SSIM epoch:  191\n"
     ]
    },
    {
     "name": "stderr",
     "output_type": "stream",
     "text": [
      "46it [23:28, 30.96s/it]"
     ]
    },
    {
     "name": "stdout",
     "output_type": "stream",
     "text": [
      "best L1:  0.1438930183649063\n",
      "best L1 epoch:  311\n",
      "best SSIM: 0.964644193649292\n",
      "best SSIM epoch:  183\n"
     ]
    },
    {
     "name": "stderr",
     "output_type": "stream",
     "text": [
      "47it [24:00, 31.42s/it]"
     ]
    },
    {
     "name": "stdout",
     "output_type": "stream",
     "text": [
      "best L1:  0.12184452265501022\n",
      "best L1 epoch:  412\n",
      "best SSIM: 0.9624967575073242\n",
      "best SSIM epoch:  192\n"
     ]
    },
    {
     "name": "stderr",
     "output_type": "stream",
     "text": [
      "48it [24:30, 30.92s/it]"
     ]
    },
    {
     "name": "stdout",
     "output_type": "stream",
     "text": [
      "best L1:  0.16717246174812317\n",
      "best L1 epoch:  174\n",
      "best SSIM: 0.9283475279808044\n",
      "best SSIM epoch:  67\n"
     ]
    },
    {
     "name": "stderr",
     "output_type": "stream",
     "text": [
      "49it [25:01, 31.10s/it]"
     ]
    },
    {
     "name": "stdout",
     "output_type": "stream",
     "text": [
      "best L1:  0.11377988755702972\n",
      "best L1 epoch:  437\n",
      "best SSIM: 0.9679750204086304\n",
      "best SSIM epoch:  324\n"
     ]
    },
    {
     "name": "stderr",
     "output_type": "stream",
     "text": [
      "50it [25:34, 31.47s/it]"
     ]
    },
    {
     "name": "stdout",
     "output_type": "stream",
     "text": [
      "best L1:  0.17405655980110168\n",
      "best L1 epoch:  84\n",
      "best SSIM: 0.9200368523597717\n",
      "best SSIM epoch:  84\n"
     ]
    },
    {
     "name": "stderr",
     "output_type": "stream",
     "text": [
      "51it [26:03, 30.94s/it]"
     ]
    },
    {
     "name": "stdout",
     "output_type": "stream",
     "text": [
      "best L1:  0.12289050221443176\n",
      "best L1 epoch:  231\n",
      "best SSIM: 0.9494048953056335\n",
      "best SSIM epoch:  61\n"
     ]
    },
    {
     "name": "stderr",
     "output_type": "stream",
     "text": [
      "52it [26:35, 31.10s/it]"
     ]
    },
    {
     "name": "stdout",
     "output_type": "stream",
     "text": [
      "best L1:  0.13093483448028564\n",
      "best L1 epoch:  430\n",
      "best SSIM: 0.9664216637611389\n",
      "best SSIM epoch:  172\n"
     ]
    },
    {
     "name": "stderr",
     "output_type": "stream",
     "text": [
      "53it [27:06, 31.21s/it]"
     ]
    },
    {
     "name": "stdout",
     "output_type": "stream",
     "text": [
      "best L1:  0.13371717929840088\n",
      "best L1 epoch:  390\n",
      "best SSIM: 0.9653339982032776\n",
      "best SSIM epoch:  258\n"
     ]
    },
    {
     "name": "stderr",
     "output_type": "stream",
     "text": [
      "54it [27:38, 31.29s/it]"
     ]
    },
    {
     "name": "stdout",
     "output_type": "stream",
     "text": [
      "best L1:  0.13452881574630737\n",
      "best L1 epoch:  301\n",
      "best SSIM: 0.9578804969787598\n",
      "best SSIM epoch:  297\n"
     ]
    },
    {
     "name": "stderr",
     "output_type": "stream",
     "text": [
      "55it [28:09, 31.35s/it]"
     ]
    },
    {
     "name": "stdout",
     "output_type": "stream",
     "text": [
      "best L1:  0.1446712464094162\n",
      "best L1 epoch:  401\n",
      "best SSIM: 0.9540884494781494\n",
      "best SSIM epoch:  318\n"
     ]
    },
    {
     "name": "stderr",
     "output_type": "stream",
     "text": [
      "56it [28:41, 31.39s/it]"
     ]
    },
    {
     "name": "stdout",
     "output_type": "stream",
     "text": [
      "best L1:  0.14072325825691223\n",
      "best L1 epoch:  360\n",
      "best SSIM: 0.9580495953559875\n",
      "best SSIM epoch:  192\n"
     ]
    },
    {
     "name": "stderr",
     "output_type": "stream",
     "text": [
      "57it [29:12, 31.32s/it]"
     ]
    },
    {
     "name": "stdout",
     "output_type": "stream",
     "text": [
      "best L1:  0.12027594447135925\n",
      "best L1 epoch:  281\n",
      "best SSIM: 0.9729406237602234\n",
      "best SSIM epoch:  174\n"
     ]
    },
    {
     "name": "stderr",
     "output_type": "stream",
     "text": [
      "58it [29:43, 31.36s/it]"
     ]
    },
    {
     "name": "stdout",
     "output_type": "stream",
     "text": [
      "best L1:  0.14018021523952484\n",
      "best L1 epoch:  395\n",
      "best SSIM: 0.9576971530914307\n",
      "best SSIM epoch:  182\n"
     ]
    },
    {
     "name": "stderr",
     "output_type": "stream",
     "text": [
      "59it [30:15, 31.39s/it]"
     ]
    },
    {
     "name": "stdout",
     "output_type": "stream",
     "text": [
      "best L1:  0.14569003880023956\n",
      "best L1 epoch:  305\n",
      "best SSIM: 0.9568628072738647\n",
      "best SSIM epoch:  199\n"
     ]
    },
    {
     "name": "stderr",
     "output_type": "stream",
     "text": [
      "60it [30:46, 31.41s/it]"
     ]
    },
    {
     "name": "stdout",
     "output_type": "stream",
     "text": [
      "best L1:  0.1341957151889801\n",
      "best L1 epoch:  480\n",
      "best SSIM: 0.9627091288566589\n",
      "best SSIM epoch:  356\n"
     ]
    },
    {
     "name": "stderr",
     "output_type": "stream",
     "text": [
      "61it [31:18, 31.42s/it]"
     ]
    },
    {
     "name": "stdout",
     "output_type": "stream",
     "text": [
      "best L1:  0.13590486347675323\n",
      "best L1 epoch:  457\n",
      "best SSIM: 0.9718207120895386\n",
      "best SSIM epoch:  362\n"
     ]
    },
    {
     "name": "stderr",
     "output_type": "stream",
     "text": [
      "62it [31:48, 31.02s/it]"
     ]
    },
    {
     "name": "stdout",
     "output_type": "stream",
     "text": [
      "best L1:  0.1374250203371048\n",
      "best L1 epoch:  374\n",
      "best SSIM: 0.9654557704925537\n",
      "best SSIM epoch:  287\n"
     ]
    },
    {
     "name": "stderr",
     "output_type": "stream",
     "text": [
      "63it [32:19, 31.03s/it]"
     ]
    },
    {
     "name": "stdout",
     "output_type": "stream",
     "text": [
      "best L1:  0.16488146781921387\n",
      "best L1 epoch:  232\n",
      "best SSIM: 0.9578522443771362\n",
      "best SSIM epoch:  214\n"
     ]
    },
    {
     "name": "stderr",
     "output_type": "stream",
     "text": [
      "64it [32:50, 30.89s/it]"
     ]
    },
    {
     "name": "stdout",
     "output_type": "stream",
     "text": [
      "best L1:  0.1219279021024704\n",
      "best L1 epoch:  286\n",
      "best SSIM: 0.9610000848770142\n",
      "best SSIM epoch:  233\n"
     ]
    },
    {
     "name": "stderr",
     "output_type": "stream",
     "text": [
      "65it [33:21, 31.06s/it]"
     ]
    },
    {
     "name": "stdout",
     "output_type": "stream",
     "text": [
      "best L1:  0.12195634096860886\n",
      "best L1 epoch:  392\n",
      "best SSIM: 0.97914057970047\n",
      "best SSIM epoch:  243\n"
     ]
    },
    {
     "name": "stderr",
     "output_type": "stream",
     "text": [
      "66it [33:52, 31.18s/it]"
     ]
    },
    {
     "name": "stdout",
     "output_type": "stream",
     "text": [
      "best L1:  0.13601040840148926\n",
      "best L1 epoch:  354\n",
      "best SSIM: 0.9579960107803345\n",
      "best SSIM epoch:  259\n"
     ]
    },
    {
     "name": "stderr",
     "output_type": "stream",
     "text": [
      "67it [34:24, 31.27s/it]"
     ]
    },
    {
     "name": "stdout",
     "output_type": "stream",
     "text": [
      "best L1:  0.14512450993061066\n",
      "best L1 epoch:  235\n",
      "best SSIM: 0.9539296627044678\n",
      "best SSIM epoch:  207\n"
     ]
    },
    {
     "name": "stderr",
     "output_type": "stream",
     "text": [
      "68it [34:54, 30.79s/it]"
     ]
    },
    {
     "name": "stdout",
     "output_type": "stream",
     "text": [
      "best L1:  0.16104567050933838\n",
      "best L1 epoch:  113\n",
      "best SSIM: 0.9351299405097961\n",
      "best SSIM epoch:  31\n"
     ]
    },
    {
     "name": "stderr",
     "output_type": "stream",
     "text": [
      "69it [35:25, 30.86s/it]"
     ]
    },
    {
     "name": "stdout",
     "output_type": "stream",
     "text": [
      "best L1:  0.15023823082447052\n",
      "best L1 epoch:  370\n",
      "best SSIM: 0.9544373154640198\n",
      "best SSIM epoch:  196\n"
     ]
    },
    {
     "name": "stderr",
     "output_type": "stream",
     "text": [
      "70it [35:57, 31.31s/it]"
     ]
    },
    {
     "name": "stdout",
     "output_type": "stream",
     "text": [
      "best L1:  0.13454146683216095\n",
      "best L1 epoch:  377\n",
      "best SSIM: 0.9577212929725647\n",
      "best SSIM epoch:  83\n"
     ]
    },
    {
     "name": "stderr",
     "output_type": "stream",
     "text": [
      "71it [36:27, 30.83s/it]"
     ]
    },
    {
     "name": "stdout",
     "output_type": "stream",
     "text": [
      "best L1:  0.12284115701913834\n",
      "best L1 epoch:  329\n",
      "best SSIM: 0.9556291699409485\n",
      "best SSIM epoch:  263\n"
     ]
    },
    {
     "name": "stderr",
     "output_type": "stream",
     "text": [
      "72it [36:59, 31.27s/it]"
     ]
    },
    {
     "name": "stdout",
     "output_type": "stream",
     "text": [
      "best L1:  0.15709182620048523\n",
      "best L1 epoch:  443\n",
      "best SSIM: 0.9582087993621826\n",
      "best SSIM epoch:  109\n"
     ]
    },
    {
     "name": "stderr",
     "output_type": "stream",
     "text": [
      "73it [37:30, 31.19s/it]"
     ]
    },
    {
     "name": "stdout",
     "output_type": "stream",
     "text": [
      "best L1:  0.12497635185718536\n",
      "best L1 epoch:  264\n",
      "best SSIM: 0.9605423212051392\n",
      "best SSIM epoch:  157\n"
     ]
    },
    {
     "name": "stderr",
     "output_type": "stream",
     "text": [
      "74it [38:02, 31.51s/it]"
     ]
    },
    {
     "name": "stdout",
     "output_type": "stream",
     "text": [
      "best L1:  0.11730337142944336\n",
      "best L1 epoch:  491\n",
      "best SSIM: 0.9664111137390137\n",
      "best SSIM epoch:  295\n"
     ]
    },
    {
     "name": "stderr",
     "output_type": "stream",
     "text": [
      "75it [38:35, 31.77s/it]"
     ]
    },
    {
     "name": "stdout",
     "output_type": "stream",
     "text": [
      "best L1:  0.12763641774654388\n",
      "best L1 epoch:  132\n",
      "best SSIM: 0.9598098993301392\n",
      "best SSIM epoch:  36\n"
     ]
    },
    {
     "name": "stderr",
     "output_type": "stream",
     "text": [
      "76it [39:06, 31.70s/it]"
     ]
    },
    {
     "name": "stdout",
     "output_type": "stream",
     "text": [
      "best L1:  0.13588516414165497\n",
      "best L1 epoch:  363\n",
      "best SSIM: 0.9555602669715881\n",
      "best SSIM epoch:  142\n"
     ]
    },
    {
     "name": "stderr",
     "output_type": "stream",
     "text": [
      "77it [39:37, 31.52s/it]"
     ]
    },
    {
     "name": "stdout",
     "output_type": "stream",
     "text": [
      "best L1:  0.13174988329410553\n",
      "best L1 epoch:  386\n",
      "best SSIM: 0.9713693857192993\n",
      "best SSIM epoch:  288\n"
     ]
    },
    {
     "name": "stderr",
     "output_type": "stream",
     "text": [
      "78it [40:08, 31.23s/it]"
     ]
    },
    {
     "name": "stdout",
     "output_type": "stream",
     "text": [
      "best L1:  0.11818172037601471\n",
      "best L1 epoch:  497\n",
      "best SSIM: 0.9741320610046387\n",
      "best SSIM epoch:  220\n"
     ]
    },
    {
     "name": "stderr",
     "output_type": "stream",
     "text": [
      "79it [40:40, 31.55s/it]"
     ]
    },
    {
     "name": "stdout",
     "output_type": "stream",
     "text": [
      "best L1:  0.15241771936416626\n",
      "best L1 epoch:  433\n",
      "best SSIM: 0.9570651650428772\n",
      "best SSIM epoch:  109\n"
     ]
    },
    {
     "name": "stderr",
     "output_type": "stream",
     "text": [
      "80it [41:12, 31.77s/it]"
     ]
    },
    {
     "name": "stdout",
     "output_type": "stream",
     "text": [
      "best L1:  0.15264731645584106\n",
      "best L1 epoch:  397\n",
      "best SSIM: 0.9585955739021301\n",
      "best SSIM epoch:  138\n"
     ]
    },
    {
     "name": "stderr",
     "output_type": "stream",
     "text": [
      "81it [41:44, 31.68s/it]"
     ]
    },
    {
     "name": "stdout",
     "output_type": "stream",
     "text": [
      "best L1:  0.13937997817993164\n",
      "best L1 epoch:  364\n",
      "best SSIM: 0.9623737931251526\n",
      "best SSIM epoch:  268\n"
     ]
    },
    {
     "name": "stderr",
     "output_type": "stream",
     "text": [
      "82it [42:15, 31.48s/it]"
     ]
    },
    {
     "name": "stdout",
     "output_type": "stream",
     "text": [
      "best L1:  0.14813992381095886\n",
      "best L1 epoch:  289\n",
      "best SSIM: 0.9617782235145569\n",
      "best SSIM epoch:  140\n"
     ]
    },
    {
     "name": "stderr",
     "output_type": "stream",
     "text": [
      "83it [42:46, 31.49s/it]"
     ]
    },
    {
     "name": "stdout",
     "output_type": "stream",
     "text": [
      "best L1:  0.12311439216136932\n",
      "best L1 epoch:  416\n",
      "best SSIM: 0.9716662764549255\n",
      "best SSIM epoch:  253\n"
     ]
    },
    {
     "name": "stderr",
     "output_type": "stream",
     "text": [
      "84it [43:19, 31.76s/it]"
     ]
    },
    {
     "name": "stdout",
     "output_type": "stream",
     "text": [
      "best L1:  0.16395770013332367\n",
      "best L1 epoch:  333\n",
      "best SSIM: 0.9573556184768677\n",
      "best SSIM epoch:  321\n"
     ]
    },
    {
     "name": "stderr",
     "output_type": "stream",
     "text": [
      "85it [43:50, 31.67s/it]"
     ]
    },
    {
     "name": "stdout",
     "output_type": "stream",
     "text": [
      "best L1:  0.17203807830810547\n",
      "best L1 epoch:  315\n",
      "best SSIM: 0.9546102285385132\n",
      "best SSIM epoch:  155\n"
     ]
    },
    {
     "name": "stderr",
     "output_type": "stream",
     "text": [
      "86it [44:20, 31.08s/it]"
     ]
    },
    {
     "name": "stdout",
     "output_type": "stream",
     "text": [
      "best L1:  0.1580999195575714\n",
      "best L1 epoch:  303\n",
      "best SSIM: 0.9410001039505005\n",
      "best SSIM epoch:  205\n"
     ]
    },
    {
     "name": "stderr",
     "output_type": "stream",
     "text": [
      "87it [44:51, 31.09s/it]"
     ]
    },
    {
     "name": "stdout",
     "output_type": "stream",
     "text": [
      "best L1:  0.1310027837753296\n",
      "best L1 epoch:  315\n",
      "best SSIM: 0.9707132577896118\n",
      "best SSIM epoch:  216\n"
     ]
    },
    {
     "name": "stderr",
     "output_type": "stream",
     "text": [
      "88it [45:23, 31.21s/it]"
     ]
    },
    {
     "name": "stdout",
     "output_type": "stream",
     "text": [
      "best L1:  0.16561554372310638\n",
      "best L1 epoch:  319\n",
      "best SSIM: 0.9607610106468201\n",
      "best SSIM epoch:  233\n"
     ]
    },
    {
     "name": "stderr",
     "output_type": "stream",
     "text": [
      "89it [45:55, 31.56s/it]"
     ]
    },
    {
     "name": "stdout",
     "output_type": "stream",
     "text": [
      "best L1:  0.11831363290548325\n",
      "best L1 epoch:  474\n",
      "best SSIM: 0.9679142236709595\n",
      "best SSIM epoch:  319\n"
     ]
    },
    {
     "name": "stderr",
     "output_type": "stream",
     "text": [
      "90it [46:26, 31.39s/it]"
     ]
    },
    {
     "name": "stdout",
     "output_type": "stream",
     "text": [
      "best L1:  0.16637523472309113\n",
      "best L1 epoch:  45\n",
      "best SSIM: 0.952043890953064\n",
      "best SSIM epoch:  46\n"
     ]
    },
    {
     "name": "stderr",
     "output_type": "stream",
     "text": [
      "91it [46:58, 31.68s/it]"
     ]
    },
    {
     "name": "stdout",
     "output_type": "stream",
     "text": [
      "best L1:  0.11661354452371597\n",
      "best L1 epoch:  475\n",
      "best SSIM: 0.9588226079940796\n",
      "best SSIM epoch:  309\n"
     ]
    },
    {
     "name": "stderr",
     "output_type": "stream",
     "text": [
      "92it [47:30, 31.67s/it]"
     ]
    },
    {
     "name": "stdout",
     "output_type": "stream",
     "text": [
      "best L1:  0.1283923238515854\n",
      "best L1 epoch:  245\n",
      "best SSIM: 0.9698971509933472\n",
      "best SSIM epoch:  221\n"
     ]
    },
    {
     "name": "stderr",
     "output_type": "stream",
     "text": [
      "93it [48:01, 31.62s/it]"
     ]
    },
    {
     "name": "stdout",
     "output_type": "stream",
     "text": [
      "best L1:  0.11892926692962646\n",
      "best L1 epoch:  463\n",
      "best SSIM: 0.9703060984611511\n",
      "best SSIM epoch:  283\n"
     ]
    },
    {
     "name": "stderr",
     "output_type": "stream",
     "text": [
      "94it [48:33, 31.59s/it]"
     ]
    },
    {
     "name": "stdout",
     "output_type": "stream",
     "text": [
      "best L1:  0.16833053529262543\n",
      "best L1 epoch:  431\n",
      "best SSIM: 0.9464737176895142\n",
      "best SSIM epoch:  36\n"
     ]
    },
    {
     "name": "stderr",
     "output_type": "stream",
     "text": [
      "95it [49:04, 31.43s/it]"
     ]
    },
    {
     "name": "stdout",
     "output_type": "stream",
     "text": [
      "best L1:  0.13897547125816345\n",
      "best L1 epoch:  328\n",
      "best SSIM: 0.9609222412109375\n",
      "best SSIM epoch:  206\n"
     ]
    },
    {
     "name": "stderr",
     "output_type": "stream",
     "text": [
      "96it [49:36, 31.45s/it]"
     ]
    },
    {
     "name": "stdout",
     "output_type": "stream",
     "text": [
      "best L1:  0.12618780136108398\n",
      "best L1 epoch:  451\n",
      "best SSIM: 0.9602071046829224\n",
      "best SSIM epoch:  381\n"
     ]
    },
    {
     "name": "stderr",
     "output_type": "stream",
     "text": [
      "97it [50:08, 31.71s/it]"
     ]
    },
    {
     "name": "stdout",
     "output_type": "stream",
     "text": [
      "best L1:  0.17694862186908722\n",
      "best L1 epoch:  292\n",
      "best SSIM: 0.929533839225769\n",
      "best SSIM epoch:  38\n"
     ]
    },
    {
     "name": "stderr",
     "output_type": "stream",
     "text": [
      "98it [50:39, 31.64s/it]"
     ]
    },
    {
     "name": "stdout",
     "output_type": "stream",
     "text": [
      "best L1:  0.1536235362291336\n",
      "best L1 epoch:  157\n",
      "best SSIM: 0.952490508556366\n",
      "best SSIM epoch:  108\n"
     ]
    },
    {
     "name": "stderr",
     "output_type": "stream",
     "text": [
      "99it [51:11, 31.60s/it]"
     ]
    },
    {
     "name": "stdout",
     "output_type": "stream",
     "text": [
      "best L1:  0.1306552290916443\n",
      "best L1 epoch:  424\n",
      "best SSIM: 0.9525630474090576\n",
      "best SSIM epoch:  192\n"
     ]
    },
    {
     "name": "stderr",
     "output_type": "stream",
     "text": [
      "100it [51:42, 31.03s/it]"
     ]
    },
    {
     "name": "stdout",
     "output_type": "stream",
     "text": [
      "best L1:  0.157111257314682\n",
      "best L1 epoch:  226\n",
      "best SSIM: 0.9640289545059204\n",
      "best SSIM epoch:  203\n",
      "Testing average L1 loss:  0.13940744176506997\n",
      "Testing average L1 loss epoch:  316.62\n",
      "Testing average SSIM loss:  0.9577120870351792\n",
      "Testing average SSIM loss epoch:  190.43\n"
     ]
    },
    {
     "name": "stderr",
     "output_type": "stream",
     "text": [
      "\n"
     ]
    }
   ],
   "source": [
    "checkpoint_path = '/cheng/metaMRI/metaMRI/save/E11.5_joint(l1_CA-1e-3-4_P)_T300_150epoch/E11.5_joint(l1_CA-1e-3-4_P)_T300_150epoch_E81_best.pth'\n",
    "model = Unet(in_chans=2, out_chans=2, chans=32, num_pool_layers=4, drop_prob=0.0)\n",
    "model.load_state_dict(torch.load(checkpoint_path))\n",
    "model = model.to(device)\n",
    "\n",
    "best_loss_l1_history=[]\n",
    "best_loss_l1_index_history=[]\n",
    "best_loss_ssim_history=[]\n",
    "best_loss_ssim_index_history=[]\n",
    "\n",
    "for iter, batch in tqdm(enumerate(test_dataloader)): \n",
    "    input_image, target_image, ground_truth_image, mean, std, fname, slice_num, input_kspace, input_mask, target_kspace, target_mask, sens_maps, binary_background_mask = batch\n",
    "    input_image = input_image.to(device)\n",
    "    target_image = target_image.to(device)\n",
    "    input_kspace = input_kspace.to(device)\n",
    "    input_mask = input_mask.to(device)\n",
    "    sens_maps = sens_maps.to(device)\n",
    "    std = std.to(device)\n",
    "    mean = mean.to(device)\n",
    "    ground_truth_image = ground_truth_image.to(device)\n",
    "    binary_background_mask = binary_background_mask.to(device)\n",
    "\n",
    "    # model re-init\n",
    "    model.load_state_dict(torch.load(checkpoint_path))\n",
    "\n",
    "    # each data point TTT\n",
    "    loss_l1_history, loss_ssim_history, self_loss_history = TTT(model, TTT_epoch=500, adapt_lr=0.0001)\n",
    "    best_loss_l1 = min(loss_l1_history)\n",
    "    print('best L1: ', best_loss_l1)\n",
    "    best_loss_l1_epoch = np.argmin(loss_l1_history)\n",
    "    print('best L1 epoch: ', best_loss_l1_epoch)\n",
    "    best_loss_ssim = max(loss_ssim_history)\n",
    "    print('best SSIM:', best_loss_ssim)\n",
    "    best_loss_ssim_epoch = np.argmax(loss_ssim_history)\n",
    "    print('best SSIM epoch: ', best_loss_ssim_epoch)\n",
    "\n",
    "    best_loss_l1_index_history.append(best_loss_l1_epoch)\n",
    "    best_loss_ssim_index_history.append(best_loss_ssim_epoch)\n",
    "    best_loss_l1_history.append(best_loss_l1)\n",
    "    best_loss_ssim_history.append(best_loss_ssim)\n",
    "\n",
    "\n",
    "print(\"Testing average L1 loss: \", sum(best_loss_l1_history) / len(best_loss_l1_history))\n",
    "print(\"Testing average L1 loss epoch: \", sum(best_loss_l1_index_history) / len(best_loss_l1_index_history))\n",
    "print(\"Testing average SSIM loss: \", sum(best_loss_ssim_history) / len(best_loss_ssim_history))\n",
    "print(\"Testing average SSIM loss epoch: \", sum(best_loss_ssim_index_history) / len(best_loss_ssim_index_history))"
   ]
  }
 ],
 "metadata": {
  "kernelspec": {
   "display_name": "base",
   "language": "python",
   "name": "python3"
  },
  "language_info": {
   "codemirror_mode": {
    "name": "ipython",
    "version": 3
   },
   "file_extension": ".py",
   "mimetype": "text/x-python",
   "name": "python",
   "nbconvert_exporter": "python",
   "pygments_lexer": "ipython3",
   "version": "3.10.8"
  },
  "orig_nbformat": 4
 },
 "nbformat": 4,
 "nbformat_minor": 2
}
