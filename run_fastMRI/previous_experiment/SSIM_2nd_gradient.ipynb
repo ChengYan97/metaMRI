{
 "cells": [
  {
   "cell_type": "code",
   "execution_count": null,
   "metadata": {},
   "outputs": [],
   "source": [
    "import torch\n",
    "import torch.nn as nn\n",
    "import torch.optim as optim\n",
    "from torch.autograd import grad\n",
    "from functions.training.losses import SSIMLoss \n",
    "device = torch.device(\"cuda:0\" if torch.cuda.is_available() else \"cpu\")\n",
    "\n",
    "ssim_fct = SSIMLoss()\n",
    "\n",
    "def ssim_loss_2nd_derivative(img1, img2):\n",
    "    ssim = ssim_fct(img1, img2, data_range=img2.max().unsqueeze(0))\n",
    "    \n",
    "    ssim_2nd_grad = grad(ssim, img1, create_graph=True)[0]\n",
    "    \n",
    "    return ssim_2nd_grad.mean()\n",
    "\n",
    "data1 = torch.randn(1, 32, 10, requires_grad=True).to(device)\n",
    "data2 = torch.randn(1, 32, 10, requires_grad=True).to(device)\n",
    "loss = ssim_loss_2nd_derivative(data1, data2)\n",
    "\n",
    "loss.backward() \n",
    "\n",
    "print(data1.retain_grad())"
   ]
  }
 ],
 "metadata": {
  "kernelspec": {
   "display_name": "base",
   "language": "python",
   "name": "python3"
  },
  "language_info": {
   "codemirror_mode": {
    "name": "ipython",
    "version": 3
   },
   "file_extension": ".py",
   "mimetype": "text/x-python",
   "name": "python",
   "nbconvert_exporter": "python",
   "pygments_lexer": "ipython3",
   "version": "3.10.8"
  },
  "orig_nbformat": 4
 },
 "nbformat": 4,
 "nbformat_minor": 2
}
