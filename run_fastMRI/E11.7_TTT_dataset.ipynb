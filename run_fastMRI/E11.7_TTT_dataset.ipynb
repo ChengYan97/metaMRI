{
 "cells": [
  {
   "cell_type": "code",
   "execution_count": 5,
   "metadata": {},
   "outputs": [
    {
     "data": {
      "text/plain": [
       "<torch._C.Generator at 0x7fcc7903d6d0>"
      ]
     },
     "execution_count": 5,
     "metadata": {},
     "output_type": "execute_result"
    }
   ],
   "source": [
    "import time\n",
    "import random\n",
    "import numpy as np\n",
    "import pandas as pd\n",
    "import sys\n",
    "import pickle\n",
    "import h5py\n",
    "import os\n",
    "os.environ['CUDA_VISIBLE_DEVICES'] = '0'\n",
    "import torch\n",
    "import learn2learn as l2l\n",
    "from tqdm import tqdm\n",
    "import matplotlib.pyplot as plt\n",
    "from torch.utils.tensorboard import SummaryWriter\n",
    "from torch.optim.lr_scheduler import StepLR, CosineAnnealingLR\n",
    "from functions.fftc import fft2c_new as fft2c\n",
    "from functions.fftc import ifft2c_new as ifft2c\n",
    "from functions.math import complex_abs, complex_mul, complex_conj\n",
    "# The corase reconstruction is the rss of the zerofilled multi-coil kspaces\n",
    "# after inverse FT.\n",
    "from functions.data.transforms import UnetDataTransform_sensmap, center_crop\n",
    "# Import a torch.utils.data.Dataset class that takes a list of data examples, a path to those examples\n",
    "# a data transform and outputs a torch dataset.\n",
    "from functions.data.mri_dataset import SliceDataset\n",
    "# Unet architecture as nn.Module\n",
    "from functions.models.unet import Unet\n",
    "# Function that returns a MaskFunc object either for generatig random or equispaced masks\n",
    "from functions.data.subsample import create_mask_for_mask_type\n",
    "# Implementation of SSIMLoss\n",
    "from functions.training.losses import SSIMLoss\n",
    "from functions.helper import evaluate2c_imagepair\n",
    "### after you install bart 0.7.00 from https://mrirecon.github.io/bart/, import it as follows\n",
    "sys.path.insert(0,'/cheng/bart-0.7.00/python/')\n",
    "os.environ['TOOLBOX_PATH'] = \"/cheng/bart-0.7.00/\"\n",
    "import bart\n",
    "\n",
    "\n",
    "plt.rcParams.update({\"text.usetex\": True, \"font.family\": \"serif\", \"font.serif\": [\"Computer Modern Roman\"]})\n",
    "\n",
    "colors = ['b','r','k','g','m','c','tab:brown','tab:orange','tab:pink','tab:gray','tab:olive','tab:purple']\n",
    "\n",
    "markers = [\"v\",\"o\",\"^\",\"1\",\"*\",\">\",\"d\",\"<\",\"s\",\"P\",\"X\"]\n",
    "FONTSIZE = 22\n",
    "\n",
    "device = torch.device('cuda') if torch.cuda.is_available() else torch.device('cpu')\n",
    "\n",
    "# seed\n",
    "SEED = 1\n",
    "random.seed(SEED)\n",
    "np.random.seed(SEED)\n",
    "torch.cuda.manual_seed(SEED)\n",
    "torch.manual_seed(SEED)\n"
   ]
  },
  {
   "attachments": {},
   "cell_type": "markdown",
   "metadata": {},
   "source": [
    "### Load the data"
   ]
  },
  {
   "cell_type": "code",
   "execution_count": 6,
   "metadata": {},
   "outputs": [],
   "source": [
    "# data path\n",
    "# path_test = '/cheng/metaMRI/metaMRI/data_dict/E11.1/Q/brain_test_AXT1POST_Skyra_5-8.yaml'\n",
    "# path_test_sensmaps = '/cheng/metaMRI/metaMRI/data_dict/E11.1/Q/sensmap_test/'\n",
    "path_test = '/cheng/metaMRI/metaMRI/data_dict/TTT_paper/TTT_brain_test_100.yaml'\n",
    "path_test_sensmaps = '/cheng/metaMRI/metaMRI/data_dict/TTT_paper/sensmap_brain_test/'\n",
    "\n",
    "# mask function and data transform\n",
    "mask_function = create_mask_for_mask_type(mask_type_str = 'random', self_sup = False, \n",
    "                    center_fraction = 0.08, acceleration = 4.0, acceleration_total = 3.0)\n",
    "\n",
    "data_transform = UnetDataTransform_sensmap('multicoil', mask_func = mask_function, use_seed=True, mode='adapt')\n",
    "\n",
    "# training dataset and data loader\n",
    "testset = SliceDataset(dataset = path_test, path_to_dataset='', \n",
    "                path_to_sensmaps = path_test_sensmaps, provide_senmaps=True, \n",
    "                challenge=\"multicoil\", transform = data_transform, use_dataset_cache=True)\n",
    "\n",
    "test_dataloader = torch.utils.data.DataLoader(dataset = testset, batch_size = 1, \n",
    "                shuffle = False, generator = torch.Generator().manual_seed(1), pin_memory = False)\n"
   ]
  },
  {
   "cell_type": "code",
   "execution_count": 7,
   "metadata": {},
   "outputs": [],
   "source": [
    "checkpoint_path = '/cheng/metaMRI/metaMRI/save/E11.7_joint(l1_CA-1e-3-4_P)_T300_150epoch/E11.7_joint(l1_CA-1e-3-4_P)_T300_150epoch_E87_best.pth'\n",
    "model = Unet(in_chans=2, out_chans=2, chans=32, num_pool_layers=4, drop_prob=0.0)\n",
    "model.load_state_dict(torch.load(checkpoint_path))\n",
    "model = model.to(device)"
   ]
  },
  {
   "attachments": {},
   "cell_type": "markdown",
   "metadata": {},
   "source": [
    "### without TTT"
   ]
  },
  {
   "cell_type": "code",
   "execution_count": 4,
   "metadata": {},
   "outputs": [
    {
     "name": "stderr",
     "output_type": "stream",
     "text": [
      "100it [00:20,  4.88it/s]\n"
     ]
    }
   ],
   "source": [
    "loss_l1_history_=[]\n",
    "loss_ssim_history_=[]\n",
    "ssim_fct = SSIMLoss()\n",
    "l1_loss = torch.nn.L1Loss(reduction='sum')\n",
    "\n",
    "for iter, batch in tqdm(enumerate(test_dataloader)): \n",
    "    input_image, target_image, ground_truth_image, mean, std, fname, slice_num, input_kspace, input_mask, target_kspace, target_mask, sens_maps, binary_background_mask = batch\n",
    "    input_image = input_image.to(device)\n",
    "    target_image = target_image.to(device)\n",
    "    input_kspace = input_kspace.to(device)\n",
    "    input_mask = input_mask.to(device)\n",
    "    sens_maps = sens_maps.to(device)\n",
    "    std = std.to(device)\n",
    "    mean = mean.to(device)\n",
    "    ground_truth_image = ground_truth_image.to(device)\n",
    "    binary_background_mask = binary_background_mask.to(device)\n",
    "\n",
    "    model_output = model(input_image)\n",
    "    model_output = model_output * std + mean\n",
    "    # supervised loss [x, fθ(A†y)]\n",
    "    # L1\n",
    "    loss_l1 = (l1_loss(model_output, target_image) / torch.sum(torch.abs(target_image))).item()\n",
    "    # SSIM = 1 - loss\n",
    "    output_image_1c = complex_abs(torch.moveaxis(model_output , 1, -1 ))\n",
    "    # center crop\n",
    "    min_size = min(ground_truth_image.shape[-2:])\n",
    "    crop = torch.Size([min_size, min_size])\n",
    "    ground_truth_image = center_crop( ground_truth_image, crop )\n",
    "    output_image_1c = center_crop( output_image_1c, crop )\n",
    "    loss_ssim = 1 - ssim_fct(output_image_1c, ground_truth_image, data_range = ground_truth_image.max().unsqueeze(0)).item()\n",
    "    #print('Test SSIM loss: ',loss_ssim)\n",
    "\n",
    "    loss_l1_history_.append(loss_l1)\n",
    "    loss_ssim_history_.append(loss_ssim)"
   ]
  },
  {
   "cell_type": "code",
   "execution_count": 6,
   "metadata": {},
   "outputs": [
    {
     "name": "stdout",
     "output_type": "stream",
     "text": [
      "Testing average L1 loss:  0.28124732211232184\n",
      "Testing average SSIM loss:  0.7954672402143479\n"
     ]
    }
   ],
   "source": [
    "print(\"Testing average L1 loss: \", sum(loss_l1_history_) / len(loss_l1_history_))\n",
    "print(\"Testing average SSIM loss: \", sum(loss_ssim_history_) / len(loss_ssim_history_))"
   ]
  },
  {
   "attachments": {},
   "cell_type": "markdown",
   "metadata": {},
   "source": [
    "### Test-time training"
   ]
  },
  {
   "cell_type": "code",
   "execution_count": 8,
   "metadata": {},
   "outputs": [
    {
     "name": "stderr",
     "output_type": "stream",
     "text": [
      "1it [01:03, 63.79s/it]"
     ]
    },
    {
     "name": "stdout",
     "output_type": "stream",
     "text": [
      "best L1:  0.15085087716579437\n",
      "best L1 epoch:  280\n",
      "best SSIM: 0.9035585522651672\n",
      "best SSIM epoch:  215\n"
     ]
    },
    {
     "name": "stderr",
     "output_type": "stream",
     "text": [
      "2it [02:15, 68.59s/it]"
     ]
    },
    {
     "name": "stdout",
     "output_type": "stream",
     "text": [
      "best L1:  0.11661732941865921\n",
      "best L1 epoch:  246\n",
      "best SSIM: 0.9097892642021179\n",
      "best SSIM epoch:  233\n"
     ]
    },
    {
     "name": "stderr",
     "output_type": "stream",
     "text": [
      "3it [03:27, 70.17s/it]"
     ]
    },
    {
     "name": "stdout",
     "output_type": "stream",
     "text": [
      "best L1:  0.11993865668773651\n",
      "best L1 epoch:  494\n",
      "best SSIM: 0.9215694665908813\n",
      "best SSIM epoch:  281\n"
     ]
    },
    {
     "name": "stderr",
     "output_type": "stream",
     "text": [
      "4it [04:38, 70.27s/it]"
     ]
    },
    {
     "name": "stdout",
     "output_type": "stream",
     "text": [
      "best L1:  0.1674024760723114\n",
      "best L1 epoch:  37\n",
      "best SSIM: 0.888429582118988\n",
      "best SSIM epoch:  61\n"
     ]
    },
    {
     "name": "stderr",
     "output_type": "stream",
     "text": [
      "5it [05:50, 71.11s/it]"
     ]
    },
    {
     "name": "stdout",
     "output_type": "stream",
     "text": [
      "best L1:  0.1786699742078781\n",
      "best L1 epoch:  27\n",
      "best SSIM: 0.8857254385948181\n",
      "best SSIM epoch:  34\n"
     ]
    },
    {
     "name": "stderr",
     "output_type": "stream",
     "text": [
      "6it [06:53, 68.13s/it]"
     ]
    },
    {
     "name": "stdout",
     "output_type": "stream",
     "text": [
      "best L1:  0.14520689845085144\n",
      "best L1 epoch:  496\n",
      "best SSIM: 0.8937481641769409\n",
      "best SSIM epoch:  332\n"
     ]
    },
    {
     "name": "stderr",
     "output_type": "stream",
     "text": [
      "7it [08:04, 69.31s/it]"
     ]
    },
    {
     "name": "stdout",
     "output_type": "stream",
     "text": [
      "best L1:  0.16104809939861298\n",
      "best L1 epoch:  326\n",
      "best SSIM: 0.9215011596679688\n",
      "best SSIM epoch:  162\n"
     ]
    },
    {
     "name": "stderr",
     "output_type": "stream",
     "text": [
      "8it [09:17, 70.23s/it]"
     ]
    },
    {
     "name": "stdout",
     "output_type": "stream",
     "text": [
      "best L1:  0.1845647543668747\n",
      "best L1 epoch:  112\n",
      "best SSIM: 0.8850868940353394\n",
      "best SSIM epoch:  82\n"
     ]
    },
    {
     "name": "stderr",
     "output_type": "stream",
     "text": [
      "9it [10:28, 70.74s/it]"
     ]
    },
    {
     "name": "stdout",
     "output_type": "stream",
     "text": [
      "best L1:  0.17636895179748535\n",
      "best L1 epoch:  363\n",
      "best SSIM: 0.8859167695045471\n",
      "best SSIM epoch:  170\n"
     ]
    },
    {
     "name": "stderr",
     "output_type": "stream",
     "text": [
      "10it [11:39, 70.79s/it]"
     ]
    },
    {
     "name": "stdout",
     "output_type": "stream",
     "text": [
      "best L1:  0.13208618760108948\n",
      "best L1 epoch:  247\n",
      "best SSIM: 0.9176304936408997\n",
      "best SSIM epoch:  187\n"
     ]
    },
    {
     "name": "stderr",
     "output_type": "stream",
     "text": [
      "11it [12:51, 71.16s/it]"
     ]
    },
    {
     "name": "stdout",
     "output_type": "stream",
     "text": [
      "best L1:  0.10845227539539337\n",
      "best L1 epoch:  443\n",
      "best SSIM: 0.9276910424232483\n",
      "best SSIM epoch:  173\n"
     ]
    },
    {
     "name": "stderr",
     "output_type": "stream",
     "text": [
      "12it [14:03, 71.44s/it]"
     ]
    },
    {
     "name": "stdout",
     "output_type": "stream",
     "text": [
      "best L1:  0.16629913449287415\n",
      "best L1 epoch:  179\n",
      "best SSIM: 0.8770875334739685\n",
      "best SSIM epoch:  137\n"
     ]
    },
    {
     "name": "stderr",
     "output_type": "stream",
     "text": [
      "13it [15:16, 71.86s/it]"
     ]
    },
    {
     "name": "stdout",
     "output_type": "stream",
     "text": [
      "best L1:  0.1394813358783722\n",
      "best L1 epoch:  195\n",
      "best SSIM: 0.9215574860572815\n",
      "best SSIM epoch:  187\n"
     ]
    },
    {
     "name": "stderr",
     "output_type": "stream",
     "text": [
      "14it [16:28, 71.97s/it]"
     ]
    },
    {
     "name": "stdout",
     "output_type": "stream",
     "text": [
      "best L1:  0.12951865792274475\n",
      "best L1 epoch:  389\n",
      "best SSIM: 0.9217017889022827\n",
      "best SSIM epoch:  198\n"
     ]
    },
    {
     "name": "stderr",
     "output_type": "stream",
     "text": [
      "15it [17:40, 71.72s/it]"
     ]
    },
    {
     "name": "stdout",
     "output_type": "stream",
     "text": [
      "best L1:  0.1495373696088791\n",
      "best L1 epoch:  278\n",
      "best SSIM: 0.8929388523101807\n",
      "best SSIM epoch:  220\n"
     ]
    },
    {
     "name": "stderr",
     "output_type": "stream",
     "text": [
      "16it [18:58, 73.84s/it]"
     ]
    },
    {
     "name": "stdout",
     "output_type": "stream",
     "text": [
      "best L1:  0.1386646330356598\n",
      "best L1 epoch:  478\n",
      "best SSIM: 0.9493866562843323\n",
      "best SSIM epoch:  230\n"
     ]
    },
    {
     "name": "stderr",
     "output_type": "stream",
     "text": [
      "17it [20:15, 74.55s/it]"
     ]
    },
    {
     "name": "stdout",
     "output_type": "stream",
     "text": [
      "best L1:  0.14079925417900085\n",
      "best L1 epoch:  497\n",
      "best SSIM: 0.9477506875991821\n",
      "best SSIM epoch:  411\n"
     ]
    },
    {
     "name": "stderr",
     "output_type": "stream",
     "text": [
      "18it [21:30, 74.92s/it]"
     ]
    },
    {
     "name": "stdout",
     "output_type": "stream",
     "text": [
      "best L1:  0.14918965101242065\n",
      "best L1 epoch:  402\n",
      "best SSIM: 0.9353369474411011\n",
      "best SSIM epoch:  297\n"
     ]
    },
    {
     "name": "stderr",
     "output_type": "stream",
     "text": [
      "19it [22:49, 75.97s/it]"
     ]
    },
    {
     "name": "stdout",
     "output_type": "stream",
     "text": [
      "best L1:  0.12214276939630508\n",
      "best L1 epoch:  496\n",
      "best SSIM: 0.9331085681915283\n",
      "best SSIM epoch:  315\n"
     ]
    },
    {
     "name": "stderr",
     "output_type": "stream",
     "text": [
      "20it [24:05, 76.14s/it]"
     ]
    },
    {
     "name": "stdout",
     "output_type": "stream",
     "text": [
      "best L1:  0.1673530489206314\n",
      "best L1 epoch:  496\n",
      "best SSIM: 0.9280458092689514\n",
      "best SSIM epoch:  343\n"
     ]
    },
    {
     "name": "stderr",
     "output_type": "stream",
     "text": [
      "21it [25:21, 76.12s/it]"
     ]
    },
    {
     "name": "stdout",
     "output_type": "stream",
     "text": [
      "best L1:  0.1588442027568817\n",
      "best L1 epoch:  499\n",
      "best SSIM: 0.9142024517059326\n",
      "best SSIM epoch:  240\n"
     ]
    },
    {
     "name": "stderr",
     "output_type": "stream",
     "text": [
      "22it [26:40, 76.77s/it]"
     ]
    },
    {
     "name": "stdout",
     "output_type": "stream",
     "text": [
      "best L1:  0.14577218890190125\n",
      "best L1 epoch:  453\n",
      "best SSIM: 0.9414850473403931\n",
      "best SSIM epoch:  316\n"
     ]
    },
    {
     "name": "stderr",
     "output_type": "stream",
     "text": [
      "23it [27:57, 76.99s/it]"
     ]
    },
    {
     "name": "stdout",
     "output_type": "stream",
     "text": [
      "best L1:  0.16813863813877106\n",
      "best L1 epoch:  344\n",
      "best SSIM: 0.9166655540466309\n",
      "best SSIM epoch:  113\n"
     ]
    },
    {
     "name": "stderr",
     "output_type": "stream",
     "text": [
      "24it [29:15, 77.10s/it]"
     ]
    },
    {
     "name": "stdout",
     "output_type": "stream",
     "text": [
      "best L1:  0.12408600002527237\n",
      "best L1 epoch:  494\n",
      "best SSIM: 0.9367934465408325\n",
      "best SSIM epoch:  446\n"
     ]
    },
    {
     "name": "stderr",
     "output_type": "stream",
     "text": [
      "25it [30:31, 76.93s/it]"
     ]
    },
    {
     "name": "stdout",
     "output_type": "stream",
     "text": [
      "best L1:  0.15325254201889038\n",
      "best L1 epoch:  497\n",
      "best SSIM: 0.9238768815994263\n",
      "best SSIM epoch:  241\n"
     ]
    },
    {
     "name": "stderr",
     "output_type": "stream",
     "text": [
      "26it [31:42, 75.08s/it]"
     ]
    },
    {
     "name": "stdout",
     "output_type": "stream",
     "text": [
      "best L1:  0.11793459206819534\n",
      "best L1 epoch:  489\n",
      "best SSIM: 0.9374982714653015\n",
      "best SSIM epoch:  337\n"
     ]
    },
    {
     "name": "stderr",
     "output_type": "stream",
     "text": [
      "27it [32:59, 75.85s/it]"
     ]
    },
    {
     "name": "stdout",
     "output_type": "stream",
     "text": [
      "best L1:  0.10901927202939987\n",
      "best L1 epoch:  499\n",
      "best SSIM: 0.9578133225440979\n",
      "best SSIM epoch:  478\n"
     ]
    },
    {
     "name": "stderr",
     "output_type": "stream",
     "text": [
      "28it [34:19, 76.89s/it]"
     ]
    },
    {
     "name": "stdout",
     "output_type": "stream",
     "text": [
      "best L1:  0.14088280498981476\n",
      "best L1 epoch:  496\n",
      "best SSIM: 0.9388422966003418\n",
      "best SSIM epoch:  194\n"
     ]
    },
    {
     "name": "stderr",
     "output_type": "stream",
     "text": [
      "29it [35:36, 77.07s/it]"
     ]
    },
    {
     "name": "stdout",
     "output_type": "stream",
     "text": [
      "best L1:  0.16227778792381287\n",
      "best L1 epoch:  460\n",
      "best SSIM: 0.9194032549858093\n",
      "best SSIM epoch:  261\n"
     ]
    },
    {
     "name": "stderr",
     "output_type": "stream",
     "text": [
      "30it [36:54, 77.19s/it]"
     ]
    },
    {
     "name": "stdout",
     "output_type": "stream",
     "text": [
      "best L1:  0.13344192504882812\n",
      "best L1 epoch:  488\n",
      "best SSIM: 0.9369824528694153\n",
      "best SSIM epoch:  159\n"
     ]
    },
    {
     "name": "stderr",
     "output_type": "stream",
     "text": [
      "31it [38:04, 75.03s/it]"
     ]
    },
    {
     "name": "stdout",
     "output_type": "stream",
     "text": [
      "best L1:  0.1447204351425171\n",
      "best L1 epoch:  197\n",
      "best SSIM: 0.8862196207046509\n",
      "best SSIM epoch:  130\n"
     ]
    },
    {
     "name": "stderr",
     "output_type": "stream",
     "text": [
      "32it [39:16, 74.14s/it]"
     ]
    },
    {
     "name": "stdout",
     "output_type": "stream",
     "text": [
      "best L1:  0.12589414417743683\n",
      "best L1 epoch:  339\n",
      "best SSIM: 0.9474897384643555\n",
      "best SSIM epoch:  294\n"
     ]
    },
    {
     "name": "stderr",
     "output_type": "stream",
     "text": [
      "33it [40:28, 73.47s/it]"
     ]
    },
    {
     "name": "stdout",
     "output_type": "stream",
     "text": [
      "best L1:  0.1496720165014267\n",
      "best L1 epoch:  275\n",
      "best SSIM: 0.905346691608429\n",
      "best SSIM epoch:  192\n"
     ]
    },
    {
     "name": "stderr",
     "output_type": "stream",
     "text": [
      "34it [41:47, 75.24s/it]"
     ]
    },
    {
     "name": "stdout",
     "output_type": "stream",
     "text": [
      "best L1:  0.18809445202350616\n",
      "best L1 epoch:  467\n",
      "best SSIM: 0.9131132364273071\n",
      "best SSIM epoch:  150\n"
     ]
    },
    {
     "name": "stderr",
     "output_type": "stream",
     "text": [
      "35it [43:05, 76.14s/it]"
     ]
    },
    {
     "name": "stdout",
     "output_type": "stream",
     "text": [
      "best L1:  0.15856604278087616\n",
      "best L1 epoch:  406\n",
      "best SSIM: 0.937801718711853\n",
      "best SSIM epoch:  322\n"
     ]
    },
    {
     "name": "stderr",
     "output_type": "stream",
     "text": [
      "36it [44:19, 75.33s/it]"
     ]
    },
    {
     "name": "stdout",
     "output_type": "stream",
     "text": [
      "best L1:  0.12785334885120392\n",
      "best L1 epoch:  498\n",
      "best SSIM: 0.9384276866912842\n",
      "best SSIM epoch:  322\n"
     ]
    },
    {
     "name": "stderr",
     "output_type": "stream",
     "text": [
      "37it [45:39, 76.94s/it]"
     ]
    },
    {
     "name": "stdout",
     "output_type": "stream",
     "text": [
      "best L1:  0.14442235231399536\n",
      "best L1 epoch:  374\n",
      "best SSIM: 0.9225414991378784\n",
      "best SSIM epoch:  323\n"
     ]
    },
    {
     "name": "stderr",
     "output_type": "stream",
     "text": [
      "38it [46:52, 75.69s/it]"
     ]
    },
    {
     "name": "stdout",
     "output_type": "stream",
     "text": [
      "best L1:  0.13598017394542694\n",
      "best L1 epoch:  499\n",
      "best SSIM: 0.9202264547348022\n",
      "best SSIM epoch:  251\n"
     ]
    },
    {
     "name": "stderr",
     "output_type": "stream",
     "text": [
      "39it [48:02, 73.83s/it]"
     ]
    },
    {
     "name": "stdout",
     "output_type": "stream",
     "text": [
      "best L1:  0.10633166879415512\n",
      "best L1 epoch:  499\n",
      "best SSIM: 0.9409866333007812\n",
      "best SSIM epoch:  482\n"
     ]
    },
    {
     "name": "stderr",
     "output_type": "stream",
     "text": [
      "40it [49:15, 73.58s/it]"
     ]
    },
    {
     "name": "stdout",
     "output_type": "stream",
     "text": [
      "best L1:  0.14023739099502563\n",
      "best L1 epoch:  131\n",
      "best SSIM: 0.9309646487236023\n",
      "best SSIM epoch:  133\n"
     ]
    },
    {
     "name": "stderr",
     "output_type": "stream",
     "text": [
      "41it [50:18, 70.43s/it]"
     ]
    },
    {
     "name": "stdout",
     "output_type": "stream",
     "text": [
      "best L1:  0.1685423105955124\n",
      "best L1 epoch:  271\n",
      "best SSIM: 0.8571964502334595\n",
      "best SSIM epoch:  219\n"
     ]
    },
    {
     "name": "stderr",
     "output_type": "stream",
     "text": [
      "42it [51:31, 71.32s/it]"
     ]
    },
    {
     "name": "stdout",
     "output_type": "stream",
     "text": [
      "best L1:  0.1975783109664917\n",
      "best L1 epoch:  272\n",
      "best SSIM: 0.8929916024208069\n",
      "best SSIM epoch:  210\n"
     ]
    },
    {
     "name": "stderr",
     "output_type": "stream",
     "text": [
      "43it [52:42, 71.28s/it]"
     ]
    },
    {
     "name": "stdout",
     "output_type": "stream",
     "text": [
      "best L1:  0.15372128784656525\n",
      "best L1 epoch:  382\n",
      "best SSIM: 0.9202286005020142\n",
      "best SSIM epoch:  192\n"
     ]
    },
    {
     "name": "stderr",
     "output_type": "stream",
     "text": [
      "44it [54:00, 73.16s/it]"
     ]
    },
    {
     "name": "stdout",
     "output_type": "stream",
     "text": [
      "best L1:  0.12222383916378021\n",
      "best L1 epoch:  498\n",
      "best SSIM: 0.9444614052772522\n",
      "best SSIM epoch:  498\n"
     ]
    },
    {
     "name": "stderr",
     "output_type": "stream",
     "text": [
      "45it [55:16, 74.07s/it]"
     ]
    },
    {
     "name": "stdout",
     "output_type": "stream",
     "text": [
      "best L1:  0.15646442770957947\n",
      "best L1 epoch:  499\n",
      "best SSIM: 0.9525973200798035\n",
      "best SSIM epoch:  256\n"
     ]
    },
    {
     "name": "stderr",
     "output_type": "stream",
     "text": [
      "46it [56:32, 74.75s/it]"
     ]
    },
    {
     "name": "stdout",
     "output_type": "stream",
     "text": [
      "best L1:  0.14423219859600067\n",
      "best L1 epoch:  278\n",
      "best SSIM: 0.9417374730110168\n",
      "best SSIM epoch:  234\n"
     ]
    },
    {
     "name": "stderr",
     "output_type": "stream",
     "text": [
      "47it [57:53, 76.53s/it]"
     ]
    },
    {
     "name": "stdout",
     "output_type": "stream",
     "text": [
      "best L1:  0.1469927579164505\n",
      "best L1 epoch:  499\n",
      "best SSIM: 0.9188448190689087\n",
      "best SSIM epoch:  84\n"
     ]
    },
    {
     "name": "stderr",
     "output_type": "stream",
     "text": [
      "48it [59:06, 75.53s/it]"
     ]
    },
    {
     "name": "stdout",
     "output_type": "stream",
     "text": [
      "best L1:  0.16989606618881226\n",
      "best L1 epoch:  157\n",
      "best SSIM: 0.8712090253829956\n",
      "best SSIM epoch:  164\n"
     ]
    },
    {
     "name": "stderr",
     "output_type": "stream",
     "text": [
      "49it [1:00:24, 76.19s/it]"
     ]
    },
    {
     "name": "stdout",
     "output_type": "stream",
     "text": [
      "best L1:  0.12448516488075256\n",
      "best L1 epoch:  497\n",
      "best SSIM: 0.9328137636184692\n",
      "best SSIM epoch:  331\n"
     ]
    },
    {
     "name": "stderr",
     "output_type": "stream",
     "text": [
      "50it [1:01:44, 77.24s/it]"
     ]
    },
    {
     "name": "stdout",
     "output_type": "stream",
     "text": [
      "best L1:  0.17627282440662384\n",
      "best L1 epoch:  143\n",
      "best SSIM: 0.8487873077392578\n",
      "best SSIM epoch:  135\n"
     ]
    },
    {
     "name": "stderr",
     "output_type": "stream",
     "text": [
      "51it [1:02:55, 75.33s/it]"
     ]
    },
    {
     "name": "stdout",
     "output_type": "stream",
     "text": [
      "best L1:  0.1243971660733223\n",
      "best L1 epoch:  283\n",
      "best SSIM: 0.9091836214065552\n",
      "best SSIM epoch:  209\n"
     ]
    },
    {
     "name": "stderr",
     "output_type": "stream",
     "text": [
      "52it [1:04:13, 76.11s/it]"
     ]
    },
    {
     "name": "stdout",
     "output_type": "stream",
     "text": [
      "best L1:  0.14473024010658264\n",
      "best L1 epoch:  274\n",
      "best SSIM: 0.9324371814727783\n",
      "best SSIM epoch:  266\n"
     ]
    },
    {
     "name": "stderr",
     "output_type": "stream",
     "text": [
      "53it [1:05:31, 76.95s/it]"
     ]
    },
    {
     "name": "stdout",
     "output_type": "stream",
     "text": [
      "best L1:  0.13640588521957397\n",
      "best L1 epoch:  492\n",
      "best SSIM: 0.9379736185073853\n",
      "best SSIM epoch:  391\n"
     ]
    },
    {
     "name": "stderr",
     "output_type": "stream",
     "text": [
      "54it [1:06:51, 77.73s/it]"
     ]
    },
    {
     "name": "stdout",
     "output_type": "stream",
     "text": [
      "best L1:  0.13230742514133453\n",
      "best L1 epoch:  250\n",
      "best SSIM: 0.9368910789489746\n",
      "best SSIM epoch:  213\n"
     ]
    },
    {
     "name": "stderr",
     "output_type": "stream",
     "text": [
      "55it [1:08:09, 77.71s/it]"
     ]
    },
    {
     "name": "stdout",
     "output_type": "stream",
     "text": [
      "best L1:  0.1538812667131424\n",
      "best L1 epoch:  314\n",
      "best SSIM: 0.9159771800041199\n",
      "best SSIM epoch:  267\n"
     ]
    },
    {
     "name": "stderr",
     "output_type": "stream",
     "text": [
      "56it [1:09:26, 77.50s/it]"
     ]
    },
    {
     "name": "stdout",
     "output_type": "stream",
     "text": [
      "best L1:  0.14868558943271637\n",
      "best L1 epoch:  498\n",
      "best SSIM: 0.9185256958007812\n",
      "best SSIM epoch:  342\n"
     ]
    },
    {
     "name": "stderr",
     "output_type": "stream",
     "text": [
      "57it [1:10:43, 77.36s/it]"
     ]
    },
    {
     "name": "stdout",
     "output_type": "stream",
     "text": [
      "best L1:  0.12136157602071762\n",
      "best L1 epoch:  379\n",
      "best SSIM: 0.9507327675819397\n",
      "best SSIM epoch:  305\n"
     ]
    },
    {
     "name": "stderr",
     "output_type": "stream",
     "text": [
      "58it [1:12:01, 77.77s/it]"
     ]
    },
    {
     "name": "stdout",
     "output_type": "stream",
     "text": [
      "best L1:  0.16725337505340576\n",
      "best L1 epoch:  181\n",
      "best SSIM: 0.9093532562255859\n",
      "best SSIM epoch:  150\n"
     ]
    },
    {
     "name": "stderr",
     "output_type": "stream",
     "text": [
      "59it [1:13:21, 78.24s/it]"
     ]
    },
    {
     "name": "stdout",
     "output_type": "stream",
     "text": [
      "best L1:  0.1488451212644577\n",
      "best L1 epoch:  490\n",
      "best SSIM: 0.928989589214325\n",
      "best SSIM epoch:  325\n"
     ]
    },
    {
     "name": "stderr",
     "output_type": "stream",
     "text": [
      "60it [1:14:39, 78.19s/it]"
     ]
    },
    {
     "name": "stdout",
     "output_type": "stream",
     "text": [
      "best L1:  0.15392650663852692\n",
      "best L1 epoch:  498\n",
      "best SSIM: 0.9225614666938782\n",
      "best SSIM epoch:  184\n"
     ]
    },
    {
     "name": "stderr",
     "output_type": "stream",
     "text": [
      "61it [1:15:57, 78.14s/it]"
     ]
    },
    {
     "name": "stdout",
     "output_type": "stream",
     "text": [
      "best L1:  0.1436721831560135\n",
      "best L1 epoch:  464\n",
      "best SSIM: 0.9451304078102112\n",
      "best SSIM epoch:  408\n"
     ]
    },
    {
     "name": "stderr",
     "output_type": "stream",
     "text": [
      "62it [1:17:11, 77.05s/it]"
     ]
    },
    {
     "name": "stdout",
     "output_type": "stream",
     "text": [
      "best L1:  0.13174402713775635\n",
      "best L1 epoch:  491\n",
      "best SSIM: 0.9435583353042603\n",
      "best SSIM epoch:  373\n"
     ]
    },
    {
     "name": "stderr",
     "output_type": "stream",
     "text": [
      "63it [1:18:27, 76.59s/it]"
     ]
    },
    {
     "name": "stdout",
     "output_type": "stream",
     "text": [
      "best L1:  0.16700169444084167\n",
      "best L1 epoch:  377\n",
      "best SSIM: 0.9199438095092773\n",
      "best SSIM epoch:  222\n"
     ]
    },
    {
     "name": "stderr",
     "output_type": "stream",
     "text": [
      "64it [1:19:37, 74.63s/it]"
     ]
    },
    {
     "name": "stdout",
     "output_type": "stream",
     "text": [
      "best L1:  0.12697350978851318\n",
      "best L1 epoch:  446\n",
      "best SSIM: 0.9228926301002502\n",
      "best SSIM epoch:  318\n"
     ]
    },
    {
     "name": "stderr",
     "output_type": "stream",
     "text": [
      "65it [1:20:56, 75.93s/it]"
     ]
    },
    {
     "name": "stdout",
     "output_type": "stream",
     "text": [
      "best L1:  0.12643879652023315\n",
      "best L1 epoch:  499\n",
      "best SSIM: 0.9597615003585815\n",
      "best SSIM epoch:  458\n"
     ]
    },
    {
     "name": "stderr",
     "output_type": "stream",
     "text": [
      "66it [1:22:13, 76.26s/it]"
     ]
    },
    {
     "name": "stdout",
     "output_type": "stream",
     "text": [
      "best L1:  0.1375485360622406\n",
      "best L1 epoch:  489\n",
      "best SSIM: 0.9216169714927673\n",
      "best SSIM epoch:  287\n"
     ]
    },
    {
     "name": "stderr",
     "output_type": "stream",
     "text": [
      "67it [1:23:31, 76.84s/it]"
     ]
    },
    {
     "name": "stdout",
     "output_type": "stream",
     "text": [
      "best L1:  0.14201870560646057\n",
      "best L1 epoch:  474\n",
      "best SSIM: 0.9243119359016418\n",
      "best SSIM epoch:  297\n"
     ]
    },
    {
     "name": "stderr",
     "output_type": "stream",
     "text": [
      "68it [1:24:42, 75.10s/it]"
     ]
    },
    {
     "name": "stdout",
     "output_type": "stream",
     "text": [
      "best L1:  0.1622365117073059\n",
      "best L1 epoch:  129\n",
      "best SSIM: 0.8897690773010254\n",
      "best SSIM epoch:  115\n"
     ]
    },
    {
     "name": "stderr",
     "output_type": "stream",
     "text": [
      "69it [1:25:58, 75.26s/it]"
     ]
    },
    {
     "name": "stdout",
     "output_type": "stream",
     "text": [
      "best L1:  0.15185672044754028\n",
      "best L1 epoch:  342\n",
      "best SSIM: 0.922193706035614\n",
      "best SSIM epoch:  295\n"
     ]
    },
    {
     "name": "stderr",
     "output_type": "stream",
     "text": [
      "70it [1:27:18, 76.72s/it]"
     ]
    },
    {
     "name": "stdout",
     "output_type": "stream",
     "text": [
      "best L1:  0.12982416152954102\n",
      "best L1 epoch:  498\n",
      "best SSIM: 0.9381328225135803\n",
      "best SSIM epoch:  405\n"
     ]
    },
    {
     "name": "stderr",
     "output_type": "stream",
     "text": [
      "71it [1:28:30, 75.33s/it]"
     ]
    },
    {
     "name": "stdout",
     "output_type": "stream",
     "text": [
      "best L1:  0.12876549363136292\n",
      "best L1 epoch:  429\n",
      "best SSIM: 0.9178617000579834\n",
      "best SSIM epoch:  281\n"
     ]
    },
    {
     "name": "stderr",
     "output_type": "stream",
     "text": [
      "72it [1:29:44, 74.81s/it]"
     ]
    },
    {
     "name": "stdout",
     "output_type": "stream",
     "text": [
      "best L1:  0.17772352695465088\n",
      "best L1 epoch:  341\n",
      "best SSIM: 0.9228792786598206\n",
      "best SSIM epoch:  182\n"
     ]
    },
    {
     "name": "stderr",
     "output_type": "stream",
     "text": [
      "73it [1:30:48, 71.80s/it]"
     ]
    },
    {
     "name": "stdout",
     "output_type": "stream",
     "text": [
      "best L1:  0.13344573974609375\n",
      "best L1 epoch:  484\n",
      "best SSIM: 0.9243577718734741\n",
      "best SSIM epoch:  122\n"
     ]
    },
    {
     "name": "stderr",
     "output_type": "stream",
     "text": [
      "74it [1:31:56, 70.46s/it]"
     ]
    },
    {
     "name": "stdout",
     "output_type": "stream",
     "text": [
      "best L1:  0.11300255358219147\n",
      "best L1 epoch:  499\n",
      "best SSIM: 0.9483765959739685\n",
      "best SSIM epoch:  496\n"
     ]
    },
    {
     "name": "stderr",
     "output_type": "stream",
     "text": [
      "75it [1:33:03, 69.51s/it]"
     ]
    },
    {
     "name": "stdout",
     "output_type": "stream",
     "text": [
      "best L1:  0.142617329955101\n",
      "best L1 epoch:  18\n",
      "best SSIM: 0.9180750846862793\n",
      "best SSIM epoch:  73\n"
     ]
    },
    {
     "name": "stderr",
     "output_type": "stream",
     "text": [
      "76it [1:34:09, 68.29s/it]"
     ]
    },
    {
     "name": "stdout",
     "output_type": "stream",
     "text": [
      "best L1:  0.14972712099552155\n",
      "best L1 epoch:  248\n",
      "best SSIM: 0.9209997057914734\n",
      "best SSIM epoch:  188\n"
     ]
    },
    {
     "name": "stderr",
     "output_type": "stream",
     "text": [
      "77it [1:35:13, 67.07s/it]"
     ]
    },
    {
     "name": "stdout",
     "output_type": "stream",
     "text": [
      "best L1:  0.1470659077167511\n",
      "best L1 epoch:  458\n",
      "best SSIM: 0.9438169002532959\n",
      "best SSIM epoch:  262\n"
     ]
    },
    {
     "name": "stderr",
     "output_type": "stream",
     "text": [
      "78it [1:36:16, 65.97s/it]"
     ]
    },
    {
     "name": "stdout",
     "output_type": "stream",
     "text": [
      "best L1:  0.12828698754310608\n",
      "best L1 epoch:  497\n",
      "best SSIM: 0.9477386474609375\n",
      "best SSIM epoch:  410\n"
     ]
    },
    {
     "name": "stderr",
     "output_type": "stream",
     "text": [
      "79it [1:37:23, 66.22s/it]"
     ]
    },
    {
     "name": "stdout",
     "output_type": "stream",
     "text": [
      "best L1:  0.15197066962718964\n",
      "best L1 epoch:  348\n",
      "best SSIM: 0.9330731630325317\n",
      "best SSIM epoch:  188\n"
     ]
    },
    {
     "name": "stderr",
     "output_type": "stream",
     "text": [
      "80it [1:38:30, 66.41s/it]"
     ]
    },
    {
     "name": "stdout",
     "output_type": "stream",
     "text": [
      "best L1:  0.1615961194038391\n",
      "best L1 epoch:  389\n",
      "best SSIM: 0.9201939702033997\n",
      "best SSIM epoch:  314\n"
     ]
    },
    {
     "name": "stderr",
     "output_type": "stream",
     "text": [
      "81it [1:39:35, 66.08s/it]"
     ]
    },
    {
     "name": "stdout",
     "output_type": "stream",
     "text": [
      "best L1:  0.1540803611278534\n",
      "best L1 epoch:  245\n",
      "best SSIM: 0.9267511367797852\n",
      "best SSIM epoch:  245\n"
     ]
    },
    {
     "name": "stderr",
     "output_type": "stream",
     "text": [
      "82it [1:40:39, 65.52s/it]"
     ]
    },
    {
     "name": "stdout",
     "output_type": "stream",
     "text": [
      "best L1:  0.16081425547599792\n",
      "best L1 epoch:  404\n",
      "best SSIM: 0.9301121234893799\n",
      "best SSIM epoch:  160\n"
     ]
    },
    {
     "name": "stderr",
     "output_type": "stream",
     "text": [
      "83it [1:41:45, 65.43s/it]"
     ]
    },
    {
     "name": "stdout",
     "output_type": "stream",
     "text": [
      "best L1:  0.13681350648403168\n",
      "best L1 epoch:  275\n",
      "best SSIM: 0.9404959082603455\n",
      "best SSIM epoch:  275\n"
     ]
    },
    {
     "name": "stderr",
     "output_type": "stream",
     "text": [
      "84it [1:42:51, 65.80s/it]"
     ]
    },
    {
     "name": "stdout",
     "output_type": "stream",
     "text": [
      "best L1:  0.18185077607631683\n",
      "best L1 epoch:  128\n",
      "best SSIM: 0.9162246584892273\n",
      "best SSIM epoch:  165\n"
     ]
    },
    {
     "name": "stderr",
     "output_type": "stream",
     "text": [
      "85it [1:43:57, 65.69s/it]"
     ]
    },
    {
     "name": "stdout",
     "output_type": "stream",
     "text": [
      "best L1:  0.17056378722190857\n",
      "best L1 epoch:  482\n",
      "best SSIM: 0.9238625168800354\n",
      "best SSIM epoch:  293\n"
     ]
    },
    {
     "name": "stderr",
     "output_type": "stream",
     "text": [
      "86it [1:44:57, 64.13s/it]"
     ]
    },
    {
     "name": "stdout",
     "output_type": "stream",
     "text": [
      "best L1:  0.1669640988111496\n",
      "best L1 epoch:  338\n",
      "best SSIM: 0.8945544362068176\n",
      "best SSIM epoch:  249\n"
     ]
    },
    {
     "name": "stderr",
     "output_type": "stream",
     "text": [
      "87it [1:46:01, 64.09s/it]"
     ]
    },
    {
     "name": "stdout",
     "output_type": "stream",
     "text": [
      "best L1:  0.15018022060394287\n",
      "best L1 epoch:  488\n",
      "best SSIM: 0.9328866004943848\n",
      "best SSIM epoch:  257\n"
     ]
    },
    {
     "name": "stderr",
     "output_type": "stream",
     "text": [
      "88it [1:47:06, 64.38s/it]"
     ]
    },
    {
     "name": "stdout",
     "output_type": "stream",
     "text": [
      "best L1:  0.18154574930667877\n",
      "best L1 epoch:  256\n",
      "best SSIM: 0.9231934547424316\n",
      "best SSIM epoch:  213\n"
     ]
    },
    {
     "name": "stderr",
     "output_type": "stream",
     "text": [
      "89it [1:48:13, 65.05s/it]"
     ]
    },
    {
     "name": "stdout",
     "output_type": "stream",
     "text": [
      "best L1:  0.13119056820869446\n",
      "best L1 epoch:  495\n",
      "best SSIM: 0.9322870969772339\n",
      "best SSIM epoch:  324\n"
     ]
    },
    {
     "name": "stderr",
     "output_type": "stream",
     "text": [
      "90it [1:49:17, 64.82s/it]"
     ]
    },
    {
     "name": "stdout",
     "output_type": "stream",
     "text": [
      "best L1:  0.1794835329055786\n",
      "best L1 epoch:  270\n",
      "best SSIM: 0.9057607054710388\n",
      "best SSIM epoch:  216\n"
     ]
    },
    {
     "name": "stderr",
     "output_type": "stream",
     "text": [
      "91it [1:50:24, 65.54s/it]"
     ]
    },
    {
     "name": "stdout",
     "output_type": "stream",
     "text": [
      "best L1:  0.1263444870710373\n",
      "best L1 epoch:  498\n",
      "best SSIM: 0.9217293858528137\n",
      "best SSIM epoch:  470\n"
     ]
    },
    {
     "name": "stderr",
     "output_type": "stream",
     "text": [
      "92it [1:51:30, 65.61s/it]"
     ]
    },
    {
     "name": "stdout",
     "output_type": "stream",
     "text": [
      "best L1:  0.14753080904483795\n",
      "best L1 epoch:  258\n",
      "best SSIM: 0.9343516230583191\n",
      "best SSIM epoch:  212\n"
     ]
    },
    {
     "name": "stderr",
     "output_type": "stream",
     "text": [
      "93it [1:52:36, 65.65s/it]"
     ]
    },
    {
     "name": "stdout",
     "output_type": "stream",
     "text": [
      "best L1:  0.12398090213537216\n",
      "best L1 epoch:  438\n",
      "best SSIM: 0.9433650970458984\n",
      "best SSIM epoch:  404\n"
     ]
    },
    {
     "name": "stderr",
     "output_type": "stream",
     "text": [
      "94it [1:53:41, 65.62s/it]"
     ]
    },
    {
     "name": "stdout",
     "output_type": "stream",
     "text": [
      "best L1:  0.17868711054325104\n",
      "best L1 epoch:  214\n",
      "best SSIM: 0.9060445427894592\n",
      "best SSIM epoch:  204\n"
     ]
    },
    {
     "name": "stderr",
     "output_type": "stream",
     "text": [
      "95it [1:54:46, 65.19s/it]"
     ]
    },
    {
     "name": "stdout",
     "output_type": "stream",
     "text": [
      "best L1:  0.1443125307559967\n",
      "best L1 epoch:  499\n",
      "best SSIM: 0.9277099967002869\n",
      "best SSIM epoch:  345\n"
     ]
    },
    {
     "name": "stderr",
     "output_type": "stream",
     "text": [
      "96it [1:55:51, 65.19s/it]"
     ]
    },
    {
     "name": "stdout",
     "output_type": "stream",
     "text": [
      "best L1:  0.136887326836586\n",
      "best L1 epoch:  498\n",
      "best SSIM: 0.9223650693893433\n",
      "best SSIM epoch:  180\n"
     ]
    },
    {
     "name": "stderr",
     "output_type": "stream",
     "text": [
      "97it [1:56:57, 65.66s/it]"
     ]
    },
    {
     "name": "stdout",
     "output_type": "stream",
     "text": [
      "best L1:  0.19781354069709778\n",
      "best L1 epoch:  233\n",
      "best SSIM: 0.8616361021995544\n",
      "best SSIM epoch:  147\n"
     ]
    },
    {
     "name": "stderr",
     "output_type": "stream",
     "text": [
      "98it [1:58:03, 65.47s/it]"
     ]
    },
    {
     "name": "stdout",
     "output_type": "stream",
     "text": [
      "best L1:  0.15983952581882477\n",
      "best L1 epoch:  499\n",
      "best SSIM: 0.9043756127357483\n",
      "best SSIM epoch:  236\n"
     ]
    },
    {
     "name": "stderr",
     "output_type": "stream",
     "text": [
      "99it [1:59:08, 65.36s/it]"
     ]
    },
    {
     "name": "stdout",
     "output_type": "stream",
     "text": [
      "best L1:  0.13410155475139618\n",
      "best L1 epoch:  453\n",
      "best SSIM: 0.9176627397537231\n",
      "best SSIM epoch:  228\n"
     ]
    },
    {
     "name": "stderr",
     "output_type": "stream",
     "text": [
      "100it [2:00:12, 72.13s/it]"
     ]
    },
    {
     "name": "stdout",
     "output_type": "stream",
     "text": [
      "best L1:  0.18517477810382843\n",
      "best L1 epoch:  194\n",
      "best SSIM: 0.9225873351097107\n",
      "best SSIM epoch:  143\n",
      "Testing average L1 loss:  0.14773493371903895\n",
      "Testing average L1 loss epoch:  371.25\n",
      "Testing average SSIM loss:  0.9213037544488907\n",
      "Testing average SSIM loss epoch:  252.87\n"
     ]
    },
    {
     "name": "stderr",
     "output_type": "stream",
     "text": [
      "\n"
     ]
    }
   ],
   "source": [
    "best_loss_l1_history=[]\n",
    "best_loss_l1_index_history=[]\n",
    "best_loss_ssim_history=[]\n",
    "best_loss_ssim_index_history=[]\n",
    "ssim_fct = SSIMLoss()\n",
    "l1_loss = torch.nn.L1Loss(reduction='sum')\n",
    "adapt_lr = 0.0001\n",
    "TTT_epoch = 500\n",
    "\n",
    "for iter, batch in tqdm(enumerate(test_dataloader)): \n",
    "    input_image, target_image, ground_truth_image, mean, std, fname, slice_num, input_kspace, input_mask, target_kspace, target_mask, sens_maps, binary_background_mask = batch\n",
    "    input_image = input_image.to(device)\n",
    "    target_image = target_image.to(device)\n",
    "    input_kspace = input_kspace.to(device)\n",
    "    input_mask = input_mask.to(device)\n",
    "    sens_maps = sens_maps.to(device)\n",
    "    std = std.to(device)\n",
    "    mean = mean.to(device)\n",
    "    ground_truth_image = ground_truth_image.to(device)\n",
    "    binary_background_mask = binary_background_mask.to(device)\n",
    "\n",
    "    # model re-init\n",
    "    model.load_state_dict(torch.load(checkpoint_path))\n",
    "\n",
    "    # each data point TTT\n",
    "    optimizer = torch.optim.Adam(model.parameters(),lr=adapt_lr)\n",
    "    \n",
    "    loss_l1_history = []\n",
    "    loss_ssim_history = []\n",
    "    self_loss_history = []\n",
    "\n",
    "    for iteration in range(TTT_epoch):\n",
    "        # fθ(A†y)\n",
    "        model_output = model(input_image)\n",
    "        model_output = model_output * std + mean\n",
    "        # supervised loss [x, fθ(A†y)]\n",
    "        # L1\n",
    "        loss_l1 = (l1_loss(model_output, target_image) / torch.sum(torch.abs(target_image))).item()\n",
    "        #print('Test L1 loss: ',loss_l1)\n",
    "        loss_l1_history.append(loss_l1)\n",
    "        # SSIM = 1 - loss\n",
    "        output_image_1c = complex_abs(torch.moveaxis(model_output , 1, -1 ))\n",
    "\n",
    "        # center crop\n",
    "        min_size = min(ground_truth_image.shape[-2:])\n",
    "        crop = torch.Size([min_size, min_size])\n",
    "        ground_truth_image = center_crop( ground_truth_image, crop )\n",
    "        output_image_1c = center_crop( output_image_1c, crop )\n",
    "\n",
    "        loss_ssim = 1 - ssim_fct(output_image_1c, ground_truth_image, data_range = ground_truth_image.max().unsqueeze(0)).item()\n",
    "        #print('Test SSIM loss: ',loss_ssim)\n",
    "        loss_ssim_history.append(loss_ssim)\n",
    "\n",
    "        # self-supervised loss\n",
    "        # fθ(A†y)\n",
    "        model_output = torch.moveaxis(model_output, 1, -1 )\n",
    "        # S fθ(A†y)\n",
    "        output_sens_image = complex_mul(model_output, sens_maps)\n",
    "        # FS fθ(A†y)\n",
    "        Fimg = fft2c(output_sens_image)\n",
    "        # MFS fθ(A†y) = A fθ(A†y)\n",
    "        Fimg_forward = Fimg * input_mask\n",
    "        # consistency loss [y, Afθ(A†y)]\n",
    "        loss_self = l1_loss(Fimg_forward, input_kspace) / torch.sum(torch.abs(input_kspace))\n",
    "\n",
    "        optimizer.zero_grad()\n",
    "        loss_self.backward()\n",
    "        optimizer.step()\n",
    "        #train_loss += loss.item()\n",
    "        #print('TTT loss: ',loss_self.item())\n",
    "        self_loss_history.append(loss_self.item())\n",
    "\n",
    "\n",
    "\n",
    "    # \n",
    "    best_loss_l1 = min(loss_l1_history)\n",
    "    print('best L1: ', best_loss_l1)\n",
    "    best_loss_l1_epoch = np.argmin(loss_l1_history)\n",
    "    print('best L1 epoch: ', best_loss_l1_epoch)\n",
    "    best_loss_ssim = max(loss_ssim_history)\n",
    "    print('best SSIM:', best_loss_ssim)\n",
    "    best_loss_ssim_epoch = np.argmax(loss_ssim_history)\n",
    "    print('best SSIM epoch: ', best_loss_ssim_epoch)\n",
    "\n",
    "    best_loss_l1_index_history.append(best_loss_l1_epoch)\n",
    "    best_loss_ssim_index_history.append(best_loss_ssim_epoch)\n",
    "    best_loss_l1_history.append(best_loss_l1)\n",
    "    best_loss_ssim_history.append(best_loss_ssim)\n",
    "\n",
    "\n",
    "print(\"Testing average L1 loss: \", sum(best_loss_l1_history) / len(best_loss_l1_history))\n",
    "print(\"Testing average L1 loss epoch: \", sum(best_loss_l1_index_history) / len(best_loss_l1_index_history))\n",
    "print(\"Testing average SSIM loss: \", sum(best_loss_ssim_history) / len(best_loss_ssim_history))\n",
    "print(\"Testing average SSIM loss epoch: \", sum(best_loss_ssim_index_history) / len(best_loss_ssim_index_history))"
   ]
  }
 ],
 "metadata": {
  "kernelspec": {
   "display_name": "base",
   "language": "python",
   "name": "python3"
  },
  "language_info": {
   "codemirror_mode": {
    "name": "ipython",
    "version": 3
   },
   "file_extension": ".py",
   "mimetype": "text/x-python",
   "name": "python",
   "nbconvert_exporter": "python",
   "pygments_lexer": "ipython3",
   "version": "3.10.8"
  },
  "orig_nbformat": 4
 },
 "nbformat": 4,
 "nbformat_minor": 2
}
