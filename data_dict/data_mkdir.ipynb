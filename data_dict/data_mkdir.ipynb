{
 "cells": [
  {
   "attachments": {},
   "cell_type": "markdown",
   "metadata": {},
   "source": [
    "### dataset dir"
   ]
  },
  {
   "cell_type": "code",
   "execution_count": 1,
   "metadata": {},
   "outputs": [],
   "source": [
    "import pandas as pd\n",
    "import h5py\n",
    "import xmltodict\n",
    "import glob\n",
    "import yaml\n",
    "import tqdm\n",
    "import pickle\n",
    "import random\n",
    "from os import listdir\n",
    "from os.path import isfile, join, splitext"
   ]
  },
  {
   "cell_type": "code",
   "execution_count": 3,
   "metadata": {},
   "outputs": [],
   "source": [
    "target_protocol = 'AXT1POST'    # AXT1, AXT2, AXFLAIR, AXT1POST, CORPD_FBK\n",
    "\n",
    "dataset_name = 'brain_val_' + target_protocol\n",
    "\n",
    "mypath = '/media/hdd1/fastMRIdata/brain/multicoil_val/'\n",
    "# '/media/hdd1/fastMRIdata/brain/multicoil_train/'\n",
    "# '/media/hdd1/fastMRIdata/brain/multicoil_val/'\n",
    "# '/srv/knee/multicoil_train/'\n",
    "# '/media/hdd1/fastMRIdata/knee/multicoil_val/'\n",
    "\n",
    "# read file name in \"mypath\" into list\n",
    "filenames = [splitext(filename)[0] for filename in listdir(mypath)]\n",
    "slice_list = []\n",
    "\n",
    "for filename in filenames:\n",
    "    file_name = mypath + filename + '.h5'\n",
    "    hf = h5py.File(file_name)\n",
    "    dic = xmltodict.parse(hf['ismrmrd_header'][()])['ismrmrdHeader']\n",
    "    reconX = int(dic['encoding']['reconSpace']['matrixSize']['x'])\n",
    "    reconY = int(dic['encoding']['reconSpace']['matrixSize']['y'])\n",
    "    kspace_shape = hf['kspace'].shape\n",
    "    protocolName = dict(hf.attrs)['acquisition']\n",
    "    if reconX == 320 and reconY == 320 and protocolName == target_protocol and kspace_shape[2:4] == (640,320): \n",
    "        slice_list.append({\n",
    "            'path': mypath + filename+'.h5', \n",
    "            'slice': None, \n",
    "            'filename': filename, \n",
    "            'predefined_mask': None})\n",
    "\n",
    "    with open(\"/cheng/metaMRI/metaMRI/data_dict/\" + dataset_name + \".yaml\", \"w\") as fp:\n",
    "        yaml.dump(slice_list,fp)\n"
   ]
  }
 ],
 "metadata": {
  "kernelspec": {
   "display_name": "base",
   "language": "python",
   "name": "python3"
  },
  "language_info": {
   "codemirror_mode": {
    "name": "ipython",
    "version": 3
   },
   "file_extension": ".py",
   "mimetype": "text/x-python",
   "name": "python",
   "nbconvert_exporter": "python",
   "pygments_lexer": "ipython3",
   "version": "3.10.8"
  },
  "orig_nbformat": 4
 },
 "nbformat": 4,
 "nbformat_minor": 2
}
