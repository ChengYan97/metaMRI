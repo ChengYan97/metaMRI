{
 "cells": [
  {
   "attachments": {},
   "cell_type": "markdown",
   "metadata": {},
   "source": [
    "### dataset dir"
   ]
  },
  {
   "cell_type": "code",
   "execution_count": 1,
   "metadata": {},
   "outputs": [],
   "source": [
    "import pandas as pd\n",
    "import h5py\n",
    "import xmltodict\n",
    "import glob\n",
    "import yaml\n",
    "import tqdm\n",
    "import pickle\n",
    "import random\n",
    "from os import listdir\n",
    "from os.path import isfile, join, splitext"
   ]
  },
  {
   "cell_type": "code",
   "execution_count": 3,
   "metadata": {},
   "outputs": [
    {
     "data": {
      "text/plain": [
       "'Skyra'"
      ]
     },
     "execution_count": 3,
     "metadata": {},
     "output_type": "execute_result"
    }
   ],
   "source": [
    "hf = h5py.File('/media/hdd1/fastMRIdata/brain/multicoil_train/file_brain_AXFLAIR_200_6002429.h5')\n",
    "dic = xmltodict.parse(hf['ismrmrd_header'][()])['ismrmrdHeader']\n",
    "dic['acquisitionSystemInformation']['systemModel']"
   ]
  },
  {
   "cell_type": "code",
   "execution_count": 6,
   "metadata": {},
   "outputs": [
    {
     "data": {
      "text/plain": [
       "'2.8936'"
      ]
     },
     "execution_count": 6,
     "metadata": {},
     "output_type": "execute_result"
    }
   ],
   "source": [
    "dic['acquisitionSystemInformation']['systemFieldStrength_T']"
   ]
  },
  {
   "cell_type": "code",
   "execution_count": 10,
   "metadata": {},
   "outputs": [
    {
     "data": {
      "text/plain": [
       "16"
      ]
     },
     "execution_count": 10,
     "metadata": {},
     "output_type": "execute_result"
    }
   ],
   "source": [
    "hf['kspace'][()].shape[0]\n"
   ]
  },
  {
   "cell_type": "markdown",
   "metadata": {},
   "source": [
    "TTT paper"
   ]
  },
  {
   "cell_type": "code",
   "execution_count": 26,
   "metadata": {},
   "outputs": [
    {
     "data": {
      "text/plain": [
       "['file_brain_AXT2_200_2000501',\n",
       " 'file_brain_AXT2_201_2010184',\n",
       " 'file_brain_AXT2_209_6001308',\n",
       " 'file_brain_AXT2_200_6002419',\n",
       " 'file_brain_AXT2_200_2000590',\n",
       " 'file_brain_AXT2_201_2010615',\n",
       " 'file_brain_AXT2_201_2010082',\n",
       " 'file_brain_AXT2_209_6001276',\n",
       " 'file_brain_AXT2_201_2010304',\n",
       " 'file_brain_AXT2_209_6001438',\n",
       " 'file_brain_AXT2_201_2010253',\n",
       " 'file_brain_AXT2_200_6002607',\n",
       " 'file_brain_AXT2_200_2000069',\n",
       " 'file_brain_AXT2_210_6001578',\n",
       " 'file_brain_AXT2_200_2000405',\n",
       " 'file_brain_AXT2_200_6002266',\n",
       " 'file_brain_AXT2_209_2090034',\n",
       " 'file_brain_AXT2_209_6001169',\n",
       " 'file_brain_AXT2_201_2010074',\n",
       " 'file_brain_AXT2_210_6001679',\n",
       " 'file_brain_AXT2_210_6001501',\n",
       " 'file_brain_AXT2_209_6001281',\n",
       " 'file_brain_AXT2_200_2000264',\n",
       " 'file_brain_AXT2_200_6002058',\n",
       " 'file_brain_AXT2_200_2000402',\n",
       " 'file_brain_AXT2_210_2100132',\n",
       " 'file_brain_AXT2_210_2100190',\n",
       " 'file_brain_AXT2_200_6002654',\n",
       " 'file_brain_AXT2_200_6002509',\n",
       " 'file_brain_AXT2_204_2040004',\n",
       " 'file_brain_AXT2_201_2010246',\n",
       " 'file_brain_AXT2_200_6002002',\n",
       " 'file_brain_AXT2_210_6001922',\n",
       " 'file_brain_AXT2_201_2010530',\n",
       " 'file_brain_AXT2_210_2100391',\n",
       " 'file_brain_AXT2_209_6001361',\n",
       " 'file_brain_AXT2_209_2090403',\n",
       " 'file_brain_AXT2_204_2040072',\n",
       " 'file_brain_AXT2_200_6002555',\n",
       " 'file_brain_AXT2_204_2040010',\n",
       " 'file_brain_AXT2_200_2000045',\n",
       " 'file_brain_AXT2_200_2000084',\n",
       " 'file_brain_AXT2_209_6001197',\n",
       " 'file_brain_AXT2_200_6002244',\n",
       " 'file_brain_AXT2_201_2010372',\n",
       " 'file_brain_AXT2_200_2000487',\n",
       " 'file_brain_AXT2_200_2000638',\n",
       " 'file_brain_AXT2_209_6001331',\n",
       " 'file_brain_AXT2_200_2000256',\n",
       " 'file_brain_AXT2_209_2090112',\n",
       " 'file_brain_AXT2_200_2000603',\n",
       " 'file_brain_AXT2_200_2000223',\n",
       " 'file_brain_AXT2_200_6002552',\n",
       " 'file_brain_AXT2_210_2100209',\n",
       " 'file_brain_AXT2_209_2090382',\n",
       " 'file_brain_AXT2_210_6001600',\n",
       " 'file_brain_AXT2_209_2090323',\n",
       " 'file_brain_AXT2_201_2010540',\n",
       " 'file_brain_AXT2_210_2100154',\n",
       " 'file_brain_AXT2_201_2010010',\n",
       " 'file_brain_AXT2_200_6002225',\n",
       " 'file_brain_AXT2_200_6002148',\n",
       " 'file_brain_AXT2_209_6001121',\n",
       " 'file_brain_AXT2_210_6001627',\n",
       " 'file_brain_AXT2_209_6001260',\n",
       " 'file_brain_AXT2_200_2000510',\n",
       " 'file_brain_AXT2_201_2010606',\n",
       " 'file_brain_AXT2_210_2100141',\n",
       " 'file_brain_AXT2_201_2010312',\n",
       " 'file_brain_AXT2_200_2000019',\n",
       " 'file_brain_AXT2_209_6001160',\n",
       " 'file_brain_AXT2_200_6002573',\n",
       " 'file_brain_AXT2_201_2010117',\n",
       " 'file_brain_AXT2_210_2100125',\n",
       " 'file_brain_AXT2_209_6001322',\n",
       " 'file_brain_AXT2_210_2100392',\n",
       " 'file_brain_AXT2_200_6002191',\n",
       " 'file_brain_AXT2_201_2010484',\n",
       " 'file_brain_AXT2_209_6001306',\n",
       " 'file_brain_AXT2_200_2000635',\n",
       " 'file_brain_AXT2_200_6002365',\n",
       " 'file_brain_AXT2_210_2100028',\n",
       " 'file_brain_AXT2_200_6002575',\n",
       " 'file_brain_AXT2_209_6001136',\n",
       " 'file_brain_AXT2_209_6001477',\n",
       " 'file_brain_AXT2_210_2100054',\n",
       " 'file_brain_AXT2_200_6002022',\n",
       " 'file_brain_AXT2_209_2090301',\n",
       " 'file_brain_AXT2_200_2000396',\n",
       " 'file_brain_AXT2_210_2100286',\n",
       " 'file_brain_AXT2_204_2040074',\n",
       " 'file_brain_AXT2_200_6002135',\n",
       " 'file_brain_AXT2_209_6001157',\n",
       " 'file_brain_AXT2_209_6001180',\n",
       " 'file_brain_AXT2_201_2010209',\n",
       " 'file_brain_AXT2_200_6002565',\n",
       " 'file_brain_AXT2_201_2010552',\n",
       " 'file_brain_AXT2_210_6001879',\n",
       " 'file_brain_AXT2_200_2000161',\n",
       " 'file_brain_AXT2_200_2000213']"
      ]
     },
     "execution_count": 26,
     "metadata": {},
     "output_type": "execute_result"
    }
   ],
   "source": [
    "import os\n",
    "with open('/cheng/metaMRI/ttt_for_deep_learning_cs/unet/train_data/brain_val','rb') as fn:\n",
    "    dataset = pickle.load(fn)\n",
    "\n",
    "mypath = '/media/hdd1/fastMRIdata/brain/multicoil_train/'\n",
    "filename_list = []\n",
    "\n",
    "for i,d in enumerate(dataset):\n",
    "    file_name = d['filename']\n",
    "    filename, file_extension = os.path.splitext(file_name)\n",
    "    filename_list.append(filename)\n",
    "\n",
    "filename_list    "
   ]
  },
  {
   "cell_type": "code",
   "execution_count": 27,
   "metadata": {},
   "outputs": [],
   "source": [
    "target_protocol = 'AXT2'    # AXT1, AXT2, AXFLAIR, AXT1POST, CORPD_FBK\n",
    "target_FieldStrength = '2.8936'     \n",
    "\n",
    "dataset_name = 'TTT_brain_test_all'\n",
    "\n",
    "mypath = '/media/hdd1/fastMRIdata/brain/multicoil_val/'\n",
    "\n",
    "# read file name in \"mypath\" into list\n",
    "filenames = [splitext(filename)[0] for filename in listdir(mypath)]\n",
    "slice_list = []\n",
    "\n",
    "for filename in filenames:\n",
    "    if filename in filename_list:\n",
    "        pass\n",
    "    else: \n",
    "        file_name = mypath + filename + '.h5'\n",
    "        hf = h5py.File(file_name)\n",
    "        dic = xmltodict.parse(hf['ismrmrd_header'][()])['ismrmrdHeader']\n",
    "        # reconX = int(dic['encoding']['reconSpace']['matrixSize']['x'])\n",
    "        # reconY = int(dic['encoding']['reconSpace']['matrixSize']['y'])\n",
    "        kspace_shape = hf['kspace'].shape\n",
    "        protocolName = dict(hf.attrs)['acquisition']\n",
    "        FieldStrength = dic['acquisitionSystemInformation']['systemFieldStrength_T']\n",
    "        if  protocolName == target_protocol and FieldStrength == target_FieldStrength\\\n",
    "            and kspace_shape[0] == 16: \n",
    "            slice_list.append({\n",
    "                'path': mypath + filename+'.h5', \n",
    "                'slice': 8, \n",
    "                'filename': filename, \n",
    "                'predefined_mask': None})      \n",
    "        \n",
    "        with open(\"/cheng/metaMRI/metaMRI/data_dict_temp/\" + dataset_name + \".yaml\", \"w\") as fp:\n",
    "            yaml.dump(slice_list,fp)\n"
   ]
  }
 ],
 "metadata": {
  "kernelspec": {
   "display_name": "base",
   "language": "python",
   "name": "python3"
  },
  "language_info": {
   "codemirror_mode": {
    "name": "ipython",
    "version": 3
   },
   "file_extension": ".py",
   "mimetype": "text/x-python",
   "name": "python",
   "nbconvert_exporter": "python",
   "pygments_lexer": "ipython3",
   "version": "3.10.8"
  },
  "orig_nbformat": 4
 },
 "nbformat": 4,
 "nbformat_minor": 2
}
